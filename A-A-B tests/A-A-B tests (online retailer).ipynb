{
 "cells": [
  {
   "cell_type": "markdown",
   "id": "9ed53f31",
   "metadata": {},
   "source": [
    "# Project Description \n",
    "In order to increase the revenue of a large online store, a list of hypotheses has been prepared. \n",
    "\n",
    "## Research objectives: \n",
    "- prioritize hypotheses, \n",
    "- run A/B-test,\n",
    "- analyse results.\n",
    "\n",
    "## Data description\n",
    "\n",
    "File `/datasets/hypothesis.csv`\n",
    "- `Hypothesis` — brief description of the hypothesis;\n",
    "- `Reach` — user coverage on a 10-point scale;\n",
    "- `Impact` — impact on users on a 10-point scale;\n",
    "- `Confidence` — confidence in the hypothesis on a 10-point scale;\n",
    "- `Efforts` — resource costs for hypothesis testing on a 10-point scale. The larger the Efforts value, the more expensive it is to test the hypothesis.\n",
    "\n",
    "File `/datasets/orders.csv`\n",
    "- `transactionId` — order ID;\n",
    "- `visitorId` — ID of the user who made the order;\n",
    "- `date` — he date the order was placed;\n",
    "- `revenue` — order revenue;\n",
    "- `group` — the A/B test group the order is in.\n",
    "\n",
    "File `/datasets/visitors.csv`\n",
    "- `date` — visit date;\n",
    "- `group` — A/B-test group;\n",
    "- `visitors` — number of users on the specified date in the specified A/B test group"
   ]
  },
  {
   "cell_type": "markdown",
   "id": "f1c7f386",
   "metadata": {},
   "source": [
    "# EDA"
   ]
  },
  {
   "cell_type": "code",
   "execution_count": 1,
   "id": "f502b3b1",
   "metadata": {},
   "outputs": [],
   "source": [
    "import pandas as pd\n",
    "import seaborn as sns\n",
    "import matplotlib.pyplot as plt\n",
    "import numpy as np\n",
    "import scipy.stats as stats\n",
    "import datetime as dt\n"
   ]
  },
  {
   "cell_type": "code",
   "execution_count": 2,
   "id": "ec8d7aad",
   "metadata": {},
   "outputs": [],
   "source": [
    "try:\n",
    "    hypothesis = pd.read_csv('/Users/nataliamarukh/Documents/DATA Analytics/Sprint 7. Принятие решений в бизнесе/_ПРОЕКТ 7/hypothesis.csv')\n",
    "    orders = pd.read_csv('/Users/nataliamarukh/Documents/DATA Analytics/Sprint 7. Принятие решений в бизнесе/_ПРОЕКТ 7/orders.csv')\n",
    "    visitors = pd.read_csv('/Users/nataliamarukh/Documents/DATA Analytics/Sprint 7. Принятие решений в бизнесе/_ПРОЕКТ 7/visitors.csv')\n",
    "    \n",
    "except:\n",
    "    hypothesis = pd.read_csv('/datasets/hypothesis.csv')\n",
    "    orders = pd.read_csv('/datasets/orders.csv')\n",
    "    visitors = pd.read_csv('/datasets/visitors.csv')\n",
    "    "
   ]
  },
  {
   "cell_type": "code",
   "execution_count": 3,
   "id": "6d3f621c",
   "metadata": {},
   "outputs": [],
   "source": [
    "# we conduct primary analysis \n",
    "def primary_analysis(df):\n",
    "    display(df.head())\n",
    "    print()\n",
    "    display(df.info())\n",
    "    print()\n",
    "    print('Number of explicit duplicates',df.duplicated().sum())"
   ]
  },
  {
   "cell_type": "code",
   "execution_count": 4,
   "id": "917c5100",
   "metadata": {
    "scrolled": false
   },
   "outputs": [
    {
     "data": {
      "text/html": [
       "<div>\n",
       "<style scoped>\n",
       "    .dataframe tbody tr th:only-of-type {\n",
       "        vertical-align: middle;\n",
       "    }\n",
       "\n",
       "    .dataframe tbody tr th {\n",
       "        vertical-align: top;\n",
       "    }\n",
       "\n",
       "    .dataframe thead th {\n",
       "        text-align: right;\n",
       "    }\n",
       "</style>\n",
       "<table border=\"1\" class=\"dataframe\">\n",
       "  <thead>\n",
       "    <tr style=\"text-align: right;\">\n",
       "      <th></th>\n",
       "      <th>Hypothesis</th>\n",
       "      <th>Reach</th>\n",
       "      <th>Impact</th>\n",
       "      <th>Confidence</th>\n",
       "      <th>Efforts</th>\n",
       "    </tr>\n",
       "  </thead>\n",
       "  <tbody>\n",
       "    <tr>\n",
       "      <th>0</th>\n",
       "      <td>Добавить два новых канала привлечения трафика,...</td>\n",
       "      <td>3</td>\n",
       "      <td>10</td>\n",
       "      <td>8</td>\n",
       "      <td>6</td>\n",
       "    </tr>\n",
       "    <tr>\n",
       "      <th>1</th>\n",
       "      <td>Запустить собственную службу доставки, что сок...</td>\n",
       "      <td>2</td>\n",
       "      <td>5</td>\n",
       "      <td>4</td>\n",
       "      <td>10</td>\n",
       "    </tr>\n",
       "    <tr>\n",
       "      <th>2</th>\n",
       "      <td>Добавить блоки рекомендаций товаров на сайт ин...</td>\n",
       "      <td>8</td>\n",
       "      <td>3</td>\n",
       "      <td>7</td>\n",
       "      <td>3</td>\n",
       "    </tr>\n",
       "    <tr>\n",
       "      <th>3</th>\n",
       "      <td>Изменить структура категорий, что увеличит кон...</td>\n",
       "      <td>8</td>\n",
       "      <td>3</td>\n",
       "      <td>3</td>\n",
       "      <td>8</td>\n",
       "    </tr>\n",
       "    <tr>\n",
       "      <th>4</th>\n",
       "      <td>Изменить цвет фона главной страницы, чтобы уве...</td>\n",
       "      <td>3</td>\n",
       "      <td>1</td>\n",
       "      <td>1</td>\n",
       "      <td>1</td>\n",
       "    </tr>\n",
       "  </tbody>\n",
       "</table>\n",
       "</div>"
      ],
      "text/plain": [
       "                                          Hypothesis  Reach  Impact  \\\n",
       "0  Добавить два новых канала привлечения трафика,...      3      10   \n",
       "1  Запустить собственную службу доставки, что сок...      2       5   \n",
       "2  Добавить блоки рекомендаций товаров на сайт ин...      8       3   \n",
       "3  Изменить структура категорий, что увеличит кон...      8       3   \n",
       "4  Изменить цвет фона главной страницы, чтобы уве...      3       1   \n",
       "\n",
       "   Confidence  Efforts  \n",
       "0           8        6  \n",
       "1           4       10  \n",
       "2           7        3  \n",
       "3           3        8  \n",
       "4           1        1  "
      ]
     },
     "metadata": {},
     "output_type": "display_data"
    },
    {
     "name": "stdout",
     "output_type": "stream",
     "text": [
      "\n",
      "<class 'pandas.core.frame.DataFrame'>\n",
      "RangeIndex: 9 entries, 0 to 8\n",
      "Data columns (total 5 columns):\n",
      " #   Column      Non-Null Count  Dtype \n",
      "---  ------      --------------  ----- \n",
      " 0   Hypothesis  9 non-null      object\n",
      " 1   Reach       9 non-null      int64 \n",
      " 2   Impact      9 non-null      int64 \n",
      " 3   Confidence  9 non-null      int64 \n",
      " 4   Efforts     9 non-null      int64 \n",
      "dtypes: int64(4), object(1)\n",
      "memory usage: 488.0+ bytes\n"
     ]
    },
    {
     "data": {
      "text/plain": [
       "None"
      ]
     },
     "metadata": {},
     "output_type": "display_data"
    },
    {
     "name": "stdout",
     "output_type": "stream",
     "text": [
      "\n",
      "Number of explicit duplicates 0\n"
     ]
    }
   ],
   "source": [
    "primary_analysis(hypothesis)"
   ]
  },
  {
   "cell_type": "code",
   "execution_count": 5,
   "id": "c5f12891",
   "metadata": {},
   "outputs": [
    {
     "data": {
      "text/html": [
       "<div>\n",
       "<style scoped>\n",
       "    .dataframe tbody tr th:only-of-type {\n",
       "        vertical-align: middle;\n",
       "    }\n",
       "\n",
       "    .dataframe tbody tr th {\n",
       "        vertical-align: top;\n",
       "    }\n",
       "\n",
       "    .dataframe thead th {\n",
       "        text-align: right;\n",
       "    }\n",
       "</style>\n",
       "<table border=\"1\" class=\"dataframe\">\n",
       "  <thead>\n",
       "    <tr style=\"text-align: right;\">\n",
       "      <th></th>\n",
       "      <th>transactionId</th>\n",
       "      <th>visitorId</th>\n",
       "      <th>date</th>\n",
       "      <th>revenue</th>\n",
       "      <th>group</th>\n",
       "    </tr>\n",
       "  </thead>\n",
       "  <tbody>\n",
       "    <tr>\n",
       "      <th>0</th>\n",
       "      <td>3667963787</td>\n",
       "      <td>3312258926</td>\n",
       "      <td>2019-08-15</td>\n",
       "      <td>1650</td>\n",
       "      <td>B</td>\n",
       "    </tr>\n",
       "    <tr>\n",
       "      <th>1</th>\n",
       "      <td>2804400009</td>\n",
       "      <td>3642806036</td>\n",
       "      <td>2019-08-15</td>\n",
       "      <td>730</td>\n",
       "      <td>B</td>\n",
       "    </tr>\n",
       "    <tr>\n",
       "      <th>2</th>\n",
       "      <td>2961555356</td>\n",
       "      <td>4069496402</td>\n",
       "      <td>2019-08-15</td>\n",
       "      <td>400</td>\n",
       "      <td>A</td>\n",
       "    </tr>\n",
       "    <tr>\n",
       "      <th>3</th>\n",
       "      <td>3797467345</td>\n",
       "      <td>1196621759</td>\n",
       "      <td>2019-08-15</td>\n",
       "      <td>9759</td>\n",
       "      <td>B</td>\n",
       "    </tr>\n",
       "    <tr>\n",
       "      <th>4</th>\n",
       "      <td>2282983706</td>\n",
       "      <td>2322279887</td>\n",
       "      <td>2019-08-15</td>\n",
       "      <td>2308</td>\n",
       "      <td>B</td>\n",
       "    </tr>\n",
       "  </tbody>\n",
       "</table>\n",
       "</div>"
      ],
      "text/plain": [
       "   transactionId   visitorId        date  revenue group\n",
       "0     3667963787  3312258926  2019-08-15     1650     B\n",
       "1     2804400009  3642806036  2019-08-15      730     B\n",
       "2     2961555356  4069496402  2019-08-15      400     A\n",
       "3     3797467345  1196621759  2019-08-15     9759     B\n",
       "4     2282983706  2322279887  2019-08-15     2308     B"
      ]
     },
     "metadata": {},
     "output_type": "display_data"
    },
    {
     "name": "stdout",
     "output_type": "stream",
     "text": [
      "\n",
      "<class 'pandas.core.frame.DataFrame'>\n",
      "RangeIndex: 1197 entries, 0 to 1196\n",
      "Data columns (total 5 columns):\n",
      " #   Column         Non-Null Count  Dtype \n",
      "---  ------         --------------  ----- \n",
      " 0   transactionId  1197 non-null   int64 \n",
      " 1   visitorId      1197 non-null   int64 \n",
      " 2   date           1197 non-null   object\n",
      " 3   revenue        1197 non-null   int64 \n",
      " 4   group          1197 non-null   object\n",
      "dtypes: int64(3), object(2)\n",
      "memory usage: 46.9+ KB\n"
     ]
    },
    {
     "data": {
      "text/plain": [
       "None"
      ]
     },
     "metadata": {},
     "output_type": "display_data"
    },
    {
     "name": "stdout",
     "output_type": "stream",
     "text": [
      "\n",
      "Number of explicit duplicates 0\n"
     ]
    }
   ],
   "source": [
    "primary_analysis(orders)"
   ]
  },
  {
   "cell_type": "code",
   "execution_count": 6,
   "id": "44b9c5b3",
   "metadata": {},
   "outputs": [
    {
     "data": {
      "text/html": [
       "<div>\n",
       "<style scoped>\n",
       "    .dataframe tbody tr th:only-of-type {\n",
       "        vertical-align: middle;\n",
       "    }\n",
       "\n",
       "    .dataframe tbody tr th {\n",
       "        vertical-align: top;\n",
       "    }\n",
       "\n",
       "    .dataframe thead th {\n",
       "        text-align: right;\n",
       "    }\n",
       "</style>\n",
       "<table border=\"1\" class=\"dataframe\">\n",
       "  <thead>\n",
       "    <tr style=\"text-align: right;\">\n",
       "      <th></th>\n",
       "      <th>date</th>\n",
       "      <th>group</th>\n",
       "      <th>visitors</th>\n",
       "    </tr>\n",
       "  </thead>\n",
       "  <tbody>\n",
       "    <tr>\n",
       "      <th>0</th>\n",
       "      <td>2019-08-01</td>\n",
       "      <td>A</td>\n",
       "      <td>719</td>\n",
       "    </tr>\n",
       "    <tr>\n",
       "      <th>1</th>\n",
       "      <td>2019-08-02</td>\n",
       "      <td>A</td>\n",
       "      <td>619</td>\n",
       "    </tr>\n",
       "    <tr>\n",
       "      <th>2</th>\n",
       "      <td>2019-08-03</td>\n",
       "      <td>A</td>\n",
       "      <td>507</td>\n",
       "    </tr>\n",
       "    <tr>\n",
       "      <th>3</th>\n",
       "      <td>2019-08-04</td>\n",
       "      <td>A</td>\n",
       "      <td>717</td>\n",
       "    </tr>\n",
       "    <tr>\n",
       "      <th>4</th>\n",
       "      <td>2019-08-05</td>\n",
       "      <td>A</td>\n",
       "      <td>756</td>\n",
       "    </tr>\n",
       "  </tbody>\n",
       "</table>\n",
       "</div>"
      ],
      "text/plain": [
       "         date group  visitors\n",
       "0  2019-08-01     A       719\n",
       "1  2019-08-02     A       619\n",
       "2  2019-08-03     A       507\n",
       "3  2019-08-04     A       717\n",
       "4  2019-08-05     A       756"
      ]
     },
     "metadata": {},
     "output_type": "display_data"
    },
    {
     "name": "stdout",
     "output_type": "stream",
     "text": [
      "\n",
      "<class 'pandas.core.frame.DataFrame'>\n",
      "RangeIndex: 62 entries, 0 to 61\n",
      "Data columns (total 3 columns):\n",
      " #   Column    Non-Null Count  Dtype \n",
      "---  ------    --------------  ----- \n",
      " 0   date      62 non-null     object\n",
      " 1   group     62 non-null     object\n",
      " 2   visitors  62 non-null     int64 \n",
      "dtypes: int64(1), object(2)\n",
      "memory usage: 1.6+ KB\n"
     ]
    },
    {
     "data": {
      "text/plain": [
       "None"
      ]
     },
     "metadata": {},
     "output_type": "display_data"
    },
    {
     "name": "stdout",
     "output_type": "stream",
     "text": [
      "\n",
      "Number of explicit duplicates 0\n"
     ]
    }
   ],
   "source": [
    "primary_analysis(visitors)"
   ]
  },
  {
   "cell_type": "code",
   "execution_count": 7,
   "id": "39950491",
   "metadata": {},
   "outputs": [],
   "source": [
    "#we change the data type in col. date\n",
    "orders['date'] = orders['date'].map(\n",
    "    lambda x: dt.datetime.strptime(x, '%Y-%m-%d')\n",
    ")\n",
    "\n",
    "visitors['date'] = visitors['date'].map(\n",
    "    lambda x: dt.datetime.strptime(x, '%Y-%m-%d')\n",
    ")\n"
   ]
  },
  {
   "cell_type": "code",
   "execution_count": 8,
   "id": "d43c9bc0",
   "metadata": {
    "scrolled": true
   },
   "outputs": [
    {
     "name": "stdout",
     "output_type": "stream",
     "text": [
      "<class 'numpy.datetime64'>\n",
      "<class 'numpy.datetime64'>\n"
     ]
    }
   ],
   "source": [
    "print(orders['date'].dtype.type)\n",
    "print(visitors['date'].dtype.type)"
   ]
  },
  {
   "cell_type": "code",
   "execution_count": 9,
   "id": "11bc712f",
   "metadata": {},
   "outputs": [
    {
     "data": {
      "text/plain": [
       "Index(['hypothesis', 'reach', 'impact', 'confidence', 'efforts'], dtype='object')"
      ]
     },
     "execution_count": 9,
     "metadata": {},
     "output_type": "execute_result"
    }
   ],
   "source": [
    "#we convert column names to lowercase \n",
    "hypothesis.columns = [x.lower() for x in hypothesis.columns]\n",
    "hypothesis.columns\n"
   ]
  },
  {
   "cell_type": "code",
   "execution_count": 10,
   "id": "b6fdb0d6",
   "metadata": {},
   "outputs": [
    {
     "data": {
      "text/html": [
       "<div>\n",
       "<style scoped>\n",
       "    .dataframe tbody tr th:only-of-type {\n",
       "        vertical-align: middle;\n",
       "    }\n",
       "\n",
       "    .dataframe tbody tr th {\n",
       "        vertical-align: top;\n",
       "    }\n",
       "\n",
       "    .dataframe thead th {\n",
       "        text-align: right;\n",
       "    }\n",
       "</style>\n",
       "<table border=\"1\" class=\"dataframe\">\n",
       "  <thead>\n",
       "    <tr style=\"text-align: right;\">\n",
       "      <th></th>\n",
       "      <th>transactionId</th>\n",
       "      <th>visitorId</th>\n",
       "      <th>date</th>\n",
       "      <th>revenue</th>\n",
       "      <th>group</th>\n",
       "    </tr>\n",
       "  </thead>\n",
       "  <tbody>\n",
       "    <tr>\n",
       "      <th>0</th>\n",
       "      <td>3667963787</td>\n",
       "      <td>3312258926</td>\n",
       "      <td>2019-08-15</td>\n",
       "      <td>1650</td>\n",
       "      <td>B</td>\n",
       "    </tr>\n",
       "    <tr>\n",
       "      <th>1</th>\n",
       "      <td>2804400009</td>\n",
       "      <td>3642806036</td>\n",
       "      <td>2019-08-15</td>\n",
       "      <td>730</td>\n",
       "      <td>B</td>\n",
       "    </tr>\n",
       "    <tr>\n",
       "      <th>3</th>\n",
       "      <td>3797467345</td>\n",
       "      <td>1196621759</td>\n",
       "      <td>2019-08-15</td>\n",
       "      <td>9759</td>\n",
       "      <td>B</td>\n",
       "    </tr>\n",
       "    <tr>\n",
       "      <th>4</th>\n",
       "      <td>2282983706</td>\n",
       "      <td>2322279887</td>\n",
       "      <td>2019-08-15</td>\n",
       "      <td>2308</td>\n",
       "      <td>B</td>\n",
       "    </tr>\n",
       "    <tr>\n",
       "      <th>5</th>\n",
       "      <td>182168103</td>\n",
       "      <td>935554773</td>\n",
       "      <td>2019-08-15</td>\n",
       "      <td>2210</td>\n",
       "      <td>B</td>\n",
       "    </tr>\n",
       "    <tr>\n",
       "      <th>...</th>\n",
       "      <td>...</td>\n",
       "      <td>...</td>\n",
       "      <td>...</td>\n",
       "      <td>...</td>\n",
       "      <td>...</td>\n",
       "    </tr>\n",
       "    <tr>\n",
       "      <th>1191</th>\n",
       "      <td>3592955527</td>\n",
       "      <td>608641596</td>\n",
       "      <td>2019-08-14</td>\n",
       "      <td>16490</td>\n",
       "      <td>B</td>\n",
       "    </tr>\n",
       "    <tr>\n",
       "      <th>1192</th>\n",
       "      <td>2662137336</td>\n",
       "      <td>3733762160</td>\n",
       "      <td>2019-08-14</td>\n",
       "      <td>6490</td>\n",
       "      <td>B</td>\n",
       "    </tr>\n",
       "    <tr>\n",
       "      <th>1193</th>\n",
       "      <td>2203539145</td>\n",
       "      <td>370388673</td>\n",
       "      <td>2019-08-14</td>\n",
       "      <td>3190</td>\n",
       "      <td>A</td>\n",
       "    </tr>\n",
       "    <tr>\n",
       "      <th>1194</th>\n",
       "      <td>1807773912</td>\n",
       "      <td>573423106</td>\n",
       "      <td>2019-08-14</td>\n",
       "      <td>10550</td>\n",
       "      <td>A</td>\n",
       "    </tr>\n",
       "    <tr>\n",
       "      <th>1196</th>\n",
       "      <td>3936777065</td>\n",
       "      <td>2108080724</td>\n",
       "      <td>2019-08-15</td>\n",
       "      <td>202740</td>\n",
       "      <td>B</td>\n",
       "    </tr>\n",
       "  </tbody>\n",
       "</table>\n",
       "<p>1016 rows × 5 columns</p>\n",
       "</div>"
      ],
      "text/plain": [
       "      transactionId   visitorId       date  revenue group\n",
       "0        3667963787  3312258926 2019-08-15     1650     B\n",
       "1        2804400009  3642806036 2019-08-15      730     B\n",
       "3        3797467345  1196621759 2019-08-15     9759     B\n",
       "4        2282983706  2322279887 2019-08-15     2308     B\n",
       "5         182168103   935554773 2019-08-15     2210     B\n",
       "...             ...         ...        ...      ...   ...\n",
       "1191     3592955527   608641596 2019-08-14    16490     B\n",
       "1192     2662137336  3733762160 2019-08-14     6490     B\n",
       "1193     2203539145   370388673 2019-08-14     3190     A\n",
       "1194     1807773912   573423106 2019-08-14    10550     A\n",
       "1196     3936777065  2108080724 2019-08-15   202740     B\n",
       "\n",
       "[1016 rows x 5 columns]"
      ]
     },
     "execution_count": 10,
     "metadata": {},
     "output_type": "execute_result"
    }
   ],
   "source": [
    "#We delete all users who are in both groups,\n",
    "#as we will not be able to restore the original data.\n",
    "visA = orders[orders['group'] == 'A']['visitorId']\n",
    "visB = orders[orders['group'] == 'B']['visitorId']\n",
    "visBoth = list(set(visA) & set(visB))\n",
    "orders = orders[np.logical_not(orders['visitorId'].isin(visBoth))]\n",
    "orders"
   ]
  },
  {
   "cell_type": "code",
   "execution_count": 11,
   "id": "826943d5",
   "metadata": {
    "scrolled": false
   },
   "outputs": [
    {
     "data": {
      "text/html": [
       "<div>\n",
       "<style scoped>\n",
       "    .dataframe tbody tr th:only-of-type {\n",
       "        vertical-align: middle;\n",
       "    }\n",
       "\n",
       "    .dataframe tbody tr th {\n",
       "        vertical-align: top;\n",
       "    }\n",
       "\n",
       "    .dataframe thead th {\n",
       "        text-align: right;\n",
       "    }\n",
       "</style>\n",
       "<table border=\"1\" class=\"dataframe\">\n",
       "  <thead>\n",
       "    <tr style=\"text-align: right;\">\n",
       "      <th></th>\n",
       "      <th>group</th>\n",
       "      <th>visitors</th>\n",
       "    </tr>\n",
       "  </thead>\n",
       "  <tbody>\n",
       "    <tr>\n",
       "      <th>0</th>\n",
       "      <td>A</td>\n",
       "      <td>18736</td>\n",
       "    </tr>\n",
       "    <tr>\n",
       "      <th>1</th>\n",
       "      <td>B</td>\n",
       "      <td>18916</td>\n",
       "    </tr>\n",
       "  </tbody>\n",
       "</table>\n",
       "</div>"
      ],
      "text/plain": [
       "  group  visitors\n",
       "0     A     18736\n",
       "1     B     18916"
      ]
     },
     "metadata": {},
     "output_type": "display_data"
    },
    {
     "data": {
      "text/html": [
       "<div>\n",
       "<style scoped>\n",
       "    .dataframe tbody tr th:only-of-type {\n",
       "        vertical-align: middle;\n",
       "    }\n",
       "\n",
       "    .dataframe tbody tr th {\n",
       "        vertical-align: top;\n",
       "    }\n",
       "\n",
       "    .dataframe thead th {\n",
       "        text-align: right;\n",
       "    }\n",
       "</style>\n",
       "<table border=\"1\" class=\"dataframe\">\n",
       "  <thead>\n",
       "    <tr style=\"text-align: right;\">\n",
       "      <th></th>\n",
       "      <th>group</th>\n",
       "      <th>visitorId</th>\n",
       "    </tr>\n",
       "  </thead>\n",
       "  <tbody>\n",
       "    <tr>\n",
       "      <th>0</th>\n",
       "      <td>A</td>\n",
       "      <td>468</td>\n",
       "    </tr>\n",
       "    <tr>\n",
       "      <th>1</th>\n",
       "      <td>B</td>\n",
       "      <td>548</td>\n",
       "    </tr>\n",
       "  </tbody>\n",
       "</table>\n",
       "</div>"
      ],
      "text/plain": [
       "  group  visitorId\n",
       "0     A        468\n",
       "1     B        548"
      ]
     },
     "metadata": {},
     "output_type": "display_data"
    }
   ],
   "source": [
    "#Confirm the number of groups and check the number of users in each of them\n",
    "display(\n",
    "    visitors.groupby('group',as_index=False).agg(\n",
    "    {'visitors':'sum'}\n",
    "))\n",
    "\n",
    "display(\n",
    "    orders.groupby('group',as_index=False).agg(\n",
    "    {'visitorId':'count'}\n",
    "))"
   ]
  },
  {
   "cell_type": "markdown",
   "id": "d30cb87f",
   "metadata": {},
   "source": [
    "<div style=\"background-color:GhostWhite;padding:20px\">\n",
    "\n",
    "- We cast the data types according to the values and made sure there are no obvious duplicates.\n",
    "\n",
    "- Removed all users who fell into both groups.\n",
    "\n",
    "- Confirmed the number of groups and checked the number of users in each of them.\n",
    "    \n",
    "</div>"
   ]
  },
  {
   "cell_type": "markdown",
   "id": "ec0cb7b4",
   "metadata": {},
   "source": [
    "# Prioritization of hypotheses\n",
    "\n",
    "- Apply the ICE framework to prioritize hypotheses. Sort them in descending order of priority. \n",
    "- Apply the RICE framework to prioritize hypotheses. Sort them in descending order of priority.\n",
    "- Indicate how the prioritization of hypotheses has changed when using RICE instead of ICE."
   ]
  },
  {
   "cell_type": "code",
   "execution_count": 12,
   "id": "484cfe4e",
   "metadata": {
    "scrolled": false
   },
   "outputs": [
    {
     "data": {
      "image/png": "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\n",
      "text/plain": [
       "<Figure size 576x576 with 1 Axes>"
      ]
     },
     "metadata": {
      "needs_background": "light"
     },
     "output_type": "display_data"
    }
   ],
   "source": [
    "#visualize reach-impact-confidence-efforts per each hypothesis\n",
    "\n",
    "#announce category names\n",
    "categories = hypothesis['hypothesis']\n",
    "categories = [*categories, categories[0]]\n",
    "\n",
    "#declare variables with values for each of the indicators\n",
    "reach = [*hypothesis['reach'], hypothesis['reach'][0]]\n",
    "impact = [*hypothesis['impact'], hypothesis['impact'][0]]\n",
    "confidence = [*hypothesis['confidence'], hypothesis['confidence'][0]]\n",
    "efforts = [*hypothesis['efforts'], hypothesis['efforts'][0]]\n",
    "\n",
    "# Radar Chart (aka spider plot)\n",
    "plt.figure(figsize=(8, 8))\n",
    "plt.subplot(polar=True)\n",
    "label_loc = np.linspace(start=0, stop=2 * np.pi, num=len(categories))\n",
    "plt.plot(label_loc, reach, label='reach')\n",
    "plt.plot(label_loc, impact, label='impact')\n",
    "plt.plot(label_loc, confidence, label='confidence')\n",
    "plt.plot(label_loc, efforts, label='efforts')\n",
    "lines, labels = plt.thetagrids(np.degrees(label_loc), labels=[0,1,2,3,4,5,6,7,8,0])\n",
    "plt.legend(loc=2)\n",
    "plt.show()"
   ]
  },
  {
   "cell_type": "markdown",
   "id": "c6b6bec9",
   "metadata": {},
   "source": [
    "It is now visually easy to find hypotheses with the highest/lowest values of reach-impact-confidence-efforts. For example, Hypothesis #1 has the highest effort, average impact, below average confidence, and extremely low reach of all hypotheses. This hypothesis does not look very attractive. Hypothesis #7, on the contrary, has an average indicator of efforts, and the other three indicators have high marks: 7-10. Such a hypothesis deserves attention.\n",
    "\n",
    "Next, we'll prioritize using ICE and RICE and see if our visual-based guesses match up with the results of using ICE and RICE."
   ]
  },
  {
   "cell_type": "code",
   "execution_count": 13,
   "id": "b4857e9d",
   "metadata": {
    "scrolled": true
   },
   "outputs": [],
   "source": [
    "#aplly ICE\n",
    "hypothesis['ICE'] = (\n",
    "    hypothesis['impact'] * hypothesis['confidence']\n",
    ") / hypothesis['efforts']\n",
    "hypothesis[['hypothesis', 'ICE']].sort_values(by='ICE', ascending=False)\n",
    "pd.options.display.max_colwidth = 210"
   ]
  },
  {
   "cell_type": "code",
   "execution_count": 14,
   "id": "7f235a28",
   "metadata": {
    "scrolled": false
   },
   "outputs": [
    {
     "data": {
      "text/html": [
       "<div>\n",
       "<style scoped>\n",
       "    .dataframe tbody tr th:only-of-type {\n",
       "        vertical-align: middle;\n",
       "    }\n",
       "\n",
       "    .dataframe tbody tr th {\n",
       "        vertical-align: top;\n",
       "    }\n",
       "\n",
       "    .dataframe thead th {\n",
       "        text-align: right;\n",
       "    }\n",
       "</style>\n",
       "<table border=\"1\" class=\"dataframe\">\n",
       "  <thead>\n",
       "    <tr style=\"text-align: right;\">\n",
       "      <th></th>\n",
       "      <th>hypothesis</th>\n",
       "      <th>RICE</th>\n",
       "    </tr>\n",
       "  </thead>\n",
       "  <tbody>\n",
       "    <tr>\n",
       "      <th>7</th>\n",
       "      <td>Добавить форму подписки на все основные страницы, чтобы собрать базу клиентов для email-рассылок</td>\n",
       "      <td>112.0</td>\n",
       "    </tr>\n",
       "    <tr>\n",
       "      <th>2</th>\n",
       "      <td>Добавить блоки рекомендаций товаров на сайт интернет магазина, чтобы повысить конверсию и средний чек заказа</td>\n",
       "      <td>56.0</td>\n",
       "    </tr>\n",
       "    <tr>\n",
       "      <th>0</th>\n",
       "      <td>Добавить два новых канала привлечения трафика, что позволит привлекать на 30% больше пользователей</td>\n",
       "      <td>40.0</td>\n",
       "    </tr>\n",
       "    <tr>\n",
       "      <th>6</th>\n",
       "      <td>Показать на главной странице баннеры с актуальными акциями и распродажами, чтобы увеличить конверсию</td>\n",
       "      <td>40.0</td>\n",
       "    </tr>\n",
       "    <tr>\n",
       "      <th>8</th>\n",
       "      <td>Запустить акцию, дающую скидку на товар в день рождения</td>\n",
       "      <td>16.2</td>\n",
       "    </tr>\n",
       "    <tr>\n",
       "      <th>3</th>\n",
       "      <td>Изменить структура категорий, что увеличит конверсию, т.к. пользователи быстрее найдут нужный товар</td>\n",
       "      <td>9.0</td>\n",
       "    </tr>\n",
       "    <tr>\n",
       "      <th>1</th>\n",
       "      <td>Запустить собственную службу доставки, что сократит срок доставки заказов</td>\n",
       "      <td>4.0</td>\n",
       "    </tr>\n",
       "    <tr>\n",
       "      <th>5</th>\n",
       "      <td>Добавить страницу отзывов клиентов о магазине, что позволит увеличить количество заказов</td>\n",
       "      <td>4.0</td>\n",
       "    </tr>\n",
       "    <tr>\n",
       "      <th>4</th>\n",
       "      <td>Изменить цвет фона главной страницы, чтобы увеличить вовлеченность пользователей</td>\n",
       "      <td>3.0</td>\n",
       "    </tr>\n",
       "  </tbody>\n",
       "</table>\n",
       "</div>"
      ],
      "text/plain": [
       "                                                                                                     hypothesis  \\\n",
       "7              Добавить форму подписки на все основные страницы, чтобы собрать базу клиентов для email-рассылок   \n",
       "2  Добавить блоки рекомендаций товаров на сайт интернет магазина, чтобы повысить конверсию и средний чек заказа   \n",
       "0            Добавить два новых канала привлечения трафика, что позволит привлекать на 30% больше пользователей   \n",
       "6          Показать на главной странице баннеры с актуальными акциями и распродажами, чтобы увеличить конверсию   \n",
       "8                                                       Запустить акцию, дающую скидку на товар в день рождения   \n",
       "3           Изменить структура категорий, что увеличит конверсию, т.к. пользователи быстрее найдут нужный товар   \n",
       "1                                     Запустить собственную службу доставки, что сократит срок доставки заказов   \n",
       "5                      Добавить страницу отзывов клиентов о магазине, что позволит увеличить количество заказов   \n",
       "4                              Изменить цвет фона главной страницы, чтобы увеличить вовлеченность пользователей   \n",
       "\n",
       "    RICE  \n",
       "7  112.0  \n",
       "2   56.0  \n",
       "0   40.0  \n",
       "6   40.0  \n",
       "8   16.2  \n",
       "3    9.0  \n",
       "1    4.0  \n",
       "5    4.0  \n",
       "4    3.0  "
      ]
     },
     "execution_count": 14,
     "metadata": {},
     "output_type": "execute_result"
    }
   ],
   "source": [
    "#apply RICE\n",
    "hypothesis['RICE'] = (\n",
    "    hypothesis['reach'] * hypothesis['impact'] * hypothesis['confidence']\n",
    ") / hypothesis['efforts']\n",
    "\n",
    "hypothesis[['hypothesis', 'RICE']].sort_values(by='RICE', ascending=False)\n"
   ]
  },
  {
   "cell_type": "markdown",
   "id": "29941305",
   "metadata": {},
   "source": [
    "<div style=\"background-color:GhostWhite;padding:20px\">\n",
    "    \n",
    "- Most promising ICE hypotheses: 8, 0, 7, 6, 2 (desc)   \n",
    "- Most promising RICE hypotheses: 7, 2, 0, 8, 6 (desc) \n",
    "- We see that the prioritization of hypotheses has changed when using RICE instead of ICE. This happened because we introduced the Reach metric (number of users affected by the change). The 7th hypothesis has the highest Reach indicator (10), while this parameter is lower for other hypotheses.\n",
    "\n",
    "</div>"
   ]
  },
  {
   "cell_type": "markdown",
   "id": "ed58f7c9",
   "metadata": {},
   "source": [
    "# A/B-test analysis\n",
    "\n",
    "- Build a graph of cumulative revenue by groups. Draw conclusions and assumptions.\n",
    "- Build a graph of the cumulative average check by groups. Draw conclusions and assumptions.\n",
    "- Build a graph of the relative change in the cumulative average check of group B to group A. Draw conclusions and assumptions.\n",
    "- Build a graph of cumulative conversion by groups. Draw conclusions and assumptions.\n",
    "- Build a graph of the relative change in the cumulative conversion of group B to group A. Draw conclusions and assumptions.\n",
    "- Build a scatter plot of the number of orders by users. Draw conclusions and assumptions.\n",
    "- Calculate the 95th and 99th percentiles of the number of orders per user. Choose a border to detect anomalous users.\n",
    "- Build a scatter plot of order prices. Draw conclusions and assumptions.\n",
    "- Calculate the 95th and 99th percentiles of the order value. Choose a border to detect anomalous orders.\n",
    "- Calculate the statistical significance of differences in conversion between groups based on raw data. Draw conclusions and assumptions.\n",
    "- Calculate the statistical significance of the differences in the average order receipt between groups according to the "raw" data. Draw conclusions and assumptions.\n",
    "- Calculate the statistical significance of differences in conversion between groups according to the "cleaned" data. Draw conclusions and assumptions.\n",
    "- Calculate the statistical significance of differences in the average order receipt between groups according to the "cleaned" data. Draw conclusions and assumptions.\n",
    "- Make a decision based on the results of the test. Solutions: \n",
    " 1. Stop the test, declare the victory of one of the groups. \n",
    " 2. Stop the test, note no difference between groups. \n",
    " 3. Continue the test."
   ]
  },
  {
   "cell_type": "markdown",
   "id": "4ac180bd",
   "metadata": {},
   "source": [
    "## build a graph of cumulative revenue by groups. draw conclusions and assumptions."
   ]
  },
  {
   "cell_type": "code",
   "execution_count": 15,
   "id": "c0d0eebd",
   "metadata": {},
   "outputs": [
    {
     "data": {
      "text/html": [
       "<div>\n",
       "<style scoped>\n",
       "    .dataframe tbody tr th:only-of-type {\n",
       "        vertical-align: middle;\n",
       "    }\n",
       "\n",
       "    .dataframe tbody tr th {\n",
       "        vertical-align: top;\n",
       "    }\n",
       "\n",
       "    .dataframe thead th {\n",
       "        text-align: right;\n",
       "    }\n",
       "</style>\n",
       "<table border=\"1\" class=\"dataframe\">\n",
       "  <thead>\n",
       "    <tr style=\"text-align: right;\">\n",
       "      <th></th>\n",
       "      <th>date</th>\n",
       "      <th>group</th>\n",
       "      <th>transactionId</th>\n",
       "      <th>visitorId</th>\n",
       "      <th>revenue</th>\n",
       "    </tr>\n",
       "  </thead>\n",
       "  <tbody>\n",
       "    <tr>\n",
       "      <th>55</th>\n",
       "      <td>2019-08-01</td>\n",
       "      <td>A</td>\n",
       "      <td>23</td>\n",
       "      <td>19</td>\n",
       "      <td>142779</td>\n",
       "    </tr>\n",
       "    <tr>\n",
       "      <th>66</th>\n",
       "      <td>2019-08-01</td>\n",
       "      <td>B</td>\n",
       "      <td>17</td>\n",
       "      <td>17</td>\n",
       "      <td>59758</td>\n",
       "    </tr>\n",
       "    <tr>\n",
       "      <th>175</th>\n",
       "      <td>2019-08-02</td>\n",
       "      <td>A</td>\n",
       "      <td>42</td>\n",
       "      <td>36</td>\n",
       "      <td>234381</td>\n",
       "    </tr>\n",
       "    <tr>\n",
       "      <th>173</th>\n",
       "      <td>2019-08-02</td>\n",
       "      <td>B</td>\n",
       "      <td>40</td>\n",
       "      <td>39</td>\n",
       "      <td>221801</td>\n",
       "    </tr>\n",
       "    <tr>\n",
       "      <th>291</th>\n",
       "      <td>2019-08-03</td>\n",
       "      <td>A</td>\n",
       "      <td>66</td>\n",
       "      <td>60</td>\n",
       "      <td>346854</td>\n",
       "    </tr>\n",
       "    <tr>\n",
       "      <th>...</th>\n",
       "      <td>...</td>\n",
       "      <td>...</td>\n",
       "      <td>...</td>\n",
       "      <td>...</td>\n",
       "      <td>...</td>\n",
       "    </tr>\n",
       "    <tr>\n",
       "      <th>533</th>\n",
       "      <td>2019-08-29</td>\n",
       "      <td>B</td>\n",
       "      <td>510</td>\n",
       "      <td>490</td>\n",
       "      <td>4746610</td>\n",
       "    </tr>\n",
       "    <tr>\n",
       "      <th>757</th>\n",
       "      <td>2019-08-30</td>\n",
       "      <td>A</td>\n",
       "      <td>460</td>\n",
       "      <td>437</td>\n",
       "      <td>3311413</td>\n",
       "    </tr>\n",
       "    <tr>\n",
       "      <th>690</th>\n",
       "      <td>2019-08-30</td>\n",
       "      <td>B</td>\n",
       "      <td>531</td>\n",
       "      <td>511</td>\n",
       "      <td>4955833</td>\n",
       "    </tr>\n",
       "    <tr>\n",
       "      <th>958</th>\n",
       "      <td>2019-08-31</td>\n",
       "      <td>A</td>\n",
       "      <td>468</td>\n",
       "      <td>445</td>\n",
       "      <td>3364656</td>\n",
       "    </tr>\n",
       "    <tr>\n",
       "      <th>930</th>\n",
       "      <td>2019-08-31</td>\n",
       "      <td>B</td>\n",
       "      <td>548</td>\n",
       "      <td>528</td>\n",
       "      <td>5068972</td>\n",
       "    </tr>\n",
       "  </tbody>\n",
       "</table>\n",
       "<p>62 rows × 5 columns</p>\n",
       "</div>"
      ],
      "text/plain": [
       "          date group  transactionId  visitorId  revenue\n",
       "55  2019-08-01     A             23         19   142779\n",
       "66  2019-08-01     B             17         17    59758\n",
       "175 2019-08-02     A             42         36   234381\n",
       "173 2019-08-02     B             40         39   221801\n",
       "291 2019-08-03     A             66         60   346854\n",
       "..         ...   ...            ...        ...      ...\n",
       "533 2019-08-29     B            510        490  4746610\n",
       "757 2019-08-30     A            460        437  3311413\n",
       "690 2019-08-30     B            531        511  4955833\n",
       "958 2019-08-31     A            468        445  3364656\n",
       "930 2019-08-31     B            548        528  5068972\n",
       "\n",
       "[62 rows x 5 columns]"
      ]
     },
     "execution_count": 15,
     "metadata": {},
     "output_type": "execute_result"
    }
   ],
   "source": [
    "#create an array of unique pairs of date values and test groups\n",
    "datesGroups = orders[['date','group']].drop_duplicates()\n",
    "\n",
    "#collect aggregated daily cumulative order data\n",
    "ordersAggregated = datesGroups.apply(\n",
    "    lambda x: orders[np.logical_and(orders['date'] <= x['date'], orders['group'] == x['group'])]\\\n",
    ".agg(\n",
    "        {'date' : 'max', 'group' : 'max', 'transactionId' : 'nunique', 'visitorId' : 'nunique', 'revenue' : 'sum'}\n",
    "    ), axis=1\n",
    ").sort_values(by=['date','group'])\n",
    "\n",
    "ordersAggregated"
   ]
  },
  {
   "cell_type": "code",
   "execution_count": 16,
   "id": "2ecb308a",
   "metadata": {
    "scrolled": false
   },
   "outputs": [
    {
     "data": {
      "text/html": [
       "<div>\n",
       "<style scoped>\n",
       "    .dataframe tbody tr th:only-of-type {\n",
       "        vertical-align: middle;\n",
       "    }\n",
       "\n",
       "    .dataframe tbody tr th {\n",
       "        vertical-align: top;\n",
       "    }\n",
       "\n",
       "    .dataframe thead th {\n",
       "        text-align: right;\n",
       "    }\n",
       "</style>\n",
       "<table border=\"1\" class=\"dataframe\">\n",
       "  <thead>\n",
       "    <tr style=\"text-align: right;\">\n",
       "      <th></th>\n",
       "      <th>date</th>\n",
       "      <th>group</th>\n",
       "      <th>visitors</th>\n",
       "    </tr>\n",
       "  </thead>\n",
       "  <tbody>\n",
       "    <tr>\n",
       "      <th>55</th>\n",
       "      <td>2019-08-01</td>\n",
       "      <td>A</td>\n",
       "      <td>719</td>\n",
       "    </tr>\n",
       "    <tr>\n",
       "      <th>66</th>\n",
       "      <td>2019-08-01</td>\n",
       "      <td>B</td>\n",
       "      <td>713</td>\n",
       "    </tr>\n",
       "    <tr>\n",
       "      <th>175</th>\n",
       "      <td>2019-08-02</td>\n",
       "      <td>A</td>\n",
       "      <td>1338</td>\n",
       "    </tr>\n",
       "    <tr>\n",
       "      <th>173</th>\n",
       "      <td>2019-08-02</td>\n",
       "      <td>B</td>\n",
       "      <td>1294</td>\n",
       "    </tr>\n",
       "    <tr>\n",
       "      <th>291</th>\n",
       "      <td>2019-08-03</td>\n",
       "      <td>A</td>\n",
       "      <td>1845</td>\n",
       "    </tr>\n",
       "    <tr>\n",
       "      <th>...</th>\n",
       "      <td>...</td>\n",
       "      <td>...</td>\n",
       "      <td>...</td>\n",
       "    </tr>\n",
       "    <tr>\n",
       "      <th>533</th>\n",
       "      <td>2019-08-29</td>\n",
       "      <td>B</td>\n",
       "      <td>17708</td>\n",
       "    </tr>\n",
       "    <tr>\n",
       "      <th>757</th>\n",
       "      <td>2019-08-30</td>\n",
       "      <td>A</td>\n",
       "      <td>18037</td>\n",
       "    </tr>\n",
       "    <tr>\n",
       "      <th>690</th>\n",
       "      <td>2019-08-30</td>\n",
       "      <td>B</td>\n",
       "      <td>18198</td>\n",
       "    </tr>\n",
       "    <tr>\n",
       "      <th>958</th>\n",
       "      <td>2019-08-31</td>\n",
       "      <td>A</td>\n",
       "      <td>18736</td>\n",
       "    </tr>\n",
       "    <tr>\n",
       "      <th>930</th>\n",
       "      <td>2019-08-31</td>\n",
       "      <td>B</td>\n",
       "      <td>18916</td>\n",
       "    </tr>\n",
       "  </tbody>\n",
       "</table>\n",
       "<p>62 rows × 3 columns</p>\n",
       "</div>"
      ],
      "text/plain": [
       "          date group  visitors\n",
       "55  2019-08-01     A       719\n",
       "66  2019-08-01     B       713\n",
       "175 2019-08-02     A      1338\n",
       "173 2019-08-02     B      1294\n",
       "291 2019-08-03     A      1845\n",
       "..         ...   ...       ...\n",
       "533 2019-08-29     B     17708\n",
       "757 2019-08-30     A     18037\n",
       "690 2019-08-30     B     18198\n",
       "958 2019-08-31     A     18736\n",
       "930 2019-08-31     B     18916\n",
       "\n",
       "[62 rows x 3 columns]"
      ]
     },
     "execution_count": 16,
     "metadata": {},
     "output_type": "execute_result"
    }
   ],
   "source": [
    "#Get aggregated daily cumulative data about online store visitors\n",
    "visitorsAggregated = datesGroups.apply(\n",
    "    lambda x: visitors[np.logical_and(\n",
    "        visitors['date'] <= x['date'], visitors['group'] == x['group']\n",
    "    )].agg({'date' : 'max', 'group' : 'max', 'visitors' : 'sum'}), axis=1\n",
    ").sort_values(by=['date','group'])\n",
    "\n",
    "visitorsAggregated"
   ]
  },
  {
   "cell_type": "code",
   "execution_count": 17,
   "id": "21b6eb0b",
   "metadata": {
    "scrolled": false
   },
   "outputs": [
    {
     "data": {
      "text/html": [
       "<div>\n",
       "<style scoped>\n",
       "    .dataframe tbody tr th:only-of-type {\n",
       "        vertical-align: middle;\n",
       "    }\n",
       "\n",
       "    .dataframe tbody tr th {\n",
       "        vertical-align: top;\n",
       "    }\n",
       "\n",
       "    .dataframe thead th {\n",
       "        text-align: right;\n",
       "    }\n",
       "</style>\n",
       "<table border=\"1\" class=\"dataframe\">\n",
       "  <thead>\n",
       "    <tr style=\"text-align: right;\">\n",
       "      <th></th>\n",
       "      <th>date</th>\n",
       "      <th>group</th>\n",
       "      <th>orders</th>\n",
       "      <th>buyers</th>\n",
       "      <th>revenue</th>\n",
       "      <th>visitors</th>\n",
       "    </tr>\n",
       "  </thead>\n",
       "  <tbody>\n",
       "    <tr>\n",
       "      <th>0</th>\n",
       "      <td>2019-08-01</td>\n",
       "      <td>A</td>\n",
       "      <td>23</td>\n",
       "      <td>19</td>\n",
       "      <td>142779</td>\n",
       "      <td>719</td>\n",
       "    </tr>\n",
       "    <tr>\n",
       "      <th>1</th>\n",
       "      <td>2019-08-01</td>\n",
       "      <td>B</td>\n",
       "      <td>17</td>\n",
       "      <td>17</td>\n",
       "      <td>59758</td>\n",
       "      <td>713</td>\n",
       "    </tr>\n",
       "    <tr>\n",
       "      <th>2</th>\n",
       "      <td>2019-08-02</td>\n",
       "      <td>A</td>\n",
       "      <td>42</td>\n",
       "      <td>36</td>\n",
       "      <td>234381</td>\n",
       "      <td>1338</td>\n",
       "    </tr>\n",
       "    <tr>\n",
       "      <th>3</th>\n",
       "      <td>2019-08-02</td>\n",
       "      <td>B</td>\n",
       "      <td>40</td>\n",
       "      <td>39</td>\n",
       "      <td>221801</td>\n",
       "      <td>1294</td>\n",
       "    </tr>\n",
       "    <tr>\n",
       "      <th>4</th>\n",
       "      <td>2019-08-03</td>\n",
       "      <td>A</td>\n",
       "      <td>66</td>\n",
       "      <td>60</td>\n",
       "      <td>346854</td>\n",
       "      <td>1845</td>\n",
       "    </tr>\n",
       "    <tr>\n",
       "      <th>...</th>\n",
       "      <td>...</td>\n",
       "      <td>...</td>\n",
       "      <td>...</td>\n",
       "      <td>...</td>\n",
       "      <td>...</td>\n",
       "      <td>...</td>\n",
       "    </tr>\n",
       "    <tr>\n",
       "      <th>57</th>\n",
       "      <td>2019-08-29</td>\n",
       "      <td>B</td>\n",
       "      <td>510</td>\n",
       "      <td>490</td>\n",
       "      <td>4746610</td>\n",
       "      <td>17708</td>\n",
       "    </tr>\n",
       "    <tr>\n",
       "      <th>58</th>\n",
       "      <td>2019-08-30</td>\n",
       "      <td>A</td>\n",
       "      <td>460</td>\n",
       "      <td>437</td>\n",
       "      <td>3311413</td>\n",
       "      <td>18037</td>\n",
       "    </tr>\n",
       "    <tr>\n",
       "      <th>59</th>\n",
       "      <td>2019-08-30</td>\n",
       "      <td>B</td>\n",
       "      <td>531</td>\n",
       "      <td>511</td>\n",
       "      <td>4955833</td>\n",
       "      <td>18198</td>\n",
       "    </tr>\n",
       "    <tr>\n",
       "      <th>60</th>\n",
       "      <td>2019-08-31</td>\n",
       "      <td>A</td>\n",
       "      <td>468</td>\n",
       "      <td>445</td>\n",
       "      <td>3364656</td>\n",
       "      <td>18736</td>\n",
       "    </tr>\n",
       "    <tr>\n",
       "      <th>61</th>\n",
       "      <td>2019-08-31</td>\n",
       "      <td>B</td>\n",
       "      <td>548</td>\n",
       "      <td>528</td>\n",
       "      <td>5068972</td>\n",
       "      <td>18916</td>\n",
       "    </tr>\n",
       "  </tbody>\n",
       "</table>\n",
       "<p>62 rows × 6 columns</p>\n",
       "</div>"
      ],
      "text/plain": [
       "         date group  orders  buyers  revenue  visitors\n",
       "0  2019-08-01     A      23      19   142779       719\n",
       "1  2019-08-01     B      17      17    59758       713\n",
       "2  2019-08-02     A      42      36   234381      1338\n",
       "3  2019-08-02     B      40      39   221801      1294\n",
       "4  2019-08-03     A      66      60   346854      1845\n",
       "..        ...   ...     ...     ...      ...       ...\n",
       "57 2019-08-29     B     510     490  4746610     17708\n",
       "58 2019-08-30     A     460     437  3311413     18037\n",
       "59 2019-08-30     B     531     511  4955833     18198\n",
       "60 2019-08-31     A     468     445  3364656     18736\n",
       "61 2019-08-31     B     548     528  5068972     18916\n",
       "\n",
       "[62 rows x 6 columns]"
      ]
     },
     "execution_count": 17,
     "metadata": {},
     "output_type": "execute_result"
    }
   ],
   "source": [
    "#merge both tables into one and give the columns clear names\n",
    "cumulativeData = ordersAggregated.merge(\n",
    "    visitorsAggregated, left_on=['date', 'group'], right_on=['date', 'group']\n",
    ")\n",
    "\n",
    "cumulativeData.columns = ['date', 'group', 'orders', 'buyers', 'revenue', 'visitors']\n",
    "cumulativeData"
   ]
  },
  {
   "cell_type": "code",
   "execution_count": 18,
   "id": "9b04b198",
   "metadata": {
    "scrolled": false
   },
   "outputs": [
    {
     "data": {
      "image/png": "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\n",
      "text/plain": [
       "<Figure size 432x288 with 1 Axes>"
      ]
     },
     "metadata": {
      "needs_background": "light"
     },
     "output_type": "display_data"
    }
   ],
   "source": [
    "#build graphs of cumulative revenue by days and groups of A/B testing\n",
    "cumulativeRevenueA = cumulativeData[cumulativeData['group']=='A'][['date','revenue', 'orders']]\n",
    "cumulativeRevenueB = cumulativeData[cumulativeData['group']=='B'][['date','revenue', 'orders']]\n",
    "\n",
    "plt.plot(cumulativeRevenueA['date'], cumulativeRevenueA['revenue'], label='A')\n",
    "plt.plot(cumulativeRevenueB['date'], cumulativeRevenueB['revenue'], label='B')\n",
    "plt.xticks(rotation=45)\n",
    "plt.xlabel('дата')\n",
    "plt.ylabel('выручка')\n",
    "#plt.rcParams[\"figure.figsize\"] = (8,6)\n",
    "plt.title('Кумулятивная выручка по дням и группам A/B-тестирования', pad=20)\n",
    "plt.legend();"
   ]
  },
  {
   "cell_type": "markdown",
   "id": "7c9daeae",
   "metadata": {},
   "source": [
    "<div style=\"background-color:GhostWhite;padding:20px\">\n",
    "    \n",
    "- Revenue increases throughout the test. \n",
    "- Within 20 days, revenue in both groups grew almost evenly. \n",
    "- Then group B's revenue increased dramatically. This may signal spikes in the number of orders, or the appearance of very expensive orders in the sample. Outliers will be analyzed further.\n",
    "    \n",
    "</div>"
   ]
  },
  {
   "cell_type": "markdown",
   "id": "c6b8fca4",
   "metadata": {},
   "source": [
    "## build a graph of the cumulative average bill by groups. draw conclusions and assumptions."
   ]
  },
  {
   "cell_type": "code",
   "execution_count": 19,
   "id": "b641d84e",
   "metadata": {
    "scrolled": false
   },
   "outputs": [
    {
     "data": {
      "image/png": "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\n",
      "text/plain": [
       "<Figure size 432x288 with 1 Axes>"
      ]
     },
     "metadata": {
      "needs_background": "light"
     },
     "output_type": "display_data"
    }
   ],
   "source": [
    "#build graphs of the average check by groups - we will divide the cumulative revenue by the cumulative number of orders\n",
    "plt.plot(cumulativeRevenueA['date'], cumulativeRevenueA['revenue']/cumulativeRevenueA['orders'], label='A')\n",
    "plt.plot(cumulativeRevenueB['date'], cumulativeRevenueB['revenue']/cumulativeRevenueB['orders'], label='B')\n",
    "plt.xticks(rotation=45)\n",
    "plt.xlabel('дата')\n",
    "plt.ylabel('руб')\n",
    "plt.title('Средний чек')\n",
    "plt.legend();\n"
   ]
  },
  {
   "cell_type": "markdown",
   "id": "f4373103",
   "metadata": {},
   "source": [
    "<div style=\"background-color:GhostWhite;padding:20px\">\n",
    "    \n",
    "The average check of group B is significantly higher than the average check of group A. We also see a sharp jump after the 20th day. \n",
    "A sharp spike in the chart may mean that Group B received large orders in the second half of the test.\n",
    "    \n",
    "</div>"
   ]
  },
  {
   "cell_type": "markdown",
   "id": "5dfd863f",
   "metadata": {},
   "source": [
    "## Построим график относительного изменения кумулятивного среднего чека группы B к группе A. Сделаем выводы и предположения."
   ]
  },
  {
   "cell_type": "code",
   "execution_count": 20,
   "id": "fabc3e07",
   "metadata": {},
   "outputs": [
    {
     "data": {
      "text/html": [
       "<div>\n",
       "<style scoped>\n",
       "    .dataframe tbody tr th:only-of-type {\n",
       "        vertical-align: middle;\n",
       "    }\n",
       "\n",
       "    .dataframe tbody tr th {\n",
       "        vertical-align: top;\n",
       "    }\n",
       "\n",
       "    .dataframe thead th {\n",
       "        text-align: right;\n",
       "    }\n",
       "</style>\n",
       "<table border=\"1\" class=\"dataframe\">\n",
       "  <thead>\n",
       "    <tr style=\"text-align: right;\">\n",
       "      <th></th>\n",
       "      <th>date</th>\n",
       "      <th>revenueA</th>\n",
       "      <th>ordersA</th>\n",
       "      <th>revenueB</th>\n",
       "      <th>ordersB</th>\n",
       "    </tr>\n",
       "  </thead>\n",
       "  <tbody>\n",
       "    <tr>\n",
       "      <th>0</th>\n",
       "      <td>2019-08-01</td>\n",
       "      <td>142779</td>\n",
       "      <td>23</td>\n",
       "      <td>59758</td>\n",
       "      <td>17</td>\n",
       "    </tr>\n",
       "    <tr>\n",
       "      <th>1</th>\n",
       "      <td>2019-08-02</td>\n",
       "      <td>234381</td>\n",
       "      <td>42</td>\n",
       "      <td>221801</td>\n",
       "      <td>40</td>\n",
       "    </tr>\n",
       "    <tr>\n",
       "      <th>2</th>\n",
       "      <td>2019-08-03</td>\n",
       "      <td>346854</td>\n",
       "      <td>66</td>\n",
       "      <td>288850</td>\n",
       "      <td>54</td>\n",
       "    </tr>\n",
       "    <tr>\n",
       "      <th>3</th>\n",
       "      <td>2019-08-04</td>\n",
       "      <td>388030</td>\n",
       "      <td>77</td>\n",
       "      <td>385740</td>\n",
       "      <td>68</td>\n",
       "    </tr>\n",
       "    <tr>\n",
       "      <th>4</th>\n",
       "      <td>2019-08-05</td>\n",
       "      <td>474413</td>\n",
       "      <td>99</td>\n",
       "      <td>475648</td>\n",
       "      <td>89</td>\n",
       "    </tr>\n",
       "    <tr>\n",
       "      <th>5</th>\n",
       "      <td>2019-08-06</td>\n",
       "      <td>515332</td>\n",
       "      <td>114</td>\n",
       "      <td>690490</td>\n",
       "      <td>112</td>\n",
       "    </tr>\n",
       "    <tr>\n",
       "      <th>6</th>\n",
       "      <td>2019-08-07</td>\n",
       "      <td>638580</td>\n",
       "      <td>130</td>\n",
       "      <td>909654</td>\n",
       "      <td>135</td>\n",
       "    </tr>\n",
       "    <tr>\n",
       "      <th>7</th>\n",
       "      <td>2019-08-08</td>\n",
       "      <td>727219</td>\n",
       "      <td>144</td>\n",
       "      <td>1059795</td>\n",
       "      <td>157</td>\n",
       "    </tr>\n",
       "    <tr>\n",
       "      <th>8</th>\n",
       "      <td>2019-08-09</td>\n",
       "      <td>861456</td>\n",
       "      <td>155</td>\n",
       "      <td>1162961</td>\n",
       "      <td>176</td>\n",
       "    </tr>\n",
       "    <tr>\n",
       "      <th>9</th>\n",
       "      <td>2019-08-10</td>\n",
       "      <td>1013731</td>\n",
       "      <td>170</td>\n",
       "      <td>1268123</td>\n",
       "      <td>198</td>\n",
       "    </tr>\n",
       "  </tbody>\n",
       "</table>\n",
       "</div>"
      ],
      "text/plain": [
       "        date  revenueA  ordersA  revenueB  ordersB\n",
       "0 2019-08-01    142779       23     59758       17\n",
       "1 2019-08-02    234381       42    221801       40\n",
       "2 2019-08-03    346854       66    288850       54\n",
       "3 2019-08-04    388030       77    385740       68\n",
       "4 2019-08-05    474413       99    475648       89\n",
       "5 2019-08-06    515332      114    690490      112\n",
       "6 2019-08-07    638580      130    909654      135\n",
       "7 2019-08-08    727219      144   1059795      157\n",
       "8 2019-08-09    861456      155   1162961      176\n",
       "9 2019-08-10   1013731      170   1268123      198"
      ]
     },
     "execution_count": 20,
     "metadata": {},
     "output_type": "execute_result"
    }
   ],
   "source": [
    "#Cобирем данные в одном датафрейме\n",
    "mergedCumulativeRevenue = cumulativeRevenueA.merge(\n",
    "    cumulativeRevenueB, left_on='date', right_on='date', how='left', suffixes=['A', 'B']\n",
    ")\n",
    "mergedCumulativeRevenue.head(10)"
   ]
  },
  {
   "cell_type": "code",
   "execution_count": 21,
   "id": "20749539",
   "metadata": {},
   "outputs": [
    {
     "data": {
      "image/png": "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\n",
      "text/plain": [
       "<Figure size 432x288 with 1 Axes>"
      ]
     },
     "metadata": {
      "needs_background": "light"
     },
     "output_type": "display_data"
    }
   ],
   "source": [
    "#Строим отношение средних чеков\n",
    "plt.plot(\n",
    "    mergedCumulativeRevenue['date'], (\n",
    "        mergedCumulativeRevenue['revenueB']/mergedCumulativeRevenue['ordersB']\n",
    "    )/(mergedCumulativeRevenue['revenueA']/mergedCumulativeRevenue['ordersA'])-1\n",
    ")\n",
    "plt.xticks(rotation=45)\n",
    "plt.xlabel('дата')\n",
    "plt.ylabel('относительное изменение')\n",
    "plt.title('Относительное изменение кумулятивного среднего чека группы B к группе A')\n",
    "\n",
    "#Добавляем ось X\n",
    "plt.axhline(y=0, color='black', linestyle='--');\n"
   ]
  },
  {
   "cell_type": "markdown",
   "id": "dc4b972f",
   "metadata": {},
   "source": [
    "<div style=\"background-color:GhostWhite;padding:20px\">\n",
    "    \n",
    "В нескольких точках график различия между сегментами резко «скачет» вверх-вниз. В наших данных точно есть крупные заказы и выбросы, которые повлияли на форму графика. \n",
    "\n",
    "</div>"
   ]
  },
  {
   "cell_type": "markdown",
   "id": "96188a61",
   "metadata": {},
   "source": [
    "## Построим график относительного изменения кумулятивной конверсии группы B к группе A. Сделаем выводы и предположения."
   ]
  },
  {
   "cell_type": "code",
   "execution_count": 22,
   "id": "63b3de6c",
   "metadata": {},
   "outputs": [
    {
     "data": {
      "image/png": "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\n",
      "text/plain": [
       "<Figure size 432x288 with 1 Axes>"
      ]
     },
     "metadata": {
      "needs_background": "light"
     },
     "output_type": "display_data"
    }
   ],
   "source": [
    "#Посчитаем кумулятивную конверсию\n",
    "cumulativeData['conversion'] = cumulativeData['orders']/cumulativeData['visitors']\n",
    "\n",
    "#Отделим данные по группе A\n",
    "cumulativeDataA = cumulativeData[cumulativeData['group']=='A']\n",
    " \n",
    "#Отделим данные по группе B\n",
    "cumulativeDataB = cumulativeData[cumulativeData['group']=='B']\n",
    "\n",
    "#Построим графики\n",
    "plt.plot(cumulativeDataA['date'], cumulativeDataA['conversion'], label='A')\n",
    "plt.plot(cumulativeDataB['date'], cumulativeDataB['conversion'], label='B')\n",
    "plt.xticks(rotation=45)\n",
    "plt.xlabel('дата')\n",
    "plt.ylabel('кумулятивная конверсия')\n",
    "plt.title(\"График кумулятивной конверсии групп А и B\")\n",
    "plt.legend();\n"
   ]
  },
  {
   "cell_type": "code",
   "execution_count": 23,
   "id": "ac6c728d",
   "metadata": {
    "scrolled": false
   },
   "outputs": [
    {
     "data": {
      "image/png": "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\n",
      "text/plain": [
       "<Figure size 432x288 with 1 Axes>"
      ]
     },
     "metadata": {
      "needs_background": "light"
     },
     "output_type": "display_data"
    }
   ],
   "source": [
    "#Построим график относительного различия кумулятивных конверсий\n",
    "mergedCumulativeConversions = cumulativeDataA[['date','conversion']].merge(\n",
    "    cumulativeDataB[['date','conversion']], left_on='date', right_on='date', how='left', suffixes=['A', 'B']\n",
    ")\n",
    "\n",
    "plt.plot(\n",
    "    mergedCumulativeConversions['date'], \n",
    "    mergedCumulativeConversions['conversionB']/mergedCumulativeConversions['conversionA']-1\n",
    ")\n",
    "\n",
    "plt.xlabel('дата')\n",
    "plt.ylabel('прирост конверсии')\n",
    "plt.xticks(rotation=45)\n",
    "plt.title(\"Относительный прирост конверсии группы B относительно группы A\")\n",
    "\n",
    "plt.axhline(y=0, color='black', linestyle='--')\n",
    "plt.axhline(y=0.12, color='green', linestyle='--', label='линия стабилизации')\n",
    "plt.axhline(y=0.16, color='green', linestyle='--')\n",
    "plt.legend();\n"
   ]
  },
  {
   "cell_type": "markdown",
   "id": "ec52500f",
   "metadata": {},
   "source": [
    "<div style=\"background-color:GhostWhite;padding:20px\">\n",
    "    \n",
    "Первые 5 дней теста конверсия группы А была выше группы В. Однако, начиная с 6-го дня теста, конверсия группы В после резкого скачка значительно опережает группу А. \n",
    "\n",
    "</div>"
   ]
  },
  {
   "cell_type": "markdown",
   "id": "d3909074",
   "metadata": {},
   "source": [
    "## Построим точечный график количества заказов по пользователям. Сделаем выводы и предположения."
   ]
  },
  {
   "cell_type": "code",
   "execution_count": 24,
   "id": "bd70956f",
   "metadata": {
    "scrolled": false
   },
   "outputs": [
    {
     "name": "stdout",
     "output_type": "stream",
     "text": [
      "      visitorId  orders\n",
      "908  3967698036       3\n",
      "55    249864742       3\n",
      "478  2108163459       3\n",
      "687  2988190573       3\n",
      "890  3908431265       3\n",
      "138   611059232       3\n",
      "632  2742574263       3\n",
      "157   678354126       2\n",
      "323  1404560065       2\n",
      "452  1985475298       2\n"
     ]
    }
   ],
   "source": [
    "#Составим таблицу с кол-вом заказов для каждого пользователя\n",
    "ordersByUsers = (\n",
    "    orders.groupby('visitorId', as_index=False)\n",
    "    .agg({'transactionId': 'nunique'})\n",
    ")\n",
    "\n",
    "ordersByUsers.columns = ['visitorId', 'orders']\n",
    "\n",
    "print(ordersByUsers.sort_values(by='orders', ascending=False).head(10))"
   ]
  },
  {
   "cell_type": "code",
   "execution_count": 25,
   "id": "0613d55e",
   "metadata": {
    "scrolled": false
   },
   "outputs": [
    {
     "data": {
      "image/png": "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\n",
      "text/plain": [
       "<Figure size 432x288 with 1 Axes>"
      ]
     },
     "metadata": {
      "needs_background": "light"
     },
     "output_type": "display_data"
    }
   ],
   "source": [
    "#Построим гистрограмму распределения количества заказов на одного пользователя.\n",
    "plt.hist(ordersByUsers['orders'])\n",
    "plt.xlabel('количество заказов на одного пользователя')\n",
    "plt.ylabel('количество пользователей')\n",
    "plt.title('Гистрограмма распределения количества заказов на одного пользователя');"
   ]
  },
  {
   "cell_type": "code",
   "execution_count": 26,
   "id": "4ec8538b",
   "metadata": {
    "scrolled": false
   },
   "outputs": [
    {
     "data": {
      "image/png": "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\n",
      "text/plain": [
       "<Figure size 432x288 with 1 Axes>"
      ]
     },
     "metadata": {
      "needs_background": "light"
     },
     "output_type": "display_data"
    }
   ],
   "source": [
    "#Построим точечную диаграмму числа заказов на одного пользователя\n",
    "\n",
    "x_values = pd.Series(range(0,len(ordersByUsers)))\n",
    "plt.scatter(x_values, ordersByUsers['orders'], alpha=0.7)\n",
    "plt.title('Точечная диаграмма числа заказов на одного пользователя');"
   ]
  },
  {
   "cell_type": "markdown",
   "id": "49cbad03",
   "metadata": {},
   "source": [
    "<div style=\"background-color:GhostWhite;padding:20px\">\n",
    "    \n",
    "- Есть пользователи, которые совершали 2-3 заказа.\n",
    "- Однако большинство покупателей заказывали только один раз.\n",
    "\n",
    "</div>"
   ]
  },
  {
   "cell_type": "markdown",
   "id": "c786d449",
   "metadata": {},
   "source": [
    "## Посчитаем 95-й и 99-й перцентили количества заказов на пользователя. Выберем границу для определения аномальных пользователей."
   ]
  },
  {
   "cell_type": "code",
   "execution_count": 27,
   "id": "c3cb408f",
   "metadata": {},
   "outputs": [
    {
     "name": "stdout",
     "output_type": "stream",
     "text": [
      "[1. 1. 2.]\n"
     ]
    }
   ],
   "source": [
    "#Посчитаем выборочные перцентили количества заказов на одного пользователя\n",
    "\n",
    "print(np.percentile(ordersByUsers['orders'], [90, 95, 99]))"
   ]
  },
  {
   "cell_type": "markdown",
   "id": "a9fed4be",
   "metadata": {},
   "source": [
    "<div style=\"background-color:GhostWhite;padding:20px\">\n",
    "    \n",
    "Не более 5% пользователей оформляли больше чем 1 заказ. Лишь 1% пользователей заказывал более 2-х раз.\n",
    "Разумно выбрать 2 заказа на одного пользователя за нижнюю границу числа заказов и отсеять аномальных пользователей по ней.\n",
    "\n",
    "</div>"
   ]
  },
  {
   "cell_type": "markdown",
   "id": "cd4087d7",
   "metadata": {},
   "source": [
    "## Построим точечный график стоимостей заказов. Сделаем выводы и предположения."
   ]
  },
  {
   "cell_type": "code",
   "execution_count": 28,
   "id": "da0a80f6",
   "metadata": {},
   "outputs": [
    {
     "data": {
      "text/plain": [
       "(0.0, 300000.0)"
      ]
     },
     "execution_count": 28,
     "metadata": {},
     "output_type": "execute_result"
    },
    {
     "data": {
      "image/png": "iVBORw0KGgoAAAANSUhEUgAAAZgAAAEWCAYAAABbgYH9AAAAOXRFWHRTb2Z0d2FyZQBNYXRwbG90bGliIHZlcnNpb24zLjQuMywgaHR0cHM6Ly9tYXRwbG90bGliLm9yZy/MnkTPAAAACXBIWXMAAAsTAAALEwEAmpwYAABQMElEQVR4nO29eZhcR3Ww/57eZ980kkeLJdmybMkONlh4YXGcALazGvJAMAnYJCRO+MhGQhII+T4cIAQIifMjCSQOJhiHBMySsATbCIzjGISxvMmyZC2WrHU0Gs3Ss/V67/n9UdWtnlHPImlaMxqd93n66dt1b1Wfqlu3TtWpU3VFVTEMwzCM2SYy1wIYhmEYCxNTMIZhGEZNMAVjGIZh1ARTMIZhGEZNMAVjGIZh1ARTMIZhGEZNMAVjzFtEpF5EbheRuIi8QkReMdcyGWcWEVkvIj8rIlERuUVEls61TMbMMQVzliMiIxWfUEQyFb9/da7lOx1UdQx4JdAD/BPQN5fyiMgdIvJvcynDOUgv8OfAMeBWoH9uxTFOhthcC2CcHqraWDoWkReB31DV786dRLOLqt421zIYc4eq9gI2cj1LsRHMAkdEkiLydyJy2H/+TkSS/ty4HnmV39eIyA9FZFBEnhGR6yvOqYisqfZbRD4nIh+uOLdGRLTi98Mi8htVZP2wiHzOH6/yacb876v87w9PjOfPv11Eggkjup+vkO33RGSPiBwTkb8WkYg/d6GIPCQiff7cF0SktSLd14nIPhF5FlgLdIjI/4jIURH5vYrrJub52xPkL+fZ/+cBEfmFSfISFZE/E5EXRGRYRJ4QkRUi8k2fr1Gfdimf/+TjrfP/Mygiz4nIL56kfHkRWVxxzX0T7muLiHxeRHp9mfx5qRz9+d8Uke1e5m0i8jIR+YcKOdXLPiIi91ekebeIdIvIIV8HohX39NGK9P/Ep/HaScrt4/4eDovIj0TksopzXxaRIyKSFpFHROTSamUjIh1e9nf6320i8i2f5wF/vLwi7hd8eFpEvisiyyaUx24R6ReRb0iFeW9CWbwgIm+qlqezHVMwC5/3A9cAVwCXA1fhTA4AIZPUAf+g/DfwYaAdeA/wVRHp9JfoZHFrxMeBQ9Ncs0lVGys+36o49wZgA/Ay4Gbg1324AH8FLAXWASuAOwBEJAV8Afh94KeBy3DleDvwk8AdInL5RCHEKeKXVBNQRM4DHgTer6rfnCQffwi8BfhZoNnLOqaqv+BHrKXGsdXn87dFJA58E/gOsBj4XeALInLxScj3AnCbv2YRTqFW8vdAC3ABLv+3Ar/mr38Trtxu9TL/ItCnqr9Tuh8+jcv975/xv+8BisAa4KXADUC1zkcb8HvAYBW5S9wNnA+0Ag8Bf1Fx7n7gIlzZPIm7rxP/o9Ff9++q+mkfHAH+FVjp084A/1AR7SPAEp/uIdy9Q0R+GlevfhnoAvYBX5zwl5f7cvkg8GkWIKZgFj6/CnxQVY96c8NfAG/z5/YDL5eKHnsFbwW+rarfVtVQVTcCm3GNXinu62orukPcSCQCnI7p72Oq2q+q+4G/wzXgqOpuVd2oqjlfPn+LazwBrgVGVPW//LmvAd9T1R2quh34Bk5xVcoqOGX4/6rI0IpTAF9Q1c9PIetvAH/u/0dV9RlVnW7+6RqgEfioquZV9SHgW6V8zlC+z3O8btwK3FsRLwq8GXifqg6r6ovA31Rc/xvAx1X1cS/zblXdN5XAIrIE+BngD1R1VFWPAncCt1S5/P3AZ4H0ZOn58hrDdRrAKZLSuc96uXM4RXi5iLRURE8C/wU8r6ofrojXp6pfVdUxVR0G/pLj9QNVfU5V8xX/+ZT//lXgs6r6pP/P9wHXisiqKqLHmOP5xVphCmbhsxTXeyqxz4eB61E9A+wVkUHgvRXXrQTe5M0tg/78q3C9MYDfAf7ImwYGq/zveyriPVnl/Cf9+W4R+awfLVQjgusJ/sk0+ZyOAxXH5TIQkcUi8kVvnhkC/g1Y5K9bgptknoyjwHkTwn4Z11g8VOX6DwIjwGsqTUtVWIEbTZwMS4EDqhpWhO0Dlk24bir5eoGdIvJqnOKoVIKLgAQn1qVS+qci80ogDnRX1JV/xo0GyojI+V7uv54uQRH5FDAK/ArwfR8WFZGPelPUEPBiRZ5KvAuoxymBuor06kXkn71JcAh4BGgtmfH8Nd8ChnEjsCd88LjnTlVHcOVeeT+eFJER4B9xdWPBYQpm4XMY9yCXON+HoapZVX2jqrapaivw0YrrDgD3qmprxadBVT/q435LVS9Q1RYfdyKfKMXDmaUm8nv+3GXAlcDbJ5H/7cAOVf3RzLI7KSsqjstlgFNeCrxEVZtxI7dSb7SX8Y3QRBbjPNxKxIEPAX86yfX34ZQ0OAU9GQeAC6c4X43DwIoJiut8xpsVp5MP4DM4U9huP2orcQwocGJdKqV/KjIfAHLAooo61qyql0647sO40dHwdAmq6v/BKYq/Bv7TB/8Kziz6WpyJb5UPl4qoPwSuAx7HjVJK/BFwMXC1rx/XTYyrqj8PNOBMyp/zweOeOxFpADoYfz9e5k1kLwU+5RXpgsIUzMLnP4A/F5FOb1f/f7he+nT8G/ALInKj7wGmROT6ygnOWWIU18hMVhffjzMvnC5/7CdsV+DmVL7kw5two4pBP+/0xxVxfoTrrf6Cn3t6A270cbGf2/hF3LxHibcBP1TVLZPI8KgfYfw68P9E5IJJrvsM8CERuUgcLxGRjmny9xiuLP9E3Lqh64FfYLzdfzr5wJnwnsSZqsqoaoBTkH8pIk0ishI331CqS5/BjVqv9DKv8ddMiqp2+//7GxFpFpGIOAeIn6y4bA1wNW5kMyUicplXsIIzeWX8qSZcHevDKZ+PVIn+I1Ut4uau3iIi11bEzeDqRzvwgYr/i4jIpd7sGJnwn/8O/JqIXCHOqeYjwGPetDiRADc6bJ0uj2cbpmAWPh/GzZ1sAZ7FNR5VPbEqUdUDuF7fn+F68gdwje9s1ZmPi8hBYA+wGzeRWo1vqequWfi/r+PMF0/jepp3+/C/wI2w0j78a6UIqjqKm4v4FM6ktNXH/xfgB8Bfqermiv9oA/7vdIKo6k7caPEzvnGayN/iGvPvAENe1roq11WmmccpvJ/BjTY+Bdyqqs+fjHx+vu3XVfWHVU7/Lk6J7QEexTWin/Xxvozr+f87zlz0XzjnkOm4Fde4bgMGgK9w3AwLzkz556pamEFaf+XT6APeyPH5p8/jzFWH/P9MOhr2c12/C5TMtn+HK/tjPt4DFZdHcU4KaeAI8BPAb/t0vocr668C3bjR3cS5pWe8iexh4CPTKP6zErEXjhkLHXEu0hep6u7TTOcOYI2qvnVWBDOMBY6NYAzDMIyaUDMF4232Pxa3QO85EfkLH94uIhtFZJf/bquI8z5xC5N2iMiNFeFXisiz/twnS2YFcYsIv+TDH6t0ARSR2/x/7BIRWw1uGIZxhqmZicwrgQZVHRG3COxR3OTqLwH9qvpREXkv0Kaqfyoi63ET0lfhXPy+C6xV1UBEfuzj/gj4NvBJVb1fRP4Pzvvnt0XkFuANqvpmPxm3GbewTnG29ytVdaAmmTUMwzBOoGYjGL/YasT/jPuP4iaO7/Hh9wCv98c3A1/0C9724iZ+rxKRLqBZVTep04afnxCnlNZXcB4+AtwIbPQL6waAjcBNtcmpYRiGUY2abnbpFyM9gXM1/EdVfUxElnj3RFS1W47vfbSM8d4dB31YwR9PDC/FOeDTKopIGudrXg6vEqdSvttx237Q0NBw5SWXXHIauTUMwzj3eOKJJ46pame1czVVMN53/gpxW5H8p1RsPleFau6aOkX4qcaplO8u4C6ADRs26ObNm0+IZBiGYUyOiEy6JdAZ8SJT1UGcr/dNQI83e+G/j/rLDjJ+tfVy3GrYg/54Yvi4OOJ2hW3BvS9isrQMwzCMM0Qtvcg6/cgFv7fPa4HncRsElry6bsMtgMOH3+I9w1bjdj79sTenDYvbOl5wC7Mq45TSeiPwkJ+neRC4wa/cbsPt0PpgrfJqGIZhnEgtTWRdwD1+HiYC3Keq3xKRTcB9IvIO3I68bwK3K6mI3IdbaVsE3uVNbADvxO3xU4fbTvt+H343cK+I7MaNXG7xafWLyIdw+wqB203Y3oRnGIZxBrGV/B6bgzEMwzh5ROQJVd1Q7Zyt5DcMwzBqgikYwzAMoyaYgjEMwzBqgikYwzAMoyaYgjEMwzBqgikYwzAMoyaYgjEMwzBqgikYwzAMoyaYgjEMwzBqgikYwzAMoyaYgjEMwzBqgikYwzAMoyaYgjEMwzBqgikYwzAMoyaYgjEMwzBqgikYwzAMoyaYgjEMwzBqgikYwzAMoyaYgjEMwzBqgikYwzAMoyaYgjEMwzBqgikYwzAMoyaYgjEMwzBqgikYwzAMoyaYgjEMwzBqgikYwzAMoyaYgjEMwzBqQs0UjIisEJHvi8h2EXlORH7fh98hIodE5Gn/+dmKOO8Tkd0iskNEbqwIv1JEnvXnPiki4sOTIvIlH/6YiKyqiHObiOzyn9tqlU/DMAyjOrEapl0E/khVnxSRJuAJEdnoz92pqp+ovFhE1gO3AJcCS4HvishaVQ2ATwO3Az8Cvg3cBNwPvAMYUNU1InIL8DHgzSLSDnwA2ACo/+9vqOpADfNrGIZhVFCzEYyqdqvqk/54GNgOLJsiys3AF1U1p6p7gd3AVSLSBTSr6iZVVeDzwOsr4tzjj78CvMaPbm4ENqpqv1cqG3FKyTAMwzhDnJE5GG+6einwmA/6HRHZIiKfFZE2H7YMOFAR7aAPW+aPJ4aPi6OqRSANdEyRlmEYhnGGqLmCEZFG4KvAH6jqEM7cdSFwBdAN/E3p0irRdYrwU41TKdvtIrJZRDb39vZOlQ3DMAzjJKmpghGROE65fEFVvwagqj2qGqhqCPwLcJW//CCwoiL6cuCwD19eJXxcHBGJAS1A/xRpjUNV71LVDaq6obOz83SyahiGYUygll5kAtwNbFfVv60I76q47A3AVn/8DeAW7xm2GrgI+LGqdgPDInKNT/NW4OsVcUoeYm8EHvLzNA8CN4hImzfB3eDDDMMwjDNELb3IXgm8DXhWRJ72YX8GvEVErsCZrF4EfgtAVZ8TkfuAbTgPtHd5DzKAdwKfA+pw3mP3+/C7gXtFZDdu5HKLT6tfRD4EPO6v+6Cq9tckl4ZhGEZVxHX4jQ0bNujmzZvnWgzDMIyzChF5QlU3VDtnK/kNwzCMmmAKxjAMw6gJpmAMwzCMmmAKxjAMw6gJpmAMwzCMmmAKxjAMw6gJpmAMwzCMmmAKxjAMw6gJpmAMwzCMmmAKxjAMw6gJpmAMwzCMmmAKxjAMw6gJpmAMwzCMmmAKxjAMw6gJpmAMwzCMmmAKxjAMw6gJpmAMwzCMmmAKxjAMw6gJpmAMwzCMmmAKxjAMw6gJpmAMwzCMmmAKxjAMw6gJpmAMwzCMmmAKxjAMw6gJpmAMwzCMmmAKxjAMw6gJsbkWwDAMw5gfbO9O88DWHg4NZljWWsdNly1hXVfLKadnIxjDMAyD7d1p7npkL+lMga6WFOlMgbse2cv27vQpp1kzBSMiK0Tk+yKyXUSeE5Hf9+HtIrJRRHb577aKOO8Tkd0iskNEbqwIv1JEnvXnPiki4sOTIvIlH/6YiKyqiHOb/49dInJbrfJpGIaxEHhgaw8tdXFa6uJERMrHD2ztOeU0azmCKQJ/pKrrgGuAd4nIeuC9wPdU9SLge/43/twtwKXATcCnRCTq0/o0cDtwkf/c5MPfAQyo6hrgTuBjPq124APA1cBVwAcqFZlhGIYxnkODGZpS42dNmlIxDg1mTjnNmikYVe1W1Sf98TCwHVgG3Azc4y+7B3i9P74Z+KKq5lR1L7AbuEpEuoBmVd2kqgp8fkKcUlpfAV7jRzc3AhtVtV9VB4CNHFdKhmEYxgSWtdYxnC2OCxvOFlnWWnfKaZ6RORhvunop8BiwRFW7wSkhYLG/bBlwoCLaQR+2zB9PDB8XR1WLQBromCKtiXLdLiKbRWRzb2/vaeTQMAzj7Oamy5aQzhRIZwqEquXjmy5bcspp1lzBiEgj8FXgD1R1aKpLq4TpFOGnGud4gOpdqrpBVTd0dnZOIZphGMbCZl1XC7dft5qWujjd6SwtdXFuv271aXmR1dRNWUTiOOXyBVX9mg/uEZEuVe325q+jPvwgsKIi+nLgsA9fXiW8Ms5BEYkBLUC/D79+QpyHZylbhmEYC5J1XS2npVAmUksvMgHuBrar6t9WnPoGUPLqug34ekX4Ld4zbDVuMv/H3ow2LCLX+DRvnRCnlNYbgYf8PM2DwA0i0uYn92/wYYZhGMYZopYjmFcCbwOeFZGnfdifAR8F7hORdwD7gTcBqOpzInIfsA3ngfYuVQ18vHcCnwPqgPv9B5wCu1dEduNGLrf4tPpF5EPA4/66D6pqf43yaRiGYVRBXIff2LBhg27evHmuxTAMwzirEJEnVHVDtXO2kt8wDMOoCaZgDMMwjJpgCsYwDMOoCaZgDMMwjJpgCsYwDMOoCaZgDMMwjJpgCsYwDMOoCaZgDMMwjJpgCsYwDMOoCaZgDMMwjJpgCsYwDMOoCaZgDMMwjJpgCsYwDMOoCaZgDMMwjJpgCsYwDMOoCaZgDMMwjJpgCsYwDMOoCaZgDMMwjJpgCsYwDMOoCaZgDMMwjJpgCsYwDMOoCaZgDMMwjJpgCsYwDMOoCaZgDMMwjJoQm+qkiFymqltFJA68E7jOn/of4J9UtVBrAQ3DMIyzk+lGMF/w3/8EXAl8yn9e5r8NwzAMoypTjmCArIgI8HJVfUlF+EMi8kwN5TIMwzDOcqYbwTwO3AwUReTCUqCIXADIVBFF5LMiclREtlaE3SEih0Tkaf/52Ypz7xOR3SKyQ0RurAi/UkSe9ec+6RUeIpIUkS/58MdEZFVFnNtEZJf/3DbDsjAMwzBmkekUzP8FfhuoA7aKyMMi8j/Ao8D7pon7OeCmKuF3quoV/vNtABFZD9wCXOrjfEpEov76TwO3Axf5TynNdwADqroGuBP4mE+rHfgAcDVwFfABEWmbRlbDMAxjlpnSRKaqA8BNIrIO6MSNWoaAHao6Nk3cRypHFdNwM/BFVc0Be0VkN3CViLwINKvqJgAR+TzweuB+H+cOH/8rwD/40c2NwEZV7fdxNuKU0n/MUBbDMAxjFpipm/KHgCbgf1X1qemUyzT8johs8Sa00shiGXCg4pqDPmyZP54YPi6OqhaBNNAxRVonICK3i8hmEdnc29t7GlkyDMMwJjJTBfNPwK8Au0TkoyJyySn+36eBC4ErgG7gb3x4tfkcnSL8VOOMD1S9S1U3qOqGzs7OKcQ2DMMwTpYZKRhV/a6q/irOPflFYKOI/FBEfs2vkZkRqtqjqoGqhsC/4OZIwI0yVlRcuhw47MOXVwkfF0dEYkAL0D9FWoZhGMYZZMYr+UWkA/g14DeAp4D/D6dwNp5EGl0VP98AlDzMvgHc4j3DVuMm83+sqt3AsIhc4+dXbgW+XhGn5CH2RuAhVVXgQeAGEWnzJrgbfJhhGIZxBpluHQwAIvI14BLgXuDnVfWIP/UlEdk8SZz/AK4HFonIQZxn1/UicgXOZPUi8FsAqvqciNwHbAOKwLtUNfBJvRPnkVaHm9y/34ffDdzrHQL6cV5oqGq/iHwI52IN8MHShL9hGIZx5hDX6Z/mIrdeZT3wSiDEuSl/WlWztRXvzLFhwwbdvLmqrjQMwzAmQUSeUNUN1c7NaAQDvB3nnvxJ//stuNHMm05bOsMwDGNBMlMFc7GqXl7x+/u2VYxhGIYxFTOd5H9KRK4p/RCRq4Ef1EYkwzAMYyEw0xHM1cCtIrLf/z4f2C4izwI6YSNMwzAMw5ixgqm2p5hhGIZhTMqMFIyq7qu1IIZhGMbCwl6ZbBiGYdQEUzCGYRhGTTAFYxiGYdQEUzCGYRhGTTAFYxiGYdQEUzCGYRhGTTAFYxiGYdQEUzCGYRhGTTAFYxiGYdQEUzCGYRhGTTAFYxiGYdQEUzCGYRhGTTAFYxiGYdQEUzCGYRhGTTAFYxiGYdQEUzCGYRhGTTAFYxiGYdQEUzCGYRhGTTAFYxiGYdQEUzCGYRhGTTAFYxiGYdSEmikYEfmsiBwVka0VYe0islFEdvnvtopz7xOR3SKyQ0RurAi/UkSe9ec+KSLiw5Mi8iUf/piIrKqIc5v/j10iclut8mgYhmFMTi1HMJ8DbpoQ9l7ge6p6EfA9/xsRWQ/cAlzq43xKRKI+zqeB24GL/KeU5juAAVVdA9wJfMyn1Q58ALgauAr4QKUiMwzDMM4MNVMwqvoI0D8h+GbgHn98D/D6ivAvqmpOVfcCu4GrRKQLaFbVTaqqwOcnxCml9RXgNX50cyOwUVX7VXUA2MiJis4wDMOoMWd6DmaJqnYD+O/FPnwZcKDiuoM+bJk/nhg+Lo6qFoE00DFFWicgIreLyGYR2dzb23sa2TIMwzAmMl8m+aVKmE4Rfqpxxgeq3qWqG1R1Q2dn54wENQzDMGbGmVYwPd7shf8+6sMPAisqrlsOHPbhy6uEj4sjIjGgBWeSmywtwzAM4wxyphXMN4CSV9dtwNcrwm/xnmGrcZP5P/ZmtGERucbPr9w6IU4prTcCD/l5mgeBG0SkzU/u3+DDDMMwzgm2d6e5c+NO3vPlZ7hz4062d6fnRI5auin/B7AJuFhEDorIO4CPAq8TkV3A6/xvVPU54D5gG/AA8C5VDXxS7wQ+g5v4fwG434ffDXSIyG7gD/EeaaraD3wIeNx/PujDDMMwFjzbu9Pc9che0pkCXS0p0pkCdz2yd06UjLhOv7FhwwbdvHnzXIthGIZxWty5cSfpTIGWung5rPT73a9bO+v/JyJPqOqGaufmyyS/YRiGMQscGszQlIqNC2tKxTg0mDnjssSmv8QwjHOd7d1pHtjaw6HBDMta67jpsiWs62qZa7GMKixrrTthBDOcLbKste6My2IjGMMwpmQ+2fSN6bnpsiWkMwXSmQKhavn4psuWnHFZTMEYhjElD2ztoaUuTktdnIhI+fiBrT1zLZpRhXVdLdx+3Wpa6uJ0p7O01MW5/brVczLiNBOZYRhTcmgwQ1dLalzYXNn0jZmxrqtlXpgwbQRjGMaULGutYzhbHBc2VzZ94+zCFIxhGFMyn2z6xtmFKRjDMKZkPtn0jbMLm4MxDGNa5otN3zi7sBGMYRiGURNMwRiGYRg1wRSMYRiGURNMwRiGYRg1wRSMYRiGURNMwRiGYRg1wdyUDcOYFttN2TgVTMEYhjElpd2UW+ri43ZTtsWWZ5bt3Wnu3bSPpw4MIggvXdHCW69dOa/vgZnIDMOYEttNee7Z3p3m4w/s4LE9/SQiQiwCm/b084kHd87r1yaYgjEMY0rm0xsSz1Ue2NpD/2iexlSMVCJGXSJGUyrGsZHcvFb0pmAMw5gS20157jk0mCFfDEnGjjfZyViEXDGY14re5mAMw5iSmy5bwl2P7AXcyGU4WySdKfDmly+fY8lml/nsyLCstY5dPcPkiiGpeBSAXDEkGYvOa0VvCsYwjCkp7aZc2fi++eXL503jezqUlMpzh9McHMhw8ZJGzu9omHeODDddtoQtBwfZ3zcGqigwkgtYvahhXr82wRSMYRjTshB3U670jhvKFADY0TNCYyrGokb3Bs8HtvbMi3yv62rhT266eJwX2bUXtM97LzJTMIZhnJNUeseN5AKaUzFyxZDdR0dZ1Jiad44M67pa+MgvvWSuxTgpbJLfMIxzkkrvuEavXJKxCENZN5oxR4bTx0Yw84j5PMlYydki50LAyrp2LGutI50p0FIXZ01nA0/uHyRXDGlOxcqvhT5ZR4b5dr/mWh4bwcwTSvbgdKYwbrX0fFtEdbbIuRCwsq4tN122pKxIOhqTrF3cCAot9fFTei30fLpf27vT/NnXtvBb9z7JwzuOEo8yJ/LMiYIRkRdF5FkReVpENvuwdhHZKCK7/HdbxfXvE5HdIrJDRG6sCL/Sp7NbRD4pIuLDkyLyJR/+mIisOuOZPEnOltXSZ4ucCwEr69pS8o5rqYvTnc6yurORO2+5nH+59eW8+3VrT7qnP1/uV0nRPXd4iLY6Z6R6an+aQhCccXnm0kT2U6p6rOL3e4HvqepHReS9/vefish64BbgUmAp8F0RWauqAfBp4HbgR8C3gZuA+4F3AAOqukZEbgE+Brz5TGXsVDg0mKGrJTUubL5NMsLZI+dCYL6V9VybW2rBbHrHzZf7VVJ0hUBpTEbx/W52Hx3lqtXtZ1Se+WQiuxm4xx/fA7y+IvyLqppT1b3AbuAqEekCmlV1k6oq8PkJcUppfQV4TWl0M185W1ZLny1yLgTmU1nPJ/PPfGW+3K+S80LJcQEoOy+caXnmSsEo8B0ReUJEbvdhS1S1G8B/L/bhy4ADFXEP+rBl/nhi+Lg4qloE0kBHDfIxa1Tag0PV8vF8W0R1tsi5EJhPZT1fzD/zmflyv0qKbk1nA7liSLYQkC0EJKKRMy7PXCmYV6rqy4CfAd4lItdNcW21kYdOET5VnPEJi9wuIptFZHNvb+90MteUifbgU5lkPBOcLXIuBM5UWW/vTnPnxp2858vPcOfG6rvzVrr09g5n2bSnj8f29PGdbUdsFOOZL89GSdElYlGuWOH+ezBT5LKlzWdcHnHWpblDRO4ARoDfBK5X1W5v/npYVS8WkfcBqOpf+esfBO4AXgS+r6qX+PC3+Pi/VbpGVTeJSAw4AnTqFJndsGGDbt68uVbZNBYw82Fu4lRlqFzNXrnP2MSG6M6NO0lnCuSLAU/uHyQZi6CqiAgXdDZaJ2OecSbrpIg8oaobqp074yMYEWkQkabSMXADsBX4BnCbv+w24Ov++BvALd4zbDVwEfBjb0YbFpFr/PzKrRPilNJ6I/DQVMrFME6V+TA3MVMZqo1UZmr6KvWKnzs8RDLqDAT5QLlsWbOZyuYh67paePfr1vKJN11+Sh5xs8VceJEtAf7Tz7nHgH9X1QdE5HHgPhF5B7AfeBOAqj4nIvcB24Ai8C7vQQbwTuBzQB3Oe+x+H343cK+I7Ab6cV5oZ4z50KOdryy0sqlsoIHy95ncw2omMkz2VsqRXIFLzmsel141z6eS+eeP7ttCqCEtdQkuW9bMosYUoap5ERpVOeMKRlX3AJdXCe8DXjNJnL8E/rJK+GbgsirhWbyCOtPY62UnZyGWzXxwTZ2JDJMpoUODGYazxfJvmNzzaV1XC69bv6S8+n26643Z4WzulM0nN+UFwZn0tpnJ5Ox8YiF6Is0H19SZyDDZWykrt0WZiefTfPGUOleYDybY08EUzCxzpl4vezZWvFqXzVwo3PnQ4M5EhsmU0KVLT97zqS4e4bG9fXxv+1EKxeCsHoHOd872TpltdjnLVG6gV6IWPdr5YPs/WWpZNnNlfpvsZVzgPK9KYWuXNLCzZ7QmZo6ZvBBsqrdSznQ1e2UZv3bdknIaZ5LTNRedbeam+WCCPR1sBDPLnKke7ZkaKcHsjQxqWTZz2dOb6LEDjBtd7u0d4aP37+DFYyM1G22WZHjHq1YBcPejL467V7OxRmOue9OnO2o/G0f988EEezrYCGaWWdfVwmvXdXLPpv30DGVZ0pzitmvPn/Ve0pkaKc3myKCWr96dq55etR7xxNHlkeEcsYjw+L4Bdh4doTkV57zm5KyPNqe7V6e779Zc96ZPd9Reip8vBjy2d4iRbJF4VLh30755+yKvqUaeZwOmYGaZ7d1pvru9l/VdzVy9up3hbJHvbu/lgs7GWW1MzlTFm21TXK1evVtSuPliwO7e0XLjcenS5ukjnyIzdf09NpwlnSmgQFtdnBePjbK9e4iOQ+lZNdHU2mx6pjo1k3G6Cu7QYIZYBJ4+kCYZi9CYjJIrBDy6u4/t3el5aSqrZafsTGAKZpb5t0372NM7Qj4IaU7FWbO4oWxGmM1KcTIV73TsznPda50pN122hI8/sIP9fWM0JqPEIq7x6xnKzbjxONlymqnrb7YYEirEo3BkKEcsArGIMJorzuo80Wzeq2plMde96akU3Ezu3bLWOh7ecZRkLEIqHnWBIrTVz/7zOZvUqlN2JjAFM4ts707zv7v7aK2L0ZSMkS0EPLFvkJee38KhweL0CXByjdxMKt7pmrjmutc6U9Z1tbC0JUX/aL6s3H9ieQvxaHRGjceplNNkDXrJ9bf0O4IQhiFhJEI0AiCIQEMyNqudj9m6V/+95RB//9ALFIKQjoYEhWLAXY+Mcft1q+e0Nz2Zgnv5qtYZ3bubLlvCfz51iNa6GKpKrhiSK4b++TxRCZ9NDgHzVVab5J9FHtjaQ1t9HBFBREjFoyRjEbYdHp7RQ16LScjTnZidD264MyUXKNet7eSG9edxzQUdLGpMzbgHfyrlNJ3rb74Y8N3tPWSLAW31CUKFXCFgNF+kEIS+gSvO2mhwNu7V9u40f/+9FwDoaEiQK4bs6BkhDMOyIpyrLUgmc1TY2TM6o3u3rquFV6/pQEQYzhVJxaNcubKVZCx2wvNZi2exVm7089l5wUYws8ihwQzrupp4+oC7sclYBFQZyBRZu6RhnNtqtR5GLWzop2s2OZtswCfTg5/Y49vWnZ7RlimVTGcyyhRCrl7dQbZQ5PG9AxSD0rs5ooDSlIzx2J4Brr2gfdq8leR97nCaoWyRlroY67taxtWj2bhXD2ztoRgq7Q3xcicJoDudJR6LzjidWlFt1H73oy9OWccr73UiKixqTLKivX5KM99sP4u1dKM/XVlrOfoxBTOLlBq4l53fOn6iuauJ727vnbZy1WK+YzbMJvPdBlzZ+B4cyHDxkkbO72iYtPGo9rAf6MtQH4+yalFj+brpymmqBv39X9sybi7u4vMaGRjNMZIPqE9E6WxKEY1EKAbFE98jUSV/dz2ylyAIOdifAYH0WJ76eLRsuqpUMqd6r7Z3p9m4rYeBsRzD2TyLm1PUJ2IkYxH6RvNce+GicdfOF5NMMio8srN33LxnPBotz81U3uvhbJFQlUIxoDtdHHfPKvO07fAQl69oBo4/N6fzLNbSAaOy3egdzrK7d5ThTAGEae9LrdePmYKZhpN5kEo92pa6eNmDLJ0pUB+PEI9Fp61ctZjvqPXE7Fw3NJUPyLquZurjUXYcGWGsELC+q6VqD77aw752SSM7ekZoa0ieVDlVa9CrzcXtOVagpSFBc52yuKWOkWyR+niUdV1N5IOpVUxJ3m3dQyTjboI6Wwg4MpRjXVfzrDRSpXKMR4X2+ji9owUO9GdY3paiGEI8Gimb2ubTnnLbu9McTmcZyRZpTEbJ5ItseqGf1YsaePONa6ve65UdzvGmtGapWp529Qy70eWFwqJG13ifzrNYS2eZSg/K0qsU4lFnpp/uvtTa89DmYKbgZG2bk9mIc4HOaFFkLeY7avkSpO3daT7+wA4e3nGU5w6leXjHUT7+wI4zavudOHeyurORay7sYL2fK6iWz2qLVFcuamB5W92slNNkc3FjuYCW+gTXXtDB69Yv4doLOkjFT7T/TybvSLbozK4cfwXubDVSpXK8dGkz0WiUzsYEiZhwaDALCr/70xeWy2KuF1xOlHtlRwNXX9BOMhGjGLpna0lzknVdLTNekDwxT5cubUaArYeGZuVZrOWCydN5lUKtF2zbCGYKTkW7V+vRznRkUqv5jlqZuO7dtM+5BadiNPn3f+/vGzvthWvVRkVA1ZHSqfQMJ7sfly5tKfdqSzLc/eiLp+TaXW0uDoFFjUnSmcJJjZJK8jamYuQKAal4lFzRmYNmq5EqlWNE4mUTbywSAYG//eXLT9mUO5MR7my40UckTmdTypmIjo7wgxf6uHPjTpJRmdFu0RPz1NmU4uWr23jmYJrudPa0n8VaWhJO51UKtfYSNQUzBSdr25zsQTmZyjWVMphrc9REOf772W6SsQj1yejxCWFVnjoweFppTzS/fPyBHUREWNFePy5saUuK5w6n2dUzXH6goPoDMnGit2coBxMmel++qpU7N+48YS7nVF27J87FveaSxbzt2pXj5KiPR6ZVYqU1PgOjOXqGcuX3gTfXxUmPFfjd11x4SnWjMs7+/jEKxYBVixrpbErR2ZQqNzyV6WzvTvN89xDf295DNCJ0Nad4yYqW8pzHdPdyYjnOpht973CWJ/cPArCkKcne3hG2HBwkG4QsaUqxfmkTyVhs3L0+NJhhNFvgiX0DZAoBTXVxrljewkVLmhnLBTSl4lMLMA2VZVwXj3A0neGxvWMIwktXtFS97lSe7XVd41+lUHqtdf9InvbGxKRrwWptQp/zVybPF6q9Mnmq18S2NyRY2pIiF2h5M8PSRP7EV8+C6+0/dWAQQVjVXkdbQ6Icd6aNwXSvtp2uks6GgqqU41tbDhOGrjyWtroJ4Uy+SDGEb//+q08q3RKlMq/sUT284ygA11+8GHDK/rE9/TSmYqzrauLxvQMocPUFbeUG5LXrOsubS5YUSqXn0L6+0Unv3zbvqQVw5cpWFjUeb2xLW8FMVYYT15F0taSIRCKTNqxTvaq4lN5fP+jKJVdw5Sui1MVjhApBENJaH2fDqnbO72hg37FRdvaMsKKjjs7GJIJz4U5EhcHRPHv7x8jm3Tv7XrK8pRznsRf7aU3FkYjzdFvUmOQ9N64dJ/PHH9jBriPDjOQDohEoevPvxec1j7t2sntZ+l0aKb7/a1vYenjohAn6ymsm1tvKjUMr723pvmXzRWJRoXekQDwiNKeiNNUlGBgr8Oo1HbxiTUf5XncPjvGDF/oIAiURF4QIQRiydkkjR4fzvOz81nEOIzNRfJM5new7NspTBwZPSPOS8xr4z6e6p6wvM2F7d5pPPLiT/f2j9AxlSUSjNCajXL6idcr0TrddmOqVyTaCmYTt3Wl6h7M8uruPXCGgpS4GRMgHygWL6thxZIT+0TzXre0knSnw9997gYvPazzBnHbvpn1kCiEtdW4H2omVbKY9tunMddP1BCcbGVQ2sjOpWJVynNec4uBAhqhA30ieSJMwkgtm5HY7WZlv3NbDWL5APlBElXwQks4UASUMlZesaGF37yiNySj5IGRJcx1XXyA8d3iIZw4M8br1S3j5qtZxXnuP7OxlOFvkvJYkEXGyNyVj7Ood5fz2egB+uLuvnK+RXECzN/ntPjpaXk/z3OE0+/vHpu2Rf3d7L2sXN3JkKEv/aIGhTJHffc2F48p2pubX0rqUVDzK4qYk+/rGGMrkKQQwFBRJxSMEodI7kmfLwTSFIGTPsTEQODyQYc/RURRYu6SBrQeHGMwWWNqSYjRfJJMP2XIwTWMqRmMqRlyEwUyB9oYEAOGEzucDW3voH83T0ZSkNVQGxvKMaUAh0PKcRyXTmdJmsjB5Yr3d2zvC1548OK6RLnmF9QznaEy40fRwNiAZEwQ4Nlrg2jWLyoqrct3Md7YNkYpFiSaEUEMSsSgjOWVHzwivuWRx2atwppPflfIO+cW2O3pGaEzFODKcoyEZ48hQjlWLXFvRP5LjrkdepLMpOW7d0cVLGk9poj1UZShTJCoRohEBEXdvp1hwXLKanI5ZeDJMwVShsgfalIwyOJZnLF9kVUcDV65sZdfR4w1caZJzNF/kxy/2lzczXLO4gfaGJN/d3sfVqzvKFbRaJYPpK+50D+t0DdbE8/liwK4jw2w7PER7Q4JdPcNsOTjIG69cxg9290062qpcL/KS5S2M5IqM5YuM5Ap0NiVZvaiBt167ctJ8TNZbKpX5oYEx8kFIPCJkCyEiQhAqsSgcGMgwkisiAo3JGM3efNHZlOK6tUm601ne/bq13Llx57i8FgKlMRktK4ve4Sw7e0YohCFXr24nnSnwv7v7eOWadiBenusoTaSDM7sNZYssb6ufUilUlvPqTtc4pTMFdvaM8nMncT9LTFyXki0G5AJFFSICYajkA0WBo8M5RnJFlrbWkYxF2HNstGy2evbQEMVQScWijOYDQnXvdRnLB+z2SqijMUE+VG5Yf15Z7ns37QPgqQODHB7MIijL2+poSMZpSLoV8UPZQlVPuOns+yVnCKB8nwdG8zywtYeLljTx31sOcc+m/fSN5FjUmGTN4oaqz0/JK+z1Vyzj4R1Haa6LMJwrkogKQQh1cXfvr1rdXi7fUtmP5gLq4xEKQchoPqABoSERZWCswPkdDSfcn+cOp09Yz1bKS8nU2NWcrNpRGckWaUpGy3WqZMYaGMszmivQnIqzpCVFMhY5pXVHJYeHnqEcjd5snS0EJ+S9GlPt3nA6SsYUTAXbu9Pcu2kf39rSTSIa4byWJNFIhHg0QnNdjPpkjEWNKZ7anyYWodzA9Q5nGcsHFIKQFW3He2IXL2lEkHFeGhMrGczMa2O6h3W6Bqu00d+2breL7NHhDLlCSCwaKU/Q7zoyzIe/tZ36RIzGZJSxfJFHdh+jtS7Oq9cuOmG9SGdTildc2MFzh4coBMr1Fy+estcz2Sjrtes63epxcRPi+WLIWMEtSoyoEo2AIOX9u0QEEH5ieUt5bqzS1jyxLBpTMXL5YrnMd/eOlifcSx2Etvo4m18coK1hjN6hLEPZIs2pGJ1NybIHUUtdrKrHTWWjM9P1E9Xu575joxwZzvGeLz9DIup634++0EehGBKNQGt9gnwxRBUUCBTCopbX0WQLAbliyJLmJDnvsFTyOhvJFYlHnftqrhiSjLlGtRiGDGULvnyP12mXXpHv7+il0deHZEwYHC2yr2+MVYsaqE/EfFonzr+As+9/4sGdPDWSI1cMyma3N9+4tlwnS84QY/ki/aMFBKUYhNTHhI/evwOA85qT5WcqXwzoaEgwlC2cMC/6Oz91IfdtzhEEIaO5IqM+/8vb6ugZyvDIzl7X2UjFyvNNDckoo9ki2WJILAKJqDCWd3Vvf9/ouHVR+46NcnAgw/K2+knnB5/eP0h6LE8hCBnM5OlOB9TFoyTjETqbUgxVzJH8cPcxBjMFIq46k84WyQdjLG+ro2+0OG7dUen5mcqUVar3lc4gpU7SVBP35d0bhFkZRVViCsaTLQTc9chenjuUJl8My1t6LGuto70hTv9ogYjkCFWJe8+Un1juCn537yhNySjDOcoPb+kmXXl+6zgvlsZUrFzJSlQ2LJMNTad7WKdTQImolOctGpNR9vQGhGFIKh493nvM5MkUQjoblfpklLFCSCoWpRAoe3rHuLCzgUBDHt55jFV9Y3S1JOlO58q27enmfI4NZ6uOsu7ZtL/cSz82IjSlogyMFV0DCtTHIkQEErEI6UyeWDSCRODHe/spBEoqHiUaga7mJHc9spf6eGRcma/pbCjnPVSlfyRPNAJrFh/voZ7XnOR/d48QjURY1JhAVekbzbOkJUVLXZw3v3w5D2ztqaoUKhudXT3DPLLzGO31CYqq5a35Kxuq0v2snFytNJ3GIvDYnn6yvg6OZIscSUPK97QrxwoTxw2hKgf6M3S11tHVkiJXdI1lYzJGMVAKgZKMR2irT/Bi36gzrw3niIoQiwrXL6+8f8Ogrs46E12KsXxAvhjSM5TlvOYUI7mA1Ysaxq2RqXRiGPZKXbxrQqXZrdIZ4uGdvYSqJKIRVnbUMVZUGpIxhv3oKBV3HZ7e4RzHRvIkYsKmF/porouX13x85YlDCBAqJKIRssWQIFSGMgWGcgERiXD1BW2MZoOyM8BPLG3moed7AaU+FSdXVEJV1nc1jVsXte/YKD94oY/6RITt3UOsWdzAoka39x3AkuYkj+0dYjCTp1AMOTKUY3FTglwhZCwfMJItEHpT5orWOrbkCgznAiIiJOMRCoEiAvliyIH+DLFohG1+a5lS2U40Fb77i0dorY8RIrTUxUhnihSKAWs6G8r5U1+mU03c13L3BlMwnnSmQBCE9AxnASVQpVhUXuwbZVVHPXXxCB2Nzgxz6dJmeoZyxKPRcoOVjEdZv7SZY6MFRnzvt7kuzluvXTmuITmvKUn3oJv4C1XHNSzTedGUHs5qD2tlg5UtFNnePVxu+Ld3pxFObIwUnI16OMvhdJac3/W3EIQcHswSqhJBGcqGbD00yO6jI7Q3xGmri7nRza4RVrTW8co17cRj0WnnfCrNUCWaUjH33pymZFk5Z3Ih4gWORY731uNRIR6LsrK9nnVdTXz/+V5Gc0VWL2rgJSvcZPze3hGe7hlmOFskGROSsQjZghKEIctaU3Sns7Q3JuhqTpa9zsDtcry81a2D6RnKUAiVuniE/f1j5VFLyRGgsoz3HhulqzlFIQiISJzGRJRtwzl6h3N0NCTIFgIOD2a44dLx6ycmuqQfGc5xYWcDR4ZyvNA7QhiEZAsB+VCJRgUCZawQIhxfvBZOuJ+xqIAqw7kizTk3wX1sxPWmk/EomUKRMBSWJpPkCkVneowIiYjrYA1lQzbvHeBlq9z+XANjBeqT0fIoqCEZY2V7PQcGxsgVQ4ohXHtBO2+9dmXVe16a+7r2wvZyWaczhXKvuHJhcksqzqKGBPlAOb+9jh+/OICGStE3kG6Ek/cyQzGAgbE8iVgEEeHKlS08vneATL5IgDP/LWqMM5hxczOr2hvYsLrNydHkyqt7KMf57fUsbk6SLwTkA6UhGeXq1W1cuLiJH+/pY1v3EPv7RikErmN5XnOqPJq6cmUr+WJIJl8sOwEtaUqyu3eUIAhJtqVob4jTM5SjqEqmEHDdRR10p3PsPjpCPCosb00ymAmISUg+CMkWQgqB8so1rVxyXnO5PaiPR8qds97hLDuPjpAtFNl1NOdG2WN5upqTPLnftSVXrGhhe/cwg5kir17TUb5H1Tg0mKG9IU7OK+SBsby7v4GyZnFj1TgzxbzIPC3nX6JrfvOTjOaKFL1NWzjesC1rreM9N64d571S8s4p2V0bkrET3kXykV96Sdn0Vm1eY6q4b7t2Jfdu2scPXzhGz5B7adWqjgZesqJlnGdTpbfNvZv28ejuPtrq4+NGGLEIXLykkf4xZyrqHswwli8Shi6jEYGCcyxCgGTcedMIQiQiRCOQisUIQmVZWx31yeMjsWsu6ADGewhVehCVTBm7jgwTjwmvW79kXIOzrXuIupjw9MEhRnMFihUtZzzidh6ui0fIFpXOxgSrOurZ0zfG0aEcqFKXiLJ+aQsdDXG2dQ+TzhRIxYT+sSLRCFzQ0cCFixvLnjTAOG+bTD6gGEJDIsJ5zSkChWIYcmwkT74QEo9FaK2P01qX4A0v62JfX6ZcxkPZAk2+LGJR4cBAllCdGSsWiaC40dEr1yyacm3Qb37+cfb3jZGKRzk0mGEsd9xs01IXJ+N7wvEIxKJRIgLDueCEdASICqzsqOPocJ5i4MygIk751CejDGWKBL7hXtKUJFDn8jyWKzCUDUjGo7x6TQcDY3lnlgpC6hNR2hsSRMR1bq6/eDHvft3acSOW57uHKBRDIlGhOeXue2MyRl0iVq4joSrd6SyfeNPl5Tr7wNYevrPtCEGghGFI91CWvK8E8ViE1lScTCFgNB8QjQjLWlL0jRVQVeqTMX7q4k5U4b+3dCPiRkbHRvJkiwEr2uroGy3wxiuXl2WfKEe1unp4IEOmEPCqNR10p53JtHc4x6LGBK31ruNQ3lEhneW8llS557+9e4hcoUgkEqEhGSMCtNbHiUYj5fmth3ccLccbyRY4OpwjVwxRVToaE3Q0pugZygK40XAY8nMvWUpEhE17nONR73COTCFg7ZKmsjxLmpIcGXaKs9IaMpUn3v7+Mepjwot9Ywxm3dxVMVBChStXtp3gHXhCnTMvsukpDa2DUCnq8bCIey5Z2pIa55lUcjF87bpOfrC7j+89f5RcMWRxY4JUPDruXSRwfOPD0nD7iX2DrOhwW4bk6mM8c9DZobOFgGKobO9O8/DzRyn6SdxiqOQKIduPDHNgYIxXXNjBhYubxtn213W10NmU4qcvWTzOtbq1LkbPUI4dPaNce2E7qpDJ+R191Y1aiuHxxinEDdXdvK0SUyXUCIloiPrxU7UJy91HR+gZzgGUnQFKaxNKchwczPL1pw6zqqO+3Oi/5pJFfPbRFykUAxKxCEHemYFiEWhMRt1xNEKgAee317Hl0JAfw7mHYCQXcCTtGrhiqDQmY4gITckYRe9GvWpRY7n37FY+5+lOZ8nmAkLf7mQLIfv7M0QjECIExbBcFj1DOUZyBT718B7Ob6vnpStaWLWo0U3SjuYYzDrzhDixCBUaklGiImRm8FKrdKZYNlXmCgFZP9cShJCIRYmIG0XEIoKCH5kFFCYMYxQQgb7RAktb6xgcKwDKqkWNZAsBQag0JAL6x/Ks6Wxgf3+GXDGkMRWjrSFJLFbk6tUd5IsBmYJztsgV3Qhnf99Y2SX5psuWjBuxxCKwr2+MiMCixjgvjuQZzORpSMRoqR9vtk1EpbzeqLRx56r2ep46MOiVvevgBSGkELdUIFDqE1FWtNcRjUQYyBTpaEwQjUZY1Jhi054+YtGIqzOpOI2pOFnfY1rRXl91sWWlHAcHMpzXlODIUB4EMoUizXVxdvSMkC8GLGpMEvhOR6jKaK7IcDagoyFOoIr6T67oRpmJWJRYNMIFixrYdXSEHj9aOv6sNnFkKEvfsNufLhGLEBFxZsChPMdGnOlNFWeGU9j0Qi+vXLOYkWwRQTk2kiMIlS0HB2lMxohHBVXXaXV1yqWxp3dkXNs10RMvXwh4bG8f2UJIthiQxZntXnlhB4ub605rHsYUjKcuESUMlcAtuAbcgxoVYXFjnB1HRzgynKMuHkXEVf5CEPDU/gGuv3gxixoT9KRzHBnKsbK9nmsvbC+7BoLrheaLAQ8938/BgQyocmQoQ7YQsr17iFjEKbPKTulhv6guFnEjKffQKelMke9s62HR/kHO72gY13Bt606THiuw59goUXEmqLF8yEiuQC4IeXzvAK31cVKJGJ2N0DeaZ9SviVAgGnEmGB9E3E8uD2eLjOZdj3A45x74gwNFEjHhv7ccKq85WNKcHOcM8ELvKP2jrneWLYTUxSOkElEOpbMUQ3jDy7r45jNHGBgtEKgSiwp18QiJWIRkLMqqRQ1cc0FHeaTzQu8oiWiEXDEgFoGCv1/HRnIUQ2dzXtzsTJmJmBAJoXsoS+9wlmcODPJi3yh3PfICQaBEI0I87uZ3gtDNTxRVKRShNHXu518JgbFcSDIWsuvoCC/2jbKkKQ0CBwayiGi51xf6Dko6U6CtPkExULpaxr/3ZWKPMoKSzRcZzBaJRaR8PwKF4WzB2eiBTKAkYxFWttdTLIYMZMZvllmquyO5Itm+UUQiJLwZvexZ1pIinRXygfqRjNA/mmdRY5LmVJxsoch3tx+lpS5Oa0OCVKLIYKZIxNeFUo+20ltvW/cQ9QnXoz+cztGcilEfjzKaKxIqHB3OkIzF2Nc3SkSEQwNjbD08TCEIiUWcKXMkW2SsEIBCKhEhJlJWNMVQ/QgxQxA6l/V9uSIr2+vLZurGZJSI95wq7Z5wZDjHlStaeej5o7TVx8uLLUtyJGJRFjUm2HFkiEd6homIGzHUxaN0Njqz7XC2QK4Y0lafYCRboH+0QCEIScQgGY/SO5Lj0ECGlvq4X6Sa4OhwHlHl4ECGTD4gVGd62rSnj94h5xQUi0AuCAnCkFg0SmdjnAODAYEqwUT7J7B5n1OE2ULIcMaZAuNuswX6RpxiHBjNgwi9w1nSYxHq41Ee3Hpk3BKKiZ54hcDPE+UCIoJ3qnGc7rYxZiLzrFh7ma69/e/Z2zcGin8hVJRMPgCEaERY2pKkP1MEheVtKXqHc4zmAm5+6VKe2p92r2Atuonz9vo4zxxMk84WqItHWdaS5OBgzpngwnCcGWg6qs2fAESB5e11KMJlXU0MZQr8eL+zXYfqIqlATFx89ZPmLXVxLlrcyKLGBD/Y3cdorlhWYBFxo5hIRGhIxPwaiiaODWc5OJglCJzJqK0+zuBoHolGKHq34kLozImrOxroaIjzYt8YfaMF6uLCSD6g6Huhy9vqyl5NhwezZdtvKY9RcU4JhfB4Iw9CYzJCOhu4UZa/OFTKL/GKR52n2fqlLezpHSk3zKFCQyLqy925+Ja8agVIxYVoJEI2H5RHrxPLn0nuQQRXV0Kd/B5JxE2yF4KQC7zn0pGhHBoqI/ki+aKzv2upDETQQCntXCU48100EiEZc4ohGRMGM0XyFV5kpWsn1hcF2urjLG5K+p0AlNF8sWz+TMUjgLCkOcUFi+rdGq+xPF0tSfpGCmQKgRuZJ6IM5wJef8UybrpsCXc/+iLxKDx7cIhdR907YwIFUahLRikGziNsWVsdhWIIEWFgNE+oIUHo61qk5M3m8pjx80zgFGJEnONMIfRzTxWZi4gbnSxpTrLfr8dqqUuM6wCWvBu7B8d4fG8/w7mAxmSMjsYEly5tpiEZc95c2SKZfJEIkIzHKAbOVFgMlEyhSCIWJRVzncuOxiTpsRwZP7eXLwaEKjQkY1x7QRu7jo4xksuTLbiJ+4goYzk3x7OsNcVQ1o0k3egH6hNRNqxq45kDaXb2DE+7+WmpfErWhohQbk9Kc3SlxbKt9XGKoRIR1zkomS47GhKM5ANeuqKVB5/roRgEDOcC5zCBqxPRSIRXrelg1aLGcRuDniDPFCYyUzCeFWsv04tu/3t60hlGC65MSo0tOBv1SM4t3soXjzdUsYhw0ZIm6pPH1068cHSY4VxAECiRCIQhBEAy6irCNPXnpPDzuidM+E6k1NMpNaAr2uporotzqH+M0YJ7EMtrK/y8UyIqBAqLm5KM5AKy+QKjBXUKIBbx8yIhGW/SaknFiAjkg5BoJEKoIclolBDXSDQkIkQk4kxJkQgaVu+Bn0zxRMU/cOI8hwJVzmt2yj9bCMsmI3wZxSNCqDruHkRwI9h8MXQjkdCVKScpy0yIR46buQqBe/Anmrl8dpxp0M3vk4gKnU1J2hoSHOwfYyBTnHFZlRqkRNSVRSFw97cYjDcHt6SiKM5MJ6Ll+1oqq6hAe32cV6xZRCQSIVco8syBNKOFwDWyoZKtpqFxZXxeS5LekTyFisKP4BtIPZ7nynyVFGZEjo/iK4mJ60QlI5DxGjkisLg5STIW4fLlbiL+By/0kS0EqLqRa0mhNafi9I25uSo/eDrh/4+3A+55aEq6ehaRCPkgBJRsQUnEhFAhFXNruEqjkEQsQjEMQSEaFRriUQpByIgvX8GZgouhlh1tprufM62XqZhziBCB+oRzzqmsb1HxzwegoVNMYQiRiFPwK9obuPPNl5/yHIwpGE/DsrXa+bY7TwiPiHvfRBAq+Sla8Qh+lFAzCeeGCNMrr+kQjlfYVMzN29Qnogxng1krr1RciPjEMhN69Scra0MiQr6o5Kd70s8wAmWlfrqinep9rYtBPOYs69lCEVRI+E7XVM/HXDBVQxwVN9IKvfIohif/7Apu9Kzh8ZHETDp785mYVziBuuf1Jcta+NJvv2LKODbJPwOKkzyxoboGazrO5ko1FbORr5IdfSwflhexDWVP9IA6HbKF2VEGCozMt5bSo1BegHq6nGoqmSJkipXbziv5/PxSxCWmkqo8iKqYMzuV9CtN3bNpmZgrigoRhXhMOK8lhVZ43p0KC/p9MCJyk4jsEJHdIvLeuZbHMAxjvhPiRmIaqt+D8dRZsApGRKLAPwI/A6wH3iIi6+dWKsMwjPlPyelm/WludrlgFQxwFbBbVfeoah74InDzHMtkGIYx74lGYOA036YLC3sOZhlwoOL3QeDqygtE5HbgdgCiMbrv+YMzJdu8IxhLE60/vd7K2cys57/SHen0zNjTp4+WnFRdh/EU/s/u/7mb/xPyrqCEAUFQWH/HvudmkMTKyU4sZAVT7TEbNw2nqncBdwGIyOZc966qnhDnAiKyuZg+avk/R7H8n7v5r2XeF7KJ7CCwouL3cuDwHMliGIZxzrGQFczjwEUislpEEsAtwDfmWCbDMIxzhgVrIlPVooj8DvAgbseOz6rqVPbEu86MZPMWy/+5jeX/3KVmebeV/IZhGEZNWMgmMsMwDGMOMQVjGIZh1ARTMCz8LWVEZIWIfF9EtovIcyLy+z68XUQ2isgu/91WEed9vjx2iMiNcyf97CEiURF5SkS+5X+fM/kXkVYR+YqIPO/rwbXnWP7f7ev+VhH5DxFJLeT8i8hnReSoiGytCDvp/IrIlSLyrD/3SZGT3JxMK97Gdi5+cA4ALwAXAAngGWD9XMs1y3nsAl7mj5uAnbjtcz4OvNeHvxf4mD9e78shCaz25ROd63zMQjn8IfDvwLf873Mm/8A9wG/44wTQeq7kH7foei9Q53/fB7x9IecfuA54GbC1Iuyk8wv8GLgWt67wfuBnTkYOG8GcA1vKqGq3qj7pj4eB7biH7mZcw4P/fr0/vhn4oqrmVHUvsBtXTmctIrIc+DngMxXB50T+RaQZ1+DcDaCqeVUd5BzJvycG1IlIDKjHrYlbsPlX1UeA/gnBJ5VfEekCmlV1kzpt8/mKODPCFEz1LWWWzZEsNUdEVgEvBR4DlqhqNzglBCz2ly3EMvk74E8Yv1P9uZL/C4Be4F+9ifAzItLAOZJ/VT0EfALYD3QDaVX9DudI/is42fwu88cTw2eMKZgZbCmzUBCRRuCrwB+o6tBUl1YJO2vLRER+Hjiqqk/MNEqVsLM2/7je+8uAT6vqS4FRnIlkMhZU/v1cw804889SoEFE3jpVlCphZ23+Z8Bk+T3tcjAFc45sKSMicZxy+YKqfs0H9/hhMP77qA9faGXySuAXReRFnAn0p0Xk3zh38n8QOKiqj/nfX8EpnHMl/68F9qpqr6oWgK8Br+DcyX+Jk83vQX88MXzGmII5B7aU8Z4fdwPbVfVvK059A7jNH98GfL0i/BYRSYrIauAi3GTfWYmqvk9Vl6vqKtz9fUhV38q5k/8jwAERudgHvQbYxjmSf5xp7BoRqffPwmtw85DnSv5LnFR+vRltWESu8eV2a0WcmTHX3g7z4QP8LM6z6gXg/XMtTw3y9yrc0HYL8LT//CzQAXwP2OW/2yvivN+Xxw5O0nNkPn+A6znuRXbO5B+4Atjs68B/AW3nWP7/Ange2Arci/OYWrD5B/4DN99UwI1E3nEq+QU2+DJ7AfgH/O4vM/3YVjGGYRhGTTATmWEYhlETTMEYhmEYNcEUjGEYhlETTMEYhmEYNcEUjGEYhlETTMEYhmEYNcEUjGEYhlETTMEsMERkVekdECKyTkSeEZEV/vcf+vdhbBWRP5gQJyMiT4vIfhH5Bx/+sIhs8McfFpERf/z20jX+90jF8R+LyOMiskVE/qIi/FYf9oyI3CsiF/r/e1pEgorjpf5/d4jINhH5kYgs9Wm8xm/W+Kx/30WySv7/XkSeFPfekw9X5O9/ffiTIvIKH369HH83zE+KyGMi0iIijSLyPX/tsyJys7+m0+ftKZ+PV/vwK7ycW0TkP/3eV6XyOyEfE+Qtl3FlWU4mQ5X4b/Hnt4rIxyacG/Fluq2iTpTrh//9RhH5nD9e6f9zi/8+34d/TkT2VtyjV4h7n8q/+v9+SkR+qops14tIuiLeIRG5Y6oym1BuT09W5yqufbuIPOHl+LqI1PvwE+q6jK/ne0TkE1OVtYj8tb/2iJf9aRH5oD83WT2f7Fm6yteZceWw4JnrFaf2mfUVvKtwK2+X4d7xcKkPvxJ4FmgAGoHngJf6cxcCW/zx24F/8McP41byLgY2ASM+/FbgHyv+sxR+A3AXbpO8CPAt3Dbxl+JWCC/y17VPkHlkwu/S/wrwTeAXgRRux9e1/prP4zbtnKwc2oBhH68eSPnwi4DN/vh6L+NP4HY3WOrDY7htygEW4bYvlwnp3w78hz/eAvykP/4g8HeT5aOKnA8DG6qU5UxkWIrbBqXTX/8Q8PqK86OVdWLisf/9RuBz/vibwG3++NeB//LHnwPeOOG//wj4V398iZcjNeGa6/G7Jvjf7wHumKrM/O//5fj7i0rl8XZ8vZzkfkd9vBuZpK5PKIclwLGZlDVwB/Ceit9V6/k0z9JXS2VYWQ4L/WMjmIVJI/AA8LCqPufDXgX8p6qOquoIbsO/V/tzdUB2ivT+L/CRit8HgctFZGL9ucF/ngKexDU8FwE/DXxFVY8BqOrE91RU4wu4l0StBL4LXIzbsHCnP38PTnmdgIh8EzgE/K2qZoE48C8i8izwZdwLlkosxb1I6R5VLW3kJ8BHRGSL/+9luAap1PPeCXwIuFNEWoBWVf2fSeSamI+qeS318nH3YkoZKng57h73qmrR/9d1Xs4YMDbJ/11Y8X9/XRF+Le6FbOC2U3nVJPHx5+4FUNXngX3A2imuLzODMpusPr7Zy/24uB2yS+n9P+AIrkPxv0xd1y/0+d4J/H+lJJi+rCuZrJ5PJXuAe9nfOYUpmIXJCuCvgJ8SkXU+bKpXnS5l8l1SVwGXqeo3K8Iexo1InvUPawkB/kpVr/CfNap6tw8/2T2JflXd5pTfAP5gGvnHoaq/gCuDnxP3sq13Az3A5bgRRaLi8kuA/wP8loh0lv4bNyq4UlWv8HFTPu2nVXWtl+k2pmdiPia75gr/X5npZKhgqjJZhVOy1Xih4v/+eIo0prpnJ/fq3JNjKW4frYl8ycv8K8A/lwJV9YO4t7bmcCOVqWR7wafRBbxFnPl4JmVdyWT1vCR7tWfpDuA9IrIbVx/PCUzBLEy2q+q/A78L/LOICPAI8HpxO8o2AG/A9fYA3gT8YJK0PuA/ZVQ1VNV3qOql/oEs8SDw6+LeO4OILBORxbiN9X5ZRDp8ePtJ5GUIZ7Z4HlglImt8+NuA/5l4sYi0+sMCrhfaAbQA3aoa+njRiigPqeo3cCO0Uo+2Bff+mIKfW1jp024SkVLcLE7xpoEB8fMxk8lVkY+ZUlWGCTwG/KSILPJyvaXiv9+EM92cDD/E7TYNrtF9dIprH/HXICJrgfNxnY5pmarMRORVwICqDkyRRD/OrFV5v0svklvL1HW9RA43qmhjZmVdyWT1HCZ/lo4AI7iR2p3TpL9giM21AEbtUNX/EZHngXeq6qfETeaWth3/jKo+JSIfx9mq/3GSZA6qe/3qTP7vO37EtMnpNEaAt6rqcyLyl8D/iEiAMy28fZrkviAiGVyP/ldUNSsivwZ82Zt/Hgf+qUq8L/uHvR64W1X3isingK+KyJuA7+NeuDVR9s+LyK+KyM/iTE3fFJHNuLmZ5/1llwJ3iYjieve/48NvA/7JTzDvAX5tsnxMk+dx+Z9EhkqZu0XkfT5PAnxbVb8uIr+IM+Ht96akBLBaRH4bZzqdjN8DPisif4x7A+avTXHtp3B5fhYoAm9X1dxJ5O+EMhORlwOfxM3/VOOXROQKnAm4NPL6U3/PUrh5nftUdXSSur6K4yayJLBRVbeIyGGmKetKJqvnIvIeqjxLvoP3OeDPVPWwj3NOYLspG8YCQ0TeDqCqn6sIuww3yXzH3EhlnIuYgjGMBYa4l0ahqnsrwlqAFaq6ddKIhjHLmIIxDMMwaoJN8huGYRg1wRSMYRiGURNMwRiGYRg1wRSMYRiGURNMwRiGYRg14f8HWGTffMQSXlIAAAAASUVORK5CYII=\n",
      "text/plain": [
       "<Figure size 432x288 with 1 Axes>"
      ]
     },
     "metadata": {
      "needs_background": "light"
     },
     "output_type": "display_data"
    }
   ],
   "source": [
    "x_values = pd.Series(range(0, len(orders['revenue'])))\n",
    "plt.scatter(x_values, orders['revenue'], alpha=0.5)\n",
    "plt.title('Точечный график стоимостей заказов')\n",
    "plt.xlabel('количество заказов на одного пользователя')\n",
    "plt.ylabel('руб')\n",
    "plt.xlim(0, 1050)\n",
    "plt.ylim(0, 300000)"
   ]
  },
  {
   "cell_type": "markdown",
   "id": "de630cfd",
   "metadata": {},
   "source": [
    "<div style=\"background-color:GhostWhite;padding:20px\">\n",
    "    \n",
    "- Стоимость отдельных заказов не превышает 50К.\n",
    "- БОльшая часть заказов на сумму не более 25К.\n",
    "    \n",
    "</div>"
   ]
  },
  {
   "cell_type": "markdown",
   "id": "eaad79fe",
   "metadata": {},
   "source": [
    "## Посчитаем 95-й и 99-й перцентили стоимости заказов. Выберем границу для определения аномальных заказов."
   ]
  },
  {
   "cell_type": "code",
   "execution_count": 29,
   "id": "78f8b789",
   "metadata": {},
   "outputs": [
    {
     "name": "stdout",
     "output_type": "stream",
     "text": [
      "[17990. 26785. 53904.]\n"
     ]
    }
   ],
   "source": [
    "#Посчитаем выборочные перцентили стоимости заказов\n",
    "\n",
    "print(np.percentile(orders['revenue'], [90, 95, 99]))"
   ]
  },
  {
   "cell_type": "markdown",
   "id": "cef1e90c",
   "metadata": {},
   "source": [
    "<div style=\"background-color:GhostWhite;padding:20px\">\n",
    "    \n",
    "Не более 5% заказов на сумму свыше 27000. Лишь 1% заказов на сумму свыше 54000. Разумно выбрать за нижнюю границу стоимости заказов 27000 и отсеять аномальные заказы по ней.\n",
    "\n",
    "</div>"
   ]
  },
  {
   "cell_type": "markdown",
   "id": "3c01672d",
   "metadata": {},
   "source": [
    "## Посчитаем статистическую значимость различий в конверсии между группами по «сырым» данным. Сделаем выводы и предположения."
   ]
  },
  {
   "cell_type": "markdown",
   "id": "ef95b328",
   "metadata": {},
   "source": [
    "**Двусторонняя проверка:** Конверсия групп А и В по «сырым» данным одинакова\n",
    "<p>Введем основную и альтернативные гипотезы:</p>\n",
    "\n",
    "$\\begin{equation*}\n",
    " \\begin{cases}\n",
    "   H_0 :\\text{Конверсия групп А и В по «сырым» данным одинакова}\\\\\n",
    "   H_1 :\\text{Конверсия групп А и В по «сырым» данным различается}\n",
    " \\end{cases}\n",
    "\\end{equation*}$\n",
    "\n",
    "Уровень значимости: $\\alpha = 0.05$\n",
    "\n",
    "Если p-value будет меньше выбранного уровня значимости $\\alpha = 0.05$, то нулевую гипотезу о равенстве средних отвергнем. Иначе сделаем вывод, что данные не позволили нам отвергнуть нулевую гипотезу."
   ]
  },
  {
   "cell_type": "code",
   "execution_count": 30,
   "id": "cc32af44",
   "metadata": {},
   "outputs": [
    {
     "name": "stdout",
     "output_type": "stream",
     "text": [
      "p-значение:  1.4496661752238628e-05\n",
      "Отвергаем нулевую гипотезу\n"
     ]
    }
   ],
   "source": [
    "alpha = 0.05\n",
    "\n",
    "results = stats.mannwhitneyu(cumulativeDataA['conversion'], cumulativeDataB['conversion'])\n",
    "print('p-значение: ', results.pvalue)\n",
    "\n",
    "if (results.pvalue < alpha):\n",
    "    print(\"Отвергаем нулевую гипотезу\")\n",
    "else:\n",
    "    print(\"Не получилось отвергнуть нулевую гипотезу\")"
   ]
  },
  {
   "cell_type": "markdown",
   "id": "3ef51ce2",
   "metadata": {},
   "source": [
    "*Отвергаем нулевую гипотезу => Конверсия групп А и В по «сырым» данным различается*"
   ]
  },
  {
   "cell_type": "markdown",
   "id": "6a736259",
   "metadata": {},
   "source": [
    "**Односторонняя проверка:** Конверсия группы В больше конверсии группы А по «сырым» данным\n",
    "<p>Введем основную и альтернативные гипотезы:</p>\n",
    "\n",
    "$\\begin{equation*}\n",
    " \\begin{cases}\n",
    "   H_0 :\\text{Конверсия групп А и В по «сырым» данным одинакова}\\\\\n",
    "   H_1 :\\text{Конверсия группы В больше конверсии группы А по «сырым» данным}\n",
    " \\end{cases}\n",
    "\\end{equation*}$"
   ]
  },
  {
   "cell_type": "code",
   "execution_count": 31,
   "id": "fcbf4298",
   "metadata": {},
   "outputs": [
    {
     "name": "stdout",
     "output_type": "stream",
     "text": [
      "p-значение:  7.248330876119314e-06\n",
      "Отвергаем нулевую гипотезу\n"
     ]
    }
   ],
   "source": [
    "alpha = 0.05\n",
    "\n",
    "results = stats.mannwhitneyu(cumulativeDataB['conversion'], cumulativeDataA['conversion'], alternative='greater')\n",
    "print('p-значение: ', results.pvalue)\n",
    "\n",
    "if (results.pvalue < alpha):\n",
    "    print(\"Отвергаем нулевую гипотезу\")\n",
    "else:\n",
    "    print(\"Не получилось отвергнуть нулевую гипотезу\")"
   ]
  },
  {
   "cell_type": "markdown",
   "id": "422f086c",
   "metadata": {},
   "source": [
    "*Отвергаем нулевую гипотезу => Конверсия группы В больше конверсии группы А по «сырым» данным*"
   ]
  },
  {
   "cell_type": "code",
   "execution_count": 32,
   "id": "39cf6071",
   "metadata": {},
   "outputs": [
    {
     "name": "stdout",
     "output_type": "stream",
     "text": [
      "Относительный прирост конверсии в группе В по отношению к группе А по «сырым» данным = 9.0%\n"
     ]
    }
   ],
   "source": [
    "#Посчитаем относительный прирост конверсии в группе В по отношению к группе А\n",
    "print('Относительный прирост конверсии в группе В по отношению к группе А по «сырым» данным =',\n",
    "      '{0:.1%}'.format(cumulativeDataB['conversion'].mean()/\n",
    "cumulativeDataA['conversion'].mean()-1))"
   ]
  },
  {
   "cell_type": "markdown",
   "id": "a33208a5",
   "metadata": {},
   "source": [
    "<div style=\"background-color:GhostWhite;padding:20px\">\n",
    "    \n",
    "- Результат непараметрического теста Манна-Уитни на «сырых» данных показал, что конверсия группы В больше конверсии группы А\n",
    "- Относительный прирост конверсии в группе В по отношению к группе А по «сырым» данным составляет 9%\n",
    "\n",
    "</div>"
   ]
  },
  {
   "cell_type": "markdown",
   "id": "b41ef265",
   "metadata": {},
   "source": [
    "## Посчитаем статистическую значимость различий в среднем чеке заказа между группами по «сырым» данным. Сделаем выводы и предположения.\n"
   ]
  },
  {
   "cell_type": "markdown",
   "id": "937e6906",
   "metadata": {},
   "source": [
    "**Двусторонняя проверка:** Средний чек у групп А и В по «сырым» данным одинаковый\n",
    "<p>Введем основную и альтернативные гипотезы:</p>\n",
    "\n",
    "$\\begin{equation*}\n",
    " \\begin{cases}\n",
    "   H_0 :\\text{Средний чек у групп А и В по «сырым» данным одинаковый}\\\\\n",
    "   H_1 :\\text{Средний чек у групп А и В по «сырым» данным различается}\n",
    " \\end{cases}\n",
    "\\end{equation*}$\n",
    "\n",
    "Уровень значимости: $\\alpha = 0.05$\n",
    "\n",
    "Если p-value будет меньше выбранного уровня значимости $\\alpha = 0.05$, то нулевую гипотезу о равенстве средних отвергнем. Иначе сделаем вывод, что данные не позволили нам отвергнуть нулевую гипотезу."
   ]
  },
  {
   "cell_type": "code",
   "execution_count": 33,
   "id": "d98496a4",
   "metadata": {
    "scrolled": true
   },
   "outputs": [
    {
     "name": "stdout",
     "output_type": "stream",
     "text": [
      "p-значение:  0.8294908998149533\n",
      "Не получилось отвергнуть нулевую гипотезу\n"
     ]
    }
   ],
   "source": [
    "alpha = 0.05\n",
    "\n",
    "results = stats.mannwhitneyu(\n",
    "    orders[orders['group']=='A']['revenue'], orders[orders['group']=='B']['revenue'], alternative='two-sided'\n",
    ")\n",
    "\n",
    "print('p-значение: ', results.pvalue)\n",
    "\n",
    "if (results.pvalue < alpha):\n",
    "    print(\"Отвергаем нулевую гипотезу\")\n",
    "else:\n",
    "    print(\"Не получилось отвергнуть нулевую гипотезу\")"
   ]
  },
  {
   "cell_type": "markdown",
   "id": "6af0d9f5",
   "metadata": {},
   "source": [
    "*Не получилось отвергнуть нулевую гипотезу => Нет причин считать, что средний чек у групп по «сырым» данным различается*"
   ]
  },
  {
   "cell_type": "code",
   "execution_count": 34,
   "id": "56e934de",
   "metadata": {
    "scrolled": true
   },
   "outputs": [
    {
     "name": "stdout",
     "output_type": "stream",
     "text": [
      "28.7%\n"
     ]
    }
   ],
   "source": [
    "print('{0:.1%}'.format(orders[orders['group']=='B']['revenue'].mean()/\n",
    "orders[orders['group']=='A']['revenue'].mean()-1))"
   ]
  },
  {
   "cell_type": "markdown",
   "id": "b2c3e550",
   "metadata": {},
   "source": [
    "<div style=\"background-color:GhostWhite;padding:20px\">\n",
    "    \n",
    "P-value значительно больше 0.05. Значит, причин отвергать нулевую гипотезу и считать, что в среднем чеке по «сырым» данным есть различия, нет. Впрочем, средний чек по «сырым» данным группы B почти на 29% выше среднего чека группы A.\n",
    "\n",
    "</div>"
   ]
  },
  {
   "cell_type": "markdown",
   "id": "9bed3cde",
   "metadata": {},
   "source": [
    "## Посчитаем статистическую значимость различий в конверсии между группами по «очищенным» данным. Сделаем выводы и предположения."
   ]
  },
  {
   "cell_type": "code",
   "execution_count": 35,
   "id": "82daafe1",
   "metadata": {},
   "outputs": [],
   "source": [
    "#Создадим переменные, в которых сохраним пользователей, которые заказывали хотя бы 1 раз, и укажем число совершённых заказов.\n",
    "ordersByUsersA = (\n",
    "    orders[orders['group'] == 'A']\n",
    "    .groupby('visitorId', as_index=False)\n",
    "    .agg({'transactionId': pd.Series.nunique})\n",
    ")\n",
    "ordersByUsersA.columns = ['visitorId', 'orders']\n",
    "\n",
    "ordersByUsersB = (\n",
    "    orders[orders['group'] == 'B']\n",
    "    .groupby('visitorId', as_index=False)\n",
    "    .agg({'transactionId': pd.Series.nunique})\n",
    ")\n",
    "ordersByUsersB.columns = ['visitorId', 'orders'] \n"
   ]
  },
  {
   "cell_type": "code",
   "execution_count": 36,
   "id": "f3a99f19",
   "metadata": {},
   "outputs": [
    {
     "name": "stdout",
     "output_type": "stream",
     "text": [
      "568     113298937\n",
      "1099    148427295\n",
      "928     204675465\n",
      "33      249864742\n",
      "684     358944393\n",
      "Name: visitorId, dtype: int64\n",
      "Итого аномальных пользователей 58\n"
     ]
    }
   ],
   "source": [
    "#Объявим переменные\n",
    "abnormalQuantity = 2\n",
    "abnormalValue = 27000\n",
    "\n",
    "#Сделаем срезы пользователей с числом заказов больше 27000\n",
    "usersWithManyOrders = pd.concat(\n",
    "    [\n",
    "        ordersByUsersA[ordersByUsersA['orders'] > abnormalQuantity]['visitorId'],\n",
    "        ordersByUsersB[ordersByUsersB['orders'] > abnormalQuantity]['visitorId'],\n",
    "    ],\n",
    "    axis=0,\n",
    ")\n",
    "\n",
    "#И пользователей, совершивших заказы дороже 27 000\n",
    "usersWithExpensiveOrders = orders[orders['revenue'] > abnormalValue]['visitorId']\n",
    "\n",
    "#Объединим их в таблице abnormalUsers.\n",
    "abnormalUsers = (\n",
    "    pd.concat([usersWithManyOrders, usersWithExpensiveOrders], axis=0)\n",
    "    .drop_duplicates()\n",
    "    .sort_values()\n",
    ")\n",
    "print(abnormalUsers.head(5))\n",
    "print('Итого аномальных пользователей',abnormalUsers.shape[0])"
   ]
  },
  {
   "cell_type": "code",
   "execution_count": 37,
   "id": "0f6e4a0b",
   "metadata": {},
   "outputs": [],
   "source": [
    "#Запишем в таблицу ordersFiltered отфильтрованный датасет без аномалий\n",
    "ordersFiltered = orders[np.logical_not(orders['visitorId'].isin(abnormalUsers))]"
   ]
  },
  {
   "cell_type": "code",
   "execution_count": 38,
   "id": "250419f4",
   "metadata": {},
   "outputs": [],
   "source": [
    "#создаем массив уникальных пар значений дат и групп теста\n",
    "datesGroupsFiltered = ordersFiltered[['date','group']].drop_duplicates()\n",
    "\n",
    "#cоберём агрегированные кумулятивные по дням данные о заказах\n",
    "ordersAggregatedFiltered = datesGroupsFiltered.apply(\n",
    "    lambda x: ordersFiltered[np.logical_and(ordersFiltered['date'] <= x['date'], \n",
    "                                            ordersFiltered['group'] == x['group'])]\\\n",
    ".agg(\n",
    "        {'date' : 'max', 'group' : 'max', 'transactionId' : 'nunique', 'visitorId' : 'nunique', 'revenue' : 'sum'}\n",
    "    ), axis=1\n",
    ").sort_values(by=['date','group'])\n"
   ]
  },
  {
   "cell_type": "code",
   "execution_count": 39,
   "id": "b9389be8",
   "metadata": {
    "scrolled": true
   },
   "outputs": [],
   "source": [
    "#Получим агрегированные кумулятивные по дням данные о посетителях интернет-магазина\n",
    "visitorsAggregatedFiltered = datesGroupsFiltered.apply(\n",
    "    lambda x: visitors[np.logical_and(\n",
    "        visitors['date'] <= x['date'], visitors['group'] == x['group']\n",
    "    )].agg({'date' : 'max', 'group' : 'max', 'visitors' : 'sum'}), axis=1\n",
    ").sort_values(by=['date','group'])"
   ]
  },
  {
   "cell_type": "code",
   "execution_count": 40,
   "id": "95cd788b",
   "metadata": {
    "scrolled": true
   },
   "outputs": [],
   "source": [
    "#Объединим обе таблицы в одну и дадим столбцам понятные названия\n",
    "cumulativeDataFiltered = ordersAggregatedFiltered.merge(\n",
    "    visitorsAggregatedFiltered, left_on=['date', 'group'], right_on=['date', 'group']\n",
    ")\n",
    "\n",
    "cumulativeDataFiltered.columns = ['date', 'group', 'orders', 'buyers', 'revenue', 'visitors']"
   ]
  },
  {
   "cell_type": "code",
   "execution_count": 41,
   "id": "737ac906",
   "metadata": {
    "scrolled": true
   },
   "outputs": [],
   "source": [
    "#Посчитаем кумулятивную конверсию\n",
    "cumulativeDataFiltered['conversion'] = cumulativeDataFiltered['orders']/cumulativeDataFiltered['visitors']\n",
    "\n",
    "#Отделим данные по группе A\n",
    "cumulativeDataAFiltered = cumulativeDataFiltered[cumulativeData['group']=='A']\n",
    " \n",
    "#Отделим данные по группе B\n",
    "cumulativeDataBFiltered = cumulativeDataFiltered[cumulativeData['group']=='B']"
   ]
  },
  {
   "cell_type": "markdown",
   "id": "0024d84a",
   "metadata": {},
   "source": [
    "**Двусторонняя проверка:** Конверсия групп А и В по «очищенным» данным одинакова\n",
    "<p>Введем основную и альтернативные гипотезы:</p>\n",
    "\n",
    "$\\begin{equation*}\n",
    " \\begin{cases}\n",
    "   H_0 :\\text{Конверсия групп А и В по «очищенным» данным одинакова}\\\\\n",
    "   H_1 :\\text{Конверсия групп А и В по «очищенным» данным различается}\n",
    " \\end{cases}\n",
    "\\end{equation*}$\n",
    "\n",
    "Уровень значимости: $\\alpha = 0.05$\n",
    "\n",
    "Если p-value будет меньше выбранного уровня значимости $\\alpha = 0.05$, то нулевую гипотезу о равенстве средних отвергнем. Иначе сделаем вывод, что данные не позволили нам отвергнуть нулевую гипотезу."
   ]
  },
  {
   "cell_type": "code",
   "execution_count": 42,
   "id": "85399aa7",
   "metadata": {
    "scrolled": false
   },
   "outputs": [
    {
     "name": "stdout",
     "output_type": "stream",
     "text": [
      "p-значение:  2.830155926118375e-09\n",
      "Отвергаем нулевую гипотезу\n"
     ]
    }
   ],
   "source": [
    "alpha = 0.05\n",
    "\n",
    "results = stats.mannwhitneyu(cumulativeDataAFiltered['conversion'], cumulativeDataBFiltered['conversion'])\n",
    "print('p-значение: ', results.pvalue)\n",
    "\n",
    "if (results.pvalue < alpha):\n",
    "    print(\"Отвергаем нулевую гипотезу\")\n",
    "else:\n",
    "    print(\"Не получилось отвергнуть нулевую гипотезу\")"
   ]
  },
  {
   "cell_type": "markdown",
   "id": "24f16638",
   "metadata": {},
   "source": [
    "*Отвергаем нулевую гипотезу => Конверсия групп А и В по «очищенным» данным различается*"
   ]
  },
  {
   "cell_type": "markdown",
   "id": "c4e3f819",
   "metadata": {},
   "source": [
    "**Односторонняя проверка:** Конверсия группы В больше конверсии группы А по «очищенным» данным\n",
    "<p>Введем основную и альтернативные гипотезы:</p>\n",
    "\n",
    "$\\begin{equation*}\n",
    " \\begin{cases}\n",
    "   H_0 :\\text{Конверсия групп А и В по «очищенным» данным одинакова}\\\\\n",
    "   H_1 :\\text{Конверсия группы В больше конверсии группы А по «очищенным» данным}\n",
    " \\end{cases}\n",
    "\\end{equation*}$"
   ]
  },
  {
   "cell_type": "code",
   "execution_count": 43,
   "id": "2125aa20",
   "metadata": {},
   "outputs": [
    {
     "name": "stdout",
     "output_type": "stream",
     "text": [
      "p-значение:  1.4150779630591875e-09\n",
      "Отвергаем нулевую гипотезу\n"
     ]
    }
   ],
   "source": [
    "alpha = 0.05\n",
    "\n",
    "results = stats.mannwhitneyu(cumulativeDataBFiltered['conversion'], \n",
    "                             cumulativeDataAFiltered['conversion'], \n",
    "                             alternative='greater')\n",
    "print('p-значение: ', results.pvalue)\n",
    "\n",
    "if (results.pvalue < alpha):\n",
    "    print(\"Отвергаем нулевую гипотезу\")\n",
    "else:\n",
    "    print(\"Не получилось отвергнуть нулевую гипотезу\")"
   ]
  },
  {
   "cell_type": "markdown",
   "id": "0cd66f23",
   "metadata": {},
   "source": [
    "*Отвергаем нулевую гипотезу => Конверсия группы В больше конверсии группы А по «очищенным» данным*"
   ]
  },
  {
   "cell_type": "code",
   "execution_count": 44,
   "id": "f6e35d3e",
   "metadata": {},
   "outputs": [
    {
     "name": "stdout",
     "output_type": "stream",
     "text": [
      "Относительный прирост конверсии в группе В по отношению к группе А по «очищенным» данным = 14.7%\n"
     ]
    }
   ],
   "source": [
    "#Посчитаем относительный прирост конверсии в группе В по отношению к группе А\n",
    "print('Относительный прирост конверсии в группе В по отношению к группе А по «очищенным» данным =',\n",
    "      '{0:.1%}'.format(cumulativeDataBFiltered['conversion'].mean()/\n",
    "cumulativeDataAFiltered['conversion'].mean()-1))"
   ]
  },
  {
   "cell_type": "markdown",
   "id": "aaa7d1df",
   "metadata": {},
   "source": [
    "<div style=\"background-color:GhostWhite;padding:20px\">\n",
    "    \n",
    "- Результат непараметрического теста Манна-Уитни на «очищенных» данных показал, что конверсия группы В больше конверсии группы А\n",
    "- Относительный прирост конверсии в группе В по отношению к группе А по «очищенных» данным составляет 15.0%\n",
    "\n",
    "</div>"
   ]
  },
  {
   "cell_type": "markdown",
   "id": "1ba9755d",
   "metadata": {},
   "source": [
    "## Посчитаем статистическую значимость различий в среднем чеке заказа между группами по «очищенным» данным. Сделаем выводы и предположения."
   ]
  },
  {
   "cell_type": "markdown",
   "id": "804277c1",
   "metadata": {},
   "source": [
    "**Двусторонняя проверка:** Средний чек у групп А и В по «очищенным» данным одинаковый\n",
    "<p>Введем основную и альтернативные гипотезы:</p>\n",
    "\n",
    "$\\begin{equation*}\n",
    " \\begin{cases}\n",
    "   H_0 :\\text{Средний чек у групп А и В по «очищенным» данным одинаковый}\\\\\n",
    "   H_1 :\\text{Средний чек у групп А и В по «очищенным» данным различается}\n",
    " \\end{cases}\n",
    "\\end{equation*}$\n",
    "\n",
    "Уровень значимости: $\\alpha = 0.05$\n",
    "\n",
    "Если p-value будет меньше выбранного уровня значимости $\\alpha = 0.05$, то нулевую гипотезу о равенстве средних отвергнем. Иначе сделаем вывод, что данные не позволили нам отвергнуть нулевую гипотезу."
   ]
  },
  {
   "cell_type": "code",
   "execution_count": 45,
   "id": "176f78ba",
   "metadata": {
    "scrolled": true
   },
   "outputs": [
    {
     "name": "stdout",
     "output_type": "stream",
     "text": [
      "p-значение:  0.6458964038091206\n",
      "Не получилось отвергнуть нулевую гипотезу\n"
     ]
    }
   ],
   "source": [
    "alpha = 0.05\n",
    "\n",
    "results = stats.mannwhitneyu(\n",
    "    ordersFiltered[ordersFiltered['group']=='A']['revenue'], \n",
    "    ordersFiltered[ordersFiltered['group']=='B']['revenue'], \n",
    "    alternative='two-sided'\n",
    ")\n",
    "\n",
    "print('p-значение: ', results.pvalue)\n",
    "\n",
    "if (results.pvalue < alpha):\n",
    "    print(\"Отвергаем нулевую гипотезу\")\n",
    "else:\n",
    "    print(\"Не получилось отвергнуть нулевую гипотезу\")"
   ]
  },
  {
   "cell_type": "markdown",
   "id": "749cd96a",
   "metadata": {},
   "source": [
    "*Не получилось отвергнуть нулевую гипотезу => Нет причин считать, что средний чек у групп по «очищенным» данным различается*"
   ]
  },
  {
   "cell_type": "code",
   "execution_count": 46,
   "id": "cd15f372",
   "metadata": {
    "scrolled": false
   },
   "outputs": [
    {
     "name": "stdout",
     "output_type": "stream",
     "text": [
      "-4.8%\n"
     ]
    }
   ],
   "source": [
    "print('{0:.1%}'.format(ordersFiltered[ordersFiltered['group']=='B']['revenue'].mean()/\n",
    "ordersFiltered[ordersFiltered['group']=='A']['revenue'].mean()-1))"
   ]
  },
  {
   "cell_type": "markdown",
   "id": "ef9c4693",
   "metadata": {},
   "source": [
    "<div style=\"background-color:GhostWhite;padding:20px\">\n",
    "    \n",
    "P-value значительно больше 0.05. Значит, причин отвергать нулевую гипотезу и считать, что в среднем чеке по «очищенным» данным есть различия, нет. Хотя отметим, что средний чек по «очищенным» данным группы B на 5% ниже среднего чека группы A.\n",
    "    \n",
    "Видимо все аномально большие заказы были в группе В.\n",
    "</div>"
   ]
  },
  {
   "cell_type": "markdown",
   "id": "957cd952",
   "metadata": {},
   "source": [
    "# Вывод"
   ]
  },
  {
   "attachments": {
    "image-17.png": {
     "image/png": "iVBORw0KGgoAAAANSUhEUgAAAfEAAAEWCAYAAAB2c65HAAAMbmlDQ1BJQ0MgUHJvZmlsZQAASImVVwdYU8kWnluSkJAQIICAlNCbIFIDSAmhBZBeBBshCSSUGBOCir0sKrh2EQEbuiqi2FZA7NiVRbH3xYKKsi7qYkPlTUhA133le+f75t4/Z878p9yZ3HsAoH/gSaV5qDYA+ZICWUJ4MHN0WjqT9BSQAALowB448PhyKTsuLhpAGbj/Xd7dgLZQrjoruf45/19FVyCU8wFAxkKcKZDz8yE+DgBexZfKCgAgKvVWkwukSjwbYj0ZDBDiVUqcrcLblThThQ/32yQlcCC+DIAGlceTZQOgdQ/qmYX8bMij9RliV4lALAGAPgziAL6IJ4BYGfuw/PyJSlwOsT20l0IM4wGszO84s//GnznIz+NlD2JVXv2iESKWS/N4U//P0vxvyc9TDPiwhYMqkkUkKPOHNbyVOzFKiakQd0kyY2KVtYb4g1igqjsAKEWkiEhW2aMmfDkH1g8YQOwq4IVEQWwCcZgkLyZarc/MEodxIYa7BZ0iLuAmQWwI8UKhPDRRbbNRNjFB7Qutz5Jx2Gr9OZ6s36/S1wNFbjJbzf9GJOSq+TGtIlFSKsQUiK0LxSkxEGtB7CLPTYxS24wsEnFiBmxkigRl/NYQJwgl4cEqfqwwSxaWoLYvyZcP5IttFIm5MWq8r0CUFKGqD3aKz+uPH+aCXRZK2MkDPEL56OiBXATCkFBV7thzoSQ5Uc3zQVoQnKBai1OkeXFqe9xSmBeu1FtC7CEvTFSvxVMK4OZU8eNZ0oK4JFWceFEOLzJOFQ++DEQDDggBTKCAIxNMBDlA3NrV0AV/qWbCAA/IQDYQAme1ZmBFav+MBF4TQRH4AyIhkA+uC+6fFYJCqP8yqFVdnUFW/2xh/4pc8BTifBAF8uBvRf8qyaC3FPAEasT/8M6Dgw/jzYNDOf/v9QPabxo21ESrNYoBj0z6gCUxlBhCjCCGER1wYzwA98Oj4TUIDjechfsM5PHNnvCU0EZ4RLhOaCfcniCeK/shylGgHfKHqWuR+X0tcFvI6YkH4/6QHTLjBrgxcMY9oB82Hgg9e0ItRx23sirMH7j/lsF3T0NtR3Ylo+Qh5CCy/Y8rtRy1PAdZlLX+vj6qWDMH680ZnPnRP+e76gvgPepHS2whth87i53AzmOHsQbAxI5hjVgLdkSJB3fXk/7dNeAtoT+eXMgj/oe/gSerrKTctda10/Wzaq5AOKVAefA4E6VTZeJsUQGTDd8OQiZXwncZxnRzdXMDQPmuUf19vY3vf4cgBi3fdPN+B8D/WF9f36FvushjAOz1hsf/4DedPQsAHU0Azh3kK2SFKh2uvBDgvwQdnjQjYAas4LvMGbgBL+AHgkAoiASxIAmkgfEwehHc5zIwGUwHc0AxKAXLwGpQATaAzWA72AX2gQZwGJwAZ8BFcBlcB3fh7ukAL0E3eAd6EQQhITSEgRgh5ogN4oS4ISwkAAlFopEEJA3JQLIRCaJApiPzkFJkBVKBbEJqkL3IQeQEch5pQ24jD5FO5A3yCcVQKqqHmqK26HCUhbLRKDQJHYdmo5PQInQ+ugQtR6vRnWg9egK9iF5H29GXaA8GME3MALPAnDEWxsFisXQsC5NhM7ESrAyrxuqwJvicr2LtWBf2ESfiDJyJO8MdHIEn43x8Ej4TX4xX4NvxevwUfhV/iHfjXwk0ggnBieBL4BJGE7IJkwnFhDLCVsIBwml4ljoI74hEogHRjugNz2IaMYc4jbiYuI64m3ic2EZ8TOwhkUhGJCeSPymWxCMVkIpJa0k7ScdIV0gdpA8amhrmGm4aYRrpGhKNuRplGjs0jmpc0Xim0UvWJtuQfcmxZAF5KnkpeQu5iXyJ3EHupehQ7Cj+lCRKDmUOpZxSRzlNuUd5q6mpaanpoxmvKdacrVmuuUfznOZDzY9UXaojlUMdS1VQl1C3UY9Tb1Pf0mg0W1oQLZ1WQFtCq6GdpD2gfdBiaLlocbUEWrO0KrXqta5ovaKT6TZ0Nn08vYheRt9Pv0Tv0iZr22pztHnaM7UrtQ9q39Tu0WHojNCJ1cnXWayzQ+e8znNdkq6tbqiuQHe+7mbdk7qPGRjDisFh8BnzGFsYpxkdekQ9Oz2uXo5eqd4uvVa9bn1dfQ/9FP0p+pX6R/TbDTADWwOuQZ7BUoN9BjcMPg0xHcIeIhyyaEjdkCtD3hsONQwyFBqWGO42vG74yYhpFGqUa7TcqMHovjFu7GgcbzzZeL3xaeOuoXpD/Ybyh5YM3Tf0jglq4miSYDLNZLNJi0mPqZlpuKnUdK3pSdMuMwOzILMcs1VmR806zRnmAeZi81Xmx8xfMPWZbGYes5x5itltYWIRYaGw2GTRatFraWeZbDnXcrflfSuKFcsqy2qVVbNVt7W59Sjr6da11ndsyDYsG5HNGpuzNu9t7WxTbRfYNtg+tzO049oV2dXa3bOn2QfaT7Kvtr/mQHRgOeQ6rHO47Ig6ejqKHCsdLzmhTl5OYqd1Tm3DCMN8hkmGVQ+76Ux1ZjsXOtc6P3QxcIl2mevS4PJquPXw9OHLh58d/tXV0zXPdYvr3RG6IyJHzB3RNOKNm6Mb363S7Zo7zT3MfZZ7o/trDycPocd6j1ueDM9Rngs8mz2/eHl7ybzqvDq9rb0zvKu8b7L0WHGsxaxzPgSfYJ9ZPod9Pvp6+Rb47vP908/ZL9dvh9/zkXYjhSO3jHzsb+nP89/k3x7ADMgI2BjQHmgRyAusDnwUZBUkCNoa9IztwM5h72S/CnYNlgUfCH7P8eXM4BwPwULCQ0pCWkN1Q5NDK0IfhFmGZYfVhnWHe4ZPCz8eQYiIilgecZNryuVza7jdkd6RMyJPRVGjEqMqoh5FO0bLoptGoaMiR60cdS/GJkYS0xALYrmxK2Pvx9nFTYo7FE+Mj4uvjH+aMCJhesLZREbihMQdie+SgpOWJt1Ntk9WJDen0FPGptSkvE8NSV2R2j56+OgZoy+mGaeJ0xrTSekp6VvTe8aEjlk9pmOs59jisTfG2Y2bMu78eOPxeeOPTKBP4E3Yn0HISM3YkfGZF8ur5vVkcjOrMrv5HP4a/ktBkGCVoFPoL1whfJbln7Ui63m2f/bK7E5RoKhM1CXmiCvEr3MicjbkvM+Nzd2W25eXmrc7XyM/I/+gRFeSKzk10WzilIltUidpsbR9ku+k1ZO6ZVGyrXJEPk7eWKAHP+pbFPaKnxQPCwMKKws/TE6ZvH+KzhTJlJapjlMXTX1WFFb0yzR8Gn9a83SL6XOmP5zBnrFpJjIzc2bzLKtZ82d1zA6fvX0OZU7unN/mus5dMfeveanzmuabzp89//FP4T/VFmsVy4pvLvBbsGEhvlC8sHWR+6K1i76WCEoulLqWlpV+XsxffOHnET+X/9y3JGtJ61KvpeuXEZdJlt1YHrh8+wqdFUUrHq8ctbJ+FXNVyaq/Vk9Yfb7Mo2zDGsoaxZr28ujyxrXWa5et/VwhqrheGVy5u8qkalHV+3WCdVfWB62v22C6oXTDp43ijbc2hW+qr7atLttM3Fy4+emWlC1nf2H9UrPVeGvp1i/bJNvatydsP1XjXVOzw2TH0lq0VlHbuXPszsu7QnY11jnXbdptsLt0D9ij2PNib8beG/ui9jXvZ+2v+9Xm16oDjAMl9Uj91PruBlFDe2NaY9vByIPNTX5NBw65HNp22OJw5RH9I0uPUo7OP9p3rOhYz3Hp8a4T2SceN09ovnty9Mlrp+JPtZ6OOn3uTNiZk2fZZ4+d8z93+Lzv+YMXWBcaLnpdrG/xbDnwm+dvB1q9WusveV9qvOxzualtZNvRK4FXTlwNuXrmGvfaxesx19tuJN+4dXPszfZbglvPb+fdfn2n8E7v3dn3CPdK7mvfL3tg8qD6d4ffd7d7tR95GPKw5VHio7uP+Y9fPpE/+dwx/yntadkz82c1z92eH+4M67z8YsyLjpfSl71dxX/o/FH1yv7Vr38G/dnSPbq747Xsdd+bxW+N3m77y+Ov5p64ngfv8t/1vi/5YPRh+0fWx7OfUj896538mfS5/IvDl6avUV/v9eX39Ul5Ml7/pwAGB5qVBcCbbQDQ0gBgwL6NMkbVC/YLoupf+xH4T1jVL/aLFwB18Ps9vgt+3dwEYM8W2H5BfjrsVeNoACT5ANTdfXCoRZ7l7qbiosI+hfCgr+8t7NlIKwH4sqyvr7e6r+/LZhgs7B2PS1Q9qFKIsGfYGPolMz8T/BtR9aff5fjjHSgj8AA/3v8FeoWQ7Qn2MjAAAAA4ZVhJZk1NACoAAAAIAAGHaQAEAAAAAQAAABoAAAAAAAKgAgAEAAAAAQAAAfGgAwAEAAAAAQAAARYAAAAA8hyUiQAAM3JJREFUeAHtnQncbdXcx+/VrKTiRpOeSkWZItOL3FSmUqGol95G8RJ6JeQlF2XMrF5DchuQSIMkEk8kSpMGROo23dJV0YBUer+/59kru9OZbs+995zd+f4/n++z1l57Wvu71t7r7H3Oc860aYYGNKABDWhAAxrQgAY0oAENaEADGtCABjSgAQ1oQAMa0IAGNKABDWhAAxrQgAY0oAENaEADGtCABjSgAQ1oQAMa0IAGNKABDWhAAxrQgAY0oAENPNgMzOGA/g631XgveUMDGtCABjSggSE3MIf6bT7kdbR6GtCABjSggZEz8JApHvFs1j+gto2Tyd8Di1dlK5F+FebCzXA8JP4CubP/B9xd5TP9GhiDbGNPyHrXwT5QYikyn4bMC8mnLDET/gX1pwZvZDoxB/aD30DqknotDYkV4SSYB5mX/OpQYpzMP2HlUkB6DKSej63KZlfTG1XTST5WlZUXQc9g+heQ478OPg9LQrsYo7Cbh17b2pD1T4Wb4E/wbkjMgjuh7ij7GYPEbPgCZN1b4XRYE0o8jkzZ7qXkX1VmVOkepPU2rTvKIrvBbyGefwD1bTM50U7lyU+cH5XCKrYivQDi70x4EpSYQ6Z4TlnqMZ5MFfV6PIay7KO+7dczfSXEy+2Q5TtFfVtbs9DVsHa18MNJj4D0pWzvPfAQKDGTTL2PJl/qPZv8AVDiZDLZ1+JVQX2/KapPL8X0QXAVpL3ThstAiW3IxN0t8Ed4MbwDSj9IPYr3S8gnZkPaIMukHx0KpS69+h+L3hvrkEtfSX9K3erHuCXT50PqFY+zoMQYmfrx51xO3R4BiV0hfSnbvRzShiWeQ+YKSN2z3TdBiVXJnAg5psvgdVBiFplyfqSfHQcPg3Yxi8KjajPiJvUdq8q6HVu1yH2S1CP1Sb1Sv9SzHmcwkWtmjilppkuMk9mjTJBuDnNq048nPw45pjhMvy0xm0xp59If0o8Tveo0udS/r9tl/aTxOKssQNprW3NYpvTB1OcoSMyEa5JpE936Vo6h07m4C/PKdSp978ewGiS6jQe9zple5+EY208fKZ5Shz0g8VDIuJL2z/w4mA1TjjlsYfMOW5lN+QHVvJmkEV0/6b7H9DchUpaA50M9dmHijHoB+THINr4By8ITYR6UOnyA/C9hZZgBuZh/EBIzIXVoF3MovBjWgJXg53AAJHJReCVEYk7Yb8HxUGKcTC4W+1YFjyTNBTH1fGxVNps0yxxcTed4M309lLo/jfyzYHEYg8zfG9rFGIXdPHTbVo7hOtgHloZMPxMSs+CoZKpIXbKfsWp6NumtsAmkQ34GzoBE2iMXxF0h6z0V/gwbQonXkflJmSCtO9qW6VykckHJ+u+BtF89rmJis6pgFulRVT77ugFyHIvBzjAHUsfEHNg8mSr2IB0vE6T1ehzO9DVQtp3jysk0ExKPhSzfKcq2ns8CcyF9tMQRZE6AOB+D38PuUOIFZOKwxBwym1cTs0kPqPIzSa+B7GtxSGSgXW8iN/mn1CNTn4YTIX07+/4ufBgSGXD/ClvAQyAXq8dBPeYwUepRymeTKfV5NPnrIC+kEt363+QS//6b+qwD02EtyDlRnM2s8qnXkyCDfPpJYgzK8e9APgP16lBiSzJlu2mLv0H6SSLXhrLsRuQzrwxMp5M/BHJuPAXmwWaQmAVHJUMsDxfAXploE7MoK8tm9uKQ+o5BYibkONsdG8X3iRcwlXMp9U+f/hz8FOqRa9bOVcEupGdU+STjsEcyVWxOOqfK51qU8+7dsCRkXznH14fEbDggmZbop05llTEypa1K2VFkZlUT/WzrKpZt1w4zKb+m2k5r0q1vHcHCnc7FXZh3RrWx9IPvw0HV9CNIXwmdxoNqsQm/m5eJKu12HmaRtSGeFssEMQ57JEO8AX4NpZ8eQH42dI2HdJ3b/8zpLPox2L+2yirkXwKp2M2QV2U5efqN97Pg7XARfBV2hMRr4AOQC3pOviy3E/QTn2ehqyGvdA6Ess0byR8LOdHTuTPv+VCPdIiyn/8if2R9ZpXPRTSNugy8DH4EecVc4lwyv4S7YA58EVr3Q9F9opOHbtvKhfZ6+ARk/zmms6Df+B4L/hTugP+FZ0Ne/GS7cyDtkWM4D46F7aBEjj2vINvF6yn8MOTFS9b/EOQiuiaUyEWm3fqvozy+chwZcA+H1O9ZMD+RgSLHk/VL5DzIALl4KegjzcCQ9k5/TB9N5MR8NewHcT4H0gal35CduIi2O77MKzGdTOv5lHlXwRbJtESWj5//gfTt7DtuM/AldofD4FTIcV4Lv4P5iRxb9nNjtdK5pP325dTnj3APZBt/grmQGIf4S70uhG9A6znxYsq+Ai+Ba6BE+mnZ7unkfwjPq2bm2lCWzT4vhVxP1oDnwjsh50YG6UNhJ2iNHHP6Rjnm1vm9psdZoNexlW2kH6WNck6lX6cPPRvGoES3c6ss0y7NObIcfATS934MJ8GO0C36qVO39evz+tlWp3O/vp3WfKe+1c+5WLaVNq63c9r7WOg2HpR162n6WbfzMMvmGNPX785ES2T9kLr3Han4gohXsZEceDpHiZwsuaBkAH8gcXVtpSvJr1pNJ810ifq8UtYp7bTNvOL6ImRbt8BPYQWoy8xF4ffwPMgJfwS0xp0UfBcyqO0OuTjUYz0mcvJkgM1+PgSPhG7Rqc7dthX3f+y20R7z6vu8jWXTjvGewfaZ8JcaOTkfDSWSj6t2kfU/A2X9bHc6rAaJ5OO9XZ/JuvtAWTdpjrP0C7ITT0/K/M+moE18lLL3QtqqRC4Eaa+0aU7cXEh7Rdr2D1AfVNOWOUnTj0okX44vZStBu+PLvBLtzqfM2wvi4K+Q4ywxg0z68LlQjv8U8ilPTKU/vJ31s830iV/AryDRrf9NLnHfv49hMvW+DM6AOE+kP/0E0mcy/w3Qek7E9Rx4PtQjg/ovIf0odXwp1Nd9LtPZz1lwPNwF6S9Zvuyf7ER71dso/rO91CkD/3ehU5Rls/yfWxbq59jKKqlXvd/cxnSuqfV6dTu3sp30+dQjHA8lsu20XwaPEq39spTX037qVF++W77Xtqaz8grQ6dzI+jmuzD8fXgQl2vWt9INe5+KzWCbbDGvBbEj0Mx5MLnnfv73Owyzd7fw/nPk5v8q58Pas0CsWxCC+BDv5IOSVbT3SaVLhNMwDiVx4SqSR5lYTSXNBL1GfV8o6pZ22uQ8rrA856ZaHTSCRjlWPXEw+B5dBRLeLLPMOeAT8umWB/2P6d7AuZD/vhtZ9UHSf6FTnbtuK+3Xus5X5m6jvM6/g047xnu2eDmnTQub/N5TYiEzrcZd5Wf/1UNZNugycCYm0a+6GL89ES2TdA6G+bk62b9SW27Y2/y218pJ9AZmc3MeUglp6HPk7YVN4aq28U3ZvZmwFu0NZPhfxbKO1f15LWYn1yPy+TLRJO51PWfQkWBseDvFQIvv9O2wIxU+WSdsk4m6didz8/zmIVbLNh8GSsC8kuvW/ySXu+/cqJlOnDEoZjOMt8XU4EdLnMv8L0HpO5I7x1ZD2L31zKfLHQur3KEgdT4b6unmxkHpvAOmjL4G5kP6c8hK5htTbKP0j20v/ugg+AZ2iLJvl07fq0c+xleVTr3q/WZbpXENKvTKAhwuhU6TPpx5h29pC2Xa81a/3rcdcW/zebK863btgH5le2+p27mfzWT/HlbbLNfhwKNGub+Wc6HUu5gVgtrk0HAWzIbEP9DMeTCxc+5N9djsPs+h60On8/xvzco5fDGn79O2eUW/Ungt3WGAnys+E1s51HWXfh0NgRVgCyuBItme8lyVyEuXCtCt8ExK5aL8H8qonJ83+kAboJ97EQqtDOkIG0LLNnNCR/xfIvPdBu/ghhefBp9rNrMoySJ8CH26zTPZzC9wGj4NcWHpFJw/dtpWOkBN+b1gKsuwzod94KQs+F5aED8JZkIEg200nTJunPcPT4fGQeCKkjb+ViTbxBcr2g7RpIhft7Sdyk3WM9zhOZ26NL1PwBshx5EK9LGwJObZ+YxYLZhC6p80KH6XsRMix9hM/Y6Hr4e3wVYiLuyEX9QMh9VoT3galf25Afjc4HjpF3LY7nzotn/J/QfykX64MiQyWL5rITT6Kzjm0GeScz7z0v/mJHFu85bxL5Pj67cvlnMt66VOLQc63RLZzE/wDngH/Ca0R1xfDZyFPzBLZTvr2PLgLXgIvhBJrk1mumshyOe7s82qI3w/D0vAk2B2+Bq0Rr/Vjbp3fa7qfYyvb+DqZtNFTIPX9EKQvzoFEBugfww2ZmM/Idm6Hd0D66Ux4GRwN3aJXnbqt2zqv27bi6X3Q6dyvbyvtket02jPRqW/1Ohcn1578m21m+XrfTl/JflaC1K2f6HUersFG3gqdzv9cD9PHXwfp031FEdHXwh0WygD93g7zdqL8TvgdpPPtDf3G6Sx4GZwGeUWSBk4cAOfAhXARZFBNWT+RjpTtXF5R1vs008vAn+GXcAq0izTSbnBmu5m1sgwUJ9SmSzYX/FykboVcdL8JvaKTh27byva3gJyo18MfYFPoN+IpHTcX16fBayCR7b4QdoC5kG1/FHLReQycD/GYC+5tFST3Po48jnyWz8XjFshyL4HE5yAnzB6ZaBNp83Tuz8PNkL6xC8xPpH7jbVZ4DmV5QfDuNvN6FR3JAhkYyrpvJp8LZvrYGRCXh0FedKTvZRDKQN8pup1PndZJ+TshTtJ/4/ZHsD4kzoYMEJ+Cv0L61JrQT+TCn7ZMW+d6kfZLvB367ctPZNm4T/85E06GeEu8ET4Ambc/dHPzYeavAjtDls/AluXTH1KXE6HETDK/h9T9JMixj0NiRxiDuXAcpK+fCiVeTSbr3QgbwLvhgcT8HFuuc7mOHgvXwTqQ8yyR/e8Hz4PUK3wBng391O2fLLc15FzLNe4Q+C/4HXSLbnXqtl67ed221evcz/YeDddU5Lq9OyS69a03M7/duTixIn/iLy5zTrwC9oJEv+PB5NL3/dvtPPwBi45D+mK7+DiF34Gz281sUtkYlb0HFl/AlZ7D9jZfwNtcmJsbY+MLw0OvOs9mgZwk8xtjrDDeYaUMKIYGNPDADMxitV3arPpcyma1KbdohAwsiDvxEdLloXYxcBfz8mizXXQqb7esZRrQwH0N5MlK7ihb4w4KMs/QwFAZGKM2C+MOdA7b9U4cCT1iNvMfyJ14j806WwMa0IAGNKABDWhAAxrQgAY0oAENaEADGtBAkw1Mb3Llh6Xuj3jEI+4ZGxsblupYDw1oQAONMHDuuefm0/IzGlHZIa3k4kNar0ZVKwP4OefkP6AMDWhAAxro18D06dOv7HdZl2tvwE+nt/diqQY0oAENaGDoDTiID30TWUENaEADGtBAewMO4u29WKoBDWhAAxoYegMO4kPfRFZQAxrQgAY00N6Ag3h7L5ZqQAMa0IAGht6Ag/jQN5EV1IAGNKABDbQ34CDe3oulGtCABjSggaE34CA+9E1kBTWgAQ1oQAPtDTiIt/diqQY0oAENaGDoDfiNbQNuorF3fW9gNZjzkS0Htm93rAENaEADUzfgnfjUHboFDWhAAxrQwEAMOIgPRLs71YAGNKABDUzdgIP41B26BQ1oQAMa0MBADDiID0S7O9WABjSgAQ1M3YCD+NQdugUNaEADGtDAQAw4iA9EuzvVgAY0oAENTN2Ag/jUHboFDWhAAxrQwEAMOIgPRLs71YAGNKABDUzdgIP41B26BQ1oQAMa0MBADDiID0S7O9WABjSgAQ1M3YCD+NQdugUNaEADGtDAQAw4iA9EuzvVgAY0oAENTN2Ag/jUHboFDWhAAxrQwEAMOIgPRLs71YAGNKABDUzdgIP41B26BQ1oQAMa0MBADDiID0S7O9WABjSgAQ1M3YCD+NQdugUNaEADGtDAQAw4iA9EuzvVgAY0oAENTN2Ag/jUHboFDWhAAxrQwEAMOIgPRLs71YAGNKABDUzdgIP41B26BQ1oQAMa0MBADDiID0S7O9WABjSgAQ1M3YCD+NQdugUNaEADGtDAQAw4iA9EuzvVgAY0oAENTN2Ag/jUHboFDWhAAxrQwEAMOIgPRLs71YAGNKABDUzdwKgM4v+DqkvgYvgGLA0rwanwhypdkbTEfmQug0vhRaXQVAMa0IAGNDBMBkZhEF8N4W+BjeEJsBjsAO+C02DdKs10YgPI/A3hxXAIZB1DAxrQgAY0MFQGFh+q2nSvzGc7zM4A3StynMvAnfBQmAu5254JicNhHN4J28DRcAdcAbkjfwb8AgwNaEADGtDA0Bhowp34WytbW5FuAnksfm4Nsl3jWuYeBFfBdfBX+CE8qpommShfORkid+5XT+Qm/1xTldWKJrJ78vecMG/evNZ5TmtAAxrQgAYWuoEmDOL/WVlYj/TLsAcsAUdC7qB7Rd7rzt31WrAqLAuvhU4xvc2Me9qUfYmyPKLfeMaMGW1mW6QBDWhAAxpYuAaaMIjfWim4i/RgyN14Rs0zYTvoFZuzQB6L53Y5j9O/A/8Bf4JVIJH0honctGm5816jyidZHebWps1qQAMa0IAGhsLA4kNRi+6VKHfiF7FYuSPO3fLD4ZvQ60NneYz+LMh74X+HzSCPwW+HneEjVXoCaeJE+Dp8EnLnng++nQ2GBjSgAQ1oYKgMNGEQL3fIeU/8gcRZrPRtOA9yN38+5FH4cnAM7A4Z6LeHxCWQ8t9Aln8T3A2GBjSgAQ1oYKgMNGEQL8KuJPNcyJ3xVyGP1DMQ9xPvY6FQj3z6PHfl7eJACoOhAQ1oQAMaGFoDTXhPvMjLIJx/AduvKliC9Kgqb6IBDWhAAxoYOQNNGsRfTutsDXkvO5EPmz1sIucfDWhAAxrQwAgaaNIg/k/a556KNFX+VczQgAY0oAENjKyBJg3i+bDZF2EFeB38CPJ/44YGNKABDWhgJA006YNtB9FCW8AtsD7sD6eCoQENaEADGhhJA00axPOrY+XrVktjpeymMmGqAQ1oQAMaGCUDTRrE873n10K+6CXvjZd0bfKGBjSgAQ1oYOQMNGkQz5evbDRyLeQBa0ADGtCABjoYaNIgnq9ZzQ+Z5Eta8u9l5RvVyBoa0IAGNKCB0TPQpEH8dJrnlZDfBc93mq8J+ZT698HQgAY0oAENjJyBJg3iu7a0zmOZPh4cxFvEOKkBDWhAA6NhoEn/J97aIpdRkH85MzSgAQ1oQAMjaaBJg/h6tNBpcHHVUk8izS+QGRrQgAY0oIGRNNCkQTzfzpYfP7mzaqkLSXeo8iYa0IAGNKCBkTPQpEH8obTO2S0tlN/7NjSgAQ1oQAMjaaBJg/ifaaF1IF/0ktgO8gUwhgY0oAENaGAkDTTp0+lvooW+BI+DfHPbFfAaMDSgAQ1oQAMjaaBJg/jfaKHNIT9BmicIt4KhAQ1oQAMaGFkDTXqcfnLVSreTOoCPbJf1wDWgAQ1ooBho0iBe6myqAQ1oQAMa0AAGmvQ4Pf8Xnt8SL1F+xWz5UmCqAQ1oQAMaGCUDTRrEL6Jh/BWzUeqdHqsGNKABDXQ14OP0rnqcqQENaEADGhheA00axPMLZoYGNKABDWhAA5WBJj1Oz2+I53/FN4Slq/on2a2WN6sBDWhAAxoYGQNNuhM/klZ5NLwI8tviq4P/aoYEQwMa0IAGRtNAkwbxx9JE74X8n/jhsCU8EQwNaEADGtDASBpo0iBefr3sL7TUE+DhMAaGBjSgAQ1oYCQNNOk98Xxv+oqQu/ETYTnYHwwNaEADGtDASBpo0iB+aNVCeT987ZFsLQ9aAxrQgAY0UDPQpMfpG1DvveBR8AX4NvjlL0gwNKABDWhgNA00aRD/Ok20PpwFv4JjoNydkzU0oAENaEADo2WgSYN46vpm+Cd8BTKIN6n+VNfQgAY0oAENLDgDTXpPPB9kewWkzi+HDOD++AkSDA1oQAMaGE0DTRrE84G2l0HSravm+mmVmmhAAxrQgAZGzkCTBvFdp9A6K7Bu3j9/AtwDu8Gl8E0YgznwKrgZEvvB7nA3vAV+AIYGNKABDWhgqAw06T3lfM3qcXAD/AmOhZT1E59hoVPgcfBk+C28C06Ddas004l8Cn4HyHe0vxgOgcXA0IAGNKABDQyVgSYN4l/FXL7kZVVYDb4LKesVed98E8iH4RL5YFy+9W0bOBwSSbedyE2WH03+DrgCLoNngKEBDWhAAxoYKgNNGsRnYC6D9l0Vs0lT1ivWZoF5kHXPh0NhWcj/m18HiaQrT+QmXyBcXeWTXAN50dAae1JwTpg3L5s3NKABDWhAA4vWQJMG8T+j5rWQR9sh+RuhV+R9/6fC/0G+HCY/oFIenZO9X0y/X8nk++itxfka2I3DjBn9vJZoXd1pDWhAAxrQwNQMNGkQ341DzYfProfcOW8HKesVuZMO+ZKYxLchg3reV18FEknzXnsiy64xkZv8szpJfsvc0IAGNKABDQyVgSYN4ldhLv9altvePPrOe9hXQq/IoJ/H4+tXC25G+hvI++s7V2VJT6jyKc8H25aCtSAffDsbDA1oQAMa0MBQGcij5qbEK6joPnAgvBHy6fG3QgbdXpFvevsaLAmXw66QFzDHwO6QFwjbQ+ISSHkG+rvgTZB/NTM0oAENaEADQ2WgSYP4+zH3Nsjj8BdCPmV+BPQziF/Acnn/ujVyV94u8kIhGBrQgAY0oIGhNdCkQTyD9qmQR+Pl/e3cKRsa0IAGNKCBkTSQR8pNifzfdmLTyWTi0XiVNdGABjSgAQ2MnoEmDeL/UTVP/Z+y84UthgY0oAENaGAkDTTpcXppoHxqfCfIh9SOLIWmGtCABjSggVEz0MRB/MtVI91E+i3I95sbGtCABjSggZEz0MRB/Im0Ur55LfHzycS/GtCABjSggdEz0KRBfKWqefI+/oowvaIqNtGABjSgAQ2MloEmDeLn0jT3QAbv86pmyrShAQ1oQAMaGEkDTRrE1xrJFvKgNaABDWhAAx0MNGkQz7e1tYtPtiu0TAMa0IAGNPBgN9Ck/xPfl8Z4WBse7G3k8WlAAxrQgAbaGmjSnXh+fvT9bY/CQg1oQAMa0MAIGmjSIL427XM8/APy+97597JjwdCABjSgAQ2MpIEmDeL5itXFYBlYFfaATSA/R2poQAMa0IAGRs5Akwbx01ta5zCmj2gpc1IDGtCABjQwMgaaNIinUR4FT69a52zS11R5Ew1oQAMa0MDIGWjSp9NfRetk4N4eks9vim8HhgY0oAENaGAkDTTpTvx/aaHchd9QtdQM0h/Bt6tpEw1oQAMa0MBIGWjSnXjqWgbwNNKN0KT6p86GBjSgAQ1oYIEZaNKd+Ckc9Q/gG9XRv5r05CpvogENaEADGhg5A00axPeldV4Jz4H8CMqX4DgwNKABDWhAAyNpoEmDeBooX+7iF7yMZFf1oDWgAQ1ooNVAkwbxu6j832oHkLvx/BTp8rUysxrQgAY0oIGRMdCkQfwiWmWjkWkZD1QDGtCABjTQw0CTPt2du25DAxrQgAY0oIHKQJPuxB9KnXMnnsfo9TivPmFeAxrQgAY0MCoGmjSI56dIP9nSMLk7f0FLmZMa0IAGNKCBkTDQpEF805FoEQ9SAxrQgAY00KeBJr0n3uchuZgGNKABDWhgNAw4iI9GO3uUGtCABjTwIDTgIP4gbFQPSQMa0IAGRsNAk94TX4Im+W/YpGqa00m/AHdW0yYa0IAGNKCBkTLQpEH8/2iZDOSHVC20E2nK9qimTTSgAQ1oQAMjZaBJg3h+S/zJtdb5Mflf16bNakADGtCABkbKQJPeE7+bllmn1jprk0+ZoQENaEADGhhJA00axPNTpD+Bccj74bkT3wf6icVY6Hw4qVp4JdJT4Q9VumJVnmQ/uAwuhReBoQENaEADGhhKA016nH4aBteF9SFfvfo7uAP6ibey0G+h/OLZu8hnex+B5MM7YQPYATaEVeFHsB54x48EQwMa0IAGhstAk+7EH426LeD38FI4ENaEXrE6C2wJh9YW3Ib84dV00m2rfMqPhrw4uAJyR/4MMDSgAQ1oQANDZ6BJg/h3sLcn/BLyYyh/gq9Dr/g0C7wD/lVb8FHk813siaQrT+SmTVuN9Ooqn+QaSFm7SF3OCfPmzWs33zINaEADGtDAQjXQpEE8j8K3hofDe+HjkMG8W2zFzBvg3G4L1eblMX1r5EdW2sWXKNw4zJgxo918yzSgAQ1oQAML1UCT3hPPh9OeCnnUnZ8kzQuQpaFbPIeZGfjz+D3L5oXAUZC7+FUgd+FJM9Ancue9xkRu8k8exc+tTZvVgAY0oAENDI2BJt2JZ+D9BGTg/SQcBNdDt9iPmRmIxyAfWMsn2l8LJ8LOkEh6wkRusjzLLQVrQT5IdzYYGtCABjSggaEz0KQ78QyuvQbtfgV/hAWPgd3hKtgeEpdAyn8Dd8GbwE+mI8HQgAY0oIHhM9CkQfxk9OVx+gONcVYMiRths4nc/f/kU+/B0IAGNKABDQy1gSY9Th9qkVZOAxrQgAY0sKgNNOlO/EnIuaUmKJ8kzyfH82E1QwMa0IAGNDByBpo0iF9E6+RT6YYGNKABDWhAAxjwcbrdQAMa0IAGNNBQA00axF/ZUMdWWwMa0IAGNLBQDDRpEH8fBlaoWcgvjx1WmzarAQ1oQAMaGCkDTRrE88G2v9Ra52byvkdeE2JWAxrQgAZGy0CTBvHUNXffJVYi06QP5pV6m2pAAxrQgAYWiIEmDYL5ytUz4duQfy17FfilLEgwNKABDWhgNA00aRA/gibKT3++API/4q+AfD2qoQENaEADGhhJA016nJ4GyiP02+FzkB/xzo+UGBrQgAY0oIGRNNCkQTyfTn8n5JfJEkvAURM5/2hAAxrQgAZG0ECTBvGX0z5bQ+7EE/md74dN5PyjAQ1oQAMaGEEDTRrE/0n75ANtIbHsZOJfDWhAAxrQwGgaaNIgnt/5/iLkC19eBz+CL4OhAQ1oQAMaGEkDTfp0+kG00BaQXzJbH/aHU8HQgAY0oAENjKSBJg3iaaAM2g7cI9lVPWgNaEADGmg10KRB/FYqX94Pz3H4e+Ktrem0BjSgAQ2MlIEmvSeeT6IvX/FH0jI9Ug3mwWpAAxrQgAaKgSYN4qXOSZv0BKFeb/Ma0IAGNKCBBWagSYNhvqUt8WQ4ayLnHw1oQAMa0MAIG2jSIJ7vTf8XfAfGwdCABjSgAQ2MtIEmDeKHj3RLefAa0IAGNKCBFgNNGsTrn07PJ9MT+bR6PuxmaEADGtCABkbOQJM+2PYZWudi2BHyyXQ/nY4EQwMa0IAGRtdAkwbx99BM28CL4DR4Dhga0IAGNKCBkTXQpMfpT61aaTZpfkf8ELgatgJDAxrQgAY0MHIGmjSIf6KldW5i2l8ya5HipAY0oAENjI6BJg3im45Os3ikGtCABjSggd4GmjSIf7bD4bylQ7nFGtCABjSggQe1gSYN4vlQW35+1NCABjSgAQ1oAANNGsRvpL5+4YvdVgMa0IAGNFAZaNIg/jjqfAH8A+bCz+HgaprE0IAGNKABDYyWgSYN4o+naRaDZWBV2B4OhdeCoQENaEADGhg5A00axK+stc4l5E+Fj9bKzGpAAxrQgAZGykCTvrEtDZOfId2rIvl3Qq9YgwV+Ar+FDP5vhcRKkBcCf6jSFUlL7EfmMrgU8g1xhgY0oAENaGDoDDRpEM/g+zVYueIo0jdDr7iLBfaBPI5/FrwJNoB3Qb6+dd0qzXQi83aADeHFkG+Gy2N8QwMa0IAGNDBUBpr0OH13zD0Tbq8M5lH6L+Bz1XSn5DpmhER+CS135KvBNjATEvnU+zjkzj7lR8MdcAXkjvwZkH0ZGtCABjSggaEx0KQ78elYu7tmLvmUzU+MsfBGcBY8CsrgnjR3+IkM8PlO9hLXkEmZoQENaEADGhgqA026E/8q5jL4HlcZ3Jb0sCrfT7IcCx0Le8MtXVZo98Igv1veGntSEKbNmzevdZ7TGtCABjSggYVuoEmD+CexMQ7PhQy0u8L50E8swUIZwPOe+neqFf5EugrkLjzpDZDInXc+DFdidTJzy0Qt/RL5MG3GjBntBvnaomY1oAENaEADC95Akx6n55H2eZDvUP8MZAB/A/SKDPhfgbwXnhcCJU4ks3M1kfSEKp/yfLBtKVgL8sG3s8HQgAY0oAENDJWBJg3i38NcvrUtsT6cDk/JRI94DvN3ghdAvvEtvBQ+AlvAH6o004n8G9ox8Bs4BfJp9rz/bmhAAxrQgAaGykCTHqfviLmj4SewKbwFfgq94gwWyN14u9isXSFlB1Z0mG2xBjSgAQ1oYPAGmnQnnsfhuYPOHXXumvsZwFnM0IAGNKABDTw4DTRpEL+IJsjj7eXhSLiwgsTQgAY0oAENjJ6BJj1O32r0mscj1oAGNKABDXQ20KRB/MrOh+EcDWhAAxrQwOgZaNLj9NFrHY9YAxrQgAY00MWAg3gXOc7SgAY0oAENDLMBB/Fhbh3rpgENaEADGuhiwEG8ixxnaUADGtCABobZgIP4MLeOddOABjSgAQ10MeAg3kWOszSgAQ1oQAPDbMBBfJhbx7ppQAMa0IAGuhhwEO8ix1ka0IAGNKCBYTbgID7MrWPdNKABDWhAA10MOIh3keMsDWhAAxrQwDAbcBAf5taxbhrQgAY0oIEuBhzEu8hxlgY0oAENaGCYDTiID3PrWDcNaEADGtBAFwMO4l3kOEsDGtCABjQwzAYcxIe5daybBjSgAQ1ooIsBB/EucpylAQ1oQAMaGGYDDuLD3DrWTQMa0IAGNNDFgIN4FznO0oAGNKABDQyzAQfxYW4d66YBDWhAAxroYsBBvIscZ2lAAxrQgAaG2YCD+DC3jnXTgAY0oAENdDHgIN5FjrM0oAENaEADw2zAQXyYW8e6aUADGtCABroYcBDvIsdZGtCABjSggWE24CA+zK1j3TSgAQ1oQANdDDiId5HjLA1oQAMa0MAwG3AQH+bWsW4a0IAGNKCBLgYcxLvIcZYGNKABDWhgmA0sPsyVs24a0MDUDYy963tT38gD2MKcj2z5ANZyFQ1oYH4MeCc+P7ZcVgMa0IAGNDBEBhzEh6gxrIoGNKABDWhgfgw4iM+PLZfVgAY0oAENDJEBB/H2jfFiii+Fy+Bd7RexVAMa0IAGNDBYA36w7f7+F6PoYNgCroFfwYnwGzA0oAENDJ2BQX14MSL8AONgu4N34vf3/wyKcgd+OfwTjoZtwNCABjSgAQ0MlYHpQ1Wb4ajMdlQjj9P3qKqzE+kzYa9quiR7kgmJ9SGP3x9IPJKV/vxAVlzI61iv+RM8rL5yFMNaN+v14OhjU2nHNVEwY/40uLQGuhvYntmH1hbJIP652vSCzp6zoDe4gLZnveZP5LD6ylEMa92s14Ojjw1rO86f3YYu7eP0+zdc3gdfo1a8Ovm5tWmzGtCABjSggaEw4CB+/2bIB9nWhbVgSdgB8sE2QwMa0IAGNDBUBvJJbOO+Bv7F5B/ga/BmOAqOhYUZ5y7MjU9h29Zr/uQNq68cxbDWzXo9OPrYsLbj/Nl1aQ1oQAMa0IAGNKABDWhAAxrQgAY0oAENaEADGtCABjSggfkxcBgL3wAXd1gp/6P/WcgXy1wIT4USC/NrX3vV6zVUIvUJZ8KTocQcMhfBBbCg/62kV71mss+/VvvO/veHEoP0tS+VSH1C2vpuWAkSc2Bh+cp/UPwEfguXwFuhNQbRx/qp1yD6WD/1monARd3H+qnXIPrY0rg4G34N6V/vh9YYRP9qrYPTGlhoBjZhyxmYOw3iL2Xe9yEnwrPgLEjkw4Z/hLUhn47PSbQBLKjoVa//YEcrVjt7CWmpV4rmQL7YYWFEr3rNZKcntdnxoH3Vq/QyJn5cK5hDfmH5WoVtp38lHga/h9Z+Mog+1k+9BtHH+qnXTBwu6j7WT72o1r2xqPpYrkvLVXtdgjTXgVyn6jGI/lXfv3kM+C9mC68b/JRN39Rl8/kq1yPgHvglrAA5oRf21772qlfuvm+GROqV/5NfFNGrXp3qMGhf9XrtyMQ36gULMX8d2z6v2v6tpLkjX62aLskg+lg/9RpEH+unXsVba7ow+9j81mtR9bFcl26rRGQQDymrxyD6V33/5jHwEC0MzEAuuFfX9p4vmUlZp/Laoossuzt7ytOCEjmJfwj5d5I9S+EiTJ/NvvJkInXasNrvsPh6KPXJY/1jq3olWVS+xtjXRlB/asJkx760qJyNUYd29UrdSgyij42x8071GmQf61av+FrUfSxPufI20Q1wKgxb/6JKxuIqGJiBPK5qjVz0O5W3LruwpzdlB7nAPre2o+eQnwsrQ07q30HuoBdF5K5zTcjdQR7jHQ/rwrD4ymPOn0P96cui8JVHnnnhsDfcAvXo5KZTeX3dqea71atsexB9rFu9BtnHutWr+FrUfexudvwUWAGOgyfAxVCiUz/qVF7WM12ABrwTX4Ay53NTnb7etVP5fG5+Sos/ibUPhTwuu7G2pQzgibwyz0mdx4yLKjJAlcd7J5PP471HwjD4ohoT3+z3jWRqsbB9xUEG8K/Bd2r7LdlObjqVl/WmmvaqV7Y/iD7Wq16D6mO96lXaI98euaj7WPb9FxiHPGmqR6d+1Km8vq55DTTCwBi1rL9yrVd6SybqH2w7u5q5OOnlsBYsCXl8XB4dk10gMcZWOtXrMczLJ+bz4aN6LMvEw6qC5M+E1pO6mv2AkzHW7FSvRzOvvMLPi4erqulB+6Ia0x4ON0G8lFjYvuLiCPh02WGbdEvKFnUf66deg+hj/dRrEH2sn3qlaRd1H5vBPnMHnlgGfgZbZaIWg+hftd2b1cDCNZBXzPnQyp2QV6Z5NP2GCpKJAelg0nwSPf+GtDGUyOPifNo48/63FC6gtFe9cgd+M1xQcU6137VJ84Ii5F9OFnW99qr2m/3/EuovMgbpi6pM2wWOTqYWC9tX3ubI2y8XQmmreBh0H+unXoPoY/3UaxB9rJ960ayLvI/lScn5kP6VF9b7Q2LQ/WuyFv7VgAY0oAENaEADGtCABjSgAQ1oQAMa0IAGNKABDWhAAxrQgAY0oAENaEADGtCABjSgAQ1oQAMa0IAGNKABDWhAAxrQgAY0oAENaEADGtCABjSgAQ1oQAMPAgNjHEP5xrTHk88Xq6wBibdB5oW9ocQYmb9DvnAk36L2eUiMw8bJEAfAbRO5yS+tKMukqJQnvy/8CvIFE++HEv9FJmWpz5GwDpQvOMn3O5f8quTH4VL4DeRLYVKW2Azy5RX5Yp3DYClojc9RcB7kO+FT58QY/AxSHsqXzMwkfxIkng/5cYh8q9ZycBpk2exrG0jkG7BybKlDjuN5kHgKpJ45vuNgRUiMQ7vjyLwS42Q2LhOkxWWnOtQWncjuyN/U8WL46ETJv/9kW/Eaj5mfGIOSz/R2MDsZIt9rn+POcSTNt7IlZsMVUNoo/paGr0L2HR+bQmvMpOCvUNa7lvwsSHRylnnjEG9ZL8eQ2AU+n0xL7ML0uZB6nAAPhcTbIMcZ9obEGJR+fjn5gyDRyfXHmZc6XA+pe/IfgESnfj7GvLKP+rmUbyhMn8k26h6YNDSgAQ3828AY2Vy4VoNcNDaExNMgF7plIRetfGPbRpDIgJoLd2IXKBfLcfIbw8rwC7gNEhmQD57ITf4p5S9k8kswHR4CJ8EmkDrkovxISKw0mdz7t6xfCsbJbAzZzndha8igcTWsB4kjoFycJwpa/qzI9K2Q9XJhT5pYF86ZyE2bNpM0dXwi5OJaXiwsTn55SKTOl0HqUo89mcg35yXiLi8CEh+AT0/k/v0iqH4c1ax7k3FyOdYSt1WZfuqQ+l4FeXGR5X8M20KJ26vMGOnFbfIp2g5mJ0PE9c4TuWnTdiM9vsrPJs1y9diHiQziicdB6lEcpywxE05Kpoq3k86q8p2cZfbP4KnVcrdV6S6kn6/y7ZLFKMx6L4KnwUXQ2tfHKLsYEo+CP0/kJt11a+9ZLJe6l+jUzzN/HcixJXaBUud8P/52kMi2ZiVjaCAGHqIGDbQYyCB9CoxDButEvhoyd4m5sN8G34FyJ5nvVf4HdIr3MuNDtZnXkH8ytPa9XNxC7szOg1zcM2i+AL4N5aJ5E/le8TUWuALWhB/B+tX070kTh0NeILSLDEbXwichx7UEfBlyYf8WbAAlMhB+H7K9uVVhBt0cby7G2XdeEOWin3gKpA4fhE/Bw2EFOB0SrfVqPY7Jpe77N8tcUJG2SHSrw+QS06Y9ncw4zIO7INspTjKo/w3aRQaasr+P1xZ4NvmvV9NHkqbPdIrMyzKJPPW4EtbLRB/Ry1mn/vhqtp16/wq2qu1nf/LXw63wM0jdjoN2fb0ce9rwM5Dox/XkkpN/X0gSzod6P8/cTnW/m3nldwuynKGBew20XkjvnWFmZA2swZF/GDaFx1cWcqHqFBnI5naYOUb5EyADY4lxMrmzzqCYi2qJ7CP7fUrFY0m/Aim/B+YnXsPCY3Ai7A3d6s/s+8TLmIqDLWF5+B/4EzwZNoYloUReaLwRXg8zqsLsO/mnQY4l65a7zBzvepA67Qy9ovU42i2fZbKf8PdqgW51qBbp6mSMha4tC7akf2S67G/flnn1yW5tNj/tUd9mP/n0x+vaLPhNylLv/4Qv1uZ/gPwqcAfk6VK3upVjz/I7QvpJP65Z7N7I9tv18yzQ6VyaxbzcgV8G6Y+GBu414CB+rwozlYHfkn4d3gxfhFx0fgrbQh4tLwsvh9y1JLaHn0/k7v/nfRSFevyLid1hQ8hFtcQPyOwGy1UFq5HmUfxp8Cp4BCRWmkz6+nsLSz0Scrc3BnlhkNgJTp/I3ffPCtXknaS5e84+c+eXQSH1znqLQYkfk8kLhQ/BZ6rCLH8DZBubwpqQyJ1UWTd3+Hlx81e4GZ4HiU71KscxuVTvv53qUF/zLCaeD/GTemVQKk7SpifB/MSZLLxDtUIGtjO6rJz+lGUSeVHzGLg0E31EN2e5i47P0CnyJCdPGhKlvdO2idSlW1+fWIg/d8DdsCL045rF7o1O/TwLdDqX8qTgNtgEPgWGBu41UDrzvQVmNFAZyAU9g99/wyEwG86GxKFwPnwMMqgfDO3iGgpzUewnfshCj4dfVAvnovVauAQOhNQnF87sdxfoFl9jZu5KQ+68MmjuCt+C9PlfwRegNTI/LxzyYuUrcAXk2I+FXGB/ArdDaxxBQQall0L2/V04By6AOExsCF+Ceyr2Ik3sDKlL9nk5pJ4lWo+jlPdKO9Whvl5emOwHOabpcDKcAFvDB+Eq2AqWhLXgDXAKdIq3MOMw2BfmQf04mLxPxGmO+SK4C3aBDIz9RjtnT2flz8JuHTbyCsrzonE5SB0T74S0WZ6UXAjHQNp3NpwNidLXx8ivA2nTpeBUyDpzoV17U9w2OvXzt7P0snBwy1ppm9nwbsi+DA1oQAMa0EBHA7swJ9TjCUzMqheY14AGhsPAYsNRDWuhAQ0MiYE8rr4S/lKrT+6Sr4UbamVmNaABDWhAAxrQgAY0oAENaEADGtCABjSgAQ1oQAMa0IAGNKABDWhAAxrQgAY0oAENaEADGtCABjSgAQ1oQAMa0IAGHhQG/h+/g9rX50p+kAAAAABJRU5ErkJggg=="
    },
    "image-18.png": {
     "image/png": "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"
    },
    "image-19.png": {
     "image/png": "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"
    },
    "image-20.png": {
     "image/png": "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"
    },
    "image-5.png": {
     "image/png": "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"
    },
    "image-6.png": {
     "image/png": "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"
    },
    "image-7.png": {
     "image/png": "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"
    },
    "image-8.png": {
     "image/png": "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"
    },
    "image-9.png": {
     "image/png": "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"
    }
   },
   "cell_type": "markdown",
   "id": "2d10c631",
   "metadata": {},
   "source": [
    "<div style=\"background-color:GhostWhite;padding:20px;border:solid LightSteelBlue 0.5px\">\n",
    "\n",
    "**Задачами данного исследования были:**\n",
    "- приоритизизация гипотез, \n",
    "- выполнение A/B-тестирования,\n",
    "- анализ результатов.\n",
    "\n",
    "**Для решения данных задач нами были выполнены следующие шаги.**\n",
    "\n",
    "1. Мы провели изучение и предобработку данных:\n",
    "    - привели типы данных в соответсвие со значениями, \n",
    "    - убедились в отсутсвие явных дубликатов, \n",
    "    - удалили всех пользователей, которые попали в обе группы,\n",
    "    - убедились в кол-ве групп и проверили кол-во пользователей в каждой из них.\n",
    "2. Выполнили приоритизацию гипотез методами ICE и RICE и установили, что:\n",
    "    - Наиболее перспективные гипотезы по ICE: 8, 0, 7, 6, 2 (по убыванию)\n",
    "    - Наиболее перспективные гипотезы по RICE: 7, 2, 0, 8, 6 (по убыванию)![image-20.png](attachment:image-20.png)\n",
    "3. Построили график кумулятивной выручки по группам. На основание графика сделали выводы:\n",
    "    - Выручка увеличивается в течение всего теста;\n",
    "    - В течение 20 дней выручка в обеих группах росла почти равномерно;\n",
    "    - После 20-го дня выручка группы В резко увеличилась.![image-8.png](attachment:image-8.png)\n",
    "4. Построили график кумулятивного среднего чека по группам. На основание графика сделали выводы:\n",
    "    - Средний чек группы В значительно выше среднего чека группы А;\n",
    "    - Резкий рост среднего чека группы В после 20-го дня.![image-7.png](attachment:image-7.png)\n",
    "5. Построили график относительного изменения кумулятивного среднего чека группы B к группе A. На основание графика сделали вывод о том, что датасет содержит выбросы.![image-6.png](attachment:image-6.png)\n",
    "6. Построили график относительного изменения кумулятивной конверсии группы B к группе A. На основание графика сделали выводы:\n",
    "    - Первые 5 дней теста конверсия группы А была выше группы В; \n",
    "    - Начиная с 6-го дня теста, конверсия группы В после резкого скачка значительно опережает группу А.![image-5.png](attachment:image-5.png) ![image-9.png](attachment:image-9.png)\n",
    "7. Построили гистограмму и точечный график количества заказов по пользователям:\n",
    "    - большинство покупателей заказывали только один раз; ![image-17.png](attachment:image-17.png)\n",
    "    - отдельные пользователи с 2-3 заказами.![image-18.png](attachment:image-18.png)\n",
    "8. Посчитали 95-й и 99-й перцентили количества заказов на пользователя:\n",
    "    - не более 5% пользователей оформляли больше чем 1 заказ;\n",
    "    - лишь 1% пользователей заказывал более 2-х раз;\n",
    "    - установили 2 заказа на одного пользователя нижней границей числа заказов.\n",
    "9. Построили точечный график стоимостей заказов и установили, что\n",
    "    - стоимость отдельных заказов не превышает 50К;\n",
    "    - бОльшая часть заказов на сумму не более 25К.![image-19.png](attachment:image-19.png)\n",
    "10. Посчитали 95-й и 99-й перцентили стоимости заказов:\n",
    "    - не более 5% заказов на сумму свыше 27000;\n",
    "    - лишь 1% заказов на сумму свыше 54000;\n",
    "    - взяли за нижнюю границу стоимости заказов 27000.\n",
    "11. Провели непараметрический тест Манна-Уитни на «сырых» данных, результат которого показал, что конверсия группы В больше конверсии группы А.\n",
    "12. Установили, что относительный прирост конверсии в группе В по отношению к группе А по «сырым» данным составляет 9%.\n",
    "13. Провели непараметрический тест Манна-Уитни на «сырых» данных, в результате которого не получилось отвергнуть гипотезу о том, что средний чек у групп одинаковый.\n",
    "14. Установили, что средний чек в группе В по «сырым» данным выше почти на 29%.\n",
    "15. Очистили данные от аномалий. За аномалии приняли кол-во заказов больше 2-х и стоимость заказа больше 27000.\n",
    "16. Провели непараметрический тест Манна-Уитни на «очищенных» данных, результат которого показал, что конверсия группы В больше конверсии группы А.\n",
    "17. Установили, что относительный прирост конверсии в группе В по отношению к группе А по «очищенным» данным составляет 15%.\n",
    "18. Провели непараметрический тест Манна-Уитни на «очищенных» данных, в результате которого не получилось отвергнуть гипотезу о том, что средний чек у групп одинаковый.\n",
    "19. Установили, что средний чек в группе В по «очищенным» данным ниже группы А на 5%.\n",
    "\n",
    "    \n",
    "</div>"
   ]
  },
  {
   "cell_type": "markdown",
   "id": "c65aae5a",
   "metadata": {},
   "source": [
    "# Рекомендации"
   ]
  },
  {
   "cell_type": "markdown",
   "id": "afe51a22",
   "metadata": {},
   "source": [
    "<div style=\"background-color:GhostWhite;padding:20px;border:solid LightSteelBlue 0.5px\">\n",
    "    \n",
    "**Рекомендации отделу маркетинга для увеличения выручки интернет-магазина**\n",
    "\n",
    " 1. Если показатель охвата (REACH) для бизнеса не важен:\n",
    "    - Следует сфокусироваться на гипотезах: 8, 0, 7, 6, 2 (по убыванию);\n",
    "    - В ином случае следует сфокусировать внимание на наиболее перспективных гипотезах по RICE: 7, 2, 0, 8, 6 (по убыванию)\n",
    " \n",
    "2. Следует остановить А/В тест и зафиксировать победу группы В, так как:\n",
    "    - хотя у нас и не получилось отвергнуть гипотезу о том, что средний чек у групп одинаковый,\n",
    "    - мы установили, что конверсия группы В больше конверсии группы А, а также относительный прирост конверсии в группе В по отношению к группе А составляет 15% (по «очищенным» данным) и 9% - по \"сырым\",\n",
    "    - следовательно, мы экстенсивно увеличиваем выручку за счет роста кол-ва покупателей в группе В.\n",
    "    \n",
    "    \n",
    "</div>"
   ]
  }
 ],
 "metadata": {
  "ExecuteTimeLog": [
   {
    "duration": 2144,
    "start_time": "2022-07-20T12:21:44.399Z"
   },
   {
    "duration": 250,
    "start_time": "2022-07-20T12:21:46.545Z"
   },
   {
    "duration": 5,
    "start_time": "2022-07-20T12:21:46.798Z"
   },
   {
    "duration": 36,
    "start_time": "2022-07-20T12:21:46.805Z"
   },
   {
    "duration": 40,
    "start_time": "2022-07-20T12:21:46.844Z"
   },
   {
    "duration": 38,
    "start_time": "2022-07-20T12:21:46.886Z"
   },
   {
    "duration": 28,
    "start_time": "2022-07-20T12:21:46.926Z"
   },
   {
    "duration": 13,
    "start_time": "2022-07-20T12:21:46.957Z"
   },
   {
    "duration": 11,
    "start_time": "2022-07-20T12:21:46.972Z"
   },
   {
    "duration": 30,
    "start_time": "2022-07-20T12:21:46.986Z"
   },
   {
    "duration": 32,
    "start_time": "2022-07-20T12:21:47.018Z"
   },
   {
    "duration": 14,
    "start_time": "2022-07-20T12:21:47.052Z"
   },
   {
    "duration": 207,
    "start_time": "2022-07-20T12:21:47.068Z"
   },
   {
    "duration": 161,
    "start_time": "2022-07-20T12:21:47.279Z"
   },
   {
    "duration": 18,
    "start_time": "2022-07-20T12:21:47.443Z"
   },
   {
    "duration": 336,
    "start_time": "2022-07-20T12:21:47.463Z"
   },
   {
    "duration": 219,
    "start_time": "2022-07-20T12:21:47.801Z"
   },
   {
    "duration": 27,
    "start_time": "2022-07-20T12:21:48.023Z"
   },
   {
    "duration": 358,
    "start_time": "2022-07-20T12:21:48.052Z"
   },
   {
    "duration": 274,
    "start_time": "2022-07-20T12:21:48.412Z"
   },
   {
    "duration": 337,
    "start_time": "2022-07-20T12:21:48.688Z"
   },
   {
    "duration": 17,
    "start_time": "2022-07-20T12:21:49.027Z"
   },
   {
    "duration": 138,
    "start_time": "2022-07-20T12:21:49.046Z"
   },
   {
    "duration": 142,
    "start_time": "2022-07-20T12:21:49.186Z"
   },
   {
    "duration": 11,
    "start_time": "2022-07-20T12:21:49.330Z"
   },
   {
    "duration": 163,
    "start_time": "2022-07-20T12:21:49.342Z"
   },
   {
    "duration": 5,
    "start_time": "2022-07-20T12:21:49.507Z"
   },
   {
    "duration": 11,
    "start_time": "2022-07-20T12:21:49.514Z"
   },
   {
    "duration": 18,
    "start_time": "2022-07-20T12:21:49.526Z"
   },
   {
    "duration": 12,
    "start_time": "2022-07-20T12:21:49.546Z"
   },
   {
    "duration": 20,
    "start_time": "2022-07-20T12:21:49.560Z"
   },
   {
    "duration": 8,
    "start_time": "2022-07-20T12:21:49.582Z"
   },
   {
    "duration": 250,
    "start_time": "2022-07-20T12:21:49.592Z"
   },
   {
    "duration": 12,
    "start_time": "2022-07-20T12:21:49.845Z"
   },
   {
    "duration": 12,
    "start_time": "2022-07-20T12:21:49.858Z"
   },
   {
    "duration": 181,
    "start_time": "2022-07-20T12:21:49.872Z"
   },
   {
    "duration": 132,
    "start_time": "2022-07-20T12:21:50.055Z"
   },
   {
    "duration": 8,
    "start_time": "2022-07-20T12:21:50.189Z"
   },
   {
    "duration": 10,
    "start_time": "2022-07-20T12:21:50.198Z"
   },
   {
    "duration": 11,
    "start_time": "2022-07-20T12:21:50.210Z"
   },
   {
    "duration": 19,
    "start_time": "2022-07-20T12:21:50.225Z"
   },
   {
    "duration": 28,
    "start_time": "2022-07-20T12:21:50.246Z"
   },
   {
    "duration": 11,
    "start_time": "2022-07-20T12:21:50.276Z"
   },
   {
    "duration": 7,
    "start_time": "2022-07-20T12:21:50.289Z"
   },
   {
    "duration": 71,
    "start_time": "2022-07-20T15:54:18.461Z"
   },
   {
    "duration": 1657,
    "start_time": "2022-07-20T15:54:31.817Z"
   },
   {
    "duration": 242,
    "start_time": "2022-07-20T15:54:33.477Z"
   },
   {
    "duration": 4,
    "start_time": "2022-07-20T15:54:33.721Z"
   },
   {
    "duration": 32,
    "start_time": "2022-07-20T15:54:33.727Z"
   },
   {
    "duration": 30,
    "start_time": "2022-07-20T15:54:33.760Z"
   },
   {
    "duration": 33,
    "start_time": "2022-07-20T15:54:33.792Z"
   },
   {
    "duration": 17,
    "start_time": "2022-07-20T15:54:33.827Z"
   },
   {
    "duration": 8,
    "start_time": "2022-07-20T15:54:33.846Z"
   },
   {
    "duration": 31,
    "start_time": "2022-07-20T15:54:33.865Z"
   },
   {
    "duration": 10,
    "start_time": "2022-07-20T15:54:33.899Z"
   },
   {
    "duration": 18,
    "start_time": "2022-07-20T15:54:33.911Z"
   },
   {
    "duration": 16,
    "start_time": "2022-07-20T15:54:33.931Z"
   },
   {
    "duration": 238,
    "start_time": "2022-07-20T15:54:33.949Z"
   },
   {
    "duration": 146,
    "start_time": "2022-07-20T15:54:34.189Z"
   },
   {
    "duration": 41,
    "start_time": "2022-07-20T15:54:34.337Z"
   },
   {
    "duration": 352,
    "start_time": "2022-07-20T15:54:34.380Z"
   },
   {
    "duration": 255,
    "start_time": "2022-07-20T15:54:34.736Z"
   },
   {
    "duration": 15,
    "start_time": "2022-07-20T15:54:34.993Z"
   },
   {
    "duration": 399,
    "start_time": "2022-07-20T15:54:35.010Z"
   },
   {
    "duration": 562,
    "start_time": "2022-07-20T15:54:35.411Z"
   },
   {
    "duration": 592,
    "start_time": "2022-07-20T15:54:35.978Z"
   },
   {
    "duration": 17,
    "start_time": "2022-07-20T15:54:36.572Z"
   },
   {
    "duration": 412,
    "start_time": "2022-07-20T15:54:36.592Z"
   },
   {
    "duration": 391,
    "start_time": "2022-07-20T15:54:37.007Z"
   },
   {
    "duration": 10,
    "start_time": "2022-07-20T15:54:37.400Z"
   },
   {
    "duration": 383,
    "start_time": "2022-07-20T15:54:37.412Z"
   },
   {
    "duration": 6,
    "start_time": "2022-07-20T15:54:37.797Z"
   },
   {
    "duration": 54,
    "start_time": "2022-07-20T15:54:37.812Z"
   },
   {
    "duration": 44,
    "start_time": "2022-07-20T15:54:37.870Z"
   },
   {
    "duration": 7,
    "start_time": "2022-07-20T15:54:37.916Z"
   },
   {
    "duration": 12,
    "start_time": "2022-07-20T15:54:37.926Z"
   },
   {
    "duration": 42,
    "start_time": "2022-07-20T15:54:37.941Z"
   },
   {
    "duration": 214,
    "start_time": "2022-07-20T15:54:37.986Z"
   },
   {
    "duration": 104,
    "start_time": "2022-07-20T15:54:38.204Z"
   },
   {
    "duration": 10,
    "start_time": "2022-07-20T15:54:38.310Z"
   },
   {
    "duration": 187,
    "start_time": "2022-07-20T15:54:38.322Z"
   },
   {
    "duration": 130,
    "start_time": "2022-07-20T15:54:38.511Z"
   },
   {
    "duration": 7,
    "start_time": "2022-07-20T15:54:38.643Z"
   },
   {
    "duration": 58,
    "start_time": "2022-07-20T15:54:38.652Z"
   },
   {
    "duration": 8,
    "start_time": "2022-07-20T15:54:38.712Z"
   },
   {
    "duration": 10,
    "start_time": "2022-07-20T15:54:38.722Z"
   },
   {
    "duration": 9,
    "start_time": "2022-07-20T15:54:38.734Z"
   },
   {
    "duration": 10,
    "start_time": "2022-07-20T15:54:38.745Z"
   },
   {
    "duration": 10,
    "start_time": "2022-07-20T15:54:38.756Z"
   },
   {
    "duration": 213,
    "start_time": "2022-07-20T16:04:34.523Z"
   },
   {
    "duration": 251,
    "start_time": "2022-07-20T16:05:01.813Z"
   },
   {
    "duration": 274,
    "start_time": "2022-07-20T16:05:09.952Z"
   },
   {
    "duration": 303,
    "start_time": "2022-07-20T16:06:12.752Z"
   },
   {
    "duration": 243,
    "start_time": "2022-07-20T16:06:21.849Z"
   },
   {
    "duration": 1220,
    "start_time": "2022-07-20T16:08:49.089Z"
   },
   {
    "duration": 86,
    "start_time": "2022-07-20T16:08:50.311Z"
   },
   {
    "duration": 4,
    "start_time": "2022-07-20T16:08:50.400Z"
   },
   {
    "duration": 40,
    "start_time": "2022-07-20T16:08:50.406Z"
   },
   {
    "duration": 24,
    "start_time": "2022-07-20T16:08:50.448Z"
   },
   {
    "duration": 24,
    "start_time": "2022-07-20T16:08:50.474Z"
   },
   {
    "duration": 26,
    "start_time": "2022-07-20T16:08:50.500Z"
   },
   {
    "duration": 24,
    "start_time": "2022-07-20T16:08:50.528Z"
   },
   {
    "duration": 13,
    "start_time": "2022-07-20T16:08:50.555Z"
   },
   {
    "duration": 27,
    "start_time": "2022-07-20T16:08:50.571Z"
   },
   {
    "duration": 23,
    "start_time": "2022-07-20T16:08:50.600Z"
   },
   {
    "duration": 43,
    "start_time": "2022-07-20T16:08:50.625Z"
   },
   {
    "duration": 209,
    "start_time": "2022-07-20T16:08:50.670Z"
   },
   {
    "duration": 142,
    "start_time": "2022-07-20T16:08:50.880Z"
   },
   {
    "duration": 15,
    "start_time": "2022-07-20T16:08:51.024Z"
   },
   {
    "duration": 306,
    "start_time": "2022-07-20T16:08:51.040Z"
   },
   {
    "duration": 216,
    "start_time": "2022-07-20T16:08:51.348Z"
   },
   {
    "duration": 19,
    "start_time": "2022-07-20T16:08:51.566Z"
   },
   {
    "duration": 301,
    "start_time": "2022-07-20T16:08:51.587Z"
   },
   {
    "duration": 230,
    "start_time": "2022-07-20T16:08:51.891Z"
   },
   {
    "duration": 329,
    "start_time": "2022-07-20T16:08:52.123Z"
   },
   {
    "duration": 17,
    "start_time": "2022-07-20T16:08:52.453Z"
   },
   {
    "duration": 157,
    "start_time": "2022-07-20T16:08:52.473Z"
   },
   {
    "duration": 166,
    "start_time": "2022-07-20T16:08:52.633Z"
   },
   {
    "duration": 5,
    "start_time": "2022-07-20T16:08:52.801Z"
   },
   {
    "duration": 199,
    "start_time": "2022-07-20T16:08:52.807Z"
   },
   {
    "duration": 4,
    "start_time": "2022-07-20T16:08:53.009Z"
   },
   {
    "duration": 10,
    "start_time": "2022-07-20T16:08:53.016Z"
   },
   {
    "duration": 20,
    "start_time": "2022-07-20T16:08:53.028Z"
   },
   {
    "duration": 17,
    "start_time": "2022-07-20T16:08:53.050Z"
   },
   {
    "duration": 28,
    "start_time": "2022-07-20T16:08:53.073Z"
   },
   {
    "duration": 11,
    "start_time": "2022-07-20T16:08:53.102Z"
   },
   {
    "duration": 185,
    "start_time": "2022-07-20T16:08:53.114Z"
   },
   {
    "duration": 9,
    "start_time": "2022-07-20T16:08:53.301Z"
   },
   {
    "duration": 7,
    "start_time": "2022-07-20T16:08:53.312Z"
   },
   {
    "duration": 308,
    "start_time": "2022-07-20T16:08:53.321Z"
   },
   {
    "duration": 173,
    "start_time": "2022-07-20T16:08:53.631Z"
   },
   {
    "duration": 8,
    "start_time": "2022-07-20T16:08:53.806Z"
   },
   {
    "duration": 9,
    "start_time": "2022-07-20T16:08:53.815Z"
   },
   {
    "duration": 8,
    "start_time": "2022-07-20T16:08:53.826Z"
   },
   {
    "duration": 30,
    "start_time": "2022-07-20T16:08:53.836Z"
   },
   {
    "duration": 23,
    "start_time": "2022-07-20T16:08:53.869Z"
   },
   {
    "duration": 14,
    "start_time": "2022-07-20T16:08:53.894Z"
   },
   {
    "duration": 9,
    "start_time": "2022-07-20T16:08:53.909Z"
   },
   {
    "duration": 221,
    "start_time": "2022-07-20T16:09:12.850Z"
   },
   {
    "duration": 198,
    "start_time": "2022-07-20T16:09:23.349Z"
   },
   {
    "duration": 236,
    "start_time": "2022-07-20T16:11:33.901Z"
   },
   {
    "duration": 216,
    "start_time": "2022-07-20T16:11:40.811Z"
   },
   {
    "duration": 222,
    "start_time": "2022-07-20T16:12:18.194Z"
   },
   {
    "duration": 360,
    "start_time": "2022-07-20T16:16:02.976Z"
   },
   {
    "duration": 242,
    "start_time": "2022-07-20T16:18:18.150Z"
   },
   {
    "duration": 332,
    "start_time": "2022-07-20T16:19:17.106Z"
   },
   {
    "duration": 351,
    "start_time": "2022-07-20T16:22:17.252Z"
   },
   {
    "duration": 346,
    "start_time": "2022-07-20T16:22:50.283Z"
   },
   {
    "duration": 360,
    "start_time": "2022-07-20T16:23:08.160Z"
   },
   {
    "duration": 4,
    "start_time": "2022-07-20T16:30:28.388Z"
   },
   {
    "duration": 9,
    "start_time": "2022-07-20T16:31:26.353Z"
   },
   {
    "duration": 21,
    "start_time": "2022-07-20T16:35:16.484Z"
   },
   {
    "duration": 35,
    "start_time": "2022-07-20T16:36:21.548Z"
   },
   {
    "duration": 135,
    "start_time": "2022-07-20T16:36:49.391Z"
   },
   {
    "duration": 15,
    "start_time": "2022-07-20T16:37:04.795Z"
   },
   {
    "duration": 299,
    "start_time": "2022-07-20T16:37:28.504Z"
   },
   {
    "duration": 37,
    "start_time": "2022-07-20T16:37:49.944Z"
   },
   {
    "duration": 117,
    "start_time": "2022-07-20T16:40:07.009Z"
   },
   {
    "duration": 20,
    "start_time": "2022-07-20T16:40:10.587Z"
   },
   {
    "duration": 142,
    "start_time": "2022-07-20T16:40:56.892Z"
   },
   {
    "duration": 173,
    "start_time": "2022-07-20T16:43:04.061Z"
   },
   {
    "duration": 328,
    "start_time": "2022-07-20T16:44:49.225Z"
   },
   {
    "duration": 260,
    "start_time": "2022-07-20T16:44:56.593Z"
   },
   {
    "duration": 1351,
    "start_time": "2022-07-20T16:53:12.889Z"
   },
   {
    "duration": 105,
    "start_time": "2022-07-20T16:53:14.242Z"
   },
   {
    "duration": 3,
    "start_time": "2022-07-20T16:53:14.349Z"
   },
   {
    "duration": 64,
    "start_time": "2022-07-20T16:53:14.354Z"
   },
   {
    "duration": 23,
    "start_time": "2022-07-20T16:53:14.420Z"
   },
   {
    "duration": 28,
    "start_time": "2022-07-20T16:53:14.444Z"
   },
   {
    "duration": 29,
    "start_time": "2022-07-20T16:53:14.475Z"
   },
   {
    "duration": 13,
    "start_time": "2022-07-20T16:53:14.506Z"
   },
   {
    "duration": 11,
    "start_time": "2022-07-20T16:53:14.522Z"
   },
   {
    "duration": 12,
    "start_time": "2022-07-20T16:53:14.535Z"
   },
   {
    "duration": 12,
    "start_time": "2022-07-20T16:53:14.548Z"
   },
   {
    "duration": 22,
    "start_time": "2022-07-20T16:53:14.562Z"
   },
   {
    "duration": 237,
    "start_time": "2022-07-20T16:53:14.587Z"
   },
   {
    "duration": 147,
    "start_time": "2022-07-20T16:53:14.827Z"
   },
   {
    "duration": 27,
    "start_time": "2022-07-20T16:53:14.976Z"
   },
   {
    "duration": 343,
    "start_time": "2022-07-20T16:53:15.005Z"
   },
   {
    "duration": 259,
    "start_time": "2022-07-20T16:53:15.350Z"
   },
   {
    "duration": 16,
    "start_time": "2022-07-20T16:53:15.611Z"
   },
   {
    "duration": 401,
    "start_time": "2022-07-20T16:53:15.628Z"
   },
   {
    "duration": 271,
    "start_time": "2022-07-20T16:53:16.031Z"
   },
   {
    "duration": 332,
    "start_time": "2022-07-20T16:53:16.305Z"
   },
   {
    "duration": 12,
    "start_time": "2022-07-20T16:53:16.639Z"
   },
   {
    "duration": 169,
    "start_time": "2022-07-20T16:53:16.653Z"
   },
   {
    "duration": 24,
    "start_time": "2022-07-20T16:53:16.824Z"
   },
   {
    "duration": 166,
    "start_time": "2022-07-20T16:53:16.866Z"
   },
   {
    "duration": 235,
    "start_time": "2022-07-20T16:53:17.033Z"
   },
   {
    "duration": 22,
    "start_time": "2022-07-20T16:53:17.270Z"
   },
   {
    "duration": 260,
    "start_time": "2022-07-20T16:53:17.295Z"
   },
   {
    "duration": 21,
    "start_time": "2022-07-20T16:53:17.557Z"
   },
   {
    "duration": 28,
    "start_time": "2022-07-20T16:53:17.581Z"
   },
   {
    "duration": 11,
    "start_time": "2022-07-20T16:53:17.611Z"
   },
   {
    "duration": 7,
    "start_time": "2022-07-20T16:53:17.624Z"
   },
   {
    "duration": 15,
    "start_time": "2022-07-20T16:53:17.633Z"
   },
   {
    "duration": 8,
    "start_time": "2022-07-20T16:53:17.650Z"
   },
   {
    "duration": 232,
    "start_time": "2022-07-20T16:53:17.667Z"
   },
   {
    "duration": 14,
    "start_time": "2022-07-20T16:53:17.902Z"
   },
   {
    "duration": 5,
    "start_time": "2022-07-20T16:53:17.918Z"
   },
   {
    "duration": 197,
    "start_time": "2022-07-20T16:53:17.925Z"
   },
   {
    "duration": 178,
    "start_time": "2022-07-20T16:53:18.124Z"
   },
   {
    "duration": 7,
    "start_time": "2022-07-20T16:53:18.305Z"
   },
   {
    "duration": 10,
    "start_time": "2022-07-20T16:53:18.316Z"
   },
   {
    "duration": 23,
    "start_time": "2022-07-20T16:53:18.327Z"
   },
   {
    "duration": 62,
    "start_time": "2022-07-20T16:53:18.352Z"
   },
   {
    "duration": 22,
    "start_time": "2022-07-20T16:53:18.416Z"
   },
   {
    "duration": 26,
    "start_time": "2022-07-20T16:53:18.440Z"
   },
   {
    "duration": 37,
    "start_time": "2022-07-20T16:53:18.468Z"
   },
   {
    "duration": 252,
    "start_time": "2022-07-20T17:01:02.087Z"
   },
   {
    "duration": 55,
    "start_time": "2022-07-20T17:04:07.259Z"
   },
   {
    "duration": 16,
    "start_time": "2022-07-20T17:05:56.989Z"
   },
   {
    "duration": 7,
    "start_time": "2022-07-20T17:17:44.731Z"
   },
   {
    "duration": 9,
    "start_time": "2022-07-20T17:18:30.685Z"
   },
   {
    "duration": 8,
    "start_time": "2022-07-20T17:21:42.602Z"
   },
   {
    "duration": 10,
    "start_time": "2022-07-20T17:36:43.716Z"
   },
   {
    "duration": 94,
    "start_time": "2022-07-20T17:40:13.556Z"
   },
   {
    "duration": 48,
    "start_time": "2022-07-20T17:40:23.879Z"
   },
   {
    "duration": 2,
    "start_time": "2022-07-20T17:40:36.014Z"
   },
   {
    "duration": 49,
    "start_time": "2022-07-20T17:42:46.513Z"
   },
   {
    "duration": 133,
    "start_time": "2022-07-20T17:43:02.488Z"
   },
   {
    "duration": 14,
    "start_time": "2022-07-20T17:43:48.783Z"
   },
   {
    "duration": 8,
    "start_time": "2022-07-20T17:45:24.952Z"
   },
   {
    "duration": 65,
    "start_time": "2022-07-20T17:51:26.824Z"
   },
   {
    "duration": 24,
    "start_time": "2022-07-20T17:51:48.179Z"
   },
   {
    "duration": 41,
    "start_time": "2022-07-20T17:53:09.343Z"
   },
   {
    "duration": 27,
    "start_time": "2022-07-20T17:53:12.601Z"
   },
   {
    "duration": 10,
    "start_time": "2022-07-20T17:53:46.213Z"
   },
   {
    "duration": 23,
    "start_time": "2022-07-20T17:53:59.534Z"
   },
   {
    "duration": 998,
    "start_time": "2022-07-20T17:54:20.160Z"
   },
   {
    "duration": 15,
    "start_time": "2022-07-20T17:55:25.193Z"
   },
   {
    "duration": 691,
    "start_time": "2022-07-20T17:56:05.893Z"
   },
   {
    "duration": 178,
    "start_time": "2022-07-20T17:56:35.451Z"
   },
   {
    "duration": 203,
    "start_time": "2022-07-20T17:56:39.702Z"
   },
   {
    "duration": 536,
    "start_time": "2022-07-20T17:57:17.192Z"
   },
   {
    "duration": 165,
    "start_time": "2022-07-20T17:57:30.125Z"
   },
   {
    "duration": 17,
    "start_time": "2022-07-20T18:01:17.791Z"
   },
   {
    "duration": 15,
    "start_time": "2022-07-20T18:02:01.560Z"
   },
   {
    "duration": 16,
    "start_time": "2022-07-20T18:02:44.854Z"
   },
   {
    "duration": 23,
    "start_time": "2022-07-20T18:02:53.964Z"
   },
   {
    "duration": 20,
    "start_time": "2022-07-20T18:03:34.691Z"
   },
   {
    "duration": 16,
    "start_time": "2022-07-20T18:03:53.895Z"
   },
   {
    "duration": 9,
    "start_time": "2022-07-20T18:06:01.857Z"
   },
   {
    "duration": 10,
    "start_time": "2022-07-20T18:07:55.748Z"
   },
   {
    "duration": 1262,
    "start_time": "2022-07-20T18:12:31.445Z"
   },
   {
    "duration": 99,
    "start_time": "2022-07-20T18:12:32.710Z"
   },
   {
    "duration": 3,
    "start_time": "2022-07-20T18:12:32.812Z"
   },
   {
    "duration": 43,
    "start_time": "2022-07-20T18:12:32.818Z"
   },
   {
    "duration": 41,
    "start_time": "2022-07-20T18:12:32.863Z"
   },
   {
    "duration": 46,
    "start_time": "2022-07-20T18:12:32.905Z"
   },
   {
    "duration": 27,
    "start_time": "2022-07-20T18:12:32.953Z"
   },
   {
    "duration": 34,
    "start_time": "2022-07-20T18:12:32.982Z"
   },
   {
    "duration": 12,
    "start_time": "2022-07-20T18:12:33.018Z"
   },
   {
    "duration": 10,
    "start_time": "2022-07-20T18:12:33.034Z"
   },
   {
    "duration": 16,
    "start_time": "2022-07-20T18:12:33.046Z"
   },
   {
    "duration": 12,
    "start_time": "2022-07-20T18:12:33.066Z"
   },
   {
    "duration": 36,
    "start_time": "2022-07-20T18:12:33.080Z"
   },
   {
    "duration": 16,
    "start_time": "2022-07-20T18:12:33.118Z"
   },
   {
    "duration": 190,
    "start_time": "2022-07-20T18:12:33.136Z"
   },
   {
    "duration": 158,
    "start_time": "2022-07-20T18:12:33.328Z"
   },
   {
    "duration": 19,
    "start_time": "2022-07-20T18:12:33.488Z"
   },
   {
    "duration": 9,
    "start_time": "2022-07-20T18:12:33.509Z"
   },
   {
    "duration": 325,
    "start_time": "2022-07-20T18:12:33.520Z"
   },
   {
    "duration": 228,
    "start_time": "2022-07-20T18:12:33.846Z"
   },
   {
    "duration": 20,
    "start_time": "2022-07-20T18:12:34.078Z"
   },
   {
    "duration": 319,
    "start_time": "2022-07-20T18:12:34.100Z"
   },
   {
    "duration": 228,
    "start_time": "2022-07-20T18:12:34.421Z"
   },
   {
    "duration": 356,
    "start_time": "2022-07-20T18:12:34.651Z"
   },
   {
    "duration": 10,
    "start_time": "2022-07-20T18:12:35.008Z"
   },
   {
    "duration": 183,
    "start_time": "2022-07-20T18:12:35.020Z"
   },
   {
    "duration": 16,
    "start_time": "2022-07-20T18:12:35.205Z"
   },
   {
    "duration": 173,
    "start_time": "2022-07-20T18:12:35.224Z"
   },
   {
    "duration": 216,
    "start_time": "2022-07-20T18:12:35.407Z"
   },
   {
    "duration": 5,
    "start_time": "2022-07-20T18:12:35.624Z"
   },
   {
    "duration": 276,
    "start_time": "2022-07-20T18:12:35.631Z"
   },
   {
    "duration": 5,
    "start_time": "2022-07-20T18:12:35.909Z"
   },
   {
    "duration": 7,
    "start_time": "2022-07-20T18:12:35.917Z"
   },
   {
    "duration": 10,
    "start_time": "2022-07-20T18:12:35.925Z"
   },
   {
    "duration": 39,
    "start_time": "2022-07-20T18:12:35.937Z"
   },
   {
    "duration": 42,
    "start_time": "2022-07-20T18:12:35.978Z"
   },
   {
    "duration": 6,
    "start_time": "2022-07-20T18:12:36.022Z"
   },
   {
    "duration": 159,
    "start_time": "2022-07-20T18:12:36.030Z"
   },
   {
    "duration": 11,
    "start_time": "2022-07-20T18:12:36.195Z"
   },
   {
    "duration": 14,
    "start_time": "2022-07-20T18:12:36.207Z"
   },
   {
    "duration": 189,
    "start_time": "2022-07-20T18:12:36.223Z"
   },
   {
    "duration": 161,
    "start_time": "2022-07-20T18:12:36.413Z"
   },
   {
    "duration": 19,
    "start_time": "2022-07-20T18:12:36.579Z"
   },
   {
    "duration": 12,
    "start_time": "2022-07-20T18:12:36.602Z"
   },
   {
    "duration": 10,
    "start_time": "2022-07-20T18:12:36.616Z"
   },
   {
    "duration": 8,
    "start_time": "2022-07-20T18:12:36.628Z"
   },
   {
    "duration": 11,
    "start_time": "2022-07-20T18:12:36.637Z"
   },
   {
    "duration": 10,
    "start_time": "2022-07-20T18:12:36.650Z"
   },
   {
    "duration": 47,
    "start_time": "2022-07-20T18:12:36.663Z"
   },
   {
    "duration": 239,
    "start_time": "2022-07-20T18:16:07.958Z"
   },
   {
    "duration": 145,
    "start_time": "2022-07-20T18:16:13.414Z"
   },
   {
    "duration": 178,
    "start_time": "2022-07-20T18:22:31.305Z"
   },
   {
    "duration": 9,
    "start_time": "2022-07-20T18:26:53.816Z"
   },
   {
    "duration": 1343,
    "start_time": "2022-07-20T18:27:41.793Z"
   },
   {
    "duration": 87,
    "start_time": "2022-07-20T18:27:43.138Z"
   },
   {
    "duration": 4,
    "start_time": "2022-07-20T18:27:43.227Z"
   },
   {
    "duration": 29,
    "start_time": "2022-07-20T18:27:43.232Z"
   },
   {
    "duration": 29,
    "start_time": "2022-07-20T18:27:43.268Z"
   },
   {
    "duration": 26,
    "start_time": "2022-07-20T18:27:43.300Z"
   },
   {
    "duration": 44,
    "start_time": "2022-07-20T18:27:43.328Z"
   },
   {
    "duration": 21,
    "start_time": "2022-07-20T18:27:43.383Z"
   },
   {
    "duration": 7,
    "start_time": "2022-07-20T18:27:43.406Z"
   },
   {
    "duration": 9,
    "start_time": "2022-07-20T18:27:43.415Z"
   },
   {
    "duration": 11,
    "start_time": "2022-07-20T18:27:43.426Z"
   },
   {
    "duration": 16,
    "start_time": "2022-07-20T18:27:43.438Z"
   },
   {
    "duration": 6,
    "start_time": "2022-07-20T18:27:43.456Z"
   },
   {
    "duration": 37,
    "start_time": "2022-07-20T18:27:43.465Z"
   },
   {
    "duration": 14,
    "start_time": "2022-07-20T18:27:43.504Z"
   },
   {
    "duration": 190,
    "start_time": "2022-07-20T18:27:43.520Z"
   },
   {
    "duration": 145,
    "start_time": "2022-07-20T18:27:43.711Z"
   },
   {
    "duration": 38,
    "start_time": "2022-07-20T18:27:43.857Z"
   },
   {
    "duration": 13,
    "start_time": "2022-07-20T18:27:43.898Z"
   },
   {
    "duration": 310,
    "start_time": "2022-07-20T18:27:43.912Z"
   },
   {
    "duration": 223,
    "start_time": "2022-07-20T18:27:44.224Z"
   },
   {
    "duration": 29,
    "start_time": "2022-07-20T18:27:44.449Z"
   },
   {
    "duration": 330,
    "start_time": "2022-07-20T18:27:44.484Z"
   },
   {
    "duration": 248,
    "start_time": "2022-07-20T18:27:44.816Z"
   },
   {
    "duration": 363,
    "start_time": "2022-07-20T18:27:45.066Z"
   },
   {
    "duration": 10,
    "start_time": "2022-07-20T18:27:45.431Z"
   },
   {
    "duration": 167,
    "start_time": "2022-07-20T18:27:45.443Z"
   },
   {
    "duration": 5,
    "start_time": "2022-07-20T18:27:45.612Z"
   },
   {
    "duration": 250,
    "start_time": "2022-07-20T18:27:45.618Z"
   },
   {
    "duration": 4,
    "start_time": "2022-07-20T18:27:45.870Z"
   },
   {
    "duration": 37,
    "start_time": "2022-07-20T18:27:45.875Z"
   },
   {
    "duration": 5,
    "start_time": "2022-07-20T18:27:45.914Z"
   },
   {
    "duration": 45,
    "start_time": "2022-07-20T18:27:45.921Z"
   },
   {
    "duration": 16,
    "start_time": "2022-07-20T18:27:45.969Z"
   },
   {
    "duration": 18,
    "start_time": "2022-07-20T18:27:45.987Z"
   },
   {
    "duration": 359,
    "start_time": "2022-07-20T18:27:46.007Z"
   },
   {
    "duration": 13,
    "start_time": "2022-07-20T18:27:46.368Z"
   },
   {
    "duration": 8,
    "start_time": "2022-07-20T18:27:46.397Z"
   },
   {
    "duration": 395,
    "start_time": "2022-07-20T18:27:46.406Z"
   },
   {
    "duration": 299,
    "start_time": "2022-07-20T18:27:46.803Z"
   },
   {
    "duration": 59,
    "start_time": "2022-07-20T18:27:47.108Z"
   },
   {
    "duration": 34,
    "start_time": "2022-07-20T18:27:47.174Z"
   },
   {
    "duration": 16,
    "start_time": "2022-07-20T18:27:47.210Z"
   },
   {
    "duration": 47,
    "start_time": "2022-07-20T18:27:47.228Z"
   },
   {
    "duration": 20,
    "start_time": "2022-07-20T18:27:47.280Z"
   },
   {
    "duration": 10,
    "start_time": "2022-07-20T18:27:47.303Z"
   },
   {
    "duration": 6,
    "start_time": "2022-07-20T18:27:47.315Z"
   },
   {
    "duration": 14,
    "start_time": "2022-07-20T18:28:22.247Z"
   },
   {
    "duration": 13,
    "start_time": "2022-07-20T18:30:50.706Z"
   },
   {
    "duration": 22,
    "start_time": "2022-07-20T18:31:13.391Z"
   },
   {
    "duration": 12,
    "start_time": "2022-07-20T18:36:00.312Z"
   },
   {
    "duration": 11,
    "start_time": "2022-07-20T18:37:02.447Z"
   },
   {
    "duration": 12,
    "start_time": "2022-07-20T18:37:58.848Z"
   },
   {
    "duration": 7,
    "start_time": "2022-07-20T18:43:08.045Z"
   },
   {
    "duration": 122,
    "start_time": "2022-07-20T18:44:19.981Z"
   },
   {
    "duration": 8,
    "start_time": "2022-07-20T18:44:28.828Z"
   },
   {
    "duration": 12,
    "start_time": "2022-07-20T18:45:29.044Z"
   },
   {
    "duration": 13,
    "start_time": "2022-07-20T18:46:07.126Z"
   },
   {
    "duration": 12,
    "start_time": "2022-07-20T18:47:11.926Z"
   },
   {
    "duration": 32,
    "start_time": "2022-07-20T18:47:15.159Z"
   },
   {
    "duration": 8,
    "start_time": "2022-07-20T18:50:02.292Z"
   },
   {
    "duration": 20,
    "start_time": "2022-07-20T18:50:50.477Z"
   },
   {
    "duration": 15,
    "start_time": "2022-07-20T18:51:12.208Z"
   },
   {
    "duration": 14,
    "start_time": "2022-07-20T18:51:22.558Z"
   },
   {
    "duration": 13,
    "start_time": "2022-07-20T18:51:31.242Z"
   },
   {
    "duration": 11,
    "start_time": "2022-07-20T18:51:45.542Z"
   },
   {
    "duration": 11,
    "start_time": "2022-07-20T18:52:11.790Z"
   },
   {
    "duration": 15,
    "start_time": "2022-07-20T18:53:41.492Z"
   },
   {
    "duration": 15,
    "start_time": "2022-07-20T18:56:24.744Z"
   },
   {
    "duration": 21,
    "start_time": "2022-07-20T18:57:46.473Z"
   },
   {
    "duration": 9,
    "start_time": "2022-07-20T18:58:41.658Z"
   },
   {
    "duration": 9,
    "start_time": "2022-07-20T19:07:01.484Z"
   },
   {
    "duration": 13,
    "start_time": "2022-07-20T19:07:14.784Z"
   },
   {
    "duration": 24,
    "start_time": "2022-07-20T19:10:15.609Z"
   },
   {
    "duration": 21,
    "start_time": "2022-07-20T19:11:11.109Z"
   },
   {
    "duration": 39,
    "start_time": "2022-07-20T19:12:11.513Z"
   },
   {
    "duration": 37,
    "start_time": "2022-07-20T19:13:27.287Z"
   },
   {
    "duration": 37,
    "start_time": "2022-07-20T19:17:20.459Z"
   },
   {
    "duration": 15,
    "start_time": "2022-07-20T19:17:22.142Z"
   },
   {
    "duration": 14,
    "start_time": "2022-07-20T19:23:36.860Z"
   },
   {
    "duration": 28,
    "start_time": "2022-07-20T19:24:00.891Z"
   },
   {
    "duration": 21,
    "start_time": "2022-07-20T19:25:07.109Z"
   },
   {
    "duration": 1226,
    "start_time": "2022-07-20T19:25:21.882Z"
   },
   {
    "duration": 94,
    "start_time": "2022-07-20T19:25:23.112Z"
   },
   {
    "duration": 4,
    "start_time": "2022-07-20T19:25:23.207Z"
   },
   {
    "duration": 23,
    "start_time": "2022-07-20T19:25:23.213Z"
   },
   {
    "duration": 18,
    "start_time": "2022-07-20T19:25:23.237Z"
   },
   {
    "duration": 32,
    "start_time": "2022-07-20T19:25:23.257Z"
   },
   {
    "duration": 24,
    "start_time": "2022-07-20T19:25:23.291Z"
   },
   {
    "duration": 8,
    "start_time": "2022-07-20T19:25:23.318Z"
   },
   {
    "duration": 10,
    "start_time": "2022-07-20T19:25:23.327Z"
   },
   {
    "duration": 8,
    "start_time": "2022-07-20T19:25:23.339Z"
   },
   {
    "duration": 16,
    "start_time": "2022-07-20T19:25:23.349Z"
   },
   {
    "duration": 42,
    "start_time": "2022-07-20T19:25:23.369Z"
   },
   {
    "duration": 24,
    "start_time": "2022-07-20T19:25:23.415Z"
   },
   {
    "duration": 19,
    "start_time": "2022-07-20T19:25:23.441Z"
   },
   {
    "duration": 44,
    "start_time": "2022-07-20T19:25:23.462Z"
   },
   {
    "duration": 198,
    "start_time": "2022-07-20T19:25:23.508Z"
   },
   {
    "duration": 166,
    "start_time": "2022-07-20T19:25:23.708Z"
   },
   {
    "duration": 23,
    "start_time": "2022-07-20T19:25:23.875Z"
   },
   {
    "duration": 13,
    "start_time": "2022-07-20T19:25:23.900Z"
   },
   {
    "duration": 320,
    "start_time": "2022-07-20T19:25:23.915Z"
   },
   {
    "duration": 239,
    "start_time": "2022-07-20T19:25:24.237Z"
   },
   {
    "duration": 18,
    "start_time": "2022-07-20T19:25:24.482Z"
   },
   {
    "duration": 294,
    "start_time": "2022-07-20T19:25:24.502Z"
   },
   {
    "duration": 221,
    "start_time": "2022-07-20T19:25:24.797Z"
   },
   {
    "duration": 381,
    "start_time": "2022-07-20T19:25:25.020Z"
   },
   {
    "duration": 11,
    "start_time": "2022-07-20T19:25:25.403Z"
   },
   {
    "duration": 379,
    "start_time": "2022-07-20T19:25:25.416Z"
   },
   {
    "duration": 4,
    "start_time": "2022-07-20T19:25:25.798Z"
   },
   {
    "duration": 406,
    "start_time": "2022-07-20T19:25:25.804Z"
   },
   {
    "duration": 11,
    "start_time": "2022-07-20T19:25:26.265Z"
   },
   {
    "duration": 19,
    "start_time": "2022-07-20T19:25:26.282Z"
   },
   {
    "duration": 7,
    "start_time": "2022-07-20T19:25:26.304Z"
   },
   {
    "duration": 7,
    "start_time": "2022-07-20T19:25:26.312Z"
   },
   {
    "duration": 49,
    "start_time": "2022-07-20T19:25:26.321Z"
   },
   {
    "duration": 36,
    "start_time": "2022-07-20T19:25:26.372Z"
   },
   {
    "duration": 297,
    "start_time": "2022-07-20T19:25:26.409Z"
   },
   {
    "duration": 73,
    "start_time": "2022-07-20T19:25:26.708Z"
   },
   {
    "duration": 28,
    "start_time": "2022-07-20T19:25:26.783Z"
   },
   {
    "duration": 559,
    "start_time": "2022-07-20T19:25:26.813Z"
   },
   {
    "duration": 324,
    "start_time": "2022-07-20T19:25:27.376Z"
   },
   {
    "duration": 9,
    "start_time": "2022-07-20T19:25:27.704Z"
   },
   {
    "duration": 12,
    "start_time": "2022-07-20T19:25:27.764Z"
   },
   {
    "duration": 40,
    "start_time": "2022-07-20T19:25:27.779Z"
   },
   {
    "duration": 44,
    "start_time": "2022-07-20T19:25:27.822Z"
   },
   {
    "duration": 12,
    "start_time": "2022-07-20T19:25:27.869Z"
   },
   {
    "duration": 25,
    "start_time": "2022-07-20T19:25:27.886Z"
   },
   {
    "duration": 6,
    "start_time": "2022-07-20T19:25:27.913Z"
   },
   {
    "duration": 65,
    "start_time": "2022-07-20T19:27:37.921Z"
   },
   {
    "duration": 19,
    "start_time": "2022-07-20T19:27:47.442Z"
   },
   {
    "duration": 19,
    "start_time": "2022-07-20T19:28:27.092Z"
   },
   {
    "duration": 29,
    "start_time": "2022-07-20T19:28:32.526Z"
   },
   {
    "duration": 47,
    "start_time": "2022-07-20T19:29:06.241Z"
   },
   {
    "duration": 1351,
    "start_time": "2022-07-20T19:29:22.497Z"
   },
   {
    "duration": 108,
    "start_time": "2022-07-20T19:29:23.850Z"
   },
   {
    "duration": 13,
    "start_time": "2022-07-20T19:29:23.960Z"
   },
   {
    "duration": 59,
    "start_time": "2022-07-20T19:29:23.976Z"
   },
   {
    "duration": 23,
    "start_time": "2022-07-20T19:29:24.038Z"
   },
   {
    "duration": 27,
    "start_time": "2022-07-20T19:29:24.063Z"
   },
   {
    "duration": 20,
    "start_time": "2022-07-20T19:29:24.096Z"
   },
   {
    "duration": 8,
    "start_time": "2022-07-20T19:29:24.117Z"
   },
   {
    "duration": 10,
    "start_time": "2022-07-20T19:29:24.127Z"
   },
   {
    "duration": 11,
    "start_time": "2022-07-20T19:29:24.139Z"
   },
   {
    "duration": 19,
    "start_time": "2022-07-20T19:29:24.152Z"
   },
   {
    "duration": 46,
    "start_time": "2022-07-20T19:29:24.173Z"
   },
   {
    "duration": 23,
    "start_time": "2022-07-20T19:29:24.221Z"
   },
   {
    "duration": 34,
    "start_time": "2022-07-20T19:29:24.247Z"
   },
   {
    "duration": 33,
    "start_time": "2022-07-20T19:29:24.284Z"
   },
   {
    "duration": 196,
    "start_time": "2022-07-20T19:29:24.320Z"
   },
   {
    "duration": 152,
    "start_time": "2022-07-20T19:29:24.518Z"
   },
   {
    "duration": 32,
    "start_time": "2022-07-20T19:29:24.673Z"
   },
   {
    "duration": 14,
    "start_time": "2022-07-20T19:29:24.708Z"
   },
   {
    "duration": 317,
    "start_time": "2022-07-20T19:29:24.724Z"
   },
   {
    "duration": 234,
    "start_time": "2022-07-20T19:29:25.043Z"
   },
   {
    "duration": 14,
    "start_time": "2022-07-20T19:29:25.280Z"
   },
   {
    "duration": 304,
    "start_time": "2022-07-20T19:29:25.296Z"
   },
   {
    "duration": 232,
    "start_time": "2022-07-20T19:29:25.602Z"
   },
   {
    "duration": 389,
    "start_time": "2022-07-20T19:29:25.837Z"
   },
   {
    "duration": 10,
    "start_time": "2022-07-20T19:29:26.228Z"
   },
   {
    "duration": 207,
    "start_time": "2022-07-20T19:29:26.240Z"
   },
   {
    "duration": 4,
    "start_time": "2022-07-20T19:29:26.449Z"
   },
   {
    "duration": 180,
    "start_time": "2022-07-20T19:29:26.455Z"
   },
   {
    "duration": 5,
    "start_time": "2022-07-20T19:29:26.638Z"
   },
   {
    "duration": 22,
    "start_time": "2022-07-20T19:29:26.644Z"
   },
   {
    "duration": 41,
    "start_time": "2022-07-20T19:29:26.668Z"
   },
   {
    "duration": 9,
    "start_time": "2022-07-20T19:29:26.711Z"
   },
   {
    "duration": 18,
    "start_time": "2022-07-20T19:29:26.721Z"
   },
   {
    "duration": 7,
    "start_time": "2022-07-20T19:29:26.741Z"
   },
   {
    "duration": 164,
    "start_time": "2022-07-20T19:29:26.749Z"
   },
   {
    "duration": 10,
    "start_time": "2022-07-20T19:29:26.916Z"
   },
   {
    "duration": 7,
    "start_time": "2022-07-20T19:29:26.928Z"
   },
   {
    "duration": 202,
    "start_time": "2022-07-20T19:29:26.937Z"
   },
   {
    "duration": 139,
    "start_time": "2022-07-20T19:29:27.141Z"
   },
   {
    "duration": 9,
    "start_time": "2022-07-20T19:29:27.285Z"
   },
   {
    "duration": 36,
    "start_time": "2022-07-20T19:29:27.297Z"
   },
   {
    "duration": 14,
    "start_time": "2022-07-20T19:29:27.335Z"
   },
   {
    "duration": 12,
    "start_time": "2022-07-20T19:29:27.351Z"
   },
   {
    "duration": 56,
    "start_time": "2022-07-20T19:29:27.365Z"
   },
   {
    "duration": 13,
    "start_time": "2022-07-20T19:29:27.423Z"
   },
   {
    "duration": 9,
    "start_time": "2022-07-20T19:29:27.439Z"
   },
   {
    "duration": 20,
    "start_time": "2022-07-20T19:29:56.538Z"
   },
   {
    "duration": 22,
    "start_time": "2022-07-20T19:30:02.499Z"
   },
   {
    "duration": 80,
    "start_time": "2022-07-20T19:30:33.087Z"
   },
   {
    "duration": 25,
    "start_time": "2022-07-20T19:30:38.409Z"
   },
   {
    "duration": 1281,
    "start_time": "2022-07-20T19:31:02.980Z"
   },
   {
    "duration": 95,
    "start_time": "2022-07-20T19:31:04.264Z"
   },
   {
    "duration": 4,
    "start_time": "2022-07-20T19:31:04.361Z"
   },
   {
    "duration": 37,
    "start_time": "2022-07-20T19:31:04.368Z"
   },
   {
    "duration": 18,
    "start_time": "2022-07-20T19:31:04.407Z"
   },
   {
    "duration": 47,
    "start_time": "2022-07-20T19:31:04.427Z"
   },
   {
    "duration": 24,
    "start_time": "2022-07-20T19:31:04.477Z"
   },
   {
    "duration": 16,
    "start_time": "2022-07-20T19:31:04.503Z"
   },
   {
    "duration": 22,
    "start_time": "2022-07-20T19:31:04.520Z"
   },
   {
    "duration": 26,
    "start_time": "2022-07-20T19:31:04.546Z"
   },
   {
    "duration": 45,
    "start_time": "2022-07-20T19:31:04.577Z"
   },
   {
    "duration": 36,
    "start_time": "2022-07-20T19:31:04.625Z"
   },
   {
    "duration": 46,
    "start_time": "2022-07-20T19:31:04.664Z"
   },
   {
    "duration": 23,
    "start_time": "2022-07-20T19:31:04.712Z"
   },
   {
    "duration": 25,
    "start_time": "2022-07-20T19:31:04.737Z"
   },
   {
    "duration": 223,
    "start_time": "2022-07-20T19:31:04.764Z"
   },
   {
    "duration": 140,
    "start_time": "2022-07-20T19:31:04.989Z"
   },
   {
    "duration": 34,
    "start_time": "2022-07-20T19:31:05.131Z"
   },
   {
    "duration": 28,
    "start_time": "2022-07-20T19:31:05.166Z"
   },
   {
    "duration": 316,
    "start_time": "2022-07-20T19:31:05.196Z"
   },
   {
    "duration": 224,
    "start_time": "2022-07-20T19:31:05.515Z"
   },
   {
    "duration": 11,
    "start_time": "2022-07-20T19:31:05.741Z"
   },
   {
    "duration": 326,
    "start_time": "2022-07-20T19:31:05.764Z"
   },
   {
    "duration": 229,
    "start_time": "2022-07-20T19:31:06.093Z"
   },
   {
    "duration": 380,
    "start_time": "2022-07-20T19:31:06.325Z"
   },
   {
    "duration": 10,
    "start_time": "2022-07-20T19:31:06.707Z"
   },
   {
    "duration": 187,
    "start_time": "2022-07-20T19:31:06.719Z"
   },
   {
    "duration": 4,
    "start_time": "2022-07-20T19:31:06.910Z"
   },
   {
    "duration": 197,
    "start_time": "2022-07-20T19:31:06.916Z"
   },
   {
    "duration": 4,
    "start_time": "2022-07-20T19:31:07.115Z"
   },
   {
    "duration": 9,
    "start_time": "2022-07-20T19:31:07.120Z"
   },
   {
    "duration": 8,
    "start_time": "2022-07-20T19:31:07.130Z"
   },
   {
    "duration": 26,
    "start_time": "2022-07-20T19:31:07.140Z"
   },
   {
    "duration": 35,
    "start_time": "2022-07-20T19:31:07.168Z"
   },
   {
    "duration": 5,
    "start_time": "2022-07-20T19:31:07.205Z"
   },
   {
    "duration": 360,
    "start_time": "2022-07-20T19:31:07.211Z"
   },
   {
    "duration": 15,
    "start_time": "2022-07-20T19:31:07.574Z"
   },
   {
    "duration": 12,
    "start_time": "2022-07-20T19:31:07.591Z"
   },
   {
    "duration": 483,
    "start_time": "2022-07-20T19:31:07.605Z"
   },
   {
    "duration": 305,
    "start_time": "2022-07-20T19:31:08.090Z"
   },
   {
    "duration": 7,
    "start_time": "2022-07-20T19:31:08.397Z"
   },
   {
    "duration": 63,
    "start_time": "2022-07-20T19:31:08.405Z"
   },
   {
    "duration": 14,
    "start_time": "2022-07-20T19:31:08.470Z"
   },
   {
    "duration": 23,
    "start_time": "2022-07-20T19:31:08.486Z"
   },
   {
    "duration": 6,
    "start_time": "2022-07-20T19:31:08.511Z"
   },
   {
    "duration": 53,
    "start_time": "2022-07-20T19:31:08.519Z"
   },
   {
    "duration": 19,
    "start_time": "2022-07-20T19:31:08.575Z"
   },
   {
    "duration": 121,
    "start_time": "2022-07-20T19:31:41.085Z"
   },
   {
    "duration": 16,
    "start_time": "2022-07-20T19:32:11.540Z"
   },
   {
    "duration": 33,
    "start_time": "2022-07-20T19:32:19.476Z"
   },
   {
    "duration": 1284,
    "start_time": "2022-07-20T19:32:29.348Z"
   },
   {
    "duration": 91,
    "start_time": "2022-07-20T19:32:30.634Z"
   },
   {
    "duration": 6,
    "start_time": "2022-07-20T19:32:30.727Z"
   },
   {
    "duration": 58,
    "start_time": "2022-07-20T19:32:30.735Z"
   },
   {
    "duration": 27,
    "start_time": "2022-07-20T19:32:30.795Z"
   },
   {
    "duration": 21,
    "start_time": "2022-07-20T19:32:30.824Z"
   },
   {
    "duration": 23,
    "start_time": "2022-07-20T19:32:30.865Z"
   },
   {
    "duration": 32,
    "start_time": "2022-07-20T19:32:30.891Z"
   },
   {
    "duration": 14,
    "start_time": "2022-07-20T19:32:30.925Z"
   },
   {
    "duration": 12,
    "start_time": "2022-07-20T19:32:30.942Z"
   },
   {
    "duration": 29,
    "start_time": "2022-07-20T19:32:30.956Z"
   },
   {
    "duration": 38,
    "start_time": "2022-07-20T19:32:30.987Z"
   },
   {
    "duration": 54,
    "start_time": "2022-07-20T19:32:31.026Z"
   },
   {
    "duration": 59,
    "start_time": "2022-07-20T19:32:31.082Z"
   },
   {
    "duration": 17,
    "start_time": "2022-07-20T19:32:31.144Z"
   },
   {
    "duration": 181,
    "start_time": "2022-07-20T19:32:31.163Z"
   },
   {
    "duration": 170,
    "start_time": "2022-07-20T19:32:31.346Z"
   },
   {
    "duration": 19,
    "start_time": "2022-07-20T19:32:31.518Z"
   },
   {
    "duration": 33,
    "start_time": "2022-07-20T19:32:31.539Z"
   },
   {
    "duration": 326,
    "start_time": "2022-07-20T19:32:31.574Z"
   },
   {
    "duration": 401,
    "start_time": "2022-07-20T19:32:31.902Z"
   },
   {
    "duration": 67,
    "start_time": "2022-07-20T19:32:32.305Z"
   },
   {
    "duration": 622,
    "start_time": "2022-07-20T19:32:32.374Z"
   },
   {
    "duration": 579,
    "start_time": "2022-07-20T19:32:32.999Z"
   },
   {
    "duration": 708,
    "start_time": "2022-07-20T19:32:33.580Z"
   },
   {
    "duration": 12,
    "start_time": "2022-07-20T19:32:34.290Z"
   },
   {
    "duration": 498,
    "start_time": "2022-07-20T19:32:34.304Z"
   },
   {
    "duration": 5,
    "start_time": "2022-07-20T19:32:34.807Z"
   },
   {
    "duration": 199,
    "start_time": "2022-07-20T19:32:34.814Z"
   },
   {
    "duration": 5,
    "start_time": "2022-07-20T19:32:35.015Z"
   },
   {
    "duration": 20,
    "start_time": "2022-07-20T19:32:35.021Z"
   },
   {
    "duration": 10,
    "start_time": "2022-07-20T19:32:35.043Z"
   },
   {
    "duration": 21,
    "start_time": "2022-07-20T19:32:35.055Z"
   },
   {
    "duration": 22,
    "start_time": "2022-07-20T19:32:35.078Z"
   },
   {
    "duration": 12,
    "start_time": "2022-07-20T19:32:35.102Z"
   },
   {
    "duration": 174,
    "start_time": "2022-07-20T19:32:35.116Z"
   },
   {
    "duration": 10,
    "start_time": "2022-07-20T19:32:35.292Z"
   },
   {
    "duration": 9,
    "start_time": "2022-07-20T19:32:35.304Z"
   },
   {
    "duration": 206,
    "start_time": "2022-07-20T19:32:35.315Z"
   },
   {
    "duration": 144,
    "start_time": "2022-07-20T19:32:35.522Z"
   },
   {
    "duration": 16,
    "start_time": "2022-07-20T19:32:35.668Z"
   },
   {
    "duration": 17,
    "start_time": "2022-07-20T19:32:35.687Z"
   },
   {
    "duration": 14,
    "start_time": "2022-07-20T19:32:35.706Z"
   },
   {
    "duration": 12,
    "start_time": "2022-07-20T19:32:35.722Z"
   },
   {
    "duration": 9,
    "start_time": "2022-07-20T19:32:35.736Z"
   },
   {
    "duration": 16,
    "start_time": "2022-07-20T19:32:35.747Z"
   },
   {
    "duration": 11,
    "start_time": "2022-07-20T19:32:35.765Z"
   },
   {
    "duration": 27,
    "start_time": "2022-07-20T19:34:07.973Z"
   },
   {
    "duration": 1198,
    "start_time": "2022-07-20T19:34:35.230Z"
   },
   {
    "duration": 88,
    "start_time": "2022-07-20T19:34:36.431Z"
   },
   {
    "duration": 4,
    "start_time": "2022-07-20T19:34:36.521Z"
   },
   {
    "duration": 31,
    "start_time": "2022-07-20T19:34:36.527Z"
   },
   {
    "duration": 28,
    "start_time": "2022-07-20T19:34:36.560Z"
   },
   {
    "duration": 44,
    "start_time": "2022-07-20T19:34:36.590Z"
   },
   {
    "duration": 20,
    "start_time": "2022-07-20T19:34:36.636Z"
   },
   {
    "duration": 35,
    "start_time": "2022-07-20T19:34:36.658Z"
   },
   {
    "duration": 8,
    "start_time": "2022-07-20T19:34:36.695Z"
   },
   {
    "duration": 11,
    "start_time": "2022-07-20T19:34:36.705Z"
   },
   {
    "duration": 17,
    "start_time": "2022-07-20T19:34:36.718Z"
   },
   {
    "duration": 16,
    "start_time": "2022-07-20T19:34:36.737Z"
   },
   {
    "duration": 51,
    "start_time": "2022-07-20T19:34:36.755Z"
   },
   {
    "duration": 26,
    "start_time": "2022-07-20T19:34:36.810Z"
   },
   {
    "duration": 41,
    "start_time": "2022-07-20T19:34:36.838Z"
   },
   {
    "duration": 221,
    "start_time": "2022-07-20T19:34:36.881Z"
   },
   {
    "duration": 151,
    "start_time": "2022-07-20T19:34:37.104Z"
   },
   {
    "duration": 29,
    "start_time": "2022-07-20T19:34:37.256Z"
   },
   {
    "duration": 17,
    "start_time": "2022-07-20T19:34:37.288Z"
   },
   {
    "duration": 390,
    "start_time": "2022-07-20T19:34:37.307Z"
   },
   {
    "duration": 486,
    "start_time": "2022-07-20T19:34:37.699Z"
   },
   {
    "duration": 12,
    "start_time": "2022-07-20T19:34:38.190Z"
   },
   {
    "duration": 600,
    "start_time": "2022-07-20T19:34:38.203Z"
   },
   {
    "duration": 672,
    "start_time": "2022-07-20T19:34:38.806Z"
   },
   {
    "duration": 596,
    "start_time": "2022-07-20T19:34:39.481Z"
   },
   {
    "duration": 13,
    "start_time": "2022-07-20T19:34:40.085Z"
   },
   {
    "duration": 294,
    "start_time": "2022-07-20T19:34:40.100Z"
   },
   {
    "duration": 6,
    "start_time": "2022-07-20T19:34:40.396Z"
   },
   {
    "duration": 226,
    "start_time": "2022-07-20T19:34:40.404Z"
   },
   {
    "duration": 4,
    "start_time": "2022-07-20T19:34:40.632Z"
   },
   {
    "duration": 10,
    "start_time": "2022-07-20T19:34:40.638Z"
   },
   {
    "duration": 9,
    "start_time": "2022-07-20T19:34:40.666Z"
   },
   {
    "duration": 23,
    "start_time": "2022-07-20T19:34:40.678Z"
   },
   {
    "duration": 15,
    "start_time": "2022-07-20T19:34:40.703Z"
   },
   {
    "duration": 13,
    "start_time": "2022-07-20T19:34:40.719Z"
   },
   {
    "duration": 174,
    "start_time": "2022-07-20T19:34:40.735Z"
   },
   {
    "duration": 10,
    "start_time": "2022-07-20T19:34:40.911Z"
   },
   {
    "duration": 5,
    "start_time": "2022-07-20T19:34:40.924Z"
   },
   {
    "duration": 197,
    "start_time": "2022-07-20T19:34:40.930Z"
   },
   {
    "duration": 130,
    "start_time": "2022-07-20T19:34:41.129Z"
   },
   {
    "duration": 10,
    "start_time": "2022-07-20T19:34:41.268Z"
   },
   {
    "duration": 19,
    "start_time": "2022-07-20T19:34:41.281Z"
   },
   {
    "duration": 9,
    "start_time": "2022-07-20T19:34:41.302Z"
   },
   {
    "duration": 8,
    "start_time": "2022-07-20T19:34:41.313Z"
   },
   {
    "duration": 5,
    "start_time": "2022-07-20T19:34:41.323Z"
   },
   {
    "duration": 14,
    "start_time": "2022-07-20T19:34:41.330Z"
   },
   {
    "duration": 25,
    "start_time": "2022-07-20T19:34:41.346Z"
   },
   {
    "duration": 28,
    "start_time": "2022-07-20T19:35:20.454Z"
   },
   {
    "duration": 24,
    "start_time": "2022-07-20T19:35:36.831Z"
   },
   {
    "duration": 19,
    "start_time": "2022-07-20T19:35:47.227Z"
   },
   {
    "duration": 30,
    "start_time": "2022-07-20T19:36:01.551Z"
   },
   {
    "duration": 75,
    "start_time": "2022-07-20T19:36:19.376Z"
   },
   {
    "duration": 16,
    "start_time": "2022-07-20T19:36:24.437Z"
   },
   {
    "duration": 34,
    "start_time": "2022-07-20T19:36:31.861Z"
   },
   {
    "duration": 1203,
    "start_time": "2022-07-20T19:36:46.201Z"
   },
   {
    "duration": 79,
    "start_time": "2022-07-20T19:36:47.406Z"
   },
   {
    "duration": 4,
    "start_time": "2022-07-20T19:36:47.487Z"
   },
   {
    "duration": 29,
    "start_time": "2022-07-20T19:36:47.494Z"
   },
   {
    "duration": 23,
    "start_time": "2022-07-20T19:36:47.525Z"
   },
   {
    "duration": 40,
    "start_time": "2022-07-20T19:36:47.550Z"
   },
   {
    "duration": 19,
    "start_time": "2022-07-20T19:36:47.592Z"
   },
   {
    "duration": 9,
    "start_time": "2022-07-20T19:36:47.613Z"
   },
   {
    "duration": 7,
    "start_time": "2022-07-20T19:36:47.623Z"
   },
   {
    "duration": 38,
    "start_time": "2022-07-20T19:36:47.633Z"
   },
   {
    "duration": 20,
    "start_time": "2022-07-20T19:36:47.673Z"
   },
   {
    "duration": 17,
    "start_time": "2022-07-20T19:36:47.695Z"
   },
   {
    "duration": 56,
    "start_time": "2022-07-20T19:36:47.714Z"
   },
   {
    "duration": 31,
    "start_time": "2022-07-20T19:36:47.773Z"
   },
   {
    "duration": 20,
    "start_time": "2022-07-20T19:36:47.806Z"
   },
   {
    "duration": 211,
    "start_time": "2022-07-20T19:36:47.828Z"
   },
   {
    "duration": 154,
    "start_time": "2022-07-20T19:36:48.041Z"
   },
   {
    "duration": 15,
    "start_time": "2022-07-20T19:36:48.197Z"
   },
   {
    "duration": 9,
    "start_time": "2022-07-20T19:36:48.214Z"
   },
   {
    "duration": 315,
    "start_time": "2022-07-20T19:36:48.225Z"
   },
   {
    "duration": 198,
    "start_time": "2022-07-20T19:36:48.542Z"
   },
   {
    "duration": 11,
    "start_time": "2022-07-20T19:36:48.741Z"
   },
   {
    "duration": 327,
    "start_time": "2022-07-20T19:36:48.764Z"
   },
   {
    "duration": 513,
    "start_time": "2022-07-20T19:36:49.093Z"
   },
   {
    "duration": 605,
    "start_time": "2022-07-20T19:36:49.664Z"
   },
   {
    "duration": 19,
    "start_time": "2022-07-20T19:36:50.272Z"
   },
   {
    "duration": 391,
    "start_time": "2022-07-20T19:36:50.292Z"
   },
   {
    "duration": 6,
    "start_time": "2022-07-20T19:36:50.688Z"
   },
   {
    "duration": 471,
    "start_time": "2022-07-20T19:36:50.697Z"
   },
   {
    "duration": 5,
    "start_time": "2022-07-20T19:36:51.171Z"
   },
   {
    "duration": 19,
    "start_time": "2022-07-20T19:36:51.178Z"
   },
   {
    "duration": 6,
    "start_time": "2022-07-20T19:36:51.199Z"
   },
   {
    "duration": 7,
    "start_time": "2022-07-20T19:36:51.207Z"
   },
   {
    "duration": 16,
    "start_time": "2022-07-20T19:36:51.267Z"
   },
   {
    "duration": 14,
    "start_time": "2022-07-20T19:36:51.284Z"
   },
   {
    "duration": 280,
    "start_time": "2022-07-20T19:36:51.300Z"
   },
   {
    "duration": 13,
    "start_time": "2022-07-20T19:36:51.583Z"
   },
   {
    "duration": 10,
    "start_time": "2022-07-20T19:36:51.598Z"
   },
   {
    "duration": 177,
    "start_time": "2022-07-20T19:36:51.610Z"
   },
   {
    "duration": 133,
    "start_time": "2022-07-20T19:36:51.789Z"
   },
   {
    "duration": 7,
    "start_time": "2022-07-20T19:36:51.923Z"
   },
   {
    "duration": 10,
    "start_time": "2022-07-20T19:36:51.931Z"
   },
   {
    "duration": 23,
    "start_time": "2022-07-20T19:36:51.942Z"
   },
   {
    "duration": 13,
    "start_time": "2022-07-20T19:36:51.967Z"
   },
   {
    "duration": 17,
    "start_time": "2022-07-20T19:36:51.982Z"
   },
   {
    "duration": 11,
    "start_time": "2022-07-20T19:36:52.000Z"
   },
   {
    "duration": 7,
    "start_time": "2022-07-20T19:36:52.012Z"
   },
   {
    "duration": 25,
    "start_time": "2022-07-20T19:36:59.495Z"
   },
   {
    "duration": 18,
    "start_time": "2022-07-20T19:38:25.561Z"
   },
   {
    "duration": 1271,
    "start_time": "2022-07-20T19:38:41.680Z"
   },
   {
    "duration": 80,
    "start_time": "2022-07-20T19:38:42.953Z"
   },
   {
    "duration": 3,
    "start_time": "2022-07-20T19:38:43.035Z"
   },
   {
    "duration": 29,
    "start_time": "2022-07-20T19:38:43.040Z"
   },
   {
    "duration": 24,
    "start_time": "2022-07-20T19:38:43.071Z"
   },
   {
    "duration": 19,
    "start_time": "2022-07-20T19:38:43.097Z"
   },
   {
    "duration": 12,
    "start_time": "2022-07-20T19:38:43.117Z"
   },
   {
    "duration": 5,
    "start_time": "2022-07-20T19:38:43.165Z"
   },
   {
    "duration": 18,
    "start_time": "2022-07-20T19:38:43.172Z"
   },
   {
    "duration": 12,
    "start_time": "2022-07-20T19:38:43.193Z"
   },
   {
    "duration": 17,
    "start_time": "2022-07-20T19:38:43.206Z"
   },
   {
    "duration": 14,
    "start_time": "2022-07-20T19:38:43.225Z"
   },
   {
    "duration": 35,
    "start_time": "2022-07-20T19:38:43.241Z"
   },
   {
    "duration": 18,
    "start_time": "2022-07-20T19:38:43.278Z"
   },
   {
    "duration": 25,
    "start_time": "2022-07-20T19:38:43.297Z"
   },
   {
    "duration": 25,
    "start_time": "2022-07-20T19:38:43.324Z"
   },
   {
    "duration": 207,
    "start_time": "2022-07-20T19:38:43.351Z"
   },
   {
    "duration": 149,
    "start_time": "2022-07-20T19:38:43.563Z"
   },
   {
    "duration": 15,
    "start_time": "2022-07-20T19:38:43.714Z"
   },
   {
    "duration": 19,
    "start_time": "2022-07-20T19:38:43.731Z"
   },
   {
    "duration": 311,
    "start_time": "2022-07-20T19:38:43.752Z"
   },
   {
    "duration": 303,
    "start_time": "2022-07-20T19:38:44.066Z"
   },
   {
    "duration": 19,
    "start_time": "2022-07-20T19:38:44.372Z"
   },
   {
    "duration": 585,
    "start_time": "2022-07-20T19:38:44.393Z"
   },
   {
    "duration": 527,
    "start_time": "2022-07-20T19:38:44.980Z"
   },
   {
    "duration": 541,
    "start_time": "2022-07-20T19:38:45.565Z"
   },
   {
    "duration": 67,
    "start_time": "2022-07-20T19:38:46.108Z"
   },
   {
    "duration": 399,
    "start_time": "2022-07-20T19:38:46.181Z"
   },
   {
    "duration": 8,
    "start_time": "2022-07-20T19:38:46.582Z"
   },
   {
    "duration": 174,
    "start_time": "2022-07-20T19:38:46.592Z"
   },
   {
    "duration": 5,
    "start_time": "2022-07-20T19:38:46.768Z"
   },
   {
    "duration": 18,
    "start_time": "2022-07-20T19:38:46.776Z"
   },
   {
    "duration": 10,
    "start_time": "2022-07-20T19:38:46.796Z"
   },
   {
    "duration": 8,
    "start_time": "2022-07-20T19:38:46.807Z"
   },
   {
    "duration": 17,
    "start_time": "2022-07-20T19:38:46.817Z"
   },
   {
    "duration": 10,
    "start_time": "2022-07-20T19:38:46.836Z"
   },
   {
    "duration": 160,
    "start_time": "2022-07-20T19:38:46.848Z"
   },
   {
    "duration": 11,
    "start_time": "2022-07-20T19:38:47.009Z"
   },
   {
    "duration": 11,
    "start_time": "2022-07-20T19:38:47.022Z"
   },
   {
    "duration": 175,
    "start_time": "2022-07-20T19:38:47.035Z"
   },
   {
    "duration": 127,
    "start_time": "2022-07-20T19:38:47.212Z"
   },
   {
    "duration": 7,
    "start_time": "2022-07-20T19:38:47.342Z"
   },
   {
    "duration": 17,
    "start_time": "2022-07-20T19:38:47.351Z"
   },
   {
    "duration": 32,
    "start_time": "2022-07-20T19:38:47.370Z"
   },
   {
    "duration": 11,
    "start_time": "2022-07-20T19:38:47.404Z"
   },
   {
    "duration": 13,
    "start_time": "2022-07-20T19:38:47.417Z"
   },
   {
    "duration": 14,
    "start_time": "2022-07-20T19:38:47.432Z"
   },
   {
    "duration": 11,
    "start_time": "2022-07-20T19:38:47.448Z"
   },
   {
    "duration": 23,
    "start_time": "2022-07-20T19:41:31.291Z"
   },
   {
    "duration": 1269,
    "start_time": "2022-07-20T19:41:40.101Z"
   },
   {
    "duration": 89,
    "start_time": "2022-07-20T19:41:41.373Z"
   },
   {
    "duration": 3,
    "start_time": "2022-07-20T19:41:41.467Z"
   },
   {
    "duration": 26,
    "start_time": "2022-07-20T19:41:41.474Z"
   },
   {
    "duration": 18,
    "start_time": "2022-07-20T19:41:41.502Z"
   },
   {
    "duration": 48,
    "start_time": "2022-07-20T19:41:41.522Z"
   },
   {
    "duration": 18,
    "start_time": "2022-07-20T19:41:41.573Z"
   },
   {
    "duration": 8,
    "start_time": "2022-07-20T19:41:41.592Z"
   },
   {
    "duration": 6,
    "start_time": "2022-07-20T19:41:41.603Z"
   },
   {
    "duration": 10,
    "start_time": "2022-07-20T19:41:41.610Z"
   },
   {
    "duration": 10,
    "start_time": "2022-07-20T19:41:41.622Z"
   },
   {
    "duration": 56,
    "start_time": "2022-07-20T19:41:41.634Z"
   },
   {
    "duration": 37,
    "start_time": "2022-07-20T19:41:41.693Z"
   },
   {
    "duration": 12,
    "start_time": "2022-07-20T19:41:41.731Z"
   },
   {
    "duration": 29,
    "start_time": "2022-07-20T19:41:41.745Z"
   },
   {
    "duration": 22,
    "start_time": "2022-07-20T19:41:41.777Z"
   },
   {
    "duration": 195,
    "start_time": "2022-07-20T19:41:41.801Z"
   },
   {
    "duration": 144,
    "start_time": "2022-07-20T19:41:41.998Z"
   },
   {
    "duration": 34,
    "start_time": "2022-07-20T19:41:42.144Z"
   },
   {
    "duration": 17,
    "start_time": "2022-07-20T19:41:42.180Z"
   },
   {
    "duration": 297,
    "start_time": "2022-07-20T19:41:42.199Z"
   },
   {
    "duration": 252,
    "start_time": "2022-07-20T19:41:42.498Z"
   },
   {
    "duration": 29,
    "start_time": "2022-07-20T19:41:42.752Z"
   },
   {
    "duration": 309,
    "start_time": "2022-07-20T19:41:42.784Z"
   },
   {
    "duration": 211,
    "start_time": "2022-07-20T19:41:43.095Z"
   },
   {
    "duration": 318,
    "start_time": "2022-07-20T19:41:43.308Z"
   },
   {
    "duration": 10,
    "start_time": "2022-07-20T19:41:43.630Z"
   },
   {
    "duration": 178,
    "start_time": "2022-07-20T19:41:43.643Z"
   },
   {
    "duration": 5,
    "start_time": "2022-07-20T19:41:43.823Z"
   },
   {
    "duration": 162,
    "start_time": "2022-07-20T19:41:43.830Z"
   },
   {
    "duration": 5,
    "start_time": "2022-07-20T19:41:43.994Z"
   },
   {
    "duration": 9,
    "start_time": "2022-07-20T19:41:44.000Z"
   },
   {
    "duration": 9,
    "start_time": "2022-07-20T19:41:44.011Z"
   },
   {
    "duration": 8,
    "start_time": "2022-07-20T19:41:44.022Z"
   },
   {
    "duration": 36,
    "start_time": "2022-07-20T19:41:44.031Z"
   },
   {
    "duration": 9,
    "start_time": "2022-07-20T19:41:44.070Z"
   },
   {
    "duration": 411,
    "start_time": "2022-07-20T19:41:44.081Z"
   },
   {
    "duration": 10,
    "start_time": "2022-07-20T19:41:44.494Z"
   },
   {
    "duration": 58,
    "start_time": "2022-07-20T19:41:44.506Z"
   },
   {
    "duration": 427,
    "start_time": "2022-07-20T19:41:44.568Z"
   },
   {
    "duration": 378,
    "start_time": "2022-07-20T19:41:44.997Z"
   },
   {
    "duration": 9,
    "start_time": "2022-07-20T19:41:45.377Z"
   },
   {
    "duration": 14,
    "start_time": "2022-07-20T19:41:45.388Z"
   },
   {
    "duration": 11,
    "start_time": "2022-07-20T19:41:45.406Z"
   },
   {
    "duration": 8,
    "start_time": "2022-07-20T19:41:45.467Z"
   },
   {
    "duration": 22,
    "start_time": "2022-07-20T19:41:45.477Z"
   },
   {
    "duration": 9,
    "start_time": "2022-07-20T19:41:45.501Z"
   },
   {
    "duration": 9,
    "start_time": "2022-07-20T19:41:45.512Z"
   },
   {
    "duration": 30,
    "start_time": "2022-07-20T19:42:30.451Z"
   },
   {
    "duration": 32,
    "start_time": "2022-07-20T19:42:35.562Z"
   },
   {
    "duration": 20,
    "start_time": "2022-07-20T19:43:05.913Z"
   },
   {
    "duration": 1296,
    "start_time": "2022-07-20T19:43:14.935Z"
   },
   {
    "duration": 78,
    "start_time": "2022-07-20T19:43:16.233Z"
   },
   {
    "duration": 3,
    "start_time": "2022-07-20T19:43:16.313Z"
   },
   {
    "duration": 26,
    "start_time": "2022-07-20T19:43:16.318Z"
   },
   {
    "duration": 18,
    "start_time": "2022-07-20T19:43:16.346Z"
   },
   {
    "duration": 25,
    "start_time": "2022-07-20T19:43:16.366Z"
   },
   {
    "duration": 18,
    "start_time": "2022-07-20T19:43:16.392Z"
   },
   {
    "duration": 7,
    "start_time": "2022-07-20T19:43:16.412Z"
   },
   {
    "duration": 8,
    "start_time": "2022-07-20T19:43:16.421Z"
   },
   {
    "duration": 36,
    "start_time": "2022-07-20T19:43:16.431Z"
   },
   {
    "duration": 21,
    "start_time": "2022-07-20T19:43:16.469Z"
   },
   {
    "duration": 23,
    "start_time": "2022-07-20T19:43:16.492Z"
   },
   {
    "duration": 20,
    "start_time": "2022-07-20T19:43:16.517Z"
   },
   {
    "duration": 33,
    "start_time": "2022-07-20T19:43:16.540Z"
   },
   {
    "duration": 33,
    "start_time": "2022-07-20T19:43:16.575Z"
   },
   {
    "duration": 19,
    "start_time": "2022-07-20T19:43:16.610Z"
   },
   {
    "duration": 177,
    "start_time": "2022-07-20T19:43:16.631Z"
   },
   {
    "duration": 140,
    "start_time": "2022-07-20T19:43:16.809Z"
   },
   {
    "duration": 20,
    "start_time": "2022-07-20T19:43:16.963Z"
   },
   {
    "duration": 17,
    "start_time": "2022-07-20T19:43:16.985Z"
   },
   {
    "duration": 274,
    "start_time": "2022-07-20T19:43:17.004Z"
   },
   {
    "duration": 210,
    "start_time": "2022-07-20T19:43:17.281Z"
   },
   {
    "duration": 11,
    "start_time": "2022-07-20T19:43:17.493Z"
   },
   {
    "duration": 305,
    "start_time": "2022-07-20T19:43:17.506Z"
   },
   {
    "duration": 244,
    "start_time": "2022-07-20T19:43:17.813Z"
   },
   {
    "duration": 338,
    "start_time": "2022-07-20T19:43:18.059Z"
   },
   {
    "duration": 9,
    "start_time": "2022-07-20T19:43:18.399Z"
   },
   {
    "duration": 192,
    "start_time": "2022-07-20T19:43:18.410Z"
   },
   {
    "duration": 4,
    "start_time": "2022-07-20T19:43:18.605Z"
   },
   {
    "duration": 181,
    "start_time": "2022-07-20T19:43:18.611Z"
   },
   {
    "duration": 5,
    "start_time": "2022-07-20T19:43:18.795Z"
   },
   {
    "duration": 11,
    "start_time": "2022-07-20T19:43:18.802Z"
   },
   {
    "duration": 7,
    "start_time": "2022-07-20T19:43:18.814Z"
   },
   {
    "duration": 6,
    "start_time": "2022-07-20T19:43:18.822Z"
   },
   {
    "duration": 41,
    "start_time": "2022-07-20T19:43:18.830Z"
   },
   {
    "duration": 12,
    "start_time": "2022-07-20T19:43:18.873Z"
   },
   {
    "duration": 155,
    "start_time": "2022-07-20T19:43:18.887Z"
   },
   {
    "duration": 22,
    "start_time": "2022-07-20T19:43:19.044Z"
   },
   {
    "duration": 20,
    "start_time": "2022-07-20T19:43:19.068Z"
   },
   {
    "duration": 160,
    "start_time": "2022-07-20T19:43:19.089Z"
   },
   {
    "duration": 141,
    "start_time": "2022-07-20T19:43:19.252Z"
   },
   {
    "duration": 8,
    "start_time": "2022-07-20T19:43:19.394Z"
   },
   {
    "duration": 14,
    "start_time": "2022-07-20T19:43:19.408Z"
   },
   {
    "duration": 14,
    "start_time": "2022-07-20T19:43:19.432Z"
   },
   {
    "duration": 16,
    "start_time": "2022-07-20T19:43:19.448Z"
   },
   {
    "duration": 8,
    "start_time": "2022-07-20T19:43:19.466Z"
   },
   {
    "duration": 18,
    "start_time": "2022-07-20T19:43:19.476Z"
   },
   {
    "duration": 13,
    "start_time": "2022-07-20T19:43:19.496Z"
   },
   {
    "duration": 19,
    "start_time": "2022-07-20T19:43:54.141Z"
   },
   {
    "duration": 23,
    "start_time": "2022-07-20T19:44:01.067Z"
   },
   {
    "duration": 19,
    "start_time": "2022-07-20T19:46:31.691Z"
   },
   {
    "duration": 5,
    "start_time": "2022-07-20T19:48:52.404Z"
   },
   {
    "duration": 29,
    "start_time": "2022-07-20T19:50:11.611Z"
   },
   {
    "duration": 21,
    "start_time": "2022-07-20T19:50:53.248Z"
   },
   {
    "duration": 22,
    "start_time": "2022-07-20T19:55:49.424Z"
   },
   {
    "duration": 22,
    "start_time": "2022-07-20T19:56:03.809Z"
   },
   {
    "duration": 22,
    "start_time": "2022-07-20T19:58:19.876Z"
   },
   {
    "duration": 19,
    "start_time": "2022-07-20T19:58:27.741Z"
   },
   {
    "duration": 19,
    "start_time": "2022-07-20T19:59:20.506Z"
   },
   {
    "duration": 18,
    "start_time": "2022-07-20T19:59:28.208Z"
   },
   {
    "duration": 16,
    "start_time": "2022-07-20T20:00:00.350Z"
   },
   {
    "duration": 21,
    "start_time": "2022-07-20T20:00:09.442Z"
   },
   {
    "duration": 15,
    "start_time": "2022-07-20T20:00:18.612Z"
   },
   {
    "duration": 17,
    "start_time": "2022-07-20T20:00:26.568Z"
   },
   {
    "duration": 20,
    "start_time": "2022-07-20T20:02:42.974Z"
   },
   {
    "duration": 20,
    "start_time": "2022-07-20T20:02:48.650Z"
   },
   {
    "duration": 20,
    "start_time": "2022-07-20T20:02:53.552Z"
   },
   {
    "duration": 17,
    "start_time": "2022-07-20T20:03:05.577Z"
   },
   {
    "duration": 1231,
    "start_time": "2022-07-20T20:07:06.775Z"
   },
   {
    "duration": 1526,
    "start_time": "2022-07-20T20:07:23.508Z"
   },
   {
    "duration": 78,
    "start_time": "2022-07-20T20:07:25.036Z"
   },
   {
    "duration": 4,
    "start_time": "2022-07-20T20:07:25.116Z"
   },
   {
    "duration": 38,
    "start_time": "2022-07-20T20:07:25.123Z"
   },
   {
    "duration": 19,
    "start_time": "2022-07-20T20:07:25.163Z"
   },
   {
    "duration": 18,
    "start_time": "2022-07-20T20:07:25.184Z"
   },
   {
    "duration": 13,
    "start_time": "2022-07-20T20:07:25.203Z"
   },
   {
    "duration": 13,
    "start_time": "2022-07-20T20:07:25.218Z"
   },
   {
    "duration": 42,
    "start_time": "2022-07-20T20:07:25.233Z"
   },
   {
    "duration": 18,
    "start_time": "2022-07-20T20:07:25.278Z"
   },
   {
    "duration": 19,
    "start_time": "2022-07-20T20:07:25.297Z"
   },
   {
    "duration": 18,
    "start_time": "2022-07-20T20:07:25.318Z"
   },
   {
    "duration": 42,
    "start_time": "2022-07-20T20:07:25.338Z"
   },
   {
    "duration": 32,
    "start_time": "2022-07-20T20:07:25.382Z"
   },
   {
    "duration": 187,
    "start_time": "2022-07-20T20:07:25.415Z"
   },
   {
    "duration": 134,
    "start_time": "2022-07-20T20:07:25.604Z"
   },
   {
    "duration": 32,
    "start_time": "2022-07-20T20:07:25.740Z"
   },
   {
    "duration": 19,
    "start_time": "2022-07-20T20:07:25.774Z"
   },
   {
    "duration": 305,
    "start_time": "2022-07-20T20:07:25.795Z"
   },
   {
    "duration": 206,
    "start_time": "2022-07-20T20:07:26.102Z"
   },
   {
    "duration": 13,
    "start_time": "2022-07-20T20:07:26.309Z"
   },
   {
    "duration": 328,
    "start_time": "2022-07-20T20:07:26.324Z"
   },
   {
    "duration": 219,
    "start_time": "2022-07-20T20:07:26.653Z"
   },
   {
    "duration": 316,
    "start_time": "2022-07-20T20:07:26.874Z"
   },
   {
    "duration": 9,
    "start_time": "2022-07-20T20:07:27.192Z"
   },
   {
    "duration": 380,
    "start_time": "2022-07-20T20:07:27.203Z"
   },
   {
    "duration": 5,
    "start_time": "2022-07-20T20:07:27.585Z"
   },
   {
    "duration": 381,
    "start_time": "2022-07-20T20:07:27.594Z"
   },
   {
    "duration": 4,
    "start_time": "2022-07-20T20:07:27.977Z"
   },
   {
    "duration": 23,
    "start_time": "2022-07-20T20:07:27.983Z"
   },
   {
    "duration": 57,
    "start_time": "2022-07-20T20:07:28.008Z"
   },
   {
    "duration": 6,
    "start_time": "2022-07-20T20:07:28.067Z"
   },
   {
    "duration": 14,
    "start_time": "2022-07-20T20:07:28.075Z"
   },
   {
    "duration": 12,
    "start_time": "2022-07-20T20:07:28.091Z"
   },
   {
    "duration": 286,
    "start_time": "2022-07-20T20:07:28.106Z"
   },
   {
    "duration": 11,
    "start_time": "2022-07-20T20:07:28.394Z"
   },
   {
    "duration": 4,
    "start_time": "2022-07-20T20:07:28.464Z"
   },
   {
    "duration": 398,
    "start_time": "2022-07-20T20:07:28.470Z"
   },
   {
    "duration": 225,
    "start_time": "2022-07-20T20:07:28.870Z"
   },
   {
    "duration": 7,
    "start_time": "2022-07-20T20:07:29.097Z"
   },
   {
    "duration": 60,
    "start_time": "2022-07-20T20:07:29.106Z"
   },
   {
    "duration": 6,
    "start_time": "2022-07-20T20:07:29.167Z"
   },
   {
    "duration": 9,
    "start_time": "2022-07-20T20:07:29.175Z"
   },
   {
    "duration": 7,
    "start_time": "2022-07-20T20:07:29.186Z"
   },
   {
    "duration": 11,
    "start_time": "2022-07-20T20:07:29.194Z"
   },
   {
    "duration": 59,
    "start_time": "2022-07-20T20:07:29.206Z"
   },
   {
    "duration": 1237,
    "start_time": "2022-07-20T20:08:21.593Z"
   },
   {
    "duration": 81,
    "start_time": "2022-07-20T20:08:22.833Z"
   },
   {
    "duration": 4,
    "start_time": "2022-07-20T20:08:22.916Z"
   },
   {
    "duration": 31,
    "start_time": "2022-07-20T20:08:22.923Z"
   },
   {
    "duration": 23,
    "start_time": "2022-07-20T20:08:22.957Z"
   },
   {
    "duration": 23,
    "start_time": "2022-07-20T20:08:22.982Z"
   },
   {
    "duration": 20,
    "start_time": "2022-07-20T20:08:23.007Z"
   },
   {
    "duration": 36,
    "start_time": "2022-07-20T20:08:23.030Z"
   },
   {
    "duration": 11,
    "start_time": "2022-07-20T20:08:23.068Z"
   },
   {
    "duration": 15,
    "start_time": "2022-07-20T20:08:23.081Z"
   },
   {
    "duration": 13,
    "start_time": "2022-07-20T20:08:23.098Z"
   },
   {
    "duration": 27,
    "start_time": "2022-07-20T20:08:23.113Z"
   },
   {
    "duration": 27,
    "start_time": "2022-07-20T20:08:23.143Z"
   },
   {
    "duration": 49,
    "start_time": "2022-07-20T20:08:23.175Z"
   },
   {
    "duration": 258,
    "start_time": "2022-07-20T20:08:23.226Z"
   },
   {
    "duration": 159,
    "start_time": "2022-07-20T20:08:23.486Z"
   },
   {
    "duration": 34,
    "start_time": "2022-07-20T20:08:23.649Z"
   },
   {
    "duration": 24,
    "start_time": "2022-07-20T20:08:23.685Z"
   },
   {
    "duration": 321,
    "start_time": "2022-07-20T20:08:23.711Z"
   },
   {
    "duration": 213,
    "start_time": "2022-07-20T20:08:24.035Z"
   },
   {
    "duration": 23,
    "start_time": "2022-07-20T20:08:24.250Z"
   },
   {
    "duration": 316,
    "start_time": "2022-07-20T20:08:24.276Z"
   },
   {
    "duration": 239,
    "start_time": "2022-07-20T20:08:24.595Z"
   },
   {
    "duration": 456,
    "start_time": "2022-07-20T20:08:24.835Z"
   },
   {
    "duration": 10,
    "start_time": "2022-07-20T20:08:25.293Z"
   },
   {
    "duration": 364,
    "start_time": "2022-07-20T20:08:25.305Z"
   },
   {
    "duration": 5,
    "start_time": "2022-07-20T20:08:25.671Z"
   },
   {
    "duration": 311,
    "start_time": "2022-07-20T20:08:25.677Z"
   },
   {
    "duration": 5,
    "start_time": "2022-07-20T20:08:25.989Z"
   },
   {
    "duration": 13,
    "start_time": "2022-07-20T20:08:25.996Z"
   },
   {
    "duration": 73,
    "start_time": "2022-07-20T20:08:26.011Z"
   },
   {
    "duration": 14,
    "start_time": "2022-07-20T20:08:26.086Z"
   },
   {
    "duration": 63,
    "start_time": "2022-07-20T20:08:26.102Z"
   },
   {
    "duration": 11,
    "start_time": "2022-07-20T20:08:26.167Z"
   },
   {
    "duration": 286,
    "start_time": "2022-07-20T20:08:26.180Z"
   },
   {
    "duration": 11,
    "start_time": "2022-07-20T20:08:26.468Z"
   },
   {
    "duration": 9,
    "start_time": "2022-07-20T20:08:26.481Z"
   },
   {
    "duration": 494,
    "start_time": "2022-07-20T20:08:26.491Z"
   },
   {
    "duration": 310,
    "start_time": "2022-07-20T20:08:26.986Z"
   },
   {
    "duration": 12,
    "start_time": "2022-07-20T20:08:27.298Z"
   },
   {
    "duration": 9,
    "start_time": "2022-07-20T20:08:27.368Z"
   },
   {
    "duration": 8,
    "start_time": "2022-07-20T20:08:27.380Z"
   },
   {
    "duration": 23,
    "start_time": "2022-07-20T20:08:27.390Z"
   },
   {
    "duration": 50,
    "start_time": "2022-07-20T20:08:27.415Z"
   },
   {
    "duration": 13,
    "start_time": "2022-07-20T20:08:27.467Z"
   },
   {
    "duration": 7,
    "start_time": "2022-07-20T20:08:27.482Z"
   },
   {
    "duration": 1156,
    "start_time": "2022-07-20T20:09:38.678Z"
   },
   {
    "duration": 1213,
    "start_time": "2022-07-20T20:09:52.649Z"
   },
   {
    "duration": 80,
    "start_time": "2022-07-20T20:09:53.864Z"
   },
   {
    "duration": 4,
    "start_time": "2022-07-20T20:09:53.948Z"
   },
   {
    "duration": 27,
    "start_time": "2022-07-20T20:09:53.953Z"
   },
   {
    "duration": 18,
    "start_time": "2022-07-20T20:09:53.982Z"
   },
   {
    "duration": 17,
    "start_time": "2022-07-20T20:09:54.002Z"
   },
   {
    "duration": 44,
    "start_time": "2022-07-20T20:09:54.020Z"
   },
   {
    "duration": 9,
    "start_time": "2022-07-20T20:09:54.066Z"
   },
   {
    "duration": 13,
    "start_time": "2022-07-20T20:09:54.077Z"
   },
   {
    "duration": 10,
    "start_time": "2022-07-20T20:09:54.091Z"
   },
   {
    "duration": 11,
    "start_time": "2022-07-20T20:09:54.103Z"
   },
   {
    "duration": 14,
    "start_time": "2022-07-20T20:09:54.116Z"
   },
   {
    "duration": 6,
    "start_time": "2022-07-20T20:09:54.132Z"
   },
   {
    "duration": 48,
    "start_time": "2022-07-20T20:09:54.139Z"
   },
   {
    "duration": 187,
    "start_time": "2022-07-20T20:09:54.188Z"
   },
   {
    "duration": 125,
    "start_time": "2022-07-20T20:09:54.377Z"
   },
   {
    "duration": 60,
    "start_time": "2022-07-20T20:09:54.504Z"
   },
   {
    "duration": 15,
    "start_time": "2022-07-20T20:09:54.567Z"
   },
   {
    "duration": 455,
    "start_time": "2022-07-20T20:09:54.584Z"
   },
   {
    "duration": 206,
    "start_time": "2022-07-20T20:09:55.041Z"
   },
   {
    "duration": 22,
    "start_time": "2022-07-20T20:09:55.248Z"
   },
   {
    "duration": 280,
    "start_time": "2022-07-20T20:09:55.272Z"
   },
   {
    "duration": 212,
    "start_time": "2022-07-20T20:09:55.554Z"
   },
   {
    "duration": 399,
    "start_time": "2022-07-20T20:09:55.767Z"
   },
   {
    "duration": 9,
    "start_time": "2022-07-20T20:09:56.168Z"
   },
   {
    "duration": 325,
    "start_time": "2022-07-20T20:09:56.179Z"
   },
   {
    "duration": 57,
    "start_time": "2022-07-20T20:09:56.508Z"
   },
   {
    "duration": 321,
    "start_time": "2022-07-20T20:09:56.567Z"
   },
   {
    "duration": 5,
    "start_time": "2022-07-20T20:09:56.890Z"
   },
   {
    "duration": 67,
    "start_time": "2022-07-20T20:09:56.897Z"
   },
   {
    "duration": 18,
    "start_time": "2022-07-20T20:09:56.966Z"
   },
   {
    "duration": 8,
    "start_time": "2022-07-20T20:09:56.986Z"
   },
   {
    "duration": 15,
    "start_time": "2022-07-20T20:09:56.995Z"
   },
   {
    "duration": 54,
    "start_time": "2022-07-20T20:09:57.012Z"
   },
   {
    "duration": 318,
    "start_time": "2022-07-20T20:09:57.068Z"
   },
   {
    "duration": 11,
    "start_time": "2022-07-20T20:09:57.388Z"
   },
   {
    "duration": 62,
    "start_time": "2022-07-20T20:09:57.402Z"
   },
   {
    "duration": 314,
    "start_time": "2022-07-20T20:09:57.466Z"
   },
   {
    "duration": 197,
    "start_time": "2022-07-20T20:09:57.781Z"
   },
   {
    "duration": 8,
    "start_time": "2022-07-20T20:09:57.979Z"
   },
   {
    "duration": 8,
    "start_time": "2022-07-20T20:09:57.989Z"
   },
   {
    "duration": 8,
    "start_time": "2022-07-20T20:09:57.999Z"
   },
   {
    "duration": 9,
    "start_time": "2022-07-20T20:09:58.008Z"
   },
   {
    "duration": 5,
    "start_time": "2022-07-20T20:09:58.019Z"
   },
   {
    "duration": 10,
    "start_time": "2022-07-20T20:09:58.026Z"
   },
   {
    "duration": 32,
    "start_time": "2022-07-20T20:09:58.037Z"
   },
   {
    "duration": 167,
    "start_time": "2022-07-20T20:12:02.676Z"
   },
   {
    "duration": 237,
    "start_time": "2022-07-20T20:12:17.601Z"
   },
   {
    "duration": 136,
    "start_time": "2022-07-20T20:17:37.170Z"
   },
   {
    "duration": 5,
    "start_time": "2022-07-20T20:23:57.665Z"
   },
   {
    "duration": 8,
    "start_time": "2022-07-20T20:28:01.819Z"
   },
   {
    "duration": 1086,
    "start_time": "2022-07-20T20:28:24.604Z"
   },
   {
    "duration": 75,
    "start_time": "2022-07-20T20:28:25.692Z"
   },
   {
    "duration": 3,
    "start_time": "2022-07-20T20:28:25.771Z"
   },
   {
    "duration": 26,
    "start_time": "2022-07-20T20:28:25.776Z"
   },
   {
    "duration": 17,
    "start_time": "2022-07-20T20:28:25.804Z"
   },
   {
    "duration": 50,
    "start_time": "2022-07-20T20:28:25.823Z"
   },
   {
    "duration": 13,
    "start_time": "2022-07-20T20:28:25.875Z"
   },
   {
    "duration": 9,
    "start_time": "2022-07-20T20:28:25.890Z"
   },
   {
    "duration": 8,
    "start_time": "2022-07-20T20:28:25.901Z"
   },
   {
    "duration": 11,
    "start_time": "2022-07-20T20:28:25.911Z"
   },
   {
    "duration": 11,
    "start_time": "2022-07-20T20:28:25.924Z"
   },
   {
    "duration": 13,
    "start_time": "2022-07-20T20:28:25.964Z"
   },
   {
    "duration": 6,
    "start_time": "2022-07-20T20:28:25.978Z"
   },
   {
    "duration": 15,
    "start_time": "2022-07-20T20:28:25.986Z"
   },
   {
    "duration": 39,
    "start_time": "2022-07-20T20:28:26.003Z"
   },
   {
    "duration": 187,
    "start_time": "2022-07-20T20:28:26.044Z"
   },
   {
    "duration": 143,
    "start_time": "2022-07-20T20:28:26.233Z"
   },
   {
    "duration": 22,
    "start_time": "2022-07-20T20:28:26.378Z"
   },
   {
    "duration": 12,
    "start_time": "2022-07-20T20:28:26.401Z"
   },
   {
    "duration": 287,
    "start_time": "2022-07-20T20:28:26.414Z"
   },
   {
    "duration": 202,
    "start_time": "2022-07-20T20:28:26.703Z"
   },
   {
    "duration": 11,
    "start_time": "2022-07-20T20:28:26.907Z"
   },
   {
    "duration": 326,
    "start_time": "2022-07-20T20:28:26.919Z"
   },
   {
    "duration": 229,
    "start_time": "2022-07-20T20:28:27.247Z"
   },
   {
    "duration": 312,
    "start_time": "2022-07-20T20:28:27.479Z"
   },
   {
    "duration": 9,
    "start_time": "2022-07-20T20:28:27.793Z"
   },
   {
    "duration": 371,
    "start_time": "2022-07-20T20:28:27.806Z"
   },
   {
    "duration": 312,
    "start_time": "2022-07-20T20:28:28.179Z"
   },
   {
    "duration": 4,
    "start_time": "2022-07-20T20:28:28.492Z"
   },
   {
    "duration": 382,
    "start_time": "2022-07-20T20:28:28.498Z"
   },
   {
    "duration": 5,
    "start_time": "2022-07-20T20:28:28.882Z"
   },
   {
    "duration": 15,
    "start_time": "2022-07-20T20:28:28.889Z"
   },
   {
    "duration": 9,
    "start_time": "2022-07-20T20:28:28.905Z"
   },
   {
    "duration": 7,
    "start_time": "2022-07-20T20:28:28.964Z"
   },
   {
    "duration": 17,
    "start_time": "2022-07-20T20:28:28.973Z"
   },
   {
    "duration": 17,
    "start_time": "2022-07-20T20:28:28.992Z"
   },
   {
    "duration": 472,
    "start_time": "2022-07-20T20:28:29.011Z"
   },
   {
    "duration": 13,
    "start_time": "2022-07-20T20:28:29.485Z"
   },
   {
    "duration": 64,
    "start_time": "2022-07-20T20:28:29.501Z"
   },
   {
    "duration": 421,
    "start_time": "2022-07-20T20:28:29.567Z"
   },
   {
    "duration": 125,
    "start_time": "2022-07-20T20:28:29.990Z"
   },
   {
    "duration": 6,
    "start_time": "2022-07-20T20:28:30.117Z"
   },
   {
    "duration": 14,
    "start_time": "2022-07-20T20:28:30.125Z"
   },
   {
    "duration": 11,
    "start_time": "2022-07-20T20:28:30.141Z"
   },
   {
    "duration": 6,
    "start_time": "2022-07-20T20:28:30.164Z"
   },
   {
    "duration": 12,
    "start_time": "2022-07-20T20:28:30.171Z"
   },
   {
    "duration": 14,
    "start_time": "2022-07-20T20:28:30.185Z"
   },
   {
    "duration": 11,
    "start_time": "2022-07-20T20:28:30.201Z"
   },
   {
    "duration": 21,
    "start_time": "2022-07-20T20:28:43.815Z"
   },
   {
    "duration": 1162,
    "start_time": "2022-07-20T20:30:14.568Z"
   },
   {
    "duration": 78,
    "start_time": "2022-07-20T20:30:15.732Z"
   },
   {
    "duration": 3,
    "start_time": "2022-07-20T20:30:15.812Z"
   },
   {
    "duration": 31,
    "start_time": "2022-07-20T20:30:15.817Z"
   },
   {
    "duration": 17,
    "start_time": "2022-07-20T20:30:15.850Z"
   },
   {
    "duration": 16,
    "start_time": "2022-07-20T20:30:15.869Z"
   },
   {
    "duration": 12,
    "start_time": "2022-07-20T20:30:15.886Z"
   },
   {
    "duration": 6,
    "start_time": "2022-07-20T20:30:15.900Z"
   },
   {
    "duration": 10,
    "start_time": "2022-07-20T20:30:15.908Z"
   },
   {
    "duration": 9,
    "start_time": "2022-07-20T20:30:15.920Z"
   },
   {
    "duration": 40,
    "start_time": "2022-07-20T20:30:15.930Z"
   },
   {
    "duration": 14,
    "start_time": "2022-07-20T20:30:15.972Z"
   },
   {
    "duration": 6,
    "start_time": "2022-07-20T20:30:15.987Z"
   },
   {
    "duration": 9,
    "start_time": "2022-07-20T20:30:15.994Z"
   },
   {
    "duration": 23,
    "start_time": "2022-07-20T20:30:16.004Z"
   },
   {
    "duration": 194,
    "start_time": "2022-07-20T20:30:16.029Z"
   },
   {
    "duration": 128,
    "start_time": "2022-07-20T20:30:16.224Z"
   },
   {
    "duration": 23,
    "start_time": "2022-07-20T20:30:16.354Z"
   },
   {
    "duration": 11,
    "start_time": "2022-07-20T20:30:16.379Z"
   },
   {
    "duration": 291,
    "start_time": "2022-07-20T20:30:16.392Z"
   },
   {
    "duration": 204,
    "start_time": "2022-07-20T20:30:16.684Z"
   },
   {
    "duration": 13,
    "start_time": "2022-07-20T20:30:16.890Z"
   },
   {
    "duration": 345,
    "start_time": "2022-07-20T20:30:16.904Z"
   },
   {
    "duration": 256,
    "start_time": "2022-07-20T20:30:17.251Z"
   },
   {
    "duration": 318,
    "start_time": "2022-07-20T20:30:17.509Z"
   },
   {
    "duration": 9,
    "start_time": "2022-07-20T20:30:17.829Z"
   },
   {
    "duration": 157,
    "start_time": "2022-07-20T20:30:17.840Z"
   },
   {
    "duration": 135,
    "start_time": "2022-07-20T20:30:18.001Z"
   },
   {
    "duration": 4,
    "start_time": "2022-07-20T20:30:18.138Z"
   },
   {
    "duration": 171,
    "start_time": "2022-07-20T20:30:18.143Z"
   },
   {
    "duration": 4,
    "start_time": "2022-07-20T20:30:18.316Z"
   },
   {
    "duration": 15,
    "start_time": "2022-07-20T20:30:18.322Z"
   },
   {
    "duration": 7,
    "start_time": "2022-07-20T20:30:18.339Z"
   },
   {
    "duration": 4,
    "start_time": "2022-07-20T20:30:18.364Z"
   },
   {
    "duration": 14,
    "start_time": "2022-07-20T20:30:18.370Z"
   },
   {
    "duration": 7,
    "start_time": "2022-07-20T20:30:18.385Z"
   },
   {
    "duration": 145,
    "start_time": "2022-07-20T20:30:18.393Z"
   },
   {
    "duration": 106,
    "start_time": "2022-07-20T20:30:18.540Z"
   },
   {
    "duration": 55,
    "start_time": "2022-07-20T20:30:18.648Z"
   },
   {
    "duration": 164,
    "start_time": "2022-07-20T20:30:18.704Z"
   },
   {
    "duration": 133,
    "start_time": "2022-07-20T20:30:18.871Z"
   },
   {
    "duration": 7,
    "start_time": "2022-07-20T20:30:19.006Z"
   },
   {
    "duration": 14,
    "start_time": "2022-07-20T20:30:19.015Z"
   },
   {
    "duration": 10,
    "start_time": "2022-07-20T20:30:19.032Z"
   },
   {
    "duration": 25,
    "start_time": "2022-07-20T20:30:19.043Z"
   },
   {
    "duration": 26,
    "start_time": "2022-07-20T20:30:19.070Z"
   },
   {
    "duration": 15,
    "start_time": "2022-07-20T20:30:19.098Z"
   },
   {
    "duration": 8,
    "start_time": "2022-07-20T20:30:19.114Z"
   },
   {
    "duration": 18,
    "start_time": "2022-07-20T20:30:40.947Z"
   },
   {
    "duration": 15,
    "start_time": "2022-07-20T20:31:37.786Z"
   },
   {
    "duration": 18,
    "start_time": "2022-07-20T20:32:20.388Z"
   },
   {
    "duration": 1170,
    "start_time": "2022-07-20T20:34:58.940Z"
   },
   {
    "duration": 76,
    "start_time": "2022-07-20T20:35:00.112Z"
   },
   {
    "duration": 4,
    "start_time": "2022-07-20T20:35:00.190Z"
   },
   {
    "duration": 26,
    "start_time": "2022-07-20T20:35:00.196Z"
   },
   {
    "duration": 16,
    "start_time": "2022-07-20T20:35:00.224Z"
   },
   {
    "duration": 23,
    "start_time": "2022-07-20T20:35:00.241Z"
   },
   {
    "duration": 12,
    "start_time": "2022-07-20T20:35:00.266Z"
   },
   {
    "duration": 15,
    "start_time": "2022-07-20T20:35:00.279Z"
   },
   {
    "duration": 8,
    "start_time": "2022-07-20T20:35:00.295Z"
   },
   {
    "duration": 10,
    "start_time": "2022-07-20T20:35:00.304Z"
   },
   {
    "duration": 22,
    "start_time": "2022-07-20T20:35:00.315Z"
   },
   {
    "duration": 29,
    "start_time": "2022-07-20T20:35:00.339Z"
   },
   {
    "duration": 20,
    "start_time": "2022-07-20T20:35:00.370Z"
   },
   {
    "duration": 32,
    "start_time": "2022-07-20T20:35:00.394Z"
   },
   {
    "duration": 176,
    "start_time": "2022-07-20T20:35:00.428Z"
   },
   {
    "duration": 150,
    "start_time": "2022-07-20T20:35:00.605Z"
   },
   {
    "duration": 25,
    "start_time": "2022-07-20T20:35:00.763Z"
   },
   {
    "duration": 18,
    "start_time": "2022-07-20T20:35:00.789Z"
   },
   {
    "duration": 290,
    "start_time": "2022-07-20T20:35:00.809Z"
   },
   {
    "duration": 210,
    "start_time": "2022-07-20T20:35:01.100Z"
   },
   {
    "duration": 12,
    "start_time": "2022-07-20T20:35:01.311Z"
   },
   {
    "duration": 322,
    "start_time": "2022-07-20T20:35:01.325Z"
   },
   {
    "duration": 219,
    "start_time": "2022-07-20T20:35:01.649Z"
   },
   {
    "duration": 310,
    "start_time": "2022-07-20T20:35:01.870Z"
   },
   {
    "duration": 10,
    "start_time": "2022-07-20T20:35:02.181Z"
   },
   {
    "duration": 174,
    "start_time": "2022-07-20T20:35:02.193Z"
   },
   {
    "duration": 156,
    "start_time": "2022-07-20T20:35:02.369Z"
   },
   {
    "duration": 5,
    "start_time": "2022-07-20T20:35:02.527Z"
   },
   {
    "duration": 218,
    "start_time": "2022-07-20T20:35:02.535Z"
   },
   {
    "duration": 11,
    "start_time": "2022-07-20T20:35:02.755Z"
   },
   {
    "duration": 13,
    "start_time": "2022-07-20T20:35:02.768Z"
   },
   {
    "duration": 13,
    "start_time": "2022-07-20T20:35:02.783Z"
   },
   {
    "duration": 21,
    "start_time": "2022-07-20T20:35:02.798Z"
   },
   {
    "duration": 22,
    "start_time": "2022-07-20T20:35:02.821Z"
   },
   {
    "duration": 8,
    "start_time": "2022-07-20T20:35:02.845Z"
   },
   {
    "duration": 228,
    "start_time": "2022-07-20T20:35:02.855Z"
   },
   {
    "duration": 11,
    "start_time": "2022-07-20T20:35:03.085Z"
   },
   {
    "duration": 9,
    "start_time": "2022-07-20T20:35:03.098Z"
   },
   {
    "duration": 162,
    "start_time": "2022-07-20T20:35:03.109Z"
   },
   {
    "duration": 125,
    "start_time": "2022-07-20T20:35:03.273Z"
   },
   {
    "duration": 7,
    "start_time": "2022-07-20T20:35:03.402Z"
   },
   {
    "duration": 9,
    "start_time": "2022-07-20T20:35:03.411Z"
   },
   {
    "duration": 7,
    "start_time": "2022-07-20T20:35:03.421Z"
   },
   {
    "duration": 9,
    "start_time": "2022-07-20T20:35:03.430Z"
   },
   {
    "duration": 25,
    "start_time": "2022-07-20T20:35:03.441Z"
   },
   {
    "duration": 11,
    "start_time": "2022-07-20T20:35:03.468Z"
   },
   {
    "duration": 8,
    "start_time": "2022-07-20T20:35:03.481Z"
   },
   {
    "duration": 1143,
    "start_time": "2022-07-21T16:50:12.038Z"
   },
   {
    "duration": 78,
    "start_time": "2022-07-21T16:50:13.182Z"
   },
   {
    "duration": 4,
    "start_time": "2022-07-21T16:50:13.262Z"
   },
   {
    "duration": 25,
    "start_time": "2022-07-21T16:50:13.268Z"
   },
   {
    "duration": 19,
    "start_time": "2022-07-21T16:50:13.296Z"
   },
   {
    "duration": 20,
    "start_time": "2022-07-21T16:50:13.316Z"
   },
   {
    "duration": 16,
    "start_time": "2022-07-21T16:50:13.338Z"
   },
   {
    "duration": 8,
    "start_time": "2022-07-21T16:50:13.356Z"
   },
   {
    "duration": 8,
    "start_time": "2022-07-21T16:50:13.366Z"
   },
   {
    "duration": 11,
    "start_time": "2022-07-21T16:50:13.375Z"
   },
   {
    "duration": 39,
    "start_time": "2022-07-21T16:50:13.388Z"
   },
   {
    "duration": 14,
    "start_time": "2022-07-21T16:50:13.429Z"
   },
   {
    "duration": 9,
    "start_time": "2022-07-21T16:50:13.445Z"
   },
   {
    "duration": 17,
    "start_time": "2022-07-21T16:50:13.457Z"
   },
   {
    "duration": 189,
    "start_time": "2022-07-21T16:50:13.476Z"
   },
   {
    "duration": 130,
    "start_time": "2022-07-21T16:50:13.667Z"
   },
   {
    "duration": 26,
    "start_time": "2022-07-21T16:50:13.798Z"
   },
   {
    "duration": 10,
    "start_time": "2022-07-21T16:50:13.826Z"
   },
   {
    "duration": 290,
    "start_time": "2022-07-21T16:50:13.837Z"
   },
   {
    "duration": 220,
    "start_time": "2022-07-21T16:50:14.129Z"
   },
   {
    "duration": 13,
    "start_time": "2022-07-21T16:50:14.350Z"
   },
   {
    "duration": 299,
    "start_time": "2022-07-21T16:50:14.365Z"
   },
   {
    "duration": 227,
    "start_time": "2022-07-21T16:50:14.667Z"
   },
   {
    "duration": 340,
    "start_time": "2022-07-21T16:50:14.895Z"
   },
   {
    "duration": 9,
    "start_time": "2022-07-21T16:50:15.237Z"
   },
   {
    "duration": 178,
    "start_time": "2022-07-21T16:50:15.247Z"
   },
   {
    "duration": 154,
    "start_time": "2022-07-21T16:50:15.427Z"
   },
   {
    "duration": 5,
    "start_time": "2022-07-21T16:50:15.582Z"
   },
   {
    "duration": 168,
    "start_time": "2022-07-21T16:50:15.589Z"
   },
   {
    "duration": 4,
    "start_time": "2022-07-21T16:50:15.759Z"
   },
   {
    "duration": 16,
    "start_time": "2022-07-21T16:50:15.764Z"
   },
   {
    "duration": 8,
    "start_time": "2022-07-21T16:50:15.782Z"
   },
   {
    "duration": 6,
    "start_time": "2022-07-21T16:50:15.792Z"
   },
   {
    "duration": 36,
    "start_time": "2022-07-21T16:50:15.799Z"
   },
   {
    "duration": 8,
    "start_time": "2022-07-21T16:50:15.838Z"
   },
   {
    "duration": 171,
    "start_time": "2022-07-21T16:50:15.848Z"
   },
   {
    "duration": 104,
    "start_time": "2022-07-21T16:50:16.024Z"
   },
   {
    "duration": 10,
    "start_time": "2022-07-21T16:50:16.130Z"
   },
   {
    "duration": 183,
    "start_time": "2022-07-21T16:50:16.142Z"
   },
   {
    "duration": 136,
    "start_time": "2022-07-21T16:50:16.326Z"
   },
   {
    "duration": 7,
    "start_time": "2022-07-21T16:50:16.465Z"
   },
   {
    "duration": 10,
    "start_time": "2022-07-21T16:50:16.473Z"
   },
   {
    "duration": 13,
    "start_time": "2022-07-21T16:50:16.485Z"
   },
   {
    "duration": 24,
    "start_time": "2022-07-21T16:50:16.500Z"
   },
   {
    "duration": 6,
    "start_time": "2022-07-21T16:50:16.525Z"
   },
   {
    "duration": 21,
    "start_time": "2022-07-21T16:50:16.532Z"
   },
   {
    "duration": 14,
    "start_time": "2022-07-21T16:50:16.555Z"
   },
   {
    "duration": 13,
    "start_time": "2022-07-21T16:50:33.806Z"
   },
   {
    "duration": 11,
    "start_time": "2022-07-21T16:50:39.212Z"
   },
   {
    "duration": 4,
    "start_time": "2022-07-21T16:51:00.217Z"
   },
   {
    "duration": 6,
    "start_time": "2022-07-21T16:51:03.394Z"
   },
   {
    "duration": 13,
    "start_time": "2022-07-21T16:51:12.318Z"
   },
   {
    "duration": 11,
    "start_time": "2022-07-21T16:51:15.728Z"
   },
   {
    "duration": 8,
    "start_time": "2022-07-21T16:51:18.258Z"
   },
   {
    "duration": 8,
    "start_time": "2022-07-21T16:51:19.727Z"
   },
   {
    "duration": 20,
    "start_time": "2022-07-21T16:51:59.471Z"
   },
   {
    "duration": 16,
    "start_time": "2022-07-21T16:51:59.711Z"
   },
   {
    "duration": 9,
    "start_time": "2022-07-21T16:52:04.901Z"
   },
   {
    "duration": 15,
    "start_time": "2022-07-21T16:52:11.443Z"
   },
   {
    "duration": 15,
    "start_time": "2022-07-21T16:52:14.285Z"
   },
   {
    "duration": 8,
    "start_time": "2022-07-21T16:52:48.098Z"
   },
   {
    "duration": 13,
    "start_time": "2022-07-21T16:52:51.147Z"
   },
   {
    "duration": 80,
    "start_time": "2022-07-22T08:24:02.549Z"
   },
   {
    "duration": 1503,
    "start_time": "2022-07-22T08:24:12.803Z"
   },
   {
    "duration": 257,
    "start_time": "2022-07-22T08:24:14.309Z"
   },
   {
    "duration": 4,
    "start_time": "2022-07-22T08:24:14.568Z"
   },
   {
    "duration": 82,
    "start_time": "2022-07-22T08:24:14.573Z"
   },
   {
    "duration": 154,
    "start_time": "2022-07-22T08:24:14.658Z"
   },
   {
    "duration": 68,
    "start_time": "2022-07-22T08:24:14.813Z"
   },
   {
    "duration": 21,
    "start_time": "2022-07-22T08:24:14.883Z"
   },
   {
    "duration": 39,
    "start_time": "2022-07-22T08:24:14.911Z"
   },
   {
    "duration": 20,
    "start_time": "2022-07-22T08:24:14.951Z"
   },
   {
    "duration": 14,
    "start_time": "2022-07-22T08:24:14.973Z"
   },
   {
    "duration": 62,
    "start_time": "2022-07-22T08:24:14.989Z"
   },
   {
    "duration": 26,
    "start_time": "2022-07-22T08:24:15.052Z"
   },
   {
    "duration": 12,
    "start_time": "2022-07-22T08:24:15.080Z"
   },
   {
    "duration": 45,
    "start_time": "2022-07-22T08:24:15.097Z"
   },
   {
    "duration": 194,
    "start_time": "2022-07-22T08:24:15.144Z"
   },
   {
    "duration": 167,
    "start_time": "2022-07-22T08:24:15.340Z"
   },
   {
    "duration": 23,
    "start_time": "2022-07-22T08:24:15.509Z"
   },
   {
    "duration": 15,
    "start_time": "2022-07-22T08:24:15.535Z"
   },
   {
    "duration": 324,
    "start_time": "2022-07-22T08:24:15.552Z"
   },
   {
    "duration": 256,
    "start_time": "2022-07-22T08:24:15.878Z"
   },
   {
    "duration": 22,
    "start_time": "2022-07-22T08:24:16.136Z"
   },
   {
    "duration": 395,
    "start_time": "2022-07-22T08:24:16.161Z"
   },
   {
    "duration": 334,
    "start_time": "2022-07-22T08:24:16.559Z"
   },
   {
    "duration": 335,
    "start_time": "2022-07-22T08:24:16.895Z"
   },
   {
    "duration": 10,
    "start_time": "2022-07-22T08:24:17.232Z"
   },
   {
    "duration": 200,
    "start_time": "2022-07-22T08:24:17.244Z"
   },
   {
    "duration": 178,
    "start_time": "2022-07-22T08:24:17.445Z"
   },
   {
    "duration": 5,
    "start_time": "2022-07-22T08:24:17.626Z"
   },
   {
    "duration": 191,
    "start_time": "2022-07-22T08:24:17.633Z"
   },
   {
    "duration": 5,
    "start_time": "2022-07-22T08:24:17.826Z"
   },
   {
    "duration": 8,
    "start_time": "2022-07-22T08:24:17.833Z"
   },
   {
    "duration": 8,
    "start_time": "2022-07-22T08:24:17.843Z"
   },
   {
    "duration": 9,
    "start_time": "2022-07-22T08:24:17.853Z"
   },
   {
    "duration": 10,
    "start_time": "2022-07-22T08:24:17.864Z"
   },
   {
    "duration": 17,
    "start_time": "2022-07-22T08:24:17.903Z"
   },
   {
    "duration": 149,
    "start_time": "2022-07-22T08:24:17.924Z"
   },
   {
    "duration": 101,
    "start_time": "2022-07-22T08:24:18.075Z"
   },
   {
    "duration": 10,
    "start_time": "2022-07-22T08:24:18.178Z"
   },
   {
    "duration": 182,
    "start_time": "2022-07-22T08:24:18.190Z"
   },
   {
    "duration": 142,
    "start_time": "2022-07-22T08:24:18.374Z"
   },
   {
    "duration": 8,
    "start_time": "2022-07-22T08:24:18.520Z"
   },
   {
    "duration": 10,
    "start_time": "2022-07-22T08:24:18.530Z"
   },
   {
    "duration": 10,
    "start_time": "2022-07-22T08:24:18.542Z"
   },
   {
    "duration": 9,
    "start_time": "2022-07-22T08:24:18.554Z"
   },
   {
    "duration": 10,
    "start_time": "2022-07-22T08:24:18.565Z"
   },
   {
    "duration": 37,
    "start_time": "2022-07-22T08:24:18.577Z"
   },
   {
    "duration": 17,
    "start_time": "2022-07-22T08:24:18.615Z"
   },
   {
    "duration": 168,
    "start_time": "2022-07-22T08:24:45.698Z"
   }
  ],
  "kernelspec": {
   "display_name": "Python 3 (ipykernel)",
   "language": "python",
   "name": "python3"
  },
  "language_info": {
   "codemirror_mode": {
    "name": "ipython",
    "version": 3
   },
   "file_extension": ".py",
   "mimetype": "text/x-python",
   "name": "python",
   "nbconvert_exporter": "python",
   "pygments_lexer": "ipython3",
   "version": "3.9.7"
  },
  "toc": {
   "base_numbering": 1,
   "nav_menu": {},
   "number_sections": true,
   "sideBar": true,
   "skip_h1_title": false,
   "title_cell": "Table of Contents",
   "title_sidebar": "Contents",
   "toc_cell": false,
   "toc_position": {
    "height": "calc(100% - 180px)",
    "left": "10px",
    "top": "150px",
    "width": "246.992px"
   },
   "toc_section_display": true,
   "toc_window_display": true
  }
 },
 "nbformat": 4,
 "nbformat_minor": 5
}
