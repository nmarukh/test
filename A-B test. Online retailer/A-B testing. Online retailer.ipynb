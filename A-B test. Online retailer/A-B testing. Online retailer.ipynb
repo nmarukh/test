{
 "cells": [
  {
   "cell_type": "markdown",
   "id": "9ed53f31",
   "metadata": {},
   "source": [
    "# Description of the project\n",
    "Testing hypotheses to increase revenue in an online store - evaluate the results of an A / B test\n",
    "\n",
    "## Research objectives:\n",
    "- prioritize hypotheses,\n",
    "- run an A/B test,\n",
    "- analyze the results.\n",
    "\n",
    "## Description of data\n",
    "\n",
    "File `/datasets/hypothesis.csv`\n",
    "- `Hypothesis` — short description of a Hypothesis;\n",
    "- `Reach` — user coverage on a 10-point scale;\n",
    "- `Impact` — impact on users on a 10-point scale;\n",
    "- `Confidence` — confidence in the hypothesis on a 10-point scale;\n",
    "- `Efforts` — resource costs for hypothesis testing on a 10-point scale. The larger the Efforts value, the more expensive the hypothesis test.\n",
    "\n",
    "File `/datasets/orders.csv`\n",
    "- `transactionId` — order ID;\n",
    "- `visitorId` — ID of the user who made the order;\n",
    "- `date` — the date the order was placed;\n",
    "- `revenue` — order revenue;\n",
    "- `group` — the A/B test group the order is in.\n",
    "\n",
    "File `/datasets/visitors.csv`\n",
    "- `date` — date of visit;\n",
    "- `group` — A/B-test group;\n",
    "- `visitors` — number of users on the specified date in the specified A/B test group"
   ]
  },
  {
   "cell_type": "markdown",
   "id": "f1c7f386",
   "metadata": {},
   "source": [
    "# Exploratory Data Analysis"
   ]
  },
  {
   "cell_type": "code",
   "execution_count": 1,
   "id": "f502b3b1",
   "metadata": {},
   "outputs": [],
   "source": [
    "import pandas as pd\n",
    "import seaborn as sns\n",
    "import matplotlib.pyplot as plt\n",
    "import numpy as np\n",
    "import scipy.stats as stats\n",
    "import datetime as dt\n"
   ]
  },
  {
   "cell_type": "code",
   "execution_count": 2,
   "id": "ec8d7aad",
   "metadata": {},
   "outputs": [],
   "source": [
    "try:\n",
    "    hypothesis = pd.read_csv('/Users/nataliamarukh/Documents/DATA Analytics/Sprint 7. Принятие решений в бизнесе. А-В тесты/_ПРОЕКТ 7/hypothesis.csv')\n",
    "    orders = pd.read_csv('/Users/nataliamarukh/Documents/DATA Analytics/Sprint 7. Принятие решений в бизнесе. А-В тесты/_ПРОЕКТ 7/orders.csv')\n",
    "    visitors = pd.read_csv('/Users/nataliamarukh/Documents/DATA Analytics/Sprint 7. Принятие решений в бизнесе. А-В тесты/_ПРОЕКТ 7/visitors.csv')\n",
    "    \n",
    "except:\n",
    "    hypothesis = pd.read_csv('/datasets/hypothesis.csv')\n",
    "    orders = pd.read_csv('/datasets/orders.csv')\n",
    "    visitors = pd.read_csv('/datasets/visitors.csv')\n",
    "    "
   ]
  },
  {
   "cell_type": "code",
   "execution_count": 3,
   "id": "6d3f621c",
   "metadata": {},
   "outputs": [],
   "source": [
    "# a function for primary analysis\n",
    "def primary_analysis(df):\n",
    "    display(df.head())\n",
    "    print()\n",
    "    display(df.info())\n",
    "    print()\n",
    "    print('Number of explicit duplicates',df.duplicated().sum())"
   ]
  },
  {
   "cell_type": "code",
   "execution_count": 4,
   "id": "917c5100",
   "metadata": {
    "scrolled": false
   },
   "outputs": [
    {
     "data": {
      "text/html": [
       "<div>\n",
       "<style scoped>\n",
       "    .dataframe tbody tr th:only-of-type {\n",
       "        vertical-align: middle;\n",
       "    }\n",
       "\n",
       "    .dataframe tbody tr th {\n",
       "        vertical-align: top;\n",
       "    }\n",
       "\n",
       "    .dataframe thead th {\n",
       "        text-align: right;\n",
       "    }\n",
       "</style>\n",
       "<table border=\"1\" class=\"dataframe\">\n",
       "  <thead>\n",
       "    <tr style=\"text-align: right;\">\n",
       "      <th></th>\n",
       "      <th>Hypothesis</th>\n",
       "      <th>Reach</th>\n",
       "      <th>Impact</th>\n",
       "      <th>Confidence</th>\n",
       "      <th>Efforts</th>\n",
       "    </tr>\n",
       "  </thead>\n",
       "  <tbody>\n",
       "    <tr>\n",
       "      <th>0</th>\n",
       "      <td>Добавить два новых канала привлечения трафика,...</td>\n",
       "      <td>3</td>\n",
       "      <td>10</td>\n",
       "      <td>8</td>\n",
       "      <td>6</td>\n",
       "    </tr>\n",
       "    <tr>\n",
       "      <th>1</th>\n",
       "      <td>Запустить собственную службу доставки, что сок...</td>\n",
       "      <td>2</td>\n",
       "      <td>5</td>\n",
       "      <td>4</td>\n",
       "      <td>10</td>\n",
       "    </tr>\n",
       "    <tr>\n",
       "      <th>2</th>\n",
       "      <td>Добавить блоки рекомендаций товаров на сайт ин...</td>\n",
       "      <td>8</td>\n",
       "      <td>3</td>\n",
       "      <td>7</td>\n",
       "      <td>3</td>\n",
       "    </tr>\n",
       "    <tr>\n",
       "      <th>3</th>\n",
       "      <td>Изменить структура категорий, что увеличит кон...</td>\n",
       "      <td>8</td>\n",
       "      <td>3</td>\n",
       "      <td>3</td>\n",
       "      <td>8</td>\n",
       "    </tr>\n",
       "    <tr>\n",
       "      <th>4</th>\n",
       "      <td>Изменить цвет фона главной страницы, чтобы уве...</td>\n",
       "      <td>3</td>\n",
       "      <td>1</td>\n",
       "      <td>1</td>\n",
       "      <td>1</td>\n",
       "    </tr>\n",
       "  </tbody>\n",
       "</table>\n",
       "</div>"
      ],
      "text/plain": [
       "                                          Hypothesis  Reach  Impact  \\\n",
       "0  Добавить два новых канала привлечения трафика,...      3      10   \n",
       "1  Запустить собственную службу доставки, что сок...      2       5   \n",
       "2  Добавить блоки рекомендаций товаров на сайт ин...      8       3   \n",
       "3  Изменить структура категорий, что увеличит кон...      8       3   \n",
       "4  Изменить цвет фона главной страницы, чтобы уве...      3       1   \n",
       "\n",
       "   Confidence  Efforts  \n",
       "0           8        6  \n",
       "1           4       10  \n",
       "2           7        3  \n",
       "3           3        8  \n",
       "4           1        1  "
      ]
     },
     "metadata": {},
     "output_type": "display_data"
    },
    {
     "name": "stdout",
     "output_type": "stream",
     "text": [
      "\n",
      "<class 'pandas.core.frame.DataFrame'>\n",
      "RangeIndex: 9 entries, 0 to 8\n",
      "Data columns (total 5 columns):\n",
      " #   Column      Non-Null Count  Dtype \n",
      "---  ------      --------------  ----- \n",
      " 0   Hypothesis  9 non-null      object\n",
      " 1   Reach       9 non-null      int64 \n",
      " 2   Impact      9 non-null      int64 \n",
      " 3   Confidence  9 non-null      int64 \n",
      " 4   Efforts     9 non-null      int64 \n",
      "dtypes: int64(4), object(1)\n",
      "memory usage: 488.0+ bytes\n"
     ]
    },
    {
     "data": {
      "text/plain": [
       "None"
      ]
     },
     "metadata": {},
     "output_type": "display_data"
    },
    {
     "name": "stdout",
     "output_type": "stream",
     "text": [
      "\n",
      "Number of explicit duplicates 0\n"
     ]
    }
   ],
   "source": [
    "primary_analysis(hypothesis)"
   ]
  },
  {
   "cell_type": "code",
   "execution_count": 5,
   "id": "c5f12891",
   "metadata": {},
   "outputs": [
    {
     "data": {
      "text/html": [
       "<div>\n",
       "<style scoped>\n",
       "    .dataframe tbody tr th:only-of-type {\n",
       "        vertical-align: middle;\n",
       "    }\n",
       "\n",
       "    .dataframe tbody tr th {\n",
       "        vertical-align: top;\n",
       "    }\n",
       "\n",
       "    .dataframe thead th {\n",
       "        text-align: right;\n",
       "    }\n",
       "</style>\n",
       "<table border=\"1\" class=\"dataframe\">\n",
       "  <thead>\n",
       "    <tr style=\"text-align: right;\">\n",
       "      <th></th>\n",
       "      <th>transactionId</th>\n",
       "      <th>visitorId</th>\n",
       "      <th>date</th>\n",
       "      <th>revenue</th>\n",
       "      <th>group</th>\n",
       "    </tr>\n",
       "  </thead>\n",
       "  <tbody>\n",
       "    <tr>\n",
       "      <th>0</th>\n",
       "      <td>3667963787</td>\n",
       "      <td>3312258926</td>\n",
       "      <td>2019-08-15</td>\n",
       "      <td>1650</td>\n",
       "      <td>B</td>\n",
       "    </tr>\n",
       "    <tr>\n",
       "      <th>1</th>\n",
       "      <td>2804400009</td>\n",
       "      <td>3642806036</td>\n",
       "      <td>2019-08-15</td>\n",
       "      <td>730</td>\n",
       "      <td>B</td>\n",
       "    </tr>\n",
       "    <tr>\n",
       "      <th>2</th>\n",
       "      <td>2961555356</td>\n",
       "      <td>4069496402</td>\n",
       "      <td>2019-08-15</td>\n",
       "      <td>400</td>\n",
       "      <td>A</td>\n",
       "    </tr>\n",
       "    <tr>\n",
       "      <th>3</th>\n",
       "      <td>3797467345</td>\n",
       "      <td>1196621759</td>\n",
       "      <td>2019-08-15</td>\n",
       "      <td>9759</td>\n",
       "      <td>B</td>\n",
       "    </tr>\n",
       "    <tr>\n",
       "      <th>4</th>\n",
       "      <td>2282983706</td>\n",
       "      <td>2322279887</td>\n",
       "      <td>2019-08-15</td>\n",
       "      <td>2308</td>\n",
       "      <td>B</td>\n",
       "    </tr>\n",
       "  </tbody>\n",
       "</table>\n",
       "</div>"
      ],
      "text/plain": [
       "   transactionId   visitorId        date  revenue group\n",
       "0     3667963787  3312258926  2019-08-15     1650     B\n",
       "1     2804400009  3642806036  2019-08-15      730     B\n",
       "2     2961555356  4069496402  2019-08-15      400     A\n",
       "3     3797467345  1196621759  2019-08-15     9759     B\n",
       "4     2282983706  2322279887  2019-08-15     2308     B"
      ]
     },
     "metadata": {},
     "output_type": "display_data"
    },
    {
     "name": "stdout",
     "output_type": "stream",
     "text": [
      "\n",
      "<class 'pandas.core.frame.DataFrame'>\n",
      "RangeIndex: 1197 entries, 0 to 1196\n",
      "Data columns (total 5 columns):\n",
      " #   Column         Non-Null Count  Dtype \n",
      "---  ------         --------------  ----- \n",
      " 0   transactionId  1197 non-null   int64 \n",
      " 1   visitorId      1197 non-null   int64 \n",
      " 2   date           1197 non-null   object\n",
      " 3   revenue        1197 non-null   int64 \n",
      " 4   group          1197 non-null   object\n",
      "dtypes: int64(3), object(2)\n",
      "memory usage: 46.9+ KB\n"
     ]
    },
    {
     "data": {
      "text/plain": [
       "None"
      ]
     },
     "metadata": {},
     "output_type": "display_data"
    },
    {
     "name": "stdout",
     "output_type": "stream",
     "text": [
      "\n",
      "Number of explicit duplicates 0\n"
     ]
    }
   ],
   "source": [
    "primary_analysis(orders)"
   ]
  },
  {
   "cell_type": "code",
   "execution_count": 6,
   "id": "44b9c5b3",
   "metadata": {},
   "outputs": [
    {
     "data": {
      "text/html": [
       "<div>\n",
       "<style scoped>\n",
       "    .dataframe tbody tr th:only-of-type {\n",
       "        vertical-align: middle;\n",
       "    }\n",
       "\n",
       "    .dataframe tbody tr th {\n",
       "        vertical-align: top;\n",
       "    }\n",
       "\n",
       "    .dataframe thead th {\n",
       "        text-align: right;\n",
       "    }\n",
       "</style>\n",
       "<table border=\"1\" class=\"dataframe\">\n",
       "  <thead>\n",
       "    <tr style=\"text-align: right;\">\n",
       "      <th></th>\n",
       "      <th>date</th>\n",
       "      <th>group</th>\n",
       "      <th>visitors</th>\n",
       "    </tr>\n",
       "  </thead>\n",
       "  <tbody>\n",
       "    <tr>\n",
       "      <th>0</th>\n",
       "      <td>2019-08-01</td>\n",
       "      <td>A</td>\n",
       "      <td>719</td>\n",
       "    </tr>\n",
       "    <tr>\n",
       "      <th>1</th>\n",
       "      <td>2019-08-02</td>\n",
       "      <td>A</td>\n",
       "      <td>619</td>\n",
       "    </tr>\n",
       "    <tr>\n",
       "      <th>2</th>\n",
       "      <td>2019-08-03</td>\n",
       "      <td>A</td>\n",
       "      <td>507</td>\n",
       "    </tr>\n",
       "    <tr>\n",
       "      <th>3</th>\n",
       "      <td>2019-08-04</td>\n",
       "      <td>A</td>\n",
       "      <td>717</td>\n",
       "    </tr>\n",
       "    <tr>\n",
       "      <th>4</th>\n",
       "      <td>2019-08-05</td>\n",
       "      <td>A</td>\n",
       "      <td>756</td>\n",
       "    </tr>\n",
       "  </tbody>\n",
       "</table>\n",
       "</div>"
      ],
      "text/plain": [
       "         date group  visitors\n",
       "0  2019-08-01     A       719\n",
       "1  2019-08-02     A       619\n",
       "2  2019-08-03     A       507\n",
       "3  2019-08-04     A       717\n",
       "4  2019-08-05     A       756"
      ]
     },
     "metadata": {},
     "output_type": "display_data"
    },
    {
     "name": "stdout",
     "output_type": "stream",
     "text": [
      "\n",
      "<class 'pandas.core.frame.DataFrame'>\n",
      "RangeIndex: 62 entries, 0 to 61\n",
      "Data columns (total 3 columns):\n",
      " #   Column    Non-Null Count  Dtype \n",
      "---  ------    --------------  ----- \n",
      " 0   date      62 non-null     object\n",
      " 1   group     62 non-null     object\n",
      " 2   visitors  62 non-null     int64 \n",
      "dtypes: int64(1), object(2)\n",
      "memory usage: 1.6+ KB\n"
     ]
    },
    {
     "data": {
      "text/plain": [
       "None"
      ]
     },
     "metadata": {},
     "output_type": "display_data"
    },
    {
     "name": "stdout",
     "output_type": "stream",
     "text": [
      "\n",
      "Number of explicit duplicates 0\n"
     ]
    }
   ],
   "source": [
    "primary_analysis(visitors)"
   ]
  },
  {
   "cell_type": "code",
   "execution_count": 7,
   "id": "39950491",
   "metadata": {},
   "outputs": [],
   "source": [
    "#replace data type in date columns\n",
    "orders['date'] = orders['date'].map(\n",
    "    lambda x: dt.datetime.strptime(x, '%Y-%m-%d')\n",
    ")\n",
    "\n",
    "visitors['date'] = visitors['date'].map(\n",
    "    lambda x: dt.datetime.strptime(x, '%Y-%m-%d')\n",
    ")\n"
   ]
  },
  {
   "cell_type": "code",
   "execution_count": 8,
   "id": "d43c9bc0",
   "metadata": {
    "scrolled": true
   },
   "outputs": [
    {
     "name": "stdout",
     "output_type": "stream",
     "text": [
      "<class 'numpy.datetime64'>\n",
      "<class 'numpy.datetime64'>\n"
     ]
    }
   ],
   "source": [
    "print(orders['date'].dtype.type)\n",
    "print(visitors['date'].dtype.type)"
   ]
  },
  {
   "cell_type": "code",
   "execution_count": 9,
   "id": "11bc712f",
   "metadata": {},
   "outputs": [
    {
     "data": {
      "text/plain": [
       "Index(['hypothesis', 'reach', 'impact', 'confidence', 'efforts'], dtype='object')"
      ]
     },
     "execution_count": 9,
     "metadata": {},
     "output_type": "execute_result"
    }
   ],
   "source": [
    "#convert column names to lowercase\n",
    "hypothesis.columns = [x.lower() for x in hypothesis.columns]\n",
    "hypothesis.columns\n"
   ]
  },
  {
   "cell_type": "code",
   "execution_count": 10,
   "id": "b6fdb0d6",
   "metadata": {},
   "outputs": [
    {
     "data": {
      "text/html": [
       "<div>\n",
       "<style scoped>\n",
       "    .dataframe tbody tr th:only-of-type {\n",
       "        vertical-align: middle;\n",
       "    }\n",
       "\n",
       "    .dataframe tbody tr th {\n",
       "        vertical-align: top;\n",
       "    }\n",
       "\n",
       "    .dataframe thead th {\n",
       "        text-align: right;\n",
       "    }\n",
       "</style>\n",
       "<table border=\"1\" class=\"dataframe\">\n",
       "  <thead>\n",
       "    <tr style=\"text-align: right;\">\n",
       "      <th></th>\n",
       "      <th>transactionId</th>\n",
       "      <th>visitorId</th>\n",
       "      <th>date</th>\n",
       "      <th>revenue</th>\n",
       "      <th>group</th>\n",
       "    </tr>\n",
       "  </thead>\n",
       "  <tbody>\n",
       "    <tr>\n",
       "      <th>0</th>\n",
       "      <td>3667963787</td>\n",
       "      <td>3312258926</td>\n",
       "      <td>2019-08-15</td>\n",
       "      <td>1650</td>\n",
       "      <td>B</td>\n",
       "    </tr>\n",
       "    <tr>\n",
       "      <th>1</th>\n",
       "      <td>2804400009</td>\n",
       "      <td>3642806036</td>\n",
       "      <td>2019-08-15</td>\n",
       "      <td>730</td>\n",
       "      <td>B</td>\n",
       "    </tr>\n",
       "    <tr>\n",
       "      <th>3</th>\n",
       "      <td>3797467345</td>\n",
       "      <td>1196621759</td>\n",
       "      <td>2019-08-15</td>\n",
       "      <td>9759</td>\n",
       "      <td>B</td>\n",
       "    </tr>\n",
       "    <tr>\n",
       "      <th>4</th>\n",
       "      <td>2282983706</td>\n",
       "      <td>2322279887</td>\n",
       "      <td>2019-08-15</td>\n",
       "      <td>2308</td>\n",
       "      <td>B</td>\n",
       "    </tr>\n",
       "    <tr>\n",
       "      <th>5</th>\n",
       "      <td>182168103</td>\n",
       "      <td>935554773</td>\n",
       "      <td>2019-08-15</td>\n",
       "      <td>2210</td>\n",
       "      <td>B</td>\n",
       "    </tr>\n",
       "    <tr>\n",
       "      <th>...</th>\n",
       "      <td>...</td>\n",
       "      <td>...</td>\n",
       "      <td>...</td>\n",
       "      <td>...</td>\n",
       "      <td>...</td>\n",
       "    </tr>\n",
       "    <tr>\n",
       "      <th>1191</th>\n",
       "      <td>3592955527</td>\n",
       "      <td>608641596</td>\n",
       "      <td>2019-08-14</td>\n",
       "      <td>16490</td>\n",
       "      <td>B</td>\n",
       "    </tr>\n",
       "    <tr>\n",
       "      <th>1192</th>\n",
       "      <td>2662137336</td>\n",
       "      <td>3733762160</td>\n",
       "      <td>2019-08-14</td>\n",
       "      <td>6490</td>\n",
       "      <td>B</td>\n",
       "    </tr>\n",
       "    <tr>\n",
       "      <th>1193</th>\n",
       "      <td>2203539145</td>\n",
       "      <td>370388673</td>\n",
       "      <td>2019-08-14</td>\n",
       "      <td>3190</td>\n",
       "      <td>A</td>\n",
       "    </tr>\n",
       "    <tr>\n",
       "      <th>1194</th>\n",
       "      <td>1807773912</td>\n",
       "      <td>573423106</td>\n",
       "      <td>2019-08-14</td>\n",
       "      <td>10550</td>\n",
       "      <td>A</td>\n",
       "    </tr>\n",
       "    <tr>\n",
       "      <th>1196</th>\n",
       "      <td>3936777065</td>\n",
       "      <td>2108080724</td>\n",
       "      <td>2019-08-15</td>\n",
       "      <td>202740</td>\n",
       "      <td>B</td>\n",
       "    </tr>\n",
       "  </tbody>\n",
       "</table>\n",
       "<p>1016 rows × 5 columns</p>\n",
       "</div>"
      ],
      "text/plain": [
       "      transactionId   visitorId       date  revenue group\n",
       "0        3667963787  3312258926 2019-08-15     1650     B\n",
       "1        2804400009  3642806036 2019-08-15      730     B\n",
       "3        3797467345  1196621759 2019-08-15     9759     B\n",
       "4        2282983706  2322279887 2019-08-15     2308     B\n",
       "5         182168103   935554773 2019-08-15     2210     B\n",
       "...             ...         ...        ...      ...   ...\n",
       "1191     3592955527   608641596 2019-08-14    16490     B\n",
       "1192     2662137336  3733762160 2019-08-14     6490     B\n",
       "1193     2203539145   370388673 2019-08-14     3190     A\n",
       "1194     1807773912   573423106 2019-08-14    10550     A\n",
       "1196     3936777065  2108080724 2019-08-15   202740     B\n",
       "\n",
       "[1016 rows x 5 columns]"
      ]
     },
     "execution_count": 10,
     "metadata": {},
     "output_type": "execute_result"
    }
   ],
   "source": [
    "#Delete all users who are in both groups\n",
    "\n",
    "visA = orders[orders['group'] == 'A']['visitorId']\n",
    "visB = orders[orders['group'] == 'B']['visitorId']\n",
    "visBoth = list(set(visA) & set(visB))\n",
    "orders = orders[np.logical_not(orders['visitorId'].isin(visBoth))]\n",
    "orders"
   ]
  },
  {
   "cell_type": "code",
   "execution_count": 11,
   "id": "826943d5",
   "metadata": {
    "scrolled": false
   },
   "outputs": [
    {
     "data": {
      "text/html": [
       "<div>\n",
       "<style scoped>\n",
       "    .dataframe tbody tr th:only-of-type {\n",
       "        vertical-align: middle;\n",
       "    }\n",
       "\n",
       "    .dataframe tbody tr th {\n",
       "        vertical-align: top;\n",
       "    }\n",
       "\n",
       "    .dataframe thead th {\n",
       "        text-align: right;\n",
       "    }\n",
       "</style>\n",
       "<table border=\"1\" class=\"dataframe\">\n",
       "  <thead>\n",
       "    <tr style=\"text-align: right;\">\n",
       "      <th></th>\n",
       "      <th>group</th>\n",
       "      <th>visitors</th>\n",
       "    </tr>\n",
       "  </thead>\n",
       "  <tbody>\n",
       "    <tr>\n",
       "      <th>0</th>\n",
       "      <td>A</td>\n",
       "      <td>18736</td>\n",
       "    </tr>\n",
       "    <tr>\n",
       "      <th>1</th>\n",
       "      <td>B</td>\n",
       "      <td>18916</td>\n",
       "    </tr>\n",
       "  </tbody>\n",
       "</table>\n",
       "</div>"
      ],
      "text/plain": [
       "  group  visitors\n",
       "0     A     18736\n",
       "1     B     18916"
      ]
     },
     "metadata": {},
     "output_type": "display_data"
    },
    {
     "data": {
      "text/html": [
       "<div>\n",
       "<style scoped>\n",
       "    .dataframe tbody tr th:only-of-type {\n",
       "        vertical-align: middle;\n",
       "    }\n",
       "\n",
       "    .dataframe tbody tr th {\n",
       "        vertical-align: top;\n",
       "    }\n",
       "\n",
       "    .dataframe thead th {\n",
       "        text-align: right;\n",
       "    }\n",
       "</style>\n",
       "<table border=\"1\" class=\"dataframe\">\n",
       "  <thead>\n",
       "    <tr style=\"text-align: right;\">\n",
       "      <th></th>\n",
       "      <th>group</th>\n",
       "      <th>visitorId</th>\n",
       "    </tr>\n",
       "  </thead>\n",
       "  <tbody>\n",
       "    <tr>\n",
       "      <th>0</th>\n",
       "      <td>A</td>\n",
       "      <td>468</td>\n",
       "    </tr>\n",
       "    <tr>\n",
       "      <th>1</th>\n",
       "      <td>B</td>\n",
       "      <td>548</td>\n",
       "    </tr>\n",
       "  </tbody>\n",
       "</table>\n",
       "</div>"
      ],
      "text/plain": [
       "  group  visitorId\n",
       "0     A        468\n",
       "1     B        548"
      ]
     },
     "metadata": {},
     "output_type": "display_data"
    }
   ],
   "source": [
    "#Confirm the number of groups and check the number of users in each of them\n",
    "display(\n",
    "    visitors.groupby('group',as_index=False).agg(\n",
    "    {'visitors':'sum'}\n",
    "))\n",
    "\n",
    "display(\n",
    "    orders.groupby('group',as_index=False).agg(\n",
    "    {'visitorId':'count'}\n",
    "))"
   ]
  },
  {
   "cell_type": "markdown",
   "id": "d30cb87f",
   "metadata": {},
   "source": [
    "\n",
    "\n",
    "* We've matched the data types with the values and made sure there are no obvious duplicates.\n",
    "\n",
    "* Removed all users who fell into both groups.\n",
    "\n",
    "* Confirmed the number of groups and checked the number of users in each of them.\n",
    "    \n"
   ]
  },
  {
   "cell_type": "markdown",
   "id": "ec0cb7b4",
   "metadata": {},
   "source": [
    "# Prioritization of hypotheses\n",
    "\n",
    "- Apply the ICE framework to prioritize hypotheses. Sort them in descending order of priority.\n",
    "- Apply the RICE framework to prioritize hypotheses. Sort them in descending order of priority.\n",
    "- Indicate how the prioritization of hypotheses has changed when using RICE instead of ICE."
   ]
  },
  {
   "cell_type": "code",
   "execution_count": 12,
   "id": "484cfe4e",
   "metadata": {
    "scrolled": false
   },
   "outputs": [
    {
     "data": {
      "image/png": "[encoded data removed]",
      "text/plain": [
       "<Figure size 576x576 with 1 Axes>"
      ]
     },
     "metadata": {
      "needs_background": "light"
     },
     "output_type": "display_data"
    }
   ],
   "source": [
    "#visualize the reach-impact-confidence-efforts values for each of the hypotheses\n",
    "\n",
    "#announce category names\n",
    "categories = hypothesis['hypothesis']\n",
    "categories = [*categories, categories[0]]\n",
    "\n",
    "#declare variables with values for each of the indicators\n",
    "reach = [*hypothesis['reach'], hypothesis['reach'][0]]\n",
    "impact = [*hypothesis['impact'], hypothesis['impact'][0]]\n",
    "confidence = [*hypothesis['confidence'], hypothesis['confidence'][0]]\n",
    "efforts = [*hypothesis['efforts'], hypothesis['efforts'][0]]\n",
    "\n",
    "#Radar Chart (aka spider plot)\n",
    "plt.figure(figsize=(8, 8))\n",
    "plt.subplot(polar=True)\n",
    "label_loc = np.linspace(start=0, stop=2 * np.pi, num=len(categories))\n",
    "plt.plot(label_loc, reach, label='reach')\n",
    "plt.plot(label_loc, impact, label='impact')\n",
    "plt.plot(label_loc, confidence, label='confidence')\n",
    "plt.plot(label_loc, efforts, label='efforts')\n",
    "lines, labels = plt.thetagrids(np.degrees(label_loc), labels=[0,1,2,3,4,5,6,7,8,0])\n",
    "plt.legend(loc=2)\n",
    "plt.show()"
   ]
  },
  {
   "cell_type": "markdown",
   "id": "c6b6bec9",
   "metadata": {},
   "source": [
    "It is now visually easy to find the hypotheses with the highest/lowest reach-impact-confidence-efforts. For example, hypothesis #1 has the highest effort, average impact, below average confidence, and extremely low reach of all hypotheses. This hypothesis does not look very attractive. Hypothesis #7, on the contrary, has an average indicator of efforts, and the other three values have higher indicators: 7-10. Such hypothesis deserves our attention.\n",
    "\n",
    "Next, we'll prioritize using ICE and RICE approaches and see if our visual-based guesses match up with the results we receive when applying ICE and RICE.\n"
   ]
  },
  {
   "cell_type": "code",
   "execution_count": 13,
   "id": "b4857e9d",
   "metadata": {
    "scrolled": true
   },
   "outputs": [],
   "source": [
    "#apply ICE\n",
    "hypothesis['ICE'] = (\n",
    "    hypothesis['impact'] * hypothesis['confidence']\n",
    ") / hypothesis['efforts']\n",
    "hypothesis[['hypothesis', 'ICE']].sort_values(by='ICE', ascending=False)\n",
    "pd.options.display.max_colwidth = 210"
   ]
  },
  {
   "cell_type": "code",
   "execution_count": 14,
   "id": "7f235a28",
   "metadata": {
    "scrolled": false
   },
   "outputs": [
    {
     "data": {
      "text/html": [
       "<div>\n",
       "<style scoped>\n",
       "    .dataframe tbody tr th:only-of-type {\n",
       "        vertical-align: middle;\n",
       "    }\n",
       "\n",
       "    .dataframe tbody tr th {\n",
       "        vertical-align: top;\n",
       "    }\n",
       "\n",
       "    .dataframe thead th {\n",
       "        text-align: right;\n",
       "    }\n",
       "</style>\n",
       "<table border=\"1\" class=\"dataframe\">\n",
       "  <thead>\n",
       "    <tr style=\"text-align: right;\">\n",
       "      <th></th>\n",
       "      <th>hypothesis</th>\n",
       "      <th>RICE</th>\n",
       "    </tr>\n",
       "  </thead>\n",
       "  <tbody>\n",
       "    <tr>\n",
       "      <th>7</th>\n",
       "      <td>Добавить форму подписки на все основные страницы, чтобы собрать базу клиентов для email-рассылок</td>\n",
       "      <td>112.0</td>\n",
       "    </tr>\n",
       "    <tr>\n",
       "      <th>2</th>\n",
       "      <td>Добавить блоки рекомендаций товаров на сайт интернет магазина, чтобы повысить конверсию и средний чек заказа</td>\n",
       "      <td>56.0</td>\n",
       "    </tr>\n",
       "    <tr>\n",
       "      <th>0</th>\n",
       "      <td>Добавить два новых канала привлечения трафика, что позволит привлекать на 30% больше пользователей</td>\n",
       "      <td>40.0</td>\n",
       "    </tr>\n",
       "    <tr>\n",
       "      <th>6</th>\n",
       "      <td>Показать на главной странице баннеры с актуальными акциями и распродажами, чтобы увеличить конверсию</td>\n",
       "      <td>40.0</td>\n",
       "    </tr>\n",
       "    <tr>\n",
       "      <th>8</th>\n",
       "      <td>Запустить акцию, дающую скидку на товар в день рождения</td>\n",
       "      <td>16.2</td>\n",
       "    </tr>\n",
       "    <tr>\n",
       "      <th>3</th>\n",
       "      <td>Изменить структура категорий, что увеличит конверсию, т.к. пользователи быстрее найдут нужный товар</td>\n",
       "      <td>9.0</td>\n",
       "    </tr>\n",
       "    <tr>\n",
       "      <th>1</th>\n",
       "      <td>Запустить собственную службу доставки, что сократит срок доставки заказов</td>\n",
       "      <td>4.0</td>\n",
       "    </tr>\n",
       "    <tr>\n",
       "      <th>5</th>\n",
       "      <td>Добавить страницу отзывов клиентов о магазине, что позволит увеличить количество заказов</td>\n",
       "      <td>4.0</td>\n",
       "    </tr>\n",
       "    <tr>\n",
       "      <th>4</th>\n",
       "      <td>Изменить цвет фона главной страницы, чтобы увеличить вовлеченность пользователей</td>\n",
       "      <td>3.0</td>\n",
       "    </tr>\n",
       "  </tbody>\n",
       "</table>\n",
       "</div>"
      ],
      "text/plain": [
       "                                                                                                     hypothesis  \\\n",
       "7              Добавить форму подписки на все основные страницы, чтобы собрать базу клиентов для email-рассылок   \n",
       "2  Добавить блоки рекомендаций товаров на сайт интернет магазина, чтобы повысить конверсию и средний чек заказа   \n",
       "0            Добавить два новых канала привлечения трафика, что позволит привлекать на 30% больше пользователей   \n",
       "6          Показать на главной странице баннеры с актуальными акциями и распродажами, чтобы увеличить конверсию   \n",
       "8                                                       Запустить акцию, дающую скидку на товар в день рождения   \n",
       "3           Изменить структура категорий, что увеличит конверсию, т.к. пользователи быстрее найдут нужный товар   \n",
       "1                                     Запустить собственную службу доставки, что сократит срок доставки заказов   \n",
       "5                      Добавить страницу отзывов клиентов о магазине, что позволит увеличить количество заказов   \n",
       "4                              Изменить цвет фона главной страницы, чтобы увеличить вовлеченность пользователей   \n",
       "\n",
       "    RICE  \n",
       "7  112.0  \n",
       "2   56.0  \n",
       "0   40.0  \n",
       "6   40.0  \n",
       "8   16.2  \n",
       "3    9.0  \n",
       "1    4.0  \n",
       "5    4.0  \n",
       "4    3.0  "
      ]
     },
     "execution_count": 14,
     "metadata": {},
     "output_type": "execute_result"
    }
   ],
   "source": [
    "#apply RICE\n",
    "hypothesis['RICE'] = (\n",
    "    hypothesis['reach'] * hypothesis['impact'] * hypothesis['confidence']\n",
    ") / hypothesis['efforts']\n",
    "\n",
    "hypothesis[['hypothesis', 'RICE']].sort_values(by='RICE', ascending=False)\n"
   ]
  },
  {
   "cell_type": "markdown",
   "id": "29941305",
   "metadata": {},
   "source": [
    "\n",
    "    \n",
    "* Most promising ICE hypotheses: 8, 0, 7, 6, 2 (desc)\n",
    "    \n",
    "* Most promising RICE hypotheses: 7, 2, 0, 8, 6 (desc)\n",
    "    \n",
    "* We see that the prioritization of hypotheses has changed when using RICE instead of ICE. This happened because we introduced the Reach metric (number of users affected by the change). The 7th hypothesis has the highest Reach indicator (10), while this parameter is lower for other hypotheses.\n",
    "    \n"
   ]
  },
  {
   "cell_type": "markdown",
   "id": "ed58f7c9",
   "metadata": {},
   "source": [
    "# A/B-test analysis\n",
    "\n",
    "* Build a graph of cumulative revenue by groups. Draw conclusions and assumptions.\n",
    "* Build a graph of the cumulative average check for groups. Draw conclusions and assumptions.\n",
    "* Build a graph of the relative change in the cumulative average check of group B to group A. Draw conclusions and assumptions.\n",
    "* Build a graph of cumulative conversion by groups. Draw conclusions and assumptions.\n",
    "* Build a graph of the relative change in the cumulative conversion of group B to group A. draw conclusions and assumptions.\n",
    "* Build a point graph of the number of orders by users. Draw conclusions and assumptions.\n",
    "* Calculate the 95th and 99th percentiles of the number of orders per user. Choose a criterium to identify anomalous users.\n",
    "* Build a scatter chart of order values. Draw conclusions and assumptions.\n",
    "* Calculate the 95th and 99th percentiles of order value. Choose a criterium to detect anomalous orders.\n",
    "* Calculate the statistical significance of differences in conversion between groups according to \"raw\" data. Draw conclusions and assumptions.\n",
    "* Calculate the statistical significance of the differences in the average check of the order between the groups according to the \"raw\" data. Draw conclusions and assumptions.\n",
    "* Calculate the statistical significance of differences in conversion between groups according to the \"cleaned\" data. Draw conclusions and assumptions.\n",
    "* Calculate the statistical significance of the differences in the average check of the order between the groups according to the \"cleaned\" data. Let's make conclusions and assumptions.\n",
    "\n",
    "We will make a decision based on the results of the test. Solution options:\n",
    "\n",
    "    1. Stop the test, record the victory of one of the groups.    \n",
    "    2. Stop the test, record the absence of differences between groups.    \n",
    "    3. Continue the test."
   ]
  },
  {
   "cell_type": "markdown",
   "id": "4ac180bd",
   "metadata": {},
   "source": [
    "## Build a graph of cumulative revenue by groups. Draw conclusions and assumptions."
   ]
  },
  {
   "cell_type": "code",
   "execution_count": 15,
   "id": "c0d0eebd",
   "metadata": {},
   "outputs": [
    {
     "data": {
      "text/html": [
       "<div>\n",
       "<style scoped>\n",
       "    .dataframe tbody tr th:only-of-type {\n",
       "        vertical-align: middle;\n",
       "    }\n",
       "\n",
       "    .dataframe tbody tr th {\n",
       "        vertical-align: top;\n",
       "    }\n",
       "\n",
       "    .dataframe thead th {\n",
       "        text-align: right;\n",
       "    }\n",
       "</style>\n",
       "<table border=\"1\" class=\"dataframe\">\n",
       "  <thead>\n",
       "    <tr style=\"text-align: right;\">\n",
       "      <th></th>\n",
       "      <th>date</th>\n",
       "      <th>group</th>\n",
       "      <th>transactionId</th>\n",
       "      <th>visitorId</th>\n",
       "      <th>revenue</th>\n",
       "    </tr>\n",
       "  </thead>\n",
       "  <tbody>\n",
       "    <tr>\n",
       "      <th>55</th>\n",
       "      <td>2019-08-01</td>\n",
       "      <td>A</td>\n",
       "      <td>23</td>\n",
       "      <td>19</td>\n",
       "      <td>142779</td>\n",
       "    </tr>\n",
       "    <tr>\n",
       "      <th>66</th>\n",
       "      <td>2019-08-01</td>\n",
       "      <td>B</td>\n",
       "      <td>17</td>\n",
       "      <td>17</td>\n",
       "      <td>59758</td>\n",
       "    </tr>\n",
       "    <tr>\n",
       "      <th>175</th>\n",
       "      <td>2019-08-02</td>\n",
       "      <td>A</td>\n",
       "      <td>42</td>\n",
       "      <td>36</td>\n",
       "      <td>234381</td>\n",
       "    </tr>\n",
       "    <tr>\n",
       "      <th>173</th>\n",
       "      <td>2019-08-02</td>\n",
       "      <td>B</td>\n",
       "      <td>40</td>\n",
       "      <td>39</td>\n",
       "      <td>221801</td>\n",
       "    </tr>\n",
       "    <tr>\n",
       "      <th>291</th>\n",
       "      <td>2019-08-03</td>\n",
       "      <td>A</td>\n",
       "      <td>66</td>\n",
       "      <td>60</td>\n",
       "      <td>346854</td>\n",
       "    </tr>\n",
       "    <tr>\n",
       "      <th>...</th>\n",
       "      <td>...</td>\n",
       "      <td>...</td>\n",
       "      <td>...</td>\n",
       "      <td>...</td>\n",
       "      <td>...</td>\n",
       "    </tr>\n",
       "    <tr>\n",
       "      <th>533</th>\n",
       "      <td>2019-08-29</td>\n",
       "      <td>B</td>\n",
       "      <td>510</td>\n",
       "      <td>490</td>\n",
       "      <td>4746610</td>\n",
       "    </tr>\n",
       "    <tr>\n",
       "      <th>757</th>\n",
       "      <td>2019-08-30</td>\n",
       "      <td>A</td>\n",
       "      <td>460</td>\n",
       "      <td>437</td>\n",
       "      <td>3311413</td>\n",
       "    </tr>\n",
       "    <tr>\n",
       "      <th>690</th>\n",
       "      <td>2019-08-30</td>\n",
       "      <td>B</td>\n",
       "      <td>531</td>\n",
       "      <td>511</td>\n",
       "      <td>4955833</td>\n",
       "    </tr>\n",
       "    <tr>\n",
       "      <th>958</th>\n",
       "      <td>2019-08-31</td>\n",
       "      <td>A</td>\n",
       "      <td>468</td>\n",
       "      <td>445</td>\n",
       "      <td>3364656</td>\n",
       "    </tr>\n",
       "    <tr>\n",
       "      <th>930</th>\n",
       "      <td>2019-08-31</td>\n",
       "      <td>B</td>\n",
       "      <td>548</td>\n",
       "      <td>528</td>\n",
       "      <td>5068972</td>\n",
       "    </tr>\n",
       "  </tbody>\n",
       "</table>\n",
       "<p>62 rows × 5 columns</p>\n",
       "</div>"
      ],
      "text/plain": [
       "          date group  transactionId  visitorId  revenue\n",
       "55  2019-08-01     A             23         19   142779\n",
       "66  2019-08-01     B             17         17    59758\n",
       "175 2019-08-02     A             42         36   234381\n",
       "173 2019-08-02     B             40         39   221801\n",
       "291 2019-08-03     A             66         60   346854\n",
       "..         ...   ...            ...        ...      ...\n",
       "533 2019-08-29     B            510        490  4746610\n",
       "757 2019-08-30     A            460        437  3311413\n",
       "690 2019-08-30     B            531        511  4955833\n",
       "958 2019-08-31     A            468        445  3364656\n",
       "930 2019-08-31     B            548        528  5068972\n",
       "\n",
       "[62 rows x 5 columns]"
      ]
     },
     "execution_count": 15,
     "metadata": {},
     "output_type": "execute_result"
    }
   ],
   "source": [
    "#create an array of unique pairs of date values and test groups\n",
    "datesGroups = orders[['date','group']].drop_duplicates()\n",
    "\n",
    "#collect aggregated daily cumulative order data\n",
    "ordersAggregated = datesGroups.apply(\n",
    "    lambda x: orders[np.logical_and(orders['date'] <= x['date'], orders['group'] == x['group'])]\\\n",
    ".agg(\n",
    "        {'date' : 'max', \n",
    "         'group' : 'max', \n",
    "         'transactionId' : 'nunique', \n",
    "         'visitorId' : 'nunique', \n",
    "         'revenue' : 'sum'}\n",
    "    ), axis=1\n",
    ").sort_values(by=['date','group'])\n",
    "\n",
    "ordersAggregated"
   ]
  },
  {
   "cell_type": "code",
   "execution_count": 16,
   "id": "2ecb308a",
   "metadata": {
    "scrolled": false
   },
   "outputs": [
    {
     "data": {
      "text/html": [
       "<div>\n",
       "<style scoped>\n",
       "    .dataframe tbody tr th:only-of-type {\n",
       "        vertical-align: middle;\n",
       "    }\n",
       "\n",
       "    .dataframe tbody tr th {\n",
       "        vertical-align: top;\n",
       "    }\n",
       "\n",
       "    .dataframe thead th {\n",
       "        text-align: right;\n",
       "    }\n",
       "</style>\n",
       "<table border=\"1\" class=\"dataframe\">\n",
       "  <thead>\n",
       "    <tr style=\"text-align: right;\">\n",
       "      <th></th>\n",
       "      <th>date</th>\n",
       "      <th>group</th>\n",
       "      <th>visitors</th>\n",
       "    </tr>\n",
       "  </thead>\n",
       "  <tbody>\n",
       "    <tr>\n",
       "      <th>55</th>\n",
       "      <td>2019-08-01</td>\n",
       "      <td>A</td>\n",
       "      <td>719</td>\n",
       "    </tr>\n",
       "    <tr>\n",
       "      <th>66</th>\n",
       "      <td>2019-08-01</td>\n",
       "      <td>B</td>\n",
       "      <td>713</td>\n",
       "    </tr>\n",
       "    <tr>\n",
       "      <th>175</th>\n",
       "      <td>2019-08-02</td>\n",
       "      <td>A</td>\n",
       "      <td>1338</td>\n",
       "    </tr>\n",
       "    <tr>\n",
       "      <th>173</th>\n",
       "      <td>2019-08-02</td>\n",
       "      <td>B</td>\n",
       "      <td>1294</td>\n",
       "    </tr>\n",
       "    <tr>\n",
       "      <th>291</th>\n",
       "      <td>2019-08-03</td>\n",
       "      <td>A</td>\n",
       "      <td>1845</td>\n",
       "    </tr>\n",
       "    <tr>\n",
       "      <th>...</th>\n",
       "      <td>...</td>\n",
       "      <td>...</td>\n",
       "      <td>...</td>\n",
       "    </tr>\n",
       "    <tr>\n",
       "      <th>533</th>\n",
       "      <td>2019-08-29</td>\n",
       "      <td>B</td>\n",
       "      <td>17708</td>\n",
       "    </tr>\n",
       "    <tr>\n",
       "      <th>757</th>\n",
       "      <td>2019-08-30</td>\n",
       "      <td>A</td>\n",
       "      <td>18037</td>\n",
       "    </tr>\n",
       "    <tr>\n",
       "      <th>690</th>\n",
       "      <td>2019-08-30</td>\n",
       "      <td>B</td>\n",
       "      <td>18198</td>\n",
       "    </tr>\n",
       "    <tr>\n",
       "      <th>958</th>\n",
       "      <td>2019-08-31</td>\n",
       "      <td>A</td>\n",
       "      <td>18736</td>\n",
       "    </tr>\n",
       "    <tr>\n",
       "      <th>930</th>\n",
       "      <td>2019-08-31</td>\n",
       "      <td>B</td>\n",
       "      <td>18916</td>\n",
       "    </tr>\n",
       "  </tbody>\n",
       "</table>\n",
       "<p>62 rows × 3 columns</p>\n",
       "</div>"
      ],
      "text/plain": [
       "          date group  visitors\n",
       "55  2019-08-01     A       719\n",
       "66  2019-08-01     B       713\n",
       "175 2019-08-02     A      1338\n",
       "173 2019-08-02     B      1294\n",
       "291 2019-08-03     A      1845\n",
       "..         ...   ...       ...\n",
       "533 2019-08-29     B     17708\n",
       "757 2019-08-30     A     18037\n",
       "690 2019-08-30     B     18198\n",
       "958 2019-08-31     A     18736\n",
       "930 2019-08-31     B     18916\n",
       "\n",
       "[62 rows x 3 columns]"
      ]
     },
     "execution_count": 16,
     "metadata": {},
     "output_type": "execute_result"
    }
   ],
   "source": [
    "#Get aggregated daily cumulative data about online store visitors\n",
    "\n",
    "visitorsAggregated = datesGroups.apply(\n",
    "    lambda x: visitors[np.logical_and(\n",
    "        visitors['date'] <= x['date'], visitors['group'] == x['group']\n",
    "    )].agg({'date' : 'max', 'group' : 'max', 'visitors' : 'sum'}), axis=1\n",
    ").sort_values(by=['date','group'])\n",
    "\n",
    "visitorsAggregated"
   ]
  },
  {
   "cell_type": "code",
   "execution_count": 17,
   "id": "21b6eb0b",
   "metadata": {
    "scrolled": false
   },
   "outputs": [
    {
     "data": {
      "text/html": [
       "<div>\n",
       "<style scoped>\n",
       "    .dataframe tbody tr th:only-of-type {\n",
       "        vertical-align: middle;\n",
       "    }\n",
       "\n",
       "    .dataframe tbody tr th {\n",
       "        vertical-align: top;\n",
       "    }\n",
       "\n",
       "    .dataframe thead th {\n",
       "        text-align: right;\n",
       "    }\n",
       "</style>\n",
       "<table border=\"1\" class=\"dataframe\">\n",
       "  <thead>\n",
       "    <tr style=\"text-align: right;\">\n",
       "      <th></th>\n",
       "      <th>date</th>\n",
       "      <th>group</th>\n",
       "      <th>orders</th>\n",
       "      <th>buyers</th>\n",
       "      <th>revenue</th>\n",
       "      <th>visitors</th>\n",
       "    </tr>\n",
       "  </thead>\n",
       "  <tbody>\n",
       "    <tr>\n",
       "      <th>0</th>\n",
       "      <td>2019-08-01</td>\n",
       "      <td>A</td>\n",
       "      <td>23</td>\n",
       "      <td>19</td>\n",
       "      <td>142779</td>\n",
       "      <td>719</td>\n",
       "    </tr>\n",
       "    <tr>\n",
       "      <th>1</th>\n",
       "      <td>2019-08-01</td>\n",
       "      <td>B</td>\n",
       "      <td>17</td>\n",
       "      <td>17</td>\n",
       "      <td>59758</td>\n",
       "      <td>713</td>\n",
       "    </tr>\n",
       "    <tr>\n",
       "      <th>2</th>\n",
       "      <td>2019-08-02</td>\n",
       "      <td>A</td>\n",
       "      <td>42</td>\n",
       "      <td>36</td>\n",
       "      <td>234381</td>\n",
       "      <td>1338</td>\n",
       "    </tr>\n",
       "    <tr>\n",
       "      <th>3</th>\n",
       "      <td>2019-08-02</td>\n",
       "      <td>B</td>\n",
       "      <td>40</td>\n",
       "      <td>39</td>\n",
       "      <td>221801</td>\n",
       "      <td>1294</td>\n",
       "    </tr>\n",
       "    <tr>\n",
       "      <th>4</th>\n",
       "      <td>2019-08-03</td>\n",
       "      <td>A</td>\n",
       "      <td>66</td>\n",
       "      <td>60</td>\n",
       "      <td>346854</td>\n",
       "      <td>1845</td>\n",
       "    </tr>\n",
       "    <tr>\n",
       "      <th>...</th>\n",
       "      <td>...</td>\n",
       "      <td>...</td>\n",
       "      <td>...</td>\n",
       "      <td>...</td>\n",
       "      <td>...</td>\n",
       "      <td>...</td>\n",
       "    </tr>\n",
       "    <tr>\n",
       "      <th>57</th>\n",
       "      <td>2019-08-29</td>\n",
       "      <td>B</td>\n",
       "      <td>510</td>\n",
       "      <td>490</td>\n",
       "      <td>4746610</td>\n",
       "      <td>17708</td>\n",
       "    </tr>\n",
       "    <tr>\n",
       "      <th>58</th>\n",
       "      <td>2019-08-30</td>\n",
       "      <td>A</td>\n",
       "      <td>460</td>\n",
       "      <td>437</td>\n",
       "      <td>3311413</td>\n",
       "      <td>18037</td>\n",
       "    </tr>\n",
       "    <tr>\n",
       "      <th>59</th>\n",
       "      <td>2019-08-30</td>\n",
       "      <td>B</td>\n",
       "      <td>531</td>\n",
       "      <td>511</td>\n",
       "      <td>4955833</td>\n",
       "      <td>18198</td>\n",
       "    </tr>\n",
       "    <tr>\n",
       "      <th>60</th>\n",
       "      <td>2019-08-31</td>\n",
       "      <td>A</td>\n",
       "      <td>468</td>\n",
       "      <td>445</td>\n",
       "      <td>3364656</td>\n",
       "      <td>18736</td>\n",
       "    </tr>\n",
       "    <tr>\n",
       "      <th>61</th>\n",
       "      <td>2019-08-31</td>\n",
       "      <td>B</td>\n",
       "      <td>548</td>\n",
       "      <td>528</td>\n",
       "      <td>5068972</td>\n",
       "      <td>18916</td>\n",
       "    </tr>\n",
       "  </tbody>\n",
       "</table>\n",
       "<p>62 rows × 6 columns</p>\n",
       "</div>"
      ],
      "text/plain": [
       "         date group  orders  buyers  revenue  visitors\n",
       "0  2019-08-01     A      23      19   142779       719\n",
       "1  2019-08-01     B      17      17    59758       713\n",
       "2  2019-08-02     A      42      36   234381      1338\n",
       "3  2019-08-02     B      40      39   221801      1294\n",
       "4  2019-08-03     A      66      60   346854      1845\n",
       "..        ...   ...     ...     ...      ...       ...\n",
       "57 2019-08-29     B     510     490  4746610     17708\n",
       "58 2019-08-30     A     460     437  3311413     18037\n",
       "59 2019-08-30     B     531     511  4955833     18198\n",
       "60 2019-08-31     A     468     445  3364656     18736\n",
       "61 2019-08-31     B     548     528  5068972     18916\n",
       "\n",
       "[62 rows x 6 columns]"
      ]
     },
     "execution_count": 17,
     "metadata": {},
     "output_type": "execute_result"
    }
   ],
   "source": [
    "#merge both tables into one and give the columns clear names\n",
    "\n",
    "cumulativeData = ordersAggregated.merge(\n",
    "    visitorsAggregated, left_on=['date', 'group'], right_on=['date', 'group']\n",
    ")\n",
    "\n",
    "cumulativeData.columns = ['date', 'group', 'orders', 'buyers', 'revenue', 'visitors']\n",
    "cumulativeData"
   ]
  },
  {
   "cell_type": "code",
   "execution_count": 18,
   "id": "9b04b198",
   "metadata": {
    "scrolled": false
   },
   "outputs": [
    {
     "data": {
      "image/png": "[encoded data removed]",
      "text/plain": [
       "<Figure size 432x288 with 1 Axes>"
      ]
     },
     "metadata": {
      "needs_background": "light"
     },
     "output_type": "display_data"
    }
   ],
   "source": [
    "#build graphs of cumulative revenue by days and groups of A/B testing\n",
    "\n",
    "cumulativeRevenueA = cumulativeData[cumulativeData['group']=='A'][['date','revenue', 'orders']]\n",
    "cumulativeRevenueB = cumulativeData[cumulativeData['group']=='B'][['date','revenue', 'orders']]\n",
    "\n",
    "plt.plot(cumulativeRevenueA['date'], cumulativeRevenueA['revenue'], label='A')\n",
    "plt.plot(cumulativeRevenueB['date'], cumulativeRevenueB['revenue'], label='B')\n",
    "plt.xticks(rotation=45)\n",
    "plt.xlabel('date')\n",
    "plt.ylabel('revenue')\n",
    "#plt.rcParams[\"figure.figsize\"] = (8,6)\n",
    "plt.title('Cumulative revenue by days and groups of A/B testing', pad=20)\n",
    "plt.legend();"
   ]
  },
  {
   "cell_type": "markdown",
   "id": "7c9daeae",
   "metadata": {},
   "source": [
    "\n",
    "    \n",
    "* Revenue increases throughout the test.\n",
    "    \n",
    "* Within 20 days, revenue in both groups grew almost evenly.\n",
    "    \n",
    "* Further the revenue of group B increased sharply. This may signal spikes in the number of orders, or the appearance of very expensive orders in the sample. Outliers will be analyzed further.\n"
   ]
  },
  {
   "cell_type": "markdown",
   "id": "c6b8fca4",
   "metadata": {},
   "source": [
    "## Build a graph of the cumulative average bill by groups. Draw conclusions and assumptions"
   ]
  },
  {
   "cell_type": "code",
   "execution_count": 47,
   "id": "b641d84e",
   "metadata": {
    "scrolled": false
   },
   "outputs": [
    {
     "data": {
      "image/png": "[encoded data removed]",
      "text/plain": [
       "<Figure size 432x288 with 1 Axes>"
      ]
     },
     "metadata": {
      "needs_background": "light"
     },
     "output_type": "display_data"
    }
   ],
   "source": [
    "#Let's build charts of the average check by groups - \n",
    "#we will divide the cumulative revenue by the cumulative number of orders\n",
    "\n",
    "plt.plot(cumulativeRevenueA['date'], cumulativeRevenueA['revenue']/cumulativeRevenueA['orders'], label='A')\n",
    "plt.plot(cumulativeRevenueB['date'], cumulativeRevenueB['revenue']/cumulativeRevenueB['orders'], label='B')\n",
    "plt.xticks(rotation=45)\n",
    "plt.xlabel('date')\n",
    "plt.ylabel('rub')\n",
    "plt.title('Mean bill')\n",
    "plt.legend();\n"
   ]
  },
  {
   "cell_type": "markdown",
   "id": "f4373103",
   "metadata": {},
   "source": [
    "\n",
    "    \n",
    "The average bill of group B is significantly higher than the average bill of group A. We also see a big spike after the 20th day.\n",
    "    \n",
    "A big spike on the chart may mean that in the second half of the test, large orders fell into Group B.\n",
    "    \n"
   ]
  },
  {
   "cell_type": "markdown",
   "id": "5dfd863f",
   "metadata": {},
   "source": [
    "## Build a graph of the relative change in the cumulative average bill of group B to group A. Draw conclusions and assumptions."
   ]
  },
  {
   "cell_type": "code",
   "execution_count": 20,
   "id": "fabc3e07",
   "metadata": {},
   "outputs": [
    {
     "data": {
      "text/html": [
       "<div>\n",
       "<style scoped>\n",
       "    .dataframe tbody tr th:only-of-type {\n",
       "        vertical-align: middle;\n",
       "    }\n",
       "\n",
       "    .dataframe tbody tr th {\n",
       "        vertical-align: top;\n",
       "    }\n",
       "\n",
       "    .dataframe thead th {\n",
       "        text-align: right;\n",
       "    }\n",
       "</style>\n",
       "<table border=\"1\" class=\"dataframe\">\n",
       "  <thead>\n",
       "    <tr style=\"text-align: right;\">\n",
       "      <th></th>\n",
       "      <th>date</th>\n",
       "      <th>revenueA</th>\n",
       "      <th>ordersA</th>\n",
       "      <th>revenueB</th>\n",
       "      <th>ordersB</th>\n",
       "    </tr>\n",
       "  </thead>\n",
       "  <tbody>\n",
       "    <tr>\n",
       "      <th>0</th>\n",
       "      <td>2019-08-01</td>\n",
       "      <td>142779</td>\n",
       "      <td>23</td>\n",
       "      <td>59758</td>\n",
       "      <td>17</td>\n",
       "    </tr>\n",
       "    <tr>\n",
       "      <th>1</th>\n",
       "      <td>2019-08-02</td>\n",
       "      <td>234381</td>\n",
       "      <td>42</td>\n",
       "      <td>221801</td>\n",
       "      <td>40</td>\n",
       "    </tr>\n",
       "    <tr>\n",
       "      <th>2</th>\n",
       "      <td>2019-08-03</td>\n",
       "      <td>346854</td>\n",
       "      <td>66</td>\n",
       "      <td>288850</td>\n",
       "      <td>54</td>\n",
       "    </tr>\n",
       "    <tr>\n",
       "      <th>3</th>\n",
       "      <td>2019-08-04</td>\n",
       "      <td>388030</td>\n",
       "      <td>77</td>\n",
       "      <td>385740</td>\n",
       "      <td>68</td>\n",
       "    </tr>\n",
       "    <tr>\n",
       "      <th>4</th>\n",
       "      <td>2019-08-05</td>\n",
       "      <td>474413</td>\n",
       "      <td>99</td>\n",
       "      <td>475648</td>\n",
       "      <td>89</td>\n",
       "    </tr>\n",
       "    <tr>\n",
       "      <th>5</th>\n",
       "      <td>2019-08-06</td>\n",
       "      <td>515332</td>\n",
       "      <td>114</td>\n",
       "      <td>690490</td>\n",
       "      <td>112</td>\n",
       "    </tr>\n",
       "    <tr>\n",
       "      <th>6</th>\n",
       "      <td>2019-08-07</td>\n",
       "      <td>638580</td>\n",
       "      <td>130</td>\n",
       "      <td>909654</td>\n",
       "      <td>135</td>\n",
       "    </tr>\n",
       "    <tr>\n",
       "      <th>7</th>\n",
       "      <td>2019-08-08</td>\n",
       "      <td>727219</td>\n",
       "      <td>144</td>\n",
       "      <td>1059795</td>\n",
       "      <td>157</td>\n",
       "    </tr>\n",
       "    <tr>\n",
       "      <th>8</th>\n",
       "      <td>2019-08-09</td>\n",
       "      <td>861456</td>\n",
       "      <td>155</td>\n",
       "      <td>1162961</td>\n",
       "      <td>176</td>\n",
       "    </tr>\n",
       "    <tr>\n",
       "      <th>9</th>\n",
       "      <td>2019-08-10</td>\n",
       "      <td>1013731</td>\n",
       "      <td>170</td>\n",
       "      <td>1268123</td>\n",
       "      <td>198</td>\n",
       "    </tr>\n",
       "  </tbody>\n",
       "</table>\n",
       "</div>"
      ],
      "text/plain": [
       "        date  revenueA  ordersA  revenueB  ordersB\n",
       "0 2019-08-01    142779       23     59758       17\n",
       "1 2019-08-02    234381       42    221801       40\n",
       "2 2019-08-03    346854       66    288850       54\n",
       "3 2019-08-04    388030       77    385740       68\n",
       "4 2019-08-05    474413       99    475648       89\n",
       "5 2019-08-06    515332      114    690490      112\n",
       "6 2019-08-07    638580      130    909654      135\n",
       "7 2019-08-08    727219      144   1059795      157\n",
       "8 2019-08-09    861456      155   1162961      176\n",
       "9 2019-08-10   1013731      170   1268123      198"
      ]
     },
     "execution_count": 20,
     "metadata": {},
     "output_type": "execute_result"
    }
   ],
   "source": [
    "#collect data in one dataframe\n",
    "\n",
    "mergedCumulativeRevenue = cumulativeRevenueA.merge(\n",
    "    cumulativeRevenueB, left_on='date', right_on='date', how='left', suffixes=['A', 'B']\n",
    ")\n",
    "mergedCumulativeRevenue.head(10)"
   ]
  },
  {
   "cell_type": "code",
   "execution_count": 21,
   "id": "20749539",
   "metadata": {},
   "outputs": [
    {
     "data": {
      "image/png": "[encoded data removed]",
      "text/plain": [
       "<Figure size 432x288 with 1 Axes>"
      ]
     },
     "metadata": {
      "needs_background": "light"
     },
     "output_type": "display_data"
    }
   ],
   "source": [
    "#build the ratio of average bills\n",
    "\n",
    "plt.plot(\n",
    "    mergedCumulativeRevenue['date'], (\n",
    "        mergedCumulativeRevenue['revenueB']/mergedCumulativeRevenue['ordersB']\n",
    "    )/(mergedCumulativeRevenue['revenueA']/mergedCumulativeRevenue['ordersA'])-1\n",
    ")\n",
    "plt.xticks(rotation=45)\n",
    "plt.xlabel('date')\n",
    "plt.ylabel('relative change')\n",
    "plt.title('Relative change in the cumulative average bill of group B to group A')\n",
    "\n",
    "#add axes X\n",
    "plt.axhline(y=0, color='black', linestyle='--');\n"
   ]
  },
  {
   "cell_type": "markdown",
   "id": "dc4b972f",
   "metadata": {},
   "source": [
    "\n",
    "    \n",
    "At several points, the graph of the difference between the segments jumps up and down. There are definitely large orders and outliers in our data that influenced the shape of the chart.\n",
    "\n"
   ]
  },
  {
   "cell_type": "markdown",
   "id": "96188a61",
   "metadata": {},
   "source": [
    "## Build a graph of the relative change in the cumulative conversion of group B to group A. Draw conclusions and assumptions."
   ]
  },
  {
   "cell_type": "code",
   "execution_count": 22,
   "id": "63b3de6c",
   "metadata": {},
   "outputs": [
    {
     "data": {
      "image/png": "[encoded data removed]",
      "text/plain": [
       "<Figure size 432x288 with 1 Axes>"
      ]
     },
     "metadata": {
      "needs_background": "light"
     },
     "output_type": "display_data"
    }
   ],
   "source": [
    "#calculate the cumulative conversion\n",
    "cumulativeData['conversion'] = cumulativeData['orders']/cumulativeData['visitors']\n",
    "\n",
    "#Separate data by group A\n",
    "cumulativeDataA = cumulativeData[cumulativeData['group']=='A']\n",
    " \n",
    "#Separate data by group B\n",
    "cumulativeDataB = cumulativeData[cumulativeData['group']=='B']\n",
    "\n",
    "#build graphs\n",
    "plt.plot(cumulativeDataA['date'], cumulativeDataA['conversion'], label='A')\n",
    "plt.plot(cumulativeDataB['date'], cumulativeDataB['conversion'], label='B')\n",
    "plt.xticks(rotation=45)\n",
    "plt.xlabel('date')\n",
    "plt.ylabel('cumulative conversion')\n",
    "plt.title(\"Graph of cumulative conversion of groups A and B\")\n",
    "plt.legend();\n"
   ]
  },
  {
   "cell_type": "code",
   "execution_count": 23,
   "id": "ac6c728d",
   "metadata": {
    "scrolled": false
   },
   "outputs": [
    {
     "data": {
      "image/png": "[encoded data removed]",
      "text/plain": [
       "<Figure size 432x288 with 1 Axes>"
      ]
     },
     "metadata": {
      "needs_background": "light"
     },
     "output_type": "display_data"
    }
   ],
   "source": [
    "#build a graph of the relative difference of cumulative conversions\n",
    "\n",
    "mergedCumulativeConversions = cumulativeDataA[['date','conversion']].merge(\n",
    "    cumulativeDataB[['date','conversion']], left_on='date', right_on='date', how='left', suffixes=['A', 'B']\n",
    ")\n",
    "\n",
    "plt.plot(\n",
    "    mergedCumulativeConversions['date'], \n",
    "    mergedCumulativeConversions['conversionB']/mergedCumulativeConversions['conversionA']-1\n",
    ")\n",
    "\n",
    "plt.xlabel('date')\n",
    "plt.ylabel('conversion increase')\n",
    "plt.xticks(rotation=45)\n",
    "plt.title(\"Relative increase in conversion of group B relative to group A\")\n",
    "\n",
    "plt.axhline(y=0, color='black', linestyle='--')\n",
    "plt.axhline(y=0.12, color='green', linestyle='--', label='stabilization line')\n",
    "plt.axhline(y=0.16, color='green', linestyle='--')\n",
    "plt.legend();\n"
   ]
  },
  {
   "cell_type": "markdown",
   "id": "ec52500f",
   "metadata": {},
   "source": [
    "\n",
    "\n",
    "For the first 5 days of the test, the conversion of group A was higher than group B. However, starting from the 6th day of the test, the conversion of group B, after a sharp increase, was significantly ahead of group A.\n",
    " \n"
   ]
  },
  {
   "cell_type": "markdown",
   "id": "d3909074",
   "metadata": {},
   "source": [
    "## Build a scatter plot of the number of orders by users. Draw conclusions and assumptions."
   ]
  },
  {
   "cell_type": "code",
   "execution_count": 24,
   "id": "bd70956f",
   "metadata": {
    "scrolled": false
   },
   "outputs": [
    {
     "name": "stdout",
     "output_type": "stream",
     "text": [
      "      visitorId  orders\n",
      "908  3967698036       3\n",
      "55    249864742       3\n",
      "478  2108163459       3\n",
      "687  2988190573       3\n",
      "890  3908431265       3\n",
      "138   611059232       3\n",
      "632  2742574263       3\n",
      "157   678354126       2\n",
      "323  1404560065       2\n",
      "452  1985475298       2\n"
     ]
    }
   ],
   "source": [
    "#Create a table with the number of orders for each user\n",
    "\n",
    "ordersByUsers = (\n",
    "    orders.groupby('visitorId', as_index=False)\n",
    "    .agg({'transactionId': 'nunique'})\n",
    ")\n",
    "\n",
    "ordersByUsers.columns = ['visitorId', 'orders']\n",
    "\n",
    "print(ordersByUsers.sort_values(by='orders', ascending=False).head(10))"
   ]
  },
  {
   "cell_type": "code",
   "execution_count": 25,
   "id": "0613d55e",
   "metadata": {
    "scrolled": false
   },
   "outputs": [
    {
     "data": {
      "image/png": "[encoded data removed]",
      "text/plain": [
       "<Figure size 432x288 with 1 Axes>"
      ]
     },
     "metadata": {
      "needs_background": "light"
     },
     "output_type": "display_data"
    }
   ],
   "source": [
    "#build a histogram of the distribution of the number of orders per user\n",
    "\n",
    "plt.hist(ordersByUsers['orders'])\n",
    "plt.xlabel('order qty per user')\n",
    "plt.ylabel('user qty')\n",
    "plt.title('Histogram of the distribution of the number of orders per user');"
   ]
  },
  {
   "cell_type": "code",
   "execution_count": 26,
   "id": "4ec8538b",
   "metadata": {
    "scrolled": false
   },
   "outputs": [
    {
     "data": {
      "image/png": "[encoded data removed]",
      "text/plain": [
       "<Figure size 432x288 with 1 Axes>"
      ]
     },
     "metadata": {
      "needs_background": "light"
     },
     "output_type": "display_data"
    }
   ],
   "source": [
    "#build a scatter plot of the number of orders per user\n",
    "\n",
    "x_values = pd.Series(range(0,len(ordersByUsers)))\n",
    "plt.scatter(x_values, ordersByUsers['orders'], alpha=0.7)\n",
    "plt.title('scatter plot of the number of orders per user');"
   ]
  },
  {
   "cell_type": "markdown",
   "id": "49cbad03",
   "metadata": {},
   "source": [
    "<div style=\"background-color:GhostWhite;padding:20px\">\n",
    "    \n",
    "There are users who made 2-3 orders. However, the majority ordered only once.\n",
    "\n",
    "</div>"
   ]
  },
  {
   "cell_type": "markdown",
   "id": "c786d449",
   "metadata": {},
   "source": [
    "## Calculate the 95th and 99th percentiles of orders qty per user. Choose a criterium to identify anomalous users."
   ]
  },
  {
   "cell_type": "code",
   "execution_count": 27,
   "id": "c3cb408f",
   "metadata": {},
   "outputs": [
    {
     "name": "stdout",
     "output_type": "stream",
     "text": [
      "[1. 1. 2.]\n"
     ]
    }
   ],
   "source": [
    "#calculate the percentiles of the number of orders per user\n",
    "\n",
    "print(np.percentile(ordersByUsers['orders'], [90, 95, 99]))"
   ]
  },
  {
   "cell_type": "markdown",
   "id": "a9fed4be",
   "metadata": {},
   "source": [
    "\n",
    "    \n",
    "No more than 5% of users placed more than 1 order. Only 1% of users ordered more than 2 times.\n",
    "It is reasonable to choose 2 orders per user for the lower limit of the number of orders and weed out anomalous users according to it.\n",
    "    \n"
   ]
  },
  {
   "cell_type": "markdown",
   "id": "cd4087d7",
   "metadata": {},
   "source": [
    "## Build a scatter plot of order values. Draw conclusions and assumptions."
   ]
  },
  {
   "cell_type": "code",
   "execution_count": 28,
   "id": "da0a80f6",
   "metadata": {},
   "outputs": [
    {
     "data": {
      "text/plain": [
       "(0.0, 300000.0)"
      ]
     },
     "execution_count": 28,
     "metadata": {},
     "output_type": "execute_result"
    },
    {
     "data": {
      "image/png": "[encoded data removed]",
      "text/plain": [
       "<Figure size 432x288 with 1 Axes>"
      ]
     },
     "metadata": {
      "needs_background": "light"
     },
     "output_type": "display_data"
    }
   ],
   "source": [
    "x_values = pd.Series(range(0, len(orders['revenue'])))\n",
    "plt.scatter(x_values, orders['revenue'], alpha=0.5)\n",
    "plt.title('Scatter plot of order values')\n",
    "plt.xlabel('number of orders per user')\n",
    "plt.ylabel('rub')\n",
    "plt.xlim(0, 1050)\n",
    "plt.ylim(0, 300000)"
   ]
  },
  {
   "cell_type": "markdown",
   "id": "de630cfd",
   "metadata": {},
   "source": [
    "\n",
    "    \n",
    "* The cost of individual orders does not exceed 50K.\n",
    "    \n",
    "* Most of the orders have the amount of no more than 25K.\n",
    "    \n"
   ]
  },
  {
   "cell_type": "markdown",
   "id": "eaad79fe",
   "metadata": {},
   "source": [
    "## Calculate the 95th and 99th percentiles of order value. Choose a criterium to detect anomalous orders."
   ]
  },
  {
   "cell_type": "code",
   "execution_count": 29,
   "id": "78f8b789",
   "metadata": {},
   "outputs": [
    {
     "name": "stdout",
     "output_type": "stream",
     "text": [
      "[17990. 26785. 53904.]\n"
     ]
    }
   ],
   "source": [
    "#calculate the percentiles of the cost of orders\n",
    "\n",
    "print(np.percentile(orders['revenue'], [90, 95, 99]))"
   ]
  },
  {
   "cell_type": "markdown",
   "id": "cef1e90c",
   "metadata": {},
   "source": [
    "\n",
    "    \n",
    "No more than 5% of orders are over 27000. Only 1% of orders is over 54000. It is reasonable to choose the lower limit of the order value of 27000 and weed out abnormal orders according to it.\n"
   ]
  },
  {
   "cell_type": "markdown",
   "id": "3c01672d",
   "metadata": {},
   "source": [
    "## Calculate the statistical significance of differences in conversion between groups based on the \"raw\" data"
   ]
  },
  {
   "cell_type": "markdown",
   "id": "ef95b328",
   "metadata": {},
   "source": [
    "**two-sided test:** The conversion of groups A and B based on the \"raw\" data is the same\n",
    "<p>Introduction of the null and the alternative hypotheses:</p>\n",
    "\n",
    "$\\begin{equation*}\n",
    " \\begin{cases}\n",
    "   H_0 :\\text{The conversion of groups A and B based on the \"raw\" data is the same}\\\\\n",
    "   H_1 :\\text{The conversion of groups A and B based on the \"raw\" data is different}\n",
    " \\end{cases}\n",
    "\\end{equation*}$\n",
    "\n",
    "Significance level: $\\alpha = 0.05$\n",
    "\n",
    "If the p-value is less than the chosen significance level $\\alpha = 0.05$, then we reject the null hypothesis about the equality of the conversions. Otherwise, we conclude that the data did not allow us to reject the null hypothesis."
   ]
  },
  {
   "cell_type": "code",
   "execution_count": 30,
   "id": "cc32af44",
   "metadata": {
    "scrolled": true
   },
   "outputs": [
    {
     "name": "stdout",
     "output_type": "stream",
     "text": [
      "p-value:  1.4496661752238628e-05\n",
      "The null hypothesis is rejected\n"
     ]
    }
   ],
   "source": [
    "alpha = 0.05\n",
    "\n",
    "results = stats.mannwhitneyu(cumulativeDataA['conversion'], cumulativeDataB['conversion'])\n",
    "print('p-value: ', results.pvalue)\n",
    "\n",
    "if (results.pvalue < alpha):\n",
    "    print(\"The null hypothesis is rejected\")\n",
    "else:\n",
    "    print(\"Failed to reject the null hypothesis\")"
   ]
  },
  {
   "cell_type": "markdown",
   "id": "3ef51ce2",
   "metadata": {},
   "source": [
    "*We reject the null hypothesis => The conversion of groups A and B on the \"raw\" data is different*"
   ]
  },
  {
   "cell_type": "markdown",
   "id": "6a736259",
   "metadata": {},
   "source": [
    "**one-sided test:** Group B conversion is greater than Group A conversion based on the \"raw\" data\n",
    "<p>Introduction of the null and the alternative hypotheses:</p>\n",
    "\n",
    "$\\begin{equation*}\n",
    " \\begin{cases}\n",
    "   H_0 :\\text{The conversion of groups A and B based on the \"raw\" data is the same}\\\\\n",
    "   H_1 :\\text{Group B conversion is greater than Group A conversion based on the \"raw\" data}\n",
    " \\end{cases}\n",
    "\\end{equation*}$"
   ]
  },
  {
   "cell_type": "code",
   "execution_count": 31,
   "id": "fcbf4298",
   "metadata": {},
   "outputs": [
    {
     "name": "stdout",
     "output_type": "stream",
     "text": [
      "p-значение:  7.248330876119314e-06\n",
      "The null hypothesis is rejected\n"
     ]
    }
   ],
   "source": [
    "alpha = 0.05\n",
    "\n",
    "results = stats.mannwhitneyu(cumulativeDataB['conversion'], cumulativeDataA['conversion'], alternative='greater')\n",
    "print('p-значение: ', results.pvalue)\n",
    "\n",
    "if (results.pvalue < alpha):\n",
    "    print(\"The null hypothesis is rejected\")\n",
    "else:\n",
    "    print(\"Failed to reject the null hypothesis\")"
   ]
  },
  {
   "cell_type": "markdown",
   "id": "422f086c",
   "metadata": {},
   "source": [
    "*We reject the null hypothesis  => Group B conversion is greater than Group A conversion based on the \"raw\" data*"
   ]
  },
  {
   "cell_type": "code",
   "execution_count": 32,
   "id": "39cf6071",
   "metadata": {},
   "outputs": [
    {
     "name": "stdout",
     "output_type": "stream",
     "text": [
      "the relative increase in conversion in group B in relation to group A based on the \"raw\" data = 9.0%\n"
     ]
    }
   ],
   "source": [
    "#calculate the relative increase in conversion in group B in relation to group A\n",
    "\n",
    "print('the relative increase in conversion in group B in relation to group A based on the \"raw\" data =',\n",
    "      '{0:.1%}'.format(cumulativeDataB['conversion'].mean()/\n",
    "cumulativeDataA['conversion'].mean()-1))"
   ]
  },
  {
   "cell_type": "markdown",
   "id": "a33208a5",
   "metadata": {},
   "source": [
    "\n",
    "\n",
    "* The result of the non-parametric Mann-Whitney test on \"raw\" data showed that the conversion of group B is greater than the conversion of group A\n",
    "    \n",
    "* The relative increase in conversion in group B in relation to group A according to \"raw\" data is 9%\n",
    "\n"
   ]
  },
  {
   "cell_type": "markdown",
   "id": "b41ef265",
   "metadata": {},
   "source": [
    "## Calculate the statistical significance of the differences in the average order receipt between the groups based on the \"raw\" data. Draw conclusions and assumptions.\n"
   ]
  },
  {
   "cell_type": "markdown",
   "id": "937e6906",
   "metadata": {},
   "source": [
    "**two-sided test:** The average bill for groups A and B is the same based on \"raw\" data\n",
    "<p>Introduction of the null and the alternative hypotheses:</p>\n",
    "\n",
    "$\\begin{equation*}\n",
    " \\begin{cases}\n",
    "   H_0 :\\text{The average bill for groups A and B is the same based on the \"raw\" data}\\\\\n",
    "   H_1 :\\text{The average bill for groups A and B differs based on the \"raw\" data}\n",
    " \\end{cases}\n",
    "\\end{equation*}$\n",
    "\n",
    "Significance level: $\\alpha = 0.05$\n",
    "\n",
    "If the p-value is less than the chosen significance level $\\alpha = 0.05$, then we reject the null hypothesis about the equality of the means. Otherwise, we conclude that the data did not allow us to reject the null hypothesis.\n"
   ]
  },
  {
   "cell_type": "code",
   "execution_count": 33,
   "id": "d98496a4",
   "metadata": {
    "scrolled": true
   },
   "outputs": [
    {
     "name": "stdout",
     "output_type": "stream",
     "text": [
      "p-value:  0.8294908998149533\n",
      "Failed to reject the null hypothesis\n"
     ]
    }
   ],
   "source": [
    "alpha = 0.05\n",
    "\n",
    "results = stats.mannwhitneyu(\n",
    "    orders[orders['group']=='A']['revenue'], orders[orders['group']=='B']['revenue'], alternative='two-sided'\n",
    ")\n",
    "\n",
    "print('p-value: ', results.pvalue)\n",
    "\n",
    "if (results.pvalue < alpha):\n",
    "    print(\"The null hypothesis is rejected\")\n",
    "else:\n",
    "    print(\"Failed to reject the null hypothesis\")"
   ]
  },
  {
   "cell_type": "markdown",
   "id": "6af0d9f5",
   "metadata": {},
   "source": [
    "*Failed to reject the null hypothesis => There is no reason to believe that the average bills of groups based on the \"raw\" data is different*"
   ]
  },
  {
   "cell_type": "code",
   "execution_count": 34,
   "id": "56e934de",
   "metadata": {
    "scrolled": true
   },
   "outputs": [
    {
     "name": "stdout",
     "output_type": "stream",
     "text": [
      "28.7%\n"
     ]
    }
   ],
   "source": [
    "print('{0:.1%}'.format(orders[orders['group']=='B']['revenue'].mean()/\n",
    "orders[orders['group']=='A']['revenue'].mean()-1))"
   ]
  },
  {
   "cell_type": "markdown",
   "id": "b2c3e550",
   "metadata": {},
   "source": [
    "\n",
    "\n",
    "P-value is significantly greater than 0.05. This means that there are no reasons to reject the null hypothesis and believe that there are differences in the average bills based on the “raw” data. However, the average bill of group B is almost 29% higher than the average check of group A.    \n",
    "\n",
    "\n"
   ]
  },
  {
   "cell_type": "markdown",
   "id": "9bed3cde",
   "metadata": {},
   "source": [
    "## Calculate the statistical significance of differences in conversion between groups according to the \"clean\" data. Draw conclusions and assumptions."
   ]
  },
  {
   "cell_type": "code",
   "execution_count": 35,
   "id": "82daafe1",
   "metadata": {},
   "outputs": [],
   "source": [
    "#Let's create variables in which we will save users who ordered at least 1 time, \n",
    "#and indicate the number of completed orders.\n",
    "\n",
    "ordersByUsersA = (\n",
    "    orders[orders['group'] == 'A']\n",
    "    .groupby('visitorId', as_index=False)\n",
    "    .agg({'transactionId': pd.Series.nunique})\n",
    ")\n",
    "ordersByUsersA.columns = ['visitorId', 'orders']\n",
    "\n",
    "ordersByUsersB = (\n",
    "    orders[orders['group'] == 'B']\n",
    "    .groupby('visitorId', as_index=False)\n",
    "    .agg({'transactionId': pd.Series.nunique})\n",
    ")\n",
    "ordersByUsersB.columns = ['visitorId', 'orders'] \n"
   ]
  },
  {
   "cell_type": "code",
   "execution_count": 36,
   "id": "f3a99f19",
   "metadata": {},
   "outputs": [
    {
     "name": "stdout",
     "output_type": "stream",
     "text": [
      "568     113298937\n",
      "1099    148427295\n",
      "928     204675465\n",
      "33      249864742\n",
      "684     358944393\n",
      "Name: visitorId, dtype: int64\n",
      "Total anomalous users 58\n"
     ]
    }
   ],
   "source": [
    "#declare variables\n",
    "abnormalQuantity = 2\n",
    "abnormalValue = 27000\n",
    "\n",
    "#create slices of users with more than 2 orders\n",
    "usersWithManyOrders = pd.concat(\n",
    "    [\n",
    "        ordersByUsersA[ordersByUsersA['orders'] > abnormalQuantity]['visitorId'],\n",
    "        ordersByUsersB[ordersByUsersB['orders'] > abnormalQuantity]['visitorId'],\n",
    "    ],\n",
    "    axis=0,\n",
    ")\n",
    "\n",
    "#and users with order's values more than 27 000\n",
    "usersWithExpensiveOrders = orders[orders['revenue'] > abnormalValue]['visitorId']\n",
    "\n",
    "#Combine both and create a table abnormalUsers.\n",
    "abnormalUsers = (\n",
    "    pd.concat([usersWithManyOrders, usersWithExpensiveOrders], axis=0)\n",
    "    .drop_duplicates()\n",
    "    .sort_values()\n",
    ")\n",
    "print(abnormalUsers.head(5))\n",
    "print('Total anomalous users',abnormalUsers.shape[0])"
   ]
  },
  {
   "cell_type": "code",
   "execution_count": 37,
   "id": "0f6e4a0b",
   "metadata": {},
   "outputs": [],
   "source": [
    "#Save dataset without outliers under the name ordersFiltered\n",
    "\n",
    "ordersFiltered = orders[np.logical_not(orders['visitorId'].isin(abnormalUsers))]"
   ]
  },
  {
   "cell_type": "code",
   "execution_count": 38,
   "id": "250419f4",
   "metadata": {},
   "outputs": [],
   "source": [
    "#create an array of unique pairs of date values and test groups\n",
    "\n",
    "datesGroupsFiltered = ordersFiltered[['date','group']].drop_duplicates()\n",
    "\n",
    "#collect aggregated daily cumulative order data\n",
    "\n",
    "ordersAggregatedFiltered = datesGroupsFiltered.apply(\n",
    "    lambda x: ordersFiltered[np.logical_and(ordersFiltered['date'] <= x['date'], \n",
    "                                            ordersFiltered['group'] == x['group'])]\\\n",
    ".agg(\n",
    "        {'date' : 'max', \n",
    "         'group' : 'max', \n",
    "         'transactionId' : 'nunique', \n",
    "         'visitorId' : 'nunique', \n",
    "         'revenue' : 'sum'}\n",
    "    ), axis=1\n",
    ").sort_values(by=['date','group'])\n"
   ]
  },
  {
   "cell_type": "code",
   "execution_count": 39,
   "id": "b9389be8",
   "metadata": {
    "scrolled": true
   },
   "outputs": [],
   "source": [
    "#Get aggregated daily cumulative data about online-store visitors\n",
    "\n",
    "visitorsAggregatedFiltered = datesGroupsFiltered.apply(\n",
    "    lambda x: visitors[np.logical_and(\n",
    "        visitors['date'] <= x['date'], visitors['group'] == x['group']\n",
    "    )].agg({'date' : 'max', 'group' : 'max', 'visitors' : 'sum'}), axis=1\n",
    ").sort_values(by=['date','group'])"
   ]
  },
  {
   "cell_type": "code",
   "execution_count": 40,
   "id": "95cd788b",
   "metadata": {
    "scrolled": true
   },
   "outputs": [],
   "source": [
    "#merge both tables into one and give the columns clear names\n",
    "\n",
    "cumulativeDataFiltered = ordersAggregatedFiltered.merge(\n",
    "    visitorsAggregatedFiltered, left_on=['date', 'group'], right_on=['date', 'group']\n",
    ")\n",
    "\n",
    "cumulativeDataFiltered.columns = ['date', 'group', 'orders', 'buyers', 'revenue', 'visitors']"
   ]
  },
  {
   "cell_type": "code",
   "execution_count": 41,
   "id": "737ac906",
   "metadata": {
    "scrolled": true
   },
   "outputs": [],
   "source": [
    "#calculate the cumulative conversion\n",
    "cumulativeDataFiltered['conversion'] = cumulativeDataFiltered['orders']/cumulativeDataFiltered['visitors']\n",
    "\n",
    "#Separate data by group A\n",
    "cumulativeDataAFiltered = cumulativeDataFiltered[cumulativeData['group']=='A']\n",
    " \n",
    "#Separate data by group B\n",
    "cumulativeDataBFiltered = cumulativeDataFiltered[cumulativeData['group']=='B']"
   ]
  },
  {
   "cell_type": "markdown",
   "id": "0024d84a",
   "metadata": {},
   "source": [
    "**two-sided test:** The conversion of groups A and B based on the \"clean\" data is the same\n",
    "<p>Introduction of the null and the alternative hypotheses:</p>\n",
    "\n",
    "$\\begin{equation*}\n",
    " \\begin{cases}\n",
    "   H_0 :\\text{The conversion of groups A and B based on the \"clean\" data is the same}\\\\\n",
    "   H_1 :\\text{The conversion of groups A and B based on the \"clean\" data is different}\n",
    " \\end{cases}\n",
    "\\end{equation*}$\n",
    "\n",
    "Significance level: $\\alpha = 0.05$\n",
    "\n",
    "If the p-value is less than the chosen significance level $\\alpha = 0.05$, then we reject the null hypothesis about the equality of the conversions. Otherwise, we conclude that the data did not allow us to reject the null hypothesis."
   ]
  },
  {
   "cell_type": "code",
   "execution_count": 42,
   "id": "85399aa7",
   "metadata": {
    "scrolled": false
   },
   "outputs": [
    {
     "name": "stdout",
     "output_type": "stream",
     "text": [
      "p-value:  2.830155926118375e-09\n",
      "The null hypothesis is rejected\n"
     ]
    }
   ],
   "source": [
    "alpha = 0.05\n",
    "\n",
    "results = stats.mannwhitneyu(cumulativeDataAFiltered['conversion'], cumulativeDataBFiltered['conversion'])\n",
    "print('p-value: ', results.pvalue)\n",
    "\n",
    "if (results.pvalue < alpha):\n",
    "    print(\"The null hypothesis is rejected\")\n",
    "else:\n",
    "    print(\"Failed to reject the null hypothesis\")"
   ]
  },
  {
   "cell_type": "markdown",
   "id": "24f16638",
   "metadata": {},
   "source": [
    "*The null hypothesis is rejected => The conversion of groups A and B based on the \"clean\" data is different*"
   ]
  },
  {
   "cell_type": "markdown",
   "id": "c4e3f819",
   "metadata": {},
   "source": [
    "**one-sided test:** Group B conversion is greater than Group A conversion based on the \"clean\" data\n",
    "<p>Introduction of the null and the alternative hypotheses:</p>\n",
    "\n",
    "$\\begin{equation*}\n",
    " \\begin{cases}\n",
    "   H_0 :\\text{The conversion of groups A and B based on the \"clean\" data is the same}\\\\\n",
    "   H_1 :\\text{Group B conversion is greater than Group A conversion based on the \"clean\" data}\n",
    " \\end{cases}\n",
    "\\end{equation*}$\n"
   ]
  },
  {
   "cell_type": "code",
   "execution_count": 43,
   "id": "2125aa20",
   "metadata": {},
   "outputs": [
    {
     "name": "stdout",
     "output_type": "stream",
     "text": [
      "p-value:  1.4150779630591875e-09\n",
      "The null hypothesis is rejected\n"
     ]
    }
   ],
   "source": [
    "alpha = 0.05\n",
    "\n",
    "results = stats.mannwhitneyu(cumulativeDataBFiltered['conversion'], \n",
    "                             cumulativeDataAFiltered['conversion'], \n",
    "                             alternative='greater')\n",
    "print('p-value: ', results.pvalue)\n",
    "\n",
    "if (results.pvalue < alpha):\n",
    "    print(\"The null hypothesis is rejected\")\n",
    "else:\n",
    "    print(\"Failed to reject the null hypothesis\")"
   ]
  },
  {
   "cell_type": "markdown",
   "id": "0cd66f23",
   "metadata": {},
   "source": [
    "*The null hypothesis is rejected => Group B conversion is greater than Group A conversion based on the \"clean\" data*"
   ]
  },
  {
   "cell_type": "code",
   "execution_count": 44,
   "id": "f6e35d3e",
   "metadata": {},
   "outputs": [
    {
     "name": "stdout",
     "output_type": "stream",
     "text": [
      "Relative increase in conversion in group B in relation to group A according to \"clean\" data = 14.7%\n"
     ]
    }
   ],
   "source": [
    "#calculate the relative increase in conversion in group B in relation to group A\n",
    "\n",
    "print('Relative increase in conversion in group B in relation to group A according to \"clean\" data =',\n",
    "      '{0:.1%}'.format(cumulativeDataBFiltered['conversion'].mean()/\n",
    "cumulativeDataAFiltered['conversion'].mean()-1))"
   ]
  },
  {
   "cell_type": "markdown",
   "id": "aaa7d1df",
   "metadata": {},
   "source": [
    "<div style=\"background-color:GhostWhite;padding:20px\">\n",
    "    \n",
    "* The result of the non-parametric Mann-Whitney test on \"clean\" data showed that the conversion of group B is greater than the conversion of group A\n",
    "    \n",
    "* The relative increase in conversion in group B in relation to group A is 15.0%\n",
    "\n",
    "</div>"
   ]
  },
  {
   "cell_type": "markdown",
   "id": "1ba9755d",
   "metadata": {},
   "source": [
    "## Calculate the statistical significance of the differences in the average order receipt between the groups based on the \"clean\" data. Draw conclusions and assumptions."
   ]
  },
  {
   "cell_type": "markdown",
   "id": "804277c1",
   "metadata": {},
   "source": [
    "**Двусторонняя проверка:** Средний чек у групп А и В по «очищенным» данным одинаковый\n",
    "<p>Введем основную и альтернативные гипотезы:</p>\n",
    "\n",
    "$\\begin{equation*}\n",
    " \\begin{cases}\n",
    "   H_0 :\\text{Средний чек у групп А и В по «очищенным» данным одинаковый}\\\\\n",
    "   H_1 :\\text{Средний чек у групп А и В по «очищенным» данным различается}\n",
    " \\end{cases}\n",
    "\\end{equation*}$\n",
    "\n",
    "Уровень значимости: $\\alpha = 0.05$\n",
    "\n",
    "Если p-value будет меньше выбранного уровня значимости $\\alpha = 0.05$, то нулевую гипотезу о равенстве средних отвергнем. Иначе сделаем вывод, что данные не позволили нам отвергнуть нулевую гипотезу.\n",
    "\n",
    "**two-sided test:** The mean bill in groups A and B based on the \"clean\" data is the same\n",
    "<p>Introduction of the null and the alternative hypotheses:</p>\n",
    "\n",
    "$\\begin{equation*}\n",
    " \\begin{cases}\n",
    "   H_0 :\\text{The mean bill in groups A and B based on the \"clean\" data is the same}\\\\\n",
    "   H_1 :\\text{The mean bill in groups A and B based on the \"clean\" data is different}\n",
    " \\end{cases}\n",
    "\\end{equation*}$\n",
    "\n",
    "Significance level: $\\alpha = 0.05$\n",
    "\n",
    "If the p-value is less than the chosen significance level $\\alpha = 0.05$, then we reject the null hypothesis about the equality of the means. Otherwise, we conclude that the data did not allow us to reject the null hypothesis."
   ]
  },
  {
   "cell_type": "code",
   "execution_count": 45,
   "id": "176f78ba",
   "metadata": {
    "scrolled": true
   },
   "outputs": [
    {
     "name": "stdout",
     "output_type": "stream",
     "text": [
      "p-value:  0.6458964038091206\n",
      "Failed to reject the null hypothesis\n"
     ]
    }
   ],
   "source": [
    "alpha = 0.05\n",
    "\n",
    "results = stats.mannwhitneyu(\n",
    "    ordersFiltered[ordersFiltered['group']=='A']['revenue'], \n",
    "    ordersFiltered[ordersFiltered['group']=='B']['revenue'], \n",
    "    alternative='two-sided'\n",
    ")\n",
    "\n",
    "print('p-value: ', results.pvalue)\n",
    "\n",
    "if (results.pvalue < alpha):\n",
    "    print(\"The null hypothesis is rejected\")\n",
    "else:\n",
    "    print(\"Failed to reject the null hypothesis\")"
   ]
  },
  {
   "cell_type": "markdown",
   "id": "749cd96a",
   "metadata": {},
   "source": [
    "*Failed to reject the null hypothesis => There are no reasons to believe that based on the \"clean\" data the average bill in groups is different*"
   ]
  },
  {
   "cell_type": "code",
   "execution_count": 46,
   "id": "cd15f372",
   "metadata": {
    "scrolled": false
   },
   "outputs": [
    {
     "name": "stdout",
     "output_type": "stream",
     "text": [
      "-4.8%\n"
     ]
    }
   ],
   "source": [
    "print('{0:.1%}'.format(ordersFiltered[ordersFiltered['group']=='B']['revenue'].mean()/\n",
    "ordersFiltered[ordersFiltered['group']=='A']['revenue'].mean()-1))"
   ]
  },
  {
   "cell_type": "markdown",
   "id": "ef9c4693",
   "metadata": {},
   "source": [
    "<div style=\"background-color:GhostWhite;padding:20px\">\n",
    "    \n",
    "P-value is significantly greater than 0.05. This means that there are no reasons to reject the null hypothesis and believe that there are differences in the average bills. Although we note that the average bill in group B is 5% lower than the average bill in group A.\n",
    "    \n",
    "Apparently all the abnormally large orders were in group B.\n",
    "</div>"
   ]
  },
  {
   "cell_type": "markdown",
   "id": "957cd952",
   "metadata": {},
   "source": [
    "# Conclusion"
   ]
  },
  {
   "attachments": {
    "image-20.png": {
     "image/png": "[encoded data removed]"
    },
    "image-21.png": {
     "image/png": "[encoded data removed]"
    },
    "image-22.png": {
     "image/png": "[encoded data removed]"
    },
    "image-23.png": {
     "image/png": "[encoded data removed]"
    },
    "image-24.png": {
     "image/png": "[encoded data removed]"
    },
    "image-25.png": {
     "image/png": "[encoded data removed]"
    },
    "image-26.png": {
     "image/png": "[encoded data removed]"
    },
    "image-27.png": {
     "image/png": "[encoded data removed]"
    }
   },
   "cell_type": "markdown",
   "id": "2d10c631",
   "metadata": {},
   "source": [
    "\n",
    "**The objectives of this study were:**\n",
    "    \n",
    "- prioritization of hypotheses,\n",
    "    \n",
    "- performance of A/B testing,\n",
    "    \n",
    "- analysis of results.\n",
    "\n",
    "**To solve these problems, we took the following steps.**\n",
    "\n",
    "1. We performed EDA:\n",
    "    \n",
    "* brought data types in accordance with the values,    \n",
    "* made sure there were no obvious duplicates,    \n",
    "* deleted all users who fell into both groups,   \n",
    "* made sure the number of groups and checked the number of users in each group.\n",
    "    \n",
    "2. Performed prioritization of hypotheses using ICE and RICE methods and found following:\n",
    "    \n",
    "* Most promising ICE hypotheses: 8, 0, 7, 6, 2 (desc)    \n",
    "* Most promising RICE hypotheses: 7, 2, 0, 8, 6 (desc)![image-20.png](attachment:image-20.png)\n",
    "    \n",
    "3. We built a graph of cumulative revenue by groups. On the basis of the graph, conclusions were drawn:\n",
    "    \n",
    "* Revenue was increasing throughout the test;   \n",
    "* Within 20 days, revenue in both groups was growing almost evenly;   \n",
    "* After Day 20, Group B's revenue increased dramatically.![image-21.png](attachment:image-21.png)\n",
    "    \n",
    "4. We built a graph of the cumulative average check for groups. On the basis of the graph, conclusions were drawn:\n",
    "    \n",
    "* The average bill in group B is significantly higher than the average bill in group A;    \n",
    "* A sharp increase of the average bill in group B after the 20th day.![image-22.png](attachment:image-22.png)\n",
    "    \n",
    "5. We built a graph of the relative change in the cumulative average bill in group B to group A. Based on the graph, we concluded that the dataset contains outliers.![image-23.png](attachment:image-23.png)\n",
    "    \n",
    "6. We built a graph of the relative change in the cumulative conversion of group B to group A. Based on the graph, conclusions were drawn:\n",
    "    \n",
    "* The first 5 days of the test, the conversion of group A was higher than group B;   \n",
    "* Starting from day 6 of the test, group B conversion significantly outperforms group A.![image-24.png](attachment:image-24.png) ![image-23.png](attachment:image-23.png)\n",
    "    \n",
    "7. We built a histogram and a scatter plot of the number of orders by users:\n",
    "    \n",
    "* most buyers ordered only once; ![image-25.png](attachment:image-25.png) \n",
    "* individual users with 2-3 orders.![image-26.png](attachment:image-26.png)\n",
    "    \n",
    "8. We calculated the 95th and 99th percentiles of the number of orders per user:\n",
    "    \n",
    "* no more than 5% of users placed more than 1 order;    \n",
    "* only 1% of users ordered more than 2 times;    \n",
    "* set 2 orders per user as the lower limit of the number of orders.\n",
    "    \n",
    "9. We built a dot plot of order values and found out, that\n",
    "    \n",
    "* the cost of individual orders did not exceed 50K;\n",
    "* most of the orders had the amount of no more than 25K.![image-27.png](attachment:image-27.png)\n",
    "    \n",
    "10. We calculated the 95th and 99th percentiles of order value:\n",
    "    \n",
    "* no more than 5% of orders exceeded 27,000;    \n",
    "* only 1% of orders was over 54,000;    \n",
    "* set as the lower limit of the cost of orders 27000.\n",
    "    \n",
    "11. Conducted a non-parametric Mann-Whitney test on \"raw\" data, the result of which showed that the conversion of group B is greater than the conversion of group A.\n",
    "    \n",
    "12. We found out that the relative increase in conversion in group B in relation to group A based on the \"raw\" data is 9%.\n",
    "    \n",
    "13. Conducted a non-parametric Mann-Whitney test on \"raw\" data, as a result of which it was not possible to reject the hypothesis that the average check for groups is the same.\n",
    "    \n",
    "14. We found out that the average check in group B based on the \"raw\" data is almost 29% higher.\n",
    "    \n",
    "15. Cleared data from outliers. We took for outliers the number of orders more than 2 and the order value more than 27000.\n",
    "    \n",
    "16. Conducted a non-parametric Mann-Whitney test on \"clean\" data, the result of which showed that the conversion of group B was greater than the conversion of group A.\n",
    "    \n",
    "17. We found out that the relative increase in conversion in group B in relation to group A based on the \"clean\" data was 15%.\n",
    "    \n",
    "18. Conducted a non-parametric Mann-Whitney test on “clean” data, as a result of which it was not possible to reject the hypothesis that the average check in groups is the same.\n",
    "    \n",
    "19. We found out that the average check in group B was lower than group A by 5%.\n"
   ]
  },
  {
   "cell_type": "markdown",
   "id": "c65aae5a",
   "metadata": {},
   "source": [
    "# Recommendations"
   ]
  },
  {
   "cell_type": "markdown",
   "id": "afe51a22",
   "metadata": {},
   "source": [
    "    \n",
    "**Recommendations to the marketing department on how to increase the revenue of the online store**\n",
    "\n",
    " 1. If the coverage indicator (REACH) is not important for business:\n",
    "    \n",
    "* Focus on hypotheses: 8, 0, 7, 6, 2 (desc);\n",
    "    \n",
    "* Otherwise, focus on the most promising RICE hypotheses: 7, 2, 0, 8, 6 (desc).\n",
    " \n",
    "2. You should stop the A / B test and announce the victory of group B, because:\n",
    "    \n",
    "* although we did not succeed in rejecting the hypothesis that the average check for groups was the same,\n",
    "    \n",
    "* we concluded that the conversion of group B was greater than the conversion of group A, as well as the relative increase in conversion in group B in relation to group A was 15% (based on the \"clean\" data) and 9% - based on the \"raw\",\n",
    "    \n",
    "* therefore, we are extensively increasing revenue by increasing the number of buyers in group B.    \n",
    "    "
   ]
  },
  {
   "cell_type": "code",
   "execution_count": null,
   "id": "c50bf346",
   "metadata": {},
   "outputs": [],
   "source": []
  }
 ],
 "metadata": {
  "ExecuteTimeLog": [
   {
    "duration": 2144,
    "start_time": "2022-07-20T12:21:44.399Z"
   },
   {
    "duration": 250,
    "start_time": "2022-07-20T12:21:46.545Z"
   },
   {
    "duration": 5,
    "start_time": "2022-07-20T12:21:46.798Z"
   },
   {
    "duration": 36,
    "start_time": "2022-07-20T12:21:46.805Z"
   },
   {
    "duration": 40,
    "start_time": "2022-07-20T12:21:46.844Z"
   },
   {
    "duration": 38,
    "start_time": "2022-07-20T12:21:46.886Z"
   },
   {
    "duration": 28,
    "start_time": "2022-07-20T12:21:46.926Z"
   },
   {
    "duration": 13,
    "start_time": "2022-07-20T12:21:46.957Z"
   },
   {
    "duration": 11,
    "start_time": "2022-07-20T12:21:46.972Z"
   },
   {
    "duration": 30,
    "start_time": "2022-07-20T12:21:46.986Z"
   },
   {
    "duration": 32,
    "start_time": "2022-07-20T12:21:47.018Z"
   },
   {
    "duration": 14,
    "start_time": "2022-07-20T12:21:47.052Z"
   },
   {
    "duration": 207,
    "start_time": "2022-07-20T12:21:47.068Z"
   },
   {
    "duration": 161,
    "start_time": "2022-07-20T12:21:47.279Z"
   },
   {
    "duration": 18,
    "start_time": "2022-07-20T12:21:47.443Z"
   },
   {
    "duration": 336,
    "start_time": "2022-07-20T12:21:47.463Z"
   },
   {
    "duration": 219,
    "start_time": "2022-07-20T12:21:47.801Z"
   },
   {
    "duration": 27,
    "start_time": "2022-07-20T12:21:48.023Z"
   },
   {
    "duration": 358,
    "start_time": "2022-07-20T12:21:48.052Z"
   },
   {
    "duration": 274,
    "start_time": "2022-07-20T12:21:48.412Z"
   },
   {
    "duration": 337,
    "start_time": "2022-07-20T12:21:48.688Z"
   },
   {
    "duration": 17,
    "start_time": "2022-07-20T12:21:49.027Z"
   },
   {
    "duration": 138,
    "start_time": "2022-07-20T12:21:49.046Z"
   },
   {
    "duration": 142,
    "start_time": "2022-07-20T12:21:49.186Z"
   },
   {
    "duration": 11,
    "start_time": "2022-07-20T12:21:49.330Z"
   },
   {
    "duration": 163,
    "start_time": "2022-07-20T12:21:49.342Z"
   },
   {
    "duration": 5,
    "start_time": "2022-07-20T12:21:49.507Z"
   },
   {
    "duration": 11,
    "start_time": "2022-07-20T12:21:49.514Z"
   },
   {
    "duration": 18,
    "start_time": "2022-07-20T12:21:49.526Z"
   },
   {
    "duration": 12,
    "start_time": "2022-07-20T12:21:49.546Z"
   },
   {
    "duration": 20,
    "start_time": "2022-07-20T12:21:49.560Z"
   },
   {
    "duration": 8,
    "start_time": "2022-07-20T12:21:49.582Z"
   },
   {
    "duration": 250,
    "start_time": "2022-07-20T12:21:49.592Z"
   },
   {
    "duration": 12,
    "start_time": "2022-07-20T12:21:49.845Z"
   },
   {
    "duration": 12,
    "start_time": "2022-07-20T12:21:49.858Z"
   },
   {
    "duration": 181,
    "start_time": "2022-07-20T12:21:49.872Z"
   },
   {
    "duration": 132,
    "start_time": "2022-07-20T12:21:50.055Z"
   },
   {
    "duration": 8,
    "start_time": "2022-07-20T12:21:50.189Z"
   },
   {
    "duration": 10,
    "start_time": "2022-07-20T12:21:50.198Z"
   },
   {
    "duration": 11,
    "start_time": "2022-07-20T12:21:50.210Z"
   },
   {
    "duration": 19,
    "start_time": "2022-07-20T12:21:50.225Z"
   },
   {
    "duration": 28,
    "start_time": "2022-07-20T12:21:50.246Z"
   },
   {
    "duration": 11,
    "start_time": "2022-07-20T12:21:50.276Z"
   },
   {
    "duration": 7,
    "start_time": "2022-07-20T12:21:50.289Z"
   },
   {
    "duration": 71,
    "start_time": "2022-07-20T15:54:18.461Z"
   },
   {
    "duration": 1657,
    "start_time": "2022-07-20T15:54:31.817Z"
   },
   {
    "duration": 242,
    "start_time": "2022-07-20T15:54:33.477Z"
   },
   {
    "duration": 4,
    "start_time": "2022-07-20T15:54:33.721Z"
   },
   {
    "duration": 32,
    "start_time": "2022-07-20T15:54:33.727Z"
   },
   {
    "duration": 30,
    "start_time": "2022-07-20T15:54:33.760Z"
   },
   {
    "duration": 33,
    "start_time": "2022-07-20T15:54:33.792Z"
   },
   {
    "duration": 17,
    "start_time": "2022-07-20T15:54:33.827Z"
   },
   {
    "duration": 8,
    "start_time": "2022-07-20T15:54:33.846Z"
   },
   {
    "duration": 31,
    "start_time": "2022-07-20T15:54:33.865Z"
   },
   {
    "duration": 10,
    "start_time": "2022-07-20T15:54:33.899Z"
   },
   {
    "duration": 18,
    "start_time": "2022-07-20T15:54:33.911Z"
   },
   {
    "duration": 16,
    "start_time": "2022-07-20T15:54:33.931Z"
   },
   {
    "duration": 238,
    "start_time": "2022-07-20T15:54:33.949Z"
   },
   {
    "duration": 146,
    "start_time": "2022-07-20T15:54:34.189Z"
   },
   {
    "duration": 41,
    "start_time": "2022-07-20T15:54:34.337Z"
   },
   {
    "duration": 352,
    "start_time": "2022-07-20T15:54:34.380Z"
   },
   {
    "duration": 255,
    "start_time": "2022-07-20T15:54:34.736Z"
   },
   {
    "duration": 15,
    "start_time": "2022-07-20T15:54:34.993Z"
   },
   {
    "duration": 399,
    "start_time": "2022-07-20T15:54:35.010Z"
   },
   {
    "duration": 562,
    "start_time": "2022-07-20T15:54:35.411Z"
   },
   {
    "duration": 592,
    "start_time": "2022-07-20T15:54:35.978Z"
   },
   {
    "duration": 17,
    "start_time": "2022-07-20T15:54:36.572Z"
   },
   {
    "duration": 412,
    "start_time": "2022-07-20T15:54:36.592Z"
   },
   {
    "duration": 391,
    "start_time": "2022-07-20T15:54:37.007Z"
   },
   {
    "duration": 10,
    "start_time": "2022-07-20T15:54:37.400Z"
   },
   {
    "duration": 383,
    "start_time": "2022-07-20T15:54:37.412Z"
   },
   {
    "duration": 6,
    "start_time": "2022-07-20T15:54:37.797Z"
   },
   {
    "duration": 54,
    "start_time": "2022-07-20T15:54:37.812Z"
   },
   {
    "duration": 44,
    "start_time": "2022-07-20T15:54:37.870Z"
   },
   {
    "duration": 7,
    "start_time": "2022-07-20T15:54:37.916Z"
   },
   {
    "duration": 12,
    "start_time": "2022-07-20T15:54:37.926Z"
   },
   {
    "duration": 42,
    "start_time": "2022-07-20T15:54:37.941Z"
   },
   {
    "duration": 214,
    "start_time": "2022-07-20T15:54:37.986Z"
   },
   {
    "duration": 104,
    "start_time": "2022-07-20T15:54:38.204Z"
   },
   {
    "duration": 10,
    "start_time": "2022-07-20T15:54:38.310Z"
   },
   {
    "duration": 187,
    "start_time": "2022-07-20T15:54:38.322Z"
   },
   {
    "duration": 130,
    "start_time": "2022-07-20T15:54:38.511Z"
   },
   {
    "duration": 7,
    "start_time": "2022-07-20T15:54:38.643Z"
   },
   {
    "duration": 58,
    "start_time": "2022-07-20T15:54:38.652Z"
   },
   {
    "duration": 8,
    "start_time": "2022-07-20T15:54:38.712Z"
   },
   {
    "duration": 10,
    "start_time": "2022-07-20T15:54:38.722Z"
   },
   {
    "duration": 9,
    "start_time": "2022-07-20T15:54:38.734Z"
   },
   {
    "duration": 10,
    "start_time": "2022-07-20T15:54:38.745Z"
   },
   {
    "duration": 10,
    "start_time": "2022-07-20T15:54:38.756Z"
   },
   {
    "duration": 213,
    "start_time": "2022-07-20T16:04:34.523Z"
   },
   {
    "duration": 251,
    "start_time": "2022-07-20T16:05:01.813Z"
   },
   {
    "duration": 274,
    "start_time": "2022-07-20T16:05:09.952Z"
   },
   {
    "duration": 303,
    "start_time": "2022-07-20T16:06:12.752Z"
   },
   {
    "duration": 243,
    "start_time": "2022-07-20T16:06:21.849Z"
   },
   {
    "duration": 1220,
    "start_time": "2022-07-20T16:08:49.089Z"
   },
   {
    "duration": 86,
    "start_time": "2022-07-20T16:08:50.311Z"
   },
   {
    "duration": 4,
    "start_time": "2022-07-20T16:08:50.400Z"
   },
   {
    "duration": 40,
    "start_time": "2022-07-20T16:08:50.406Z"
   },
   {
    "duration": 24,
    "start_time": "2022-07-20T16:08:50.448Z"
   },
   {
    "duration": 24,
    "start_time": "2022-07-20T16:08:50.474Z"
   },
   {
    "duration": 26,
    "start_time": "2022-07-20T16:08:50.500Z"
   },
   {
    "duration": 24,
    "start_time": "2022-07-20T16:08:50.528Z"
   },
   {
    "duration": 13,
    "start_time": "2022-07-20T16:08:50.555Z"
   },
   {
    "duration": 27,
    "start_time": "2022-07-20T16:08:50.571Z"
   },
   {
    "duration": 23,
    "start_time": "2022-07-20T16:08:50.600Z"
   },
   {
    "duration": 43,
    "start_time": "2022-07-20T16:08:50.625Z"
   },
   {
    "duration": 209,
    "start_time": "2022-07-20T16:08:50.670Z"
   },
   {
    "duration": 142,
    "start_time": "2022-07-20T16:08:50.880Z"
   },
   {
    "duration": 15,
    "start_time": "2022-07-20T16:08:51.024Z"
   },
   {
    "duration": 306,
    "start_time": "2022-07-20T16:08:51.040Z"
   },
   {
    "duration": 216,
    "start_time": "2022-07-20T16:08:51.348Z"
   },
   {
    "duration": 19,
    "start_time": "2022-07-20T16:08:51.566Z"
   },
   {
    "duration": 301,
    "start_time": "2022-07-20T16:08:51.587Z"
   },
   {
    "duration": 230,
    "start_time": "2022-07-20T16:08:51.891Z"
   },
   {
    "duration": 329,
    "start_time": "2022-07-20T16:08:52.123Z"
   },
   {
    "duration": 17,
    "start_time": "2022-07-20T16:08:52.453Z"
   },
   {
    "duration": 157,
    "start_time": "2022-07-20T16:08:52.473Z"
   },
   {
    "duration": 166,
    "start_time": "2022-07-20T16:08:52.633Z"
   },
   {
    "duration": 5,
    "start_time": "2022-07-20T16:08:52.801Z"
   },
   {
    "duration": 199,
    "start_time": "2022-07-20T16:08:52.807Z"
   },
   {
    "duration": 4,
    "start_time": "2022-07-20T16:08:53.009Z"
   },
   {
    "duration": 10,
    "start_time": "2022-07-20T16:08:53.016Z"
   },
   {
    "duration": 20,
    "start_time": "2022-07-20T16:08:53.028Z"
   },
   {
    "duration": 17,
    "start_time": "2022-07-20T16:08:53.050Z"
   },
   {
    "duration": 28,
    "start_time": "2022-07-20T16:08:53.073Z"
   },
   {
    "duration": 11,
    "start_time": "2022-07-20T16:08:53.102Z"
   },
   {
    "duration": 185,
    "start_time": "2022-07-20T16:08:53.114Z"
   },
   {
    "duration": 9,
    "start_time": "2022-07-20T16:08:53.301Z"
   },
   {
    "duration": 7,
    "start_time": "2022-07-20T16:08:53.312Z"
   },
   {
    "duration": 308,
    "start_time": "2022-07-20T16:08:53.321Z"
   },
   {
    "duration": 173,
    "start_time": "2022-07-20T16:08:53.631Z"
   },
   {
    "duration": 8,
    "start_time": "2022-07-20T16:08:53.806Z"
   },
   {
    "duration": 9,
    "start_time": "2022-07-20T16:08:53.815Z"
   },
   {
    "duration": 8,
    "start_time": "2022-07-20T16:08:53.826Z"
   },
   {
    "duration": 30,
    "start_time": "2022-07-20T16:08:53.836Z"
   },
   {
    "duration": 23,
    "start_time": "2022-07-20T16:08:53.869Z"
   },
   {
    "duration": 14,
    "start_time": "2022-07-20T16:08:53.894Z"
   },
   {
    "duration": 9,
    "start_time": "2022-07-20T16:08:53.909Z"
   },
   {
    "duration": 221,
    "start_time": "2022-07-20T16:09:12.850Z"
   },
   {
    "duration": 198,
    "start_time": "2022-07-20T16:09:23.349Z"
   },
   {
    "duration": 236,
    "start_time": "2022-07-20T16:11:33.901Z"
   },
   {
    "duration": 216,
    "start_time": "2022-07-20T16:11:40.811Z"
   },
   {
    "duration": 222,
    "start_time": "2022-07-20T16:12:18.194Z"
   },
   {
    "duration": 360,
    "start_time": "2022-07-20T16:16:02.976Z"
   },
   {
    "duration": 242,
    "start_time": "2022-07-20T16:18:18.150Z"
   },
   {
    "duration": 332,
    "start_time": "2022-07-20T16:19:17.106Z"
   },
   {
    "duration": 351,
    "start_time": "2022-07-20T16:22:17.252Z"
   },
   {
    "duration": 346,
    "start_time": "2022-07-20T16:22:50.283Z"
   },
   {
    "duration": 360,
    "start_time": "2022-07-20T16:23:08.160Z"
   },
   {
    "duration": 4,
    "start_time": "2022-07-20T16:30:28.388Z"
   },
   {
    "duration": 9,
    "start_time": "2022-07-20T16:31:26.353Z"
   },
   {
    "duration": 21,
    "start_time": "2022-07-20T16:35:16.484Z"
   },
   {
    "duration": 35,
    "start_time": "2022-07-20T16:36:21.548Z"
   },
   {
    "duration": 135,
    "start_time": "2022-07-20T16:36:49.391Z"
   },
   {
    "duration": 15,
    "start_time": "2022-07-20T16:37:04.795Z"
   },
   {
    "duration": 299,
    "start_time": "2022-07-20T16:37:28.504Z"
   },
   {
    "duration": 37,
    "start_time": "2022-07-20T16:37:49.944Z"
   },
   {
    "duration": 117,
    "start_time": "2022-07-20T16:40:07.009Z"
   },
   {
    "duration": 20,
    "start_time": "2022-07-20T16:40:10.587Z"
   },
   {
    "duration": 142,
    "start_time": "2022-07-20T16:40:56.892Z"
   },
   {
    "duration": 173,
    "start_time": "2022-07-20T16:43:04.061Z"
   },
   {
    "duration": 328,
    "start_time": "2022-07-20T16:44:49.225Z"
   },
   {
    "duration": 260,
    "start_time": "2022-07-20T16:44:56.593Z"
   },
   {
    "duration": 1351,
    "start_time": "2022-07-20T16:53:12.889Z"
   },
   {
    "duration": 105,
    "start_time": "2022-07-20T16:53:14.242Z"
   },
   {
    "duration": 3,
    "start_time": "2022-07-20T16:53:14.349Z"
   },
   {
    "duration": 64,
    "start_time": "2022-07-20T16:53:14.354Z"
   },
   {
    "duration": 23,
    "start_time": "2022-07-20T16:53:14.420Z"
   },
   {
    "duration": 28,
    "start_time": "2022-07-20T16:53:14.444Z"
   },
   {
    "duration": 29,
    "start_time": "2022-07-20T16:53:14.475Z"
   },
   {
    "duration": 13,
    "start_time": "2022-07-20T16:53:14.506Z"
   },
   {
    "duration": 11,
    "start_time": "2022-07-20T16:53:14.522Z"
   },
   {
    "duration": 12,
    "start_time": "2022-07-20T16:53:14.535Z"
   },
   {
    "duration": 12,
    "start_time": "2022-07-20T16:53:14.548Z"
   },
   {
    "duration": 22,
    "start_time": "2022-07-20T16:53:14.562Z"
   },
   {
    "duration": 237,
    "start_time": "2022-07-20T16:53:14.587Z"
   },
   {
    "duration": 147,
    "start_time": "2022-07-20T16:53:14.827Z"
   },
   {
    "duration": 27,
    "start_time": "2022-07-20T16:53:14.976Z"
   },
   {
    "duration": 343,
    "start_time": "2022-07-20T16:53:15.005Z"
   },
   {
    "duration": 259,
    "start_time": "2022-07-20T16:53:15.350Z"
   },
   {
    "duration": 16,
    "start_time": "2022-07-20T16:53:15.611Z"
   },
   {
    "duration": 401,
    "start_time": "2022-07-20T16:53:15.628Z"
   },
   {
    "duration": 271,
    "start_time": "2022-07-20T16:53:16.031Z"
   },
   {
    "duration": 332,
    "start_time": "2022-07-20T16:53:16.305Z"
   },
   {
    "duration": 12,
    "start_time": "2022-07-20T16:53:16.639Z"
   },
   {
    "duration": 169,
    "start_time": "2022-07-20T16:53:16.653Z"
   },
   {
    "duration": 24,
    "start_time": "2022-07-20T16:53:16.824Z"
   },
   {
    "duration": 166,
    "start_time": "2022-07-20T16:53:16.866Z"
   },
   {
    "duration": 235,
    "start_time": "2022-07-20T16:53:17.033Z"
   },
   {
    "duration": 22,
    "start_time": "2022-07-20T16:53:17.270Z"
   },
   {
    "duration": 260,
    "start_time": "2022-07-20T16:53:17.295Z"
   },
   {
    "duration": 21,
    "start_time": "2022-07-20T16:53:17.557Z"
   },
   {
    "duration": 28,
    "start_time": "2022-07-20T16:53:17.581Z"
   },
   {
    "duration": 11,
    "start_time": "2022-07-20T16:53:17.611Z"
   },
   {
    "duration": 7,
    "start_time": "2022-07-20T16:53:17.624Z"
   },
   {
    "duration": 15,
    "start_time": "2022-07-20T16:53:17.633Z"
   },
   {
    "duration": 8,
    "start_time": "2022-07-20T16:53:17.650Z"
   },
   {
    "duration": 232,
    "start_time": "2022-07-20T16:53:17.667Z"
   },
   {
    "duration": 14,
    "start_time": "2022-07-20T16:53:17.902Z"
   },
   {
    "duration": 5,
    "start_time": "2022-07-20T16:53:17.918Z"
   },
   {
    "duration": 197,
    "start_time": "2022-07-20T16:53:17.925Z"
   },
   {
    "duration": 178,
    "start_time": "2022-07-20T16:53:18.124Z"
   },
   {
    "duration": 7,
    "start_time": "2022-07-20T16:53:18.305Z"
   },
   {
    "duration": 10,
    "start_time": "2022-07-20T16:53:18.316Z"
   },
   {
    "duration": 23,
    "start_time": "2022-07-20T16:53:18.327Z"
   },
   {
    "duration": 62,
    "start_time": "2022-07-20T16:53:18.352Z"
   },
   {
    "duration": 22,
    "start_time": "2022-07-20T16:53:18.416Z"
   },
   {
    "duration": 26,
    "start_time": "2022-07-20T16:53:18.440Z"
   },
   {
    "duration": 37,
    "start_time": "2022-07-20T16:53:18.468Z"
   },
   {
    "duration": 252,
    "start_time": "2022-07-20T17:01:02.087Z"
   },
   {
    "duration": 55,
    "start_time": "2022-07-20T17:04:07.259Z"
   },
   {
    "duration": 16,
    "start_time": "2022-07-20T17:05:56.989Z"
   },
   {
    "duration": 7,
    "start_time": "2022-07-20T17:17:44.731Z"
   },
   {
    "duration": 9,
    "start_time": "2022-07-20T17:18:30.685Z"
   },
   {
    "duration": 8,
    "start_time": "2022-07-20T17:21:42.602Z"
   },
   {
    "duration": 10,
    "start_time": "2022-07-20T17:36:43.716Z"
   },
   {
    "duration": 94,
    "start_time": "2022-07-20T17:40:13.556Z"
   },
   {
    "duration": 48,
    "start_time": "2022-07-20T17:40:23.879Z"
   },
   {
    "duration": 2,
    "start_time": "2022-07-20T17:40:36.014Z"
   },
   {
    "duration": 49,
    "start_time": "2022-07-20T17:42:46.513Z"
   },
   {
    "duration": 133,
    "start_time": "2022-07-20T17:43:02.488Z"
   },
   {
    "duration": 14,
    "start_time": "2022-07-20T17:43:48.783Z"
   },
   {
    "duration": 8,
    "start_time": "2022-07-20T17:45:24.952Z"
   },
   {
    "duration": 65,
    "start_time": "2022-07-20T17:51:26.824Z"
   },
   {
    "duration": 24,
    "start_time": "2022-07-20T17:51:48.179Z"
   },
   {
    "duration": 41,
    "start_time": "2022-07-20T17:53:09.343Z"
   },
   {
    "duration": 27,
    "start_time": "2022-07-20T17:53:12.601Z"
   },
   {
    "duration": 10,
    "start_time": "2022-07-20T17:53:46.213Z"
   },
   {
    "duration": 23,
    "start_time": "2022-07-20T17:53:59.534Z"
   },
   {
    "duration": 998,
    "start_time": "2022-07-20T17:54:20.160Z"
   },
   {
    "duration": 15,
    "start_time": "2022-07-20T17:55:25.193Z"
   },
   {
    "duration": 691,
    "start_time": "2022-07-20T17:56:05.893Z"
   },
   {
    "duration": 178,
    "start_time": "2022-07-20T17:56:35.451Z"
   },
   {
    "duration": 203,
    "start_time": "2022-07-20T17:56:39.702Z"
   },
   {
    "duration": 536,
    "start_time": "2022-07-20T17:57:17.192Z"
   },
   {
    "duration": 165,
    "start_time": "2022-07-20T17:57:30.125Z"
   },
   {
    "duration": 17,
    "start_time": "2022-07-20T18:01:17.791Z"
   },
   {
    "duration": 15,
    "start_time": "2022-07-20T18:02:01.560Z"
   },
   {
    "duration": 16,
    "start_time": "2022-07-20T18:02:44.854Z"
   },
   {
    "duration": 23,
    "start_time": "2022-07-20T18:02:53.964Z"
   },
   {
    "duration": 20,
    "start_time": "2022-07-20T18:03:34.691Z"
   },
   {
    "duration": 16,
    "start_time": "2022-07-20T18:03:53.895Z"
   },
   {
    "duration": 9,
    "start_time": "2022-07-20T18:06:01.857Z"
   },
   {
    "duration": 10,
    "start_time": "2022-07-20T18:07:55.748Z"
   },
   {
    "duration": 1262,
    "start_time": "2022-07-20T18:12:31.445Z"
   },
   {
    "duration": 99,
    "start_time": "2022-07-20T18:12:32.710Z"
   },
   {
    "duration": 3,
    "start_time": "2022-07-20T18:12:32.812Z"
   },
   {
    "duration": 43,
    "start_time": "2022-07-20T18:12:32.818Z"
   },
   {
    "duration": 41,
    "start_time": "2022-07-20T18:12:32.863Z"
   },
   {
    "duration": 46,
    "start_time": "2022-07-20T18:12:32.905Z"
   },
   {
    "duration": 27,
    "start_time": "2022-07-20T18:12:32.953Z"
   },
   {
    "duration": 34,
    "start_time": "2022-07-20T18:12:32.982Z"
   },
   {
    "duration": 12,
    "start_time": "2022-07-20T18:12:33.018Z"
   },
   {
    "duration": 10,
    "start_time": "2022-07-20T18:12:33.034Z"
   },
   {
    "duration": 16,
    "start_time": "2022-07-20T18:12:33.046Z"
   },
   {
    "duration": 12,
    "start_time": "2022-07-20T18:12:33.066Z"
   },
   {
    "duration": 36,
    "start_time": "2022-07-20T18:12:33.080Z"
   },
   {
    "duration": 16,
    "start_time": "2022-07-20T18:12:33.118Z"
   },
   {
    "duration": 190,
    "start_time": "2022-07-20T18:12:33.136Z"
   },
   {
    "duration": 158,
    "start_time": "2022-07-20T18:12:33.328Z"
   },
   {
    "duration": 19,
    "start_time": "2022-07-20T18:12:33.488Z"
   },
   {
    "duration": 9,
    "start_time": "2022-07-20T18:12:33.509Z"
   },
   {
    "duration": 325,
    "start_time": "2022-07-20T18:12:33.520Z"
   },
   {
    "duration": 228,
    "start_time": "2022-07-20T18:12:33.846Z"
   },
   {
    "duration": 20,
    "start_time": "2022-07-20T18:12:34.078Z"
   },
   {
    "duration": 319,
    "start_time": "2022-07-20T18:12:34.100Z"
   },
   {
    "duration": 228,
    "start_time": "2022-07-20T18:12:34.421Z"
   },
   {
    "duration": 356,
    "start_time": "2022-07-20T18:12:34.651Z"
   },
   {
    "duration": 10,
    "start_time": "2022-07-20T18:12:35.008Z"
   },
   {
    "duration": 183,
    "start_time": "2022-07-20T18:12:35.020Z"
   },
   {
    "duration": 16,
    "start_time": "2022-07-20T18:12:35.205Z"
   },
   {
    "duration": 173,
    "start_time": "2022-07-20T18:12:35.224Z"
   },
   {
    "duration": 216,
    "start_time": "2022-07-20T18:12:35.407Z"
   },
   {
    "duration": 5,
    "start_time": "2022-07-20T18:12:35.624Z"
   },
   {
    "duration": 276,
    "start_time": "2022-07-20T18:12:35.631Z"
   },
   {
    "duration": 5,
    "start_time": "2022-07-20T18:12:35.909Z"
   },
   {
    "duration": 7,
    "start_time": "2022-07-20T18:12:35.917Z"
   },
   {
    "duration": 10,
    "start_time": "2022-07-20T18:12:35.925Z"
   },
   {
    "duration": 39,
    "start_time": "2022-07-20T18:12:35.937Z"
   },
   {
    "duration": 42,
    "start_time": "2022-07-20T18:12:35.978Z"
   },
   {
    "duration": 6,
    "start_time": "2022-07-20T18:12:36.022Z"
   },
   {
    "duration": 159,
    "start_time": "2022-07-20T18:12:36.030Z"
   },
   {
    "duration": 11,
    "start_time": "2022-07-20T18:12:36.195Z"
   },
   {
    "duration": 14,
    "start_time": "2022-07-20T18:12:36.207Z"
   },
   {
    "duration": 189,
    "start_time": "2022-07-20T18:12:36.223Z"
   },
   {
    "duration": 161,
    "start_time": "2022-07-20T18:12:36.413Z"
   },
   {
    "duration": 19,
    "start_time": "2022-07-20T18:12:36.579Z"
   },
   {
    "duration": 12,
    "start_time": "2022-07-20T18:12:36.602Z"
   },
   {
    "duration": 10,
    "start_time": "2022-07-20T18:12:36.616Z"
   },
   {
    "duration": 8,
    "start_time": "2022-07-20T18:12:36.628Z"
   },
   {
    "duration": 11,
    "start_time": "2022-07-20T18:12:36.637Z"
   },
   {
    "duration": 10,
    "start_time": "2022-07-20T18:12:36.650Z"
   },
   {
    "duration": 47,
    "start_time": "2022-07-20T18:12:36.663Z"
   },
   {
    "duration": 239,
    "start_time": "2022-07-20T18:16:07.958Z"
   },
   {
    "duration": 145,
    "start_time": "2022-07-20T18:16:13.414Z"
   },
   {
    "duration": 178,
    "start_time": "2022-07-20T18:22:31.305Z"
   },
   {
    "duration": 9,
    "start_time": "2022-07-20T18:26:53.816Z"
   },
   {
    "duration": 1343,
    "start_time": "2022-07-20T18:27:41.793Z"
   },
   {
    "duration": 87,
    "start_time": "2022-07-20T18:27:43.138Z"
   },
   {
    "duration": 4,
    "start_time": "2022-07-20T18:27:43.227Z"
   },
   {
    "duration": 29,
    "start_time": "2022-07-20T18:27:43.232Z"
   },
   {
    "duration": 29,
    "start_time": "2022-07-20T18:27:43.268Z"
   },
   {
    "duration": 26,
    "start_time": "2022-07-20T18:27:43.300Z"
   },
   {
    "duration": 44,
    "start_time": "2022-07-20T18:27:43.328Z"
   },
   {
    "duration": 21,
    "start_time": "2022-07-20T18:27:43.383Z"
   },
   {
    "duration": 7,
    "start_time": "2022-07-20T18:27:43.406Z"
   },
   {
    "duration": 9,
    "start_time": "2022-07-20T18:27:43.415Z"
   },
   {
    "duration": 11,
    "start_time": "2022-07-20T18:27:43.426Z"
   },
   {
    "duration": 16,
    "start_time": "2022-07-20T18:27:43.438Z"
   },
   {
    "duration": 6,
    "start_time": "2022-07-20T18:27:43.456Z"
   },
   {
    "duration": 37,
    "start_time": "2022-07-20T18:27:43.465Z"
   },
   {
    "duration": 14,
    "start_time": "2022-07-20T18:27:43.504Z"
   },
   {
    "duration": 190,
    "start_time": "2022-07-20T18:27:43.520Z"
   },
   {
    "duration": 145,
    "start_time": "2022-07-20T18:27:43.711Z"
   },
   {
    "duration": 38,
    "start_time": "2022-07-20T18:27:43.857Z"
   },
   {
    "duration": 13,
    "start_time": "2022-07-20T18:27:43.898Z"
   },
   {
    "duration": 310,
    "start_time": "2022-07-20T18:27:43.912Z"
   },
   {
    "duration": 223,
    "start_time": "2022-07-20T18:27:44.224Z"
   },
   {
    "duration": 29,
    "start_time": "2022-07-20T18:27:44.449Z"
   },
   {
    "duration": 330,
    "start_time": "2022-07-20T18:27:44.484Z"
   },
   {
    "duration": 248,
    "start_time": "2022-07-20T18:27:44.816Z"
   },
   {
    "duration": 363,
    "start_time": "2022-07-20T18:27:45.066Z"
   },
   {
    "duration": 10,
    "start_time": "2022-07-20T18:27:45.431Z"
   },
   {
    "duration": 167,
    "start_time": "2022-07-20T18:27:45.443Z"
   },
   {
    "duration": 5,
    "start_time": "2022-07-20T18:27:45.612Z"
   },
   {
    "duration": 250,
    "start_time": "2022-07-20T18:27:45.618Z"
   },
   {
    "duration": 4,
    "start_time": "2022-07-20T18:27:45.870Z"
   },
   {
    "duration": 37,
    "start_time": "2022-07-20T18:27:45.875Z"
   },
   {
    "duration": 5,
    "start_time": "2022-07-20T18:27:45.914Z"
   },
   {
    "duration": 45,
    "start_time": "2022-07-20T18:27:45.921Z"
   },
   {
    "duration": 16,
    "start_time": "2022-07-20T18:27:45.969Z"
   },
   {
    "duration": 18,
    "start_time": "2022-07-20T18:27:45.987Z"
   },
   {
    "duration": 359,
    "start_time": "2022-07-20T18:27:46.007Z"
   },
   {
    "duration": 13,
    "start_time": "2022-07-20T18:27:46.368Z"
   },
   {
    "duration": 8,
    "start_time": "2022-07-20T18:27:46.397Z"
   },
   {
    "duration": 395,
    "start_time": "2022-07-20T18:27:46.406Z"
   },
   {
    "duration": 299,
    "start_time": "2022-07-20T18:27:46.803Z"
   },
   {
    "duration": 59,
    "start_time": "2022-07-20T18:27:47.108Z"
   },
   {
    "duration": 34,
    "start_time": "2022-07-20T18:27:47.174Z"
   },
   {
    "duration": 16,
    "start_time": "2022-07-20T18:27:47.210Z"
   },
   {
    "duration": 47,
    "start_time": "2022-07-20T18:27:47.228Z"
   },
   {
    "duration": 20,
    "start_time": "2022-07-20T18:27:47.280Z"
   },
   {
    "duration": 10,
    "start_time": "2022-07-20T18:27:47.303Z"
   },
   {
    "duration": 6,
    "start_time": "2022-07-20T18:27:47.315Z"
   },
   {
    "duration": 14,
    "start_time": "2022-07-20T18:28:22.247Z"
   },
   {
    "duration": 13,
    "start_time": "2022-07-20T18:30:50.706Z"
   },
   {
    "duration": 22,
    "start_time": "2022-07-20T18:31:13.391Z"
   },
   {
    "duration": 12,
    "start_time": "2022-07-20T18:36:00.312Z"
   },
   {
    "duration": 11,
    "start_time": "2022-07-20T18:37:02.447Z"
   },
   {
    "duration": 12,
    "start_time": "2022-07-20T18:37:58.848Z"
   },
   {
    "duration": 7,
    "start_time": "2022-07-20T18:43:08.045Z"
   },
   {
    "duration": 122,
    "start_time": "2022-07-20T18:44:19.981Z"
   },
   {
    "duration": 8,
    "start_time": "2022-07-20T18:44:28.828Z"
   },
   {
    "duration": 12,
    "start_time": "2022-07-20T18:45:29.044Z"
   },
   {
    "duration": 13,
    "start_time": "2022-07-20T18:46:07.126Z"
   },
   {
    "duration": 12,
    "start_time": "2022-07-20T18:47:11.926Z"
   },
   {
    "duration": 32,
    "start_time": "2022-07-20T18:47:15.159Z"
   },
   {
    "duration": 8,
    "start_time": "2022-07-20T18:50:02.292Z"
   },
   {
    "duration": 20,
    "start_time": "2022-07-20T18:50:50.477Z"
   },
   {
    "duration": 15,
    "start_time": "2022-07-20T18:51:12.208Z"
   },
   {
    "duration": 14,
    "start_time": "2022-07-20T18:51:22.558Z"
   },
   {
    "duration": 13,
    "start_time": "2022-07-20T18:51:31.242Z"
   },
   {
    "duration": 11,
    "start_time": "2022-07-20T18:51:45.542Z"
   },
   {
    "duration": 11,
    "start_time": "2022-07-20T18:52:11.790Z"
   },
   {
    "duration": 15,
    "start_time": "2022-07-20T18:53:41.492Z"
   },
   {
    "duration": 15,
    "start_time": "2022-07-20T18:56:24.744Z"
   },
   {
    "duration": 21,
    "start_time": "2022-07-20T18:57:46.473Z"
   },
   {
    "duration": 9,
    "start_time": "2022-07-20T18:58:41.658Z"
   },
   {
    "duration": 9,
    "start_time": "2022-07-20T19:07:01.484Z"
   },
   {
    "duration": 13,
    "start_time": "2022-07-20T19:07:14.784Z"
   },
   {
    "duration": 24,
    "start_time": "2022-07-20T19:10:15.609Z"
   },
   {
    "duration": 21,
    "start_time": "2022-07-20T19:11:11.109Z"
   },
   {
    "duration": 39,
    "start_time": "2022-07-20T19:12:11.513Z"
   },
   {
    "duration": 37,
    "start_time": "2022-07-20T19:13:27.287Z"
   },
   {
    "duration": 37,
    "start_time": "2022-07-20T19:17:20.459Z"
   },
   {
    "duration": 15,
    "start_time": "2022-07-20T19:17:22.142Z"
   },
   {
    "duration": 14,
    "start_time": "2022-07-20T19:23:36.860Z"
   },
   {
    "duration": 28,
    "start_time": "2022-07-20T19:24:00.891Z"
   },
   {
    "duration": 21,
    "start_time": "2022-07-20T19:25:07.109Z"
   },
   {
    "duration": 1226,
    "start_time": "2022-07-20T19:25:21.882Z"
   },
   {
    "duration": 94,
    "start_time": "2022-07-20T19:25:23.112Z"
   },
   {
    "duration": 4,
    "start_time": "2022-07-20T19:25:23.207Z"
   },
   {
    "duration": 23,
    "start_time": "2022-07-20T19:25:23.213Z"
   },
   {
    "duration": 18,
    "start_time": "2022-07-20T19:25:23.237Z"
   },
   {
    "duration": 32,
    "start_time": "2022-07-20T19:25:23.257Z"
   },
   {
    "duration": 24,
    "start_time": "2022-07-20T19:25:23.291Z"
   },
   {
    "duration": 8,
    "start_time": "2022-07-20T19:25:23.318Z"
   },
   {
    "duration": 10,
    "start_time": "2022-07-20T19:25:23.327Z"
   },
   {
    "duration": 8,
    "start_time": "2022-07-20T19:25:23.339Z"
   },
   {
    "duration": 16,
    "start_time": "2022-07-20T19:25:23.349Z"
   },
   {
    "duration": 42,
    "start_time": "2022-07-20T19:25:23.369Z"
   },
   {
    "duration": 24,
    "start_time": "2022-07-20T19:25:23.415Z"
   },
   {
    "duration": 19,
    "start_time": "2022-07-20T19:25:23.441Z"
   },
   {
    "duration": 44,
    "start_time": "2022-07-20T19:25:23.462Z"
   },
   {
    "duration": 198,
    "start_time": "2022-07-20T19:25:23.508Z"
   },
   {
    "duration": 166,
    "start_time": "2022-07-20T19:25:23.708Z"
   },
   {
    "duration": 23,
    "start_time": "2022-07-20T19:25:23.875Z"
   },
   {
    "duration": 13,
    "start_time": "2022-07-20T19:25:23.900Z"
   },
   {
    "duration": 320,
    "start_time": "2022-07-20T19:25:23.915Z"
   },
   {
    "duration": 239,
    "start_time": "2022-07-20T19:25:24.237Z"
   },
   {
    "duration": 18,
    "start_time": "2022-07-20T19:25:24.482Z"
   },
   {
    "duration": 294,
    "start_time": "2022-07-20T19:25:24.502Z"
   },
   {
    "duration": 221,
    "start_time": "2022-07-20T19:25:24.797Z"
   },
   {
    "duration": 381,
    "start_time": "2022-07-20T19:25:25.020Z"
   },
   {
    "duration": 11,
    "start_time": "2022-07-20T19:25:25.403Z"
   },
   {
    "duration": 379,
    "start_time": "2022-07-20T19:25:25.416Z"
   },
   {
    "duration": 4,
    "start_time": "2022-07-20T19:25:25.798Z"
   },
   {
    "duration": 406,
    "start_time": "2022-07-20T19:25:25.804Z"
   },
   {
    "duration": 11,
    "start_time": "2022-07-20T19:25:26.265Z"
   },
   {
    "duration": 19,
    "start_time": "2022-07-20T19:25:26.282Z"
   },
   {
    "duration": 7,
    "start_time": "2022-07-20T19:25:26.304Z"
   },
   {
    "duration": 7,
    "start_time": "2022-07-20T19:25:26.312Z"
   },
   {
    "duration": 49,
    "start_time": "2022-07-20T19:25:26.321Z"
   },
   {
    "duration": 36,
    "start_time": "2022-07-20T19:25:26.372Z"
   },
   {
    "duration": 297,
    "start_time": "2022-07-20T19:25:26.409Z"
   },
   {
    "duration": 73,
    "start_time": "2022-07-20T19:25:26.708Z"
   },
   {
    "duration": 28,
    "start_time": "2022-07-20T19:25:26.783Z"
   },
   {
    "duration": 559,
    "start_time": "2022-07-20T19:25:26.813Z"
   },
   {
    "duration": 324,
    "start_time": "2022-07-20T19:25:27.376Z"
   },
   {
    "duration": 9,
    "start_time": "2022-07-20T19:25:27.704Z"
   },
   {
    "duration": 12,
    "start_time": "2022-07-20T19:25:27.764Z"
   },
   {
    "duration": 40,
    "start_time": "2022-07-20T19:25:27.779Z"
   },
   {
    "duration": 44,
    "start_time": "2022-07-20T19:25:27.822Z"
   },
   {
    "duration": 12,
    "start_time": "2022-07-20T19:25:27.869Z"
   },
   {
    "duration": 25,
    "start_time": "2022-07-20T19:25:27.886Z"
   },
   {
    "duration": 6,
    "start_time": "2022-07-20T19:25:27.913Z"
   },
   {
    "duration": 65,
    "start_time": "2022-07-20T19:27:37.921Z"
   },
   {
    "duration": 19,
    "start_time": "2022-07-20T19:27:47.442Z"
   },
   {
    "duration": 19,
    "start_time": "2022-07-20T19:28:27.092Z"
   },
   {
    "duration": 29,
    "start_time": "2022-07-20T19:28:32.526Z"
   },
   {
    "duration": 47,
    "start_time": "2022-07-20T19:29:06.241Z"
   },
   {
    "duration": 1351,
    "start_time": "2022-07-20T19:29:22.497Z"
   },
   {
    "duration": 108,
    "start_time": "2022-07-20T19:29:23.850Z"
   },
   {
    "duration": 13,
    "start_time": "2022-07-20T19:29:23.960Z"
   },
   {
    "duration": 59,
    "start_time": "2022-07-20T19:29:23.976Z"
   },
   {
    "duration": 23,
    "start_time": "2022-07-20T19:29:24.038Z"
   },
   {
    "duration": 27,
    "start_time": "2022-07-20T19:29:24.063Z"
   },
   {
    "duration": 20,
    "start_time": "2022-07-20T19:29:24.096Z"
   },
   {
    "duration": 8,
    "start_time": "2022-07-20T19:29:24.117Z"
   },
   {
    "duration": 10,
    "start_time": "2022-07-20T19:29:24.127Z"
   },
   {
    "duration": 11,
    "start_time": "2022-07-20T19:29:24.139Z"
   },
   {
    "duration": 19,
    "start_time": "2022-07-20T19:29:24.152Z"
   },
   {
    "duration": 46,
    "start_time": "2022-07-20T19:29:24.173Z"
   },
   {
    "duration": 23,
    "start_time": "2022-07-20T19:29:24.221Z"
   },
   {
    "duration": 34,
    "start_time": "2022-07-20T19:29:24.247Z"
   },
   {
    "duration": 33,
    "start_time": "2022-07-20T19:29:24.284Z"
   },
   {
    "duration": 196,
    "start_time": "2022-07-20T19:29:24.320Z"
   },
   {
    "duration": 152,
    "start_time": "2022-07-20T19:29:24.518Z"
   },
   {
    "duration": 32,
    "start_time": "2022-07-20T19:29:24.673Z"
   },
   {
    "duration": 14,
    "start_time": "2022-07-20T19:29:24.708Z"
   },
   {
    "duration": 317,
    "start_time": "2022-07-20T19:29:24.724Z"
   },
   {
    "duration": 234,
    "start_time": "2022-07-20T19:29:25.043Z"
   },
   {
    "duration": 14,
    "start_time": "2022-07-20T19:29:25.280Z"
   },
   {
    "duration": 304,
    "start_time": "2022-07-20T19:29:25.296Z"
   },
   {
    "duration": 232,
    "start_time": "2022-07-20T19:29:25.602Z"
   },
   {
    "duration": 389,
    "start_time": "2022-07-20T19:29:25.837Z"
   },
   {
    "duration": 10,
    "start_time": "2022-07-20T19:29:26.228Z"
   },
   {
    "duration": 207,
    "start_time": "2022-07-20T19:29:26.240Z"
   },
   {
    "duration": 4,
    "start_time": "2022-07-20T19:29:26.449Z"
   },
   {
    "duration": 180,
    "start_time": "2022-07-20T19:29:26.455Z"
   },
   {
    "duration": 5,
    "start_time": "2022-07-20T19:29:26.638Z"
   },
   {
    "duration": 22,
    "start_time": "2022-07-20T19:29:26.644Z"
   },
   {
    "duration": 41,
    "start_time": "2022-07-20T19:29:26.668Z"
   },
   {
    "duration": 9,
    "start_time": "2022-07-20T19:29:26.711Z"
   },
   {
    "duration": 18,
    "start_time": "2022-07-20T19:29:26.721Z"
   },
   {
    "duration": 7,
    "start_time": "2022-07-20T19:29:26.741Z"
   },
   {
    "duration": 164,
    "start_time": "2022-07-20T19:29:26.749Z"
   },
   {
    "duration": 10,
    "start_time": "2022-07-20T19:29:26.916Z"
   },
   {
    "duration": 7,
    "start_time": "2022-07-20T19:29:26.928Z"
   },
   {
    "duration": 202,
    "start_time": "2022-07-20T19:29:26.937Z"
   },
   {
    "duration": 139,
    "start_time": "2022-07-20T19:29:27.141Z"
   },
   {
    "duration": 9,
    "start_time": "2022-07-20T19:29:27.285Z"
   },
   {
    "duration": 36,
    "start_time": "2022-07-20T19:29:27.297Z"
   },
   {
    "duration": 14,
    "start_time": "2022-07-20T19:29:27.335Z"
   },
   {
    "duration": 12,
    "start_time": "2022-07-20T19:29:27.351Z"
   },
   {
    "duration": 56,
    "start_time": "2022-07-20T19:29:27.365Z"
   },
   {
    "duration": 13,
    "start_time": "2022-07-20T19:29:27.423Z"
   },
   {
    "duration": 9,
    "start_time": "2022-07-20T19:29:27.439Z"
   },
   {
    "duration": 20,
    "start_time": "2022-07-20T19:29:56.538Z"
   },
   {
    "duration": 22,
    "start_time": "2022-07-20T19:30:02.499Z"
   },
   {
    "duration": 80,
    "start_time": "2022-07-20T19:30:33.087Z"
   },
   {
    "duration": 25,
    "start_time": "2022-07-20T19:30:38.409Z"
   },
   {
    "duration": 1281,
    "start_time": "2022-07-20T19:31:02.980Z"
   },
   {
    "duration": 95,
    "start_time": "2022-07-20T19:31:04.264Z"
   },
   {
    "duration": 4,
    "start_time": "2022-07-20T19:31:04.361Z"
   },
   {
    "duration": 37,
    "start_time": "2022-07-20T19:31:04.368Z"
   },
   {
    "duration": 18,
    "start_time": "2022-07-20T19:31:04.407Z"
   },
   {
    "duration": 47,
    "start_time": "2022-07-20T19:31:04.427Z"
   },
   {
    "duration": 24,
    "start_time": "2022-07-20T19:31:04.477Z"
   },
   {
    "duration": 16,
    "start_time": "2022-07-20T19:31:04.503Z"
   },
   {
    "duration": 22,
    "start_time": "2022-07-20T19:31:04.520Z"
   },
   {
    "duration": 26,
    "start_time": "2022-07-20T19:31:04.546Z"
   },
   {
    "duration": 45,
    "start_time": "2022-07-20T19:31:04.577Z"
   },
   {
    "duration": 36,
    "start_time": "2022-07-20T19:31:04.625Z"
   },
   {
    "duration": 46,
    "start_time": "2022-07-20T19:31:04.664Z"
   },
   {
    "duration": 23,
    "start_time": "2022-07-20T19:31:04.712Z"
   },
   {
    "duration": 25,
    "start_time": "2022-07-20T19:31:04.737Z"
   },
   {
    "duration": 223,
    "start_time": "2022-07-20T19:31:04.764Z"
   },
   {
    "duration": 140,
    "start_time": "2022-07-20T19:31:04.989Z"
   },
   {
    "duration": 34,
    "start_time": "2022-07-20T19:31:05.131Z"
   },
   {
    "duration": 28,
    "start_time": "2022-07-20T19:31:05.166Z"
   },
   {
    "duration": 316,
    "start_time": "2022-07-20T19:31:05.196Z"
   },
   {
    "duration": 224,
    "start_time": "2022-07-20T19:31:05.515Z"
   },
   {
    "duration": 11,
    "start_time": "2022-07-20T19:31:05.741Z"
   },
   {
    "duration": 326,
    "start_time": "2022-07-20T19:31:05.764Z"
   },
   {
    "duration": 229,
    "start_time": "2022-07-20T19:31:06.093Z"
   },
   {
    "duration": 380,
    "start_time": "2022-07-20T19:31:06.325Z"
   },
   {
    "duration": 10,
    "start_time": "2022-07-20T19:31:06.707Z"
   },
   {
    "duration": 187,
    "start_time": "2022-07-20T19:31:06.719Z"
   },
   {
    "duration": 4,
    "start_time": "2022-07-20T19:31:06.910Z"
   },
   {
    "duration": 197,
    "start_time": "2022-07-20T19:31:06.916Z"
   },
   {
    "duration": 4,
    "start_time": "2022-07-20T19:31:07.115Z"
   },
   {
    "duration": 9,
    "start_time": "2022-07-20T19:31:07.120Z"
   },
   {
    "duration": 8,
    "start_time": "2022-07-20T19:31:07.130Z"
   },
   {
    "duration": 26,
    "start_time": "2022-07-20T19:31:07.140Z"
   },
   {
    "duration": 35,
    "start_time": "2022-07-20T19:31:07.168Z"
   },
   {
    "duration": 5,
    "start_time": "2022-07-20T19:31:07.205Z"
   },
   {
    "duration": 360,
    "start_time": "2022-07-20T19:31:07.211Z"
   },
   {
    "duration": 15,
    "start_time": "2022-07-20T19:31:07.574Z"
   },
   {
    "duration": 12,
    "start_time": "2022-07-20T19:31:07.591Z"
   },
   {
    "duration": 483,
    "start_time": "2022-07-20T19:31:07.605Z"
   },
   {
    "duration": 305,
    "start_time": "2022-07-20T19:31:08.090Z"
   },
   {
    "duration": 7,
    "start_time": "2022-07-20T19:31:08.397Z"
   },
   {
    "duration": 63,
    "start_time": "2022-07-20T19:31:08.405Z"
   },
   {
    "duration": 14,
    "start_time": "2022-07-20T19:31:08.470Z"
   },
   {
    "duration": 23,
    "start_time": "2022-07-20T19:31:08.486Z"
   },
   {
    "duration": 6,
    "start_time": "2022-07-20T19:31:08.511Z"
   },
   {
    "duration": 53,
    "start_time": "2022-07-20T19:31:08.519Z"
   },
   {
    "duration": 19,
    "start_time": "2022-07-20T19:31:08.575Z"
   },
   {
    "duration": 121,
    "start_time": "2022-07-20T19:31:41.085Z"
   },
   {
    "duration": 16,
    "start_time": "2022-07-20T19:32:11.540Z"
   },
   {
    "duration": 33,
    "start_time": "2022-07-20T19:32:19.476Z"
   },
   {
    "duration": 1284,
    "start_time": "2022-07-20T19:32:29.348Z"
   },
   {
    "duration": 91,
    "start_time": "2022-07-20T19:32:30.634Z"
   },
   {
    "duration": 6,
    "start_time": "2022-07-20T19:32:30.727Z"
   },
   {
    "duration": 58,
    "start_time": "2022-07-20T19:32:30.735Z"
   },
   {
    "duration": 27,
    "start_time": "2022-07-20T19:32:30.795Z"
   },
   {
    "duration": 21,
    "start_time": "2022-07-20T19:32:30.824Z"
   },
   {
    "duration": 23,
    "start_time": "2022-07-20T19:32:30.865Z"
   },
   {
    "duration": 32,
    "start_time": "2022-07-20T19:32:30.891Z"
   },
   {
    "duration": 14,
    "start_time": "2022-07-20T19:32:30.925Z"
   },
   {
    "duration": 12,
    "start_time": "2022-07-20T19:32:30.942Z"
   },
   {
    "duration": 29,
    "start_time": "2022-07-20T19:32:30.956Z"
   },
   {
    "duration": 38,
    "start_time": "2022-07-20T19:32:30.987Z"
   },
   {
    "duration": 54,
    "start_time": "2022-07-20T19:32:31.026Z"
   },
   {
    "duration": 59,
    "start_time": "2022-07-20T19:32:31.082Z"
   },
   {
    "duration": 17,
    "start_time": "2022-07-20T19:32:31.144Z"
   },
   {
    "duration": 181,
    "start_time": "2022-07-20T19:32:31.163Z"
   },
   {
    "duration": 170,
    "start_time": "2022-07-20T19:32:31.346Z"
   },
   {
    "duration": 19,
    "start_time": "2022-07-20T19:32:31.518Z"
   },
   {
    "duration": 33,
    "start_time": "2022-07-20T19:32:31.539Z"
   },
   {
    "duration": 326,
    "start_time": "2022-07-20T19:32:31.574Z"
   },
   {
    "duration": 401,
    "start_time": "2022-07-20T19:32:31.902Z"
   },
   {
    "duration": 67,
    "start_time": "2022-07-20T19:32:32.305Z"
   },
   {
    "duration": 622,
    "start_time": "2022-07-20T19:32:32.374Z"
   },
   {
    "duration": 579,
    "start_time": "2022-07-20T19:32:32.999Z"
   },
   {
    "duration": 708,
    "start_time": "2022-07-20T19:32:33.580Z"
   },
   {
    "duration": 12,
    "start_time": "2022-07-20T19:32:34.290Z"
   },
   {
    "duration": 498,
    "start_time": "2022-07-20T19:32:34.304Z"
   },
   {
    "duration": 5,
    "start_time": "2022-07-20T19:32:34.807Z"
   },
   {
    "duration": 199,
    "start_time": "2022-07-20T19:32:34.814Z"
   },
   {
    "duration": 5,
    "start_time": "2022-07-20T19:32:35.015Z"
   },
   {
    "duration": 20,
    "start_time": "2022-07-20T19:32:35.021Z"
   },
   {
    "duration": 10,
    "start_time": "2022-07-20T19:32:35.043Z"
   },
   {
    "duration": 21,
    "start_time": "2022-07-20T19:32:35.055Z"
   },
   {
    "duration": 22,
    "start_time": "2022-07-20T19:32:35.078Z"
   },
   {
    "duration": 12,
    "start_time": "2022-07-20T19:32:35.102Z"
   },
   {
    "duration": 174,
    "start_time": "2022-07-20T19:32:35.116Z"
   },
   {
    "duration": 10,
    "start_time": "2022-07-20T19:32:35.292Z"
   },
   {
    "duration": 9,
    "start_time": "2022-07-20T19:32:35.304Z"
   },
   {
    "duration": 206,
    "start_time": "2022-07-20T19:32:35.315Z"
   },
   {
    "duration": 144,
    "start_time": "2022-07-20T19:32:35.522Z"
   },
   {
    "duration": 16,
    "start_time": "2022-07-20T19:32:35.668Z"
   },
   {
    "duration": 17,
    "start_time": "2022-07-20T19:32:35.687Z"
   },
   {
    "duration": 14,
    "start_time": "2022-07-20T19:32:35.706Z"
   },
   {
    "duration": 12,
    "start_time": "2022-07-20T19:32:35.722Z"
   },
   {
    "duration": 9,
    "start_time": "2022-07-20T19:32:35.736Z"
   },
   {
    "duration": 16,
    "start_time": "2022-07-20T19:32:35.747Z"
   },
   {
    "duration": 11,
    "start_time": "2022-07-20T19:32:35.765Z"
   },
   {
    "duration": 27,
    "start_time": "2022-07-20T19:34:07.973Z"
   },
   {
    "duration": 1198,
    "start_time": "2022-07-20T19:34:35.230Z"
   },
   {
    "duration": 88,
    "start_time": "2022-07-20T19:34:36.431Z"
   },
   {
    "duration": 4,
    "start_time": "2022-07-20T19:34:36.521Z"
   },
   {
    "duration": 31,
    "start_time": "2022-07-20T19:34:36.527Z"
   },
   {
    "duration": 28,
    "start_time": "2022-07-20T19:34:36.560Z"
   },
   {
    "duration": 44,
    "start_time": "2022-07-20T19:34:36.590Z"
   },
   {
    "duration": 20,
    "start_time": "2022-07-20T19:34:36.636Z"
   },
   {
    "duration": 35,
    "start_time": "2022-07-20T19:34:36.658Z"
   },
   {
    "duration": 8,
    "start_time": "2022-07-20T19:34:36.695Z"
   },
   {
    "duration": 11,
    "start_time": "2022-07-20T19:34:36.705Z"
   },
   {
    "duration": 17,
    "start_time": "2022-07-20T19:34:36.718Z"
   },
   {
    "duration": 16,
    "start_time": "2022-07-20T19:34:36.737Z"
   },
   {
    "duration": 51,
    "start_time": "2022-07-20T19:34:36.755Z"
   },
   {
    "duration": 26,
    "start_time": "2022-07-20T19:34:36.810Z"
   },
   {
    "duration": 41,
    "start_time": "2022-07-20T19:34:36.838Z"
   },
   {
    "duration": 221,
    "start_time": "2022-07-20T19:34:36.881Z"
   },
   {
    "duration": 151,
    "start_time": "2022-07-20T19:34:37.104Z"
   },
   {
    "duration": 29,
    "start_time": "2022-07-20T19:34:37.256Z"
   },
   {
    "duration": 17,
    "start_time": "2022-07-20T19:34:37.288Z"
   },
   {
    "duration": 390,
    "start_time": "2022-07-20T19:34:37.307Z"
   },
   {
    "duration": 486,
    "start_time": "2022-07-20T19:34:37.699Z"
   },
   {
    "duration": 12,
    "start_time": "2022-07-20T19:34:38.190Z"
   },
   {
    "duration": 600,
    "start_time": "2022-07-20T19:34:38.203Z"
   },
   {
    "duration": 672,
    "start_time": "2022-07-20T19:34:38.806Z"
   },
   {
    "duration": 596,
    "start_time": "2022-07-20T19:34:39.481Z"
   },
   {
    "duration": 13,
    "start_time": "2022-07-20T19:34:40.085Z"
   },
   {
    "duration": 294,
    "start_time": "2022-07-20T19:34:40.100Z"
   },
   {
    "duration": 6,
    "start_time": "2022-07-20T19:34:40.396Z"
   },
   {
    "duration": 226,
    "start_time": "2022-07-20T19:34:40.404Z"
   },
   {
    "duration": 4,
    "start_time": "2022-07-20T19:34:40.632Z"
   },
   {
    "duration": 10,
    "start_time": "2022-07-20T19:34:40.638Z"
   },
   {
    "duration": 9,
    "start_time": "2022-07-20T19:34:40.666Z"
   },
   {
    "duration": 23,
    "start_time": "2022-07-20T19:34:40.678Z"
   },
   {
    "duration": 15,
    "start_time": "2022-07-20T19:34:40.703Z"
   },
   {
    "duration": 13,
    "start_time": "2022-07-20T19:34:40.719Z"
   },
   {
    "duration": 174,
    "start_time": "2022-07-20T19:34:40.735Z"
   },
   {
    "duration": 10,
    "start_time": "2022-07-20T19:34:40.911Z"
   },
   {
    "duration": 5,
    "start_time": "2022-07-20T19:34:40.924Z"
   },
   {
    "duration": 197,
    "start_time": "2022-07-20T19:34:40.930Z"
   },
   {
    "duration": 130,
    "start_time": "2022-07-20T19:34:41.129Z"
   },
   {
    "duration": 10,
    "start_time": "2022-07-20T19:34:41.268Z"
   },
   {
    "duration": 19,
    "start_time": "2022-07-20T19:34:41.281Z"
   },
   {
    "duration": 9,
    "start_time": "2022-07-20T19:34:41.302Z"
   },
   {
    "duration": 8,
    "start_time": "2022-07-20T19:34:41.313Z"
   },
   {
    "duration": 5,
    "start_time": "2022-07-20T19:34:41.323Z"
   },
   {
    "duration": 14,
    "start_time": "2022-07-20T19:34:41.330Z"
   },
   {
    "duration": 25,
    "start_time": "2022-07-20T19:34:41.346Z"
   },
   {
    "duration": 28,
    "start_time": "2022-07-20T19:35:20.454Z"
   },
   {
    "duration": 24,
    "start_time": "2022-07-20T19:35:36.831Z"
   },
   {
    "duration": 19,
    "start_time": "2022-07-20T19:35:47.227Z"
   },
   {
    "duration": 30,
    "start_time": "2022-07-20T19:36:01.551Z"
   },
   {
    "duration": 75,
    "start_time": "2022-07-20T19:36:19.376Z"
   },
   {
    "duration": 16,
    "start_time": "2022-07-20T19:36:24.437Z"
   },
   {
    "duration": 34,
    "start_time": "2022-07-20T19:36:31.861Z"
   },
   {
    "duration": 1203,
    "start_time": "2022-07-20T19:36:46.201Z"
   },
   {
    "duration": 79,
    "start_time": "2022-07-20T19:36:47.406Z"
   },
   {
    "duration": 4,
    "start_time": "2022-07-20T19:36:47.487Z"
   },
   {
    "duration": 29,
    "start_time": "2022-07-20T19:36:47.494Z"
   },
   {
    "duration": 23,
    "start_time": "2022-07-20T19:36:47.525Z"
   },
   {
    "duration": 40,
    "start_time": "2022-07-20T19:36:47.550Z"
   },
   {
    "duration": 19,
    "start_time": "2022-07-20T19:36:47.592Z"
   },
   {
    "duration": 9,
    "start_time": "2022-07-20T19:36:47.613Z"
   },
   {
    "duration": 7,
    "start_time": "2022-07-20T19:36:47.623Z"
   },
   {
    "duration": 38,
    "start_time": "2022-07-20T19:36:47.633Z"
   },
   {
    "duration": 20,
    "start_time": "2022-07-20T19:36:47.673Z"
   },
   {
    "duration": 17,
    "start_time": "2022-07-20T19:36:47.695Z"
   },
   {
    "duration": 56,
    "start_time": "2022-07-20T19:36:47.714Z"
   },
   {
    "duration": 31,
    "start_time": "2022-07-20T19:36:47.773Z"
   },
   {
    "duration": 20,
    "start_time": "2022-07-20T19:36:47.806Z"
   },
   {
    "duration": 211,
    "start_time": "2022-07-20T19:36:47.828Z"
   },
   {
    "duration": 154,
    "start_time": "2022-07-20T19:36:48.041Z"
   },
   {
    "duration": 15,
    "start_time": "2022-07-20T19:36:48.197Z"
   },
   {
    "duration": 9,
    "start_time": "2022-07-20T19:36:48.214Z"
   },
   {
    "duration": 315,
    "start_time": "2022-07-20T19:36:48.225Z"
   },
   {
    "duration": 198,
    "start_time": "2022-07-20T19:36:48.542Z"
   },
   {
    "duration": 11,
    "start_time": "2022-07-20T19:36:48.741Z"
   },
   {
    "duration": 327,
    "start_time": "2022-07-20T19:36:48.764Z"
   },
   {
    "duration": 513,
    "start_time": "2022-07-20T19:36:49.093Z"
   },
   {
    "duration": 605,
    "start_time": "2022-07-20T19:36:49.664Z"
   },
   {
    "duration": 19,
    "start_time": "2022-07-20T19:36:50.272Z"
   },
   {
    "duration": 391,
    "start_time": "2022-07-20T19:36:50.292Z"
   },
   {
    "duration": 6,
    "start_time": "2022-07-20T19:36:50.688Z"
   },
   {
    "duration": 471,
    "start_time": "2022-07-20T19:36:50.697Z"
   },
   {
    "duration": 5,
    "start_time": "2022-07-20T19:36:51.171Z"
   },
   {
    "duration": 19,
    "start_time": "2022-07-20T19:36:51.178Z"
   },
   {
    "duration": 6,
    "start_time": "2022-07-20T19:36:51.199Z"
   },
   {
    "duration": 7,
    "start_time": "2022-07-20T19:36:51.207Z"
   },
   {
    "duration": 16,
    "start_time": "2022-07-20T19:36:51.267Z"
   },
   {
    "duration": 14,
    "start_time": "2022-07-20T19:36:51.284Z"
   },
   {
    "duration": 280,
    "start_time": "2022-07-20T19:36:51.300Z"
   },
   {
    "duration": 13,
    "start_time": "2022-07-20T19:36:51.583Z"
   },
   {
    "duration": 10,
    "start_time": "2022-07-20T19:36:51.598Z"
   },
   {
    "duration": 177,
    "start_time": "2022-07-20T19:36:51.610Z"
   },
   {
    "duration": 133,
    "start_time": "2022-07-20T19:36:51.789Z"
   },
   {
    "duration": 7,
    "start_time": "2022-07-20T19:36:51.923Z"
   },
   {
    "duration": 10,
    "start_time": "2022-07-20T19:36:51.931Z"
   },
   {
    "duration": 23,
    "start_time": "2022-07-20T19:36:51.942Z"
   },
   {
    "duration": 13,
    "start_time": "2022-07-20T19:36:51.967Z"
   },
   {
    "duration": 17,
    "start_time": "2022-07-20T19:36:51.982Z"
   },
   {
    "duration": 11,
    "start_time": "2022-07-20T19:36:52.000Z"
   },
   {
    "duration": 7,
    "start_time": "2022-07-20T19:36:52.012Z"
   },
   {
    "duration": 25,
    "start_time": "2022-07-20T19:36:59.495Z"
   },
   {
    "duration": 18,
    "start_time": "2022-07-20T19:38:25.561Z"
   },
   {
    "duration": 1271,
    "start_time": "2022-07-20T19:38:41.680Z"
   },
   {
    "duration": 80,
    "start_time": "2022-07-20T19:38:42.953Z"
   },
   {
    "duration": 3,
    "start_time": "2022-07-20T19:38:43.035Z"
   },
   {
    "duration": 29,
    "start_time": "2022-07-20T19:38:43.040Z"
   },
   {
    "duration": 24,
    "start_time": "2022-07-20T19:38:43.071Z"
   },
   {
    "duration": 19,
    "start_time": "2022-07-20T19:38:43.097Z"
   },
   {
    "duration": 12,
    "start_time": "2022-07-20T19:38:43.117Z"
   },
   {
    "duration": 5,
    "start_time": "2022-07-20T19:38:43.165Z"
   },
   {
    "duration": 18,
    "start_time": "2022-07-20T19:38:43.172Z"
   },
   {
    "duration": 12,
    "start_time": "2022-07-20T19:38:43.193Z"
   },
   {
    "duration": 17,
    "start_time": "2022-07-20T19:38:43.206Z"
   },
   {
    "duration": 14,
    "start_time": "2022-07-20T19:38:43.225Z"
   },
   {
    "duration": 35,
    "start_time": "2022-07-20T19:38:43.241Z"
   },
   {
    "duration": 18,
    "start_time": "2022-07-20T19:38:43.278Z"
   },
   {
    "duration": 25,
    "start_time": "2022-07-20T19:38:43.297Z"
   },
   {
    "duration": 25,
    "start_time": "2022-07-20T19:38:43.324Z"
   },
   {
    "duration": 207,
    "start_time": "2022-07-20T19:38:43.351Z"
   },
   {
    "duration": 149,
    "start_time": "2022-07-20T19:38:43.563Z"
   },
   {
    "duration": 15,
    "start_time": "2022-07-20T19:38:43.714Z"
   },
   {
    "duration": 19,
    "start_time": "2022-07-20T19:38:43.731Z"
   },
   {
    "duration": 311,
    "start_time": "2022-07-20T19:38:43.752Z"
   },
   {
    "duration": 303,
    "start_time": "2022-07-20T19:38:44.066Z"
   },
   {
    "duration": 19,
    "start_time": "2022-07-20T19:38:44.372Z"
   },
   {
    "duration": 585,
    "start_time": "2022-07-20T19:38:44.393Z"
   },
   {
    "duration": 527,
    "start_time": "2022-07-20T19:38:44.980Z"
   },
   {
    "duration": 541,
    "start_time": "2022-07-20T19:38:45.565Z"
   },
   {
    "duration": 67,
    "start_time": "2022-07-20T19:38:46.108Z"
   },
   {
    "duration": 399,
    "start_time": "2022-07-20T19:38:46.181Z"
   },
   {
    "duration": 8,
    "start_time": "2022-07-20T19:38:46.582Z"
   },
   {
    "duration": 174,
    "start_time": "2022-07-20T19:38:46.592Z"
   },
   {
    "duration": 5,
    "start_time": "2022-07-20T19:38:46.768Z"
   },
   {
    "duration": 18,
    "start_time": "2022-07-20T19:38:46.776Z"
   },
   {
    "duration": 10,
    "start_time": "2022-07-20T19:38:46.796Z"
   },
   {
    "duration": 8,
    "start_time": "2022-07-20T19:38:46.807Z"
   },
   {
    "duration": 17,
    "start_time": "2022-07-20T19:38:46.817Z"
   },
   {
    "duration": 10,
    "start_time": "2022-07-20T19:38:46.836Z"
   },
   {
    "duration": 160,
    "start_time": "2022-07-20T19:38:46.848Z"
   },
   {
    "duration": 11,
    "start_time": "2022-07-20T19:38:47.009Z"
   },
   {
    "duration": 11,
    "start_time": "2022-07-20T19:38:47.022Z"
   },
   {
    "duration": 175,
    "start_time": "2022-07-20T19:38:47.035Z"
   },
   {
    "duration": 127,
    "start_time": "2022-07-20T19:38:47.212Z"
   },
   {
    "duration": 7,
    "start_time": "2022-07-20T19:38:47.342Z"
   },
   {
    "duration": 17,
    "start_time": "2022-07-20T19:38:47.351Z"
   },
   {
    "duration": 32,
    "start_time": "2022-07-20T19:38:47.370Z"
   },
   {
    "duration": 11,
    "start_time": "2022-07-20T19:38:47.404Z"
   },
   {
    "duration": 13,
    "start_time": "2022-07-20T19:38:47.417Z"
   },
   {
    "duration": 14,
    "start_time": "2022-07-20T19:38:47.432Z"
   },
   {
    "duration": 11,
    "start_time": "2022-07-20T19:38:47.448Z"
   },
   {
    "duration": 23,
    "start_time": "2022-07-20T19:41:31.291Z"
   },
   {
    "duration": 1269,
    "start_time": "2022-07-20T19:41:40.101Z"
   },
   {
    "duration": 89,
    "start_time": "2022-07-20T19:41:41.373Z"
   },
   {
    "duration": 3,
    "start_time": "2022-07-20T19:41:41.467Z"
   },
   {
    "duration": 26,
    "start_time": "2022-07-20T19:41:41.474Z"
   },
   {
    "duration": 18,
    "start_time": "2022-07-20T19:41:41.502Z"
   },
   {
    "duration": 48,
    "start_time": "2022-07-20T19:41:41.522Z"
   },
   {
    "duration": 18,
    "start_time": "2022-07-20T19:41:41.573Z"
   },
   {
    "duration": 8,
    "start_time": "2022-07-20T19:41:41.592Z"
   },
   {
    "duration": 6,
    "start_time": "2022-07-20T19:41:41.603Z"
   },
   {
    "duration": 10,
    "start_time": "2022-07-20T19:41:41.610Z"
   },
   {
    "duration": 10,
    "start_time": "2022-07-20T19:41:41.622Z"
   },
   {
    "duration": 56,
    "start_time": "2022-07-20T19:41:41.634Z"
   },
   {
    "duration": 37,
    "start_time": "2022-07-20T19:41:41.693Z"
   },
   {
    "duration": 12,
    "start_time": "2022-07-20T19:41:41.731Z"
   },
   {
    "duration": 29,
    "start_time": "2022-07-20T19:41:41.745Z"
   },
   {
    "duration": 22,
    "start_time": "2022-07-20T19:41:41.777Z"
   },
   {
    "duration": 195,
    "start_time": "2022-07-20T19:41:41.801Z"
   },
   {
    "duration": 144,
    "start_time": "2022-07-20T19:41:41.998Z"
   },
   {
    "duration": 34,
    "start_time": "2022-07-20T19:41:42.144Z"
   },
   {
    "duration": 17,
    "start_time": "2022-07-20T19:41:42.180Z"
   },
   {
    "duration": 297,
    "start_time": "2022-07-20T19:41:42.199Z"
   },
   {
    "duration": 252,
    "start_time": "2022-07-20T19:41:42.498Z"
   },
   {
    "duration": 29,
    "start_time": "2022-07-20T19:41:42.752Z"
   },
   {
    "duration": 309,
    "start_time": "2022-07-20T19:41:42.784Z"
   },
   {
    "duration": 211,
    "start_time": "2022-07-20T19:41:43.095Z"
   },
   {
    "duration": 318,
    "start_time": "2022-07-20T19:41:43.308Z"
   },
   {
    "duration": 10,
    "start_time": "2022-07-20T19:41:43.630Z"
   },
   {
    "duration": 178,
    "start_time": "2022-07-20T19:41:43.643Z"
   },
   {
    "duration": 5,
    "start_time": "2022-07-20T19:41:43.823Z"
   },
   {
    "duration": 162,
    "start_time": "2022-07-20T19:41:43.830Z"
   },
   {
    "duration": 5,
    "start_time": "2022-07-20T19:41:43.994Z"
   },
   {
    "duration": 9,
    "start_time": "2022-07-20T19:41:44.000Z"
   },
   {
    "duration": 9,
    "start_time": "2022-07-20T19:41:44.011Z"
   },
   {
    "duration": 8,
    "start_time": "2022-07-20T19:41:44.022Z"
   },
   {
    "duration": 36,
    "start_time": "2022-07-20T19:41:44.031Z"
   },
   {
    "duration": 9,
    "start_time": "2022-07-20T19:41:44.070Z"
   },
   {
    "duration": 411,
    "start_time": "2022-07-20T19:41:44.081Z"
   },
   {
    "duration": 10,
    "start_time": "2022-07-20T19:41:44.494Z"
   },
   {
    "duration": 58,
    "start_time": "2022-07-20T19:41:44.506Z"
   },
   {
    "duration": 427,
    "start_time": "2022-07-20T19:41:44.568Z"
   },
   {
    "duration": 378,
    "start_time": "2022-07-20T19:41:44.997Z"
   },
   {
    "duration": 9,
    "start_time": "2022-07-20T19:41:45.377Z"
   },
   {
    "duration": 14,
    "start_time": "2022-07-20T19:41:45.388Z"
   },
   {
    "duration": 11,
    "start_time": "2022-07-20T19:41:45.406Z"
   },
   {
    "duration": 8,
    "start_time": "2022-07-20T19:41:45.467Z"
   },
   {
    "duration": 22,
    "start_time": "2022-07-20T19:41:45.477Z"
   },
   {
    "duration": 9,
    "start_time": "2022-07-20T19:41:45.501Z"
   },
   {
    "duration": 9,
    "start_time": "2022-07-20T19:41:45.512Z"
   },
   {
    "duration": 30,
    "start_time": "2022-07-20T19:42:30.451Z"
   },
   {
    "duration": 32,
    "start_time": "2022-07-20T19:42:35.562Z"
   },
   {
    "duration": 20,
    "start_time": "2022-07-20T19:43:05.913Z"
   },
   {
    "duration": 1296,
    "start_time": "2022-07-20T19:43:14.935Z"
   },
   {
    "duration": 78,
    "start_time": "2022-07-20T19:43:16.233Z"
   },
   {
    "duration": 3,
    "start_time": "2022-07-20T19:43:16.313Z"
   },
   {
    "duration": 26,
    "start_time": "2022-07-20T19:43:16.318Z"
   },
   {
    "duration": 18,
    "start_time": "2022-07-20T19:43:16.346Z"
   },
   {
    "duration": 25,
    "start_time": "2022-07-20T19:43:16.366Z"
   },
   {
    "duration": 18,
    "start_time": "2022-07-20T19:43:16.392Z"
   },
   {
    "duration": 7,
    "start_time": "2022-07-20T19:43:16.412Z"
   },
   {
    "duration": 8,
    "start_time": "2022-07-20T19:43:16.421Z"
   },
   {
    "duration": 36,
    "start_time": "2022-07-20T19:43:16.431Z"
   },
   {
    "duration": 21,
    "start_time": "2022-07-20T19:43:16.469Z"
   },
   {
    "duration": 23,
    "start_time": "2022-07-20T19:43:16.492Z"
   },
   {
    "duration": 20,
    "start_time": "2022-07-20T19:43:16.517Z"
   },
   {
    "duration": 33,
    "start_time": "2022-07-20T19:43:16.540Z"
   },
   {
    "duration": 33,
    "start_time": "2022-07-20T19:43:16.575Z"
   },
   {
    "duration": 19,
    "start_time": "2022-07-20T19:43:16.610Z"
   },
   {
    "duration": 177,
    "start_time": "2022-07-20T19:43:16.631Z"
   },
   {
    "duration": 140,
    "start_time": "2022-07-20T19:43:16.809Z"
   },
   {
    "duration": 20,
    "start_time": "2022-07-20T19:43:16.963Z"
   },
   {
    "duration": 17,
    "start_time": "2022-07-20T19:43:16.985Z"
   },
   {
    "duration": 274,
    "start_time": "2022-07-20T19:43:17.004Z"
   },
   {
    "duration": 210,
    "start_time": "2022-07-20T19:43:17.281Z"
   },
   {
    "duration": 11,
    "start_time": "2022-07-20T19:43:17.493Z"
   },
   {
    "duration": 305,
    "start_time": "2022-07-20T19:43:17.506Z"
   },
   {
    "duration": 244,
    "start_time": "2022-07-20T19:43:17.813Z"
   },
   {
    "duration": 338,
    "start_time": "2022-07-20T19:43:18.059Z"
   },
   {
    "duration": 9,
    "start_time": "2022-07-20T19:43:18.399Z"
   },
   {
    "duration": 192,
    "start_time": "2022-07-20T19:43:18.410Z"
   },
   {
    "duration": 4,
    "start_time": "2022-07-20T19:43:18.605Z"
   },
   {
    "duration": 181,
    "start_time": "2022-07-20T19:43:18.611Z"
   },
   {
    "duration": 5,
    "start_time": "2022-07-20T19:43:18.795Z"
   },
   {
    "duration": 11,
    "start_time": "2022-07-20T19:43:18.802Z"
   },
   {
    "duration": 7,
    "start_time": "2022-07-20T19:43:18.814Z"
   },
   {
    "duration": 6,
    "start_time": "2022-07-20T19:43:18.822Z"
   },
   {
    "duration": 41,
    "start_time": "2022-07-20T19:43:18.830Z"
   },
   {
    "duration": 12,
    "start_time": "2022-07-20T19:43:18.873Z"
   },
   {
    "duration": 155,
    "start_time": "2022-07-20T19:43:18.887Z"
   },
   {
    "duration": 22,
    "start_time": "2022-07-20T19:43:19.044Z"
   },
   {
    "duration": 20,
    "start_time": "2022-07-20T19:43:19.068Z"
   },
   {
    "duration": 160,
    "start_time": "2022-07-20T19:43:19.089Z"
   },
   {
    "duration": 141,
    "start_time": "2022-07-20T19:43:19.252Z"
   },
   {
    "duration": 8,
    "start_time": "2022-07-20T19:43:19.394Z"
   },
   {
    "duration": 14,
    "start_time": "2022-07-20T19:43:19.408Z"
   },
   {
    "duration": 14,
    "start_time": "2022-07-20T19:43:19.432Z"
   },
   {
    "duration": 16,
    "start_time": "2022-07-20T19:43:19.448Z"
   },
   {
    "duration": 8,
    "start_time": "2022-07-20T19:43:19.466Z"
   },
   {
    "duration": 18,
    "start_time": "2022-07-20T19:43:19.476Z"
   },
   {
    "duration": 13,
    "start_time": "2022-07-20T19:43:19.496Z"
   },
   {
    "duration": 19,
    "start_time": "2022-07-20T19:43:54.141Z"
   },
   {
    "duration": 23,
    "start_time": "2022-07-20T19:44:01.067Z"
   },
   {
    "duration": 19,
    "start_time": "2022-07-20T19:46:31.691Z"
   },
   {
    "duration": 5,
    "start_time": "2022-07-20T19:48:52.404Z"
   },
   {
    "duration": 29,
    "start_time": "2022-07-20T19:50:11.611Z"
   },
   {
    "duration": 21,
    "start_time": "2022-07-20T19:50:53.248Z"
   },
   {
    "duration": 22,
    "start_time": "2022-07-20T19:55:49.424Z"
   },
   {
    "duration": 22,
    "start_time": "2022-07-20T19:56:03.809Z"
   },
   {
    "duration": 22,
    "start_time": "2022-07-20T19:58:19.876Z"
   },
   {
    "duration": 19,
    "start_time": "2022-07-20T19:58:27.741Z"
   },
   {
    "duration": 19,
    "start_time": "2022-07-20T19:59:20.506Z"
   },
   {
    "duration": 18,
    "start_time": "2022-07-20T19:59:28.208Z"
   },
   {
    "duration": 16,
    "start_time": "2022-07-20T20:00:00.350Z"
   },
   {
    "duration": 21,
    "start_time": "2022-07-20T20:00:09.442Z"
   },
   {
    "duration": 15,
    "start_time": "2022-07-20T20:00:18.612Z"
   },
   {
    "duration": 17,
    "start_time": "2022-07-20T20:00:26.568Z"
   },
   {
    "duration": 20,
    "start_time": "2022-07-20T20:02:42.974Z"
   },
   {
    "duration": 20,
    "start_time": "2022-07-20T20:02:48.650Z"
   },
   {
    "duration": 20,
    "start_time": "2022-07-20T20:02:53.552Z"
   },
   {
    "duration": 17,
    "start_time": "2022-07-20T20:03:05.577Z"
   },
   {
    "duration": 1231,
    "start_time": "2022-07-20T20:07:06.775Z"
   },
   {
    "duration": 1526,
    "start_time": "2022-07-20T20:07:23.508Z"
   },
   {
    "duration": 78,
    "start_time": "2022-07-20T20:07:25.036Z"
   },
   {
    "duration": 4,
    "start_time": "2022-07-20T20:07:25.116Z"
   },
   {
    "duration": 38,
    "start_time": "2022-07-20T20:07:25.123Z"
   },
   {
    "duration": 19,
    "start_time": "2022-07-20T20:07:25.163Z"
   },
   {
    "duration": 18,
    "start_time": "2022-07-20T20:07:25.184Z"
   },
   {
    "duration": 13,
    "start_time": "2022-07-20T20:07:25.203Z"
   },
   {
    "duration": 13,
    "start_time": "2022-07-20T20:07:25.218Z"
   },
   {
    "duration": 42,
    "start_time": "2022-07-20T20:07:25.233Z"
   },
   {
    "duration": 18,
    "start_time": "2022-07-20T20:07:25.278Z"
   },
   {
    "duration": 19,
    "start_time": "2022-07-20T20:07:25.297Z"
   },
   {
    "duration": 18,
    "start_time": "2022-07-20T20:07:25.318Z"
   },
   {
    "duration": 42,
    "start_time": "2022-07-20T20:07:25.338Z"
   },
   {
    "duration": 32,
    "start_time": "2022-07-20T20:07:25.382Z"
   },
   {
    "duration": 187,
    "start_time": "2022-07-20T20:07:25.415Z"
   },
   {
    "duration": 134,
    "start_time": "2022-07-20T20:07:25.604Z"
   },
   {
    "duration": 32,
    "start_time": "2022-07-20T20:07:25.740Z"
   },
   {
    "duration": 19,
    "start_time": "2022-07-20T20:07:25.774Z"
   },
   {
    "duration": 305,
    "start_time": "2022-07-20T20:07:25.795Z"
   },
   {
    "duration": 206,
    "start_time": "2022-07-20T20:07:26.102Z"
   },
   {
    "duration": 13,
    "start_time": "2022-07-20T20:07:26.309Z"
   },
   {
    "duration": 328,
    "start_time": "2022-07-20T20:07:26.324Z"
   },
   {
    "duration": 219,
    "start_time": "2022-07-20T20:07:26.653Z"
   },
   {
    "duration": 316,
    "start_time": "2022-07-20T20:07:26.874Z"
   },
   {
    "duration": 9,
    "start_time": "2022-07-20T20:07:27.192Z"
   },
   {
    "duration": 380,
    "start_time": "2022-07-20T20:07:27.203Z"
   },
   {
    "duration": 5,
    "start_time": "2022-07-20T20:07:27.585Z"
   },
   {
    "duration": 381,
    "start_time": "2022-07-20T20:07:27.594Z"
   },
   {
    "duration": 4,
    "start_time": "2022-07-20T20:07:27.977Z"
   },
   {
    "duration": 23,
    "start_time": "2022-07-20T20:07:27.983Z"
   },
   {
    "duration": 57,
    "start_time": "2022-07-20T20:07:28.008Z"
   },
   {
    "duration": 6,
    "start_time": "2022-07-20T20:07:28.067Z"
   },
   {
    "duration": 14,
    "start_time": "2022-07-20T20:07:28.075Z"
   },
   {
    "duration": 12,
    "start_time": "2022-07-20T20:07:28.091Z"
   },
   {
    "duration": 286,
    "start_time": "2022-07-20T20:07:28.106Z"
   },
   {
    "duration": 11,
    "start_time": "2022-07-20T20:07:28.394Z"
   },
   {
    "duration": 4,
    "start_time": "2022-07-20T20:07:28.464Z"
   },
   {
    "duration": 398,
    "start_time": "2022-07-20T20:07:28.470Z"
   },
   {
    "duration": 225,
    "start_time": "2022-07-20T20:07:28.870Z"
   },
   {
    "duration": 7,
    "start_time": "2022-07-20T20:07:29.097Z"
   },
   {
    "duration": 60,
    "start_time": "2022-07-20T20:07:29.106Z"
   },
   {
    "duration": 6,
    "start_time": "2022-07-20T20:07:29.167Z"
   },
   {
    "duration": 9,
    "start_time": "2022-07-20T20:07:29.175Z"
   },
   {
    "duration": 7,
    "start_time": "2022-07-20T20:07:29.186Z"
   },
   {
    "duration": 11,
    "start_time": "2022-07-20T20:07:29.194Z"
   },
   {
    "duration": 59,
    "start_time": "2022-07-20T20:07:29.206Z"
   },
   {
    "duration": 1237,
    "start_time": "2022-07-20T20:08:21.593Z"
   },
   {
    "duration": 81,
    "start_time": "2022-07-20T20:08:22.833Z"
   },
   {
    "duration": 4,
    "start_time": "2022-07-20T20:08:22.916Z"
   },
   {
    "duration": 31,
    "start_time": "2022-07-20T20:08:22.923Z"
   },
   {
    "duration": 23,
    "start_time": "2022-07-20T20:08:22.957Z"
   },
   {
    "duration": 23,
    "start_time": "2022-07-20T20:08:22.982Z"
   },
   {
    "duration": 20,
    "start_time": "2022-07-20T20:08:23.007Z"
   },
   {
    "duration": 36,
    "start_time": "2022-07-20T20:08:23.030Z"
   },
   {
    "duration": 11,
    "start_time": "2022-07-20T20:08:23.068Z"
   },
   {
    "duration": 15,
    "start_time": "2022-07-20T20:08:23.081Z"
   },
   {
    "duration": 13,
    "start_time": "2022-07-20T20:08:23.098Z"
   },
   {
    "duration": 27,
    "start_time": "2022-07-20T20:08:23.113Z"
   },
   {
    "duration": 27,
    "start_time": "2022-07-20T20:08:23.143Z"
   },
   {
    "duration": 49,
    "start_time": "2022-07-20T20:08:23.175Z"
   },
   {
    "duration": 258,
    "start_time": "2022-07-20T20:08:23.226Z"
   },
   {
    "duration": 159,
    "start_time": "2022-07-20T20:08:23.486Z"
   },
   {
    "duration": 34,
    "start_time": "2022-07-20T20:08:23.649Z"
   },
   {
    "duration": 24,
    "start_time": "2022-07-20T20:08:23.685Z"
   },
   {
    "duration": 321,
    "start_time": "2022-07-20T20:08:23.711Z"
   },
   {
    "duration": 213,
    "start_time": "2022-07-20T20:08:24.035Z"
   },
   {
    "duration": 23,
    "start_time": "2022-07-20T20:08:24.250Z"
   },
   {
    "duration": 316,
    "start_time": "2022-07-20T20:08:24.276Z"
   },
   {
    "duration": 239,
    "start_time": "2022-07-20T20:08:24.595Z"
   },
   {
    "duration": 456,
    "start_time": "2022-07-20T20:08:24.835Z"
   },
   {
    "duration": 10,
    "start_time": "2022-07-20T20:08:25.293Z"
   },
   {
    "duration": 364,
    "start_time": "2022-07-20T20:08:25.305Z"
   },
   {
    "duration": 5,
    "start_time": "2022-07-20T20:08:25.671Z"
   },
   {
    "duration": 311,
    "start_time": "2022-07-20T20:08:25.677Z"
   },
   {
    "duration": 5,
    "start_time": "2022-07-20T20:08:25.989Z"
   },
   {
    "duration": 13,
    "start_time": "2022-07-20T20:08:25.996Z"
   },
   {
    "duration": 73,
    "start_time": "2022-07-20T20:08:26.011Z"
   },
   {
    "duration": 14,
    "start_time": "2022-07-20T20:08:26.086Z"
   },
   {
    "duration": 63,
    "start_time": "2022-07-20T20:08:26.102Z"
   },
   {
    "duration": 11,
    "start_time": "2022-07-20T20:08:26.167Z"
   },
   {
    "duration": 286,
    "start_time": "2022-07-20T20:08:26.180Z"
   },
   {
    "duration": 11,
    "start_time": "2022-07-20T20:08:26.468Z"
   },
   {
    "duration": 9,
    "start_time": "2022-07-20T20:08:26.481Z"
   },
   {
    "duration": 494,
    "start_time": "2022-07-20T20:08:26.491Z"
   },
   {
    "duration": 310,
    "start_time": "2022-07-20T20:08:26.986Z"
   },
   {
    "duration": 12,
    "start_time": "2022-07-20T20:08:27.298Z"
   },
   {
    "duration": 9,
    "start_time": "2022-07-20T20:08:27.368Z"
   },
   {
    "duration": 8,
    "start_time": "2022-07-20T20:08:27.380Z"
   },
   {
    "duration": 23,
    "start_time": "2022-07-20T20:08:27.390Z"
   },
   {
    "duration": 50,
    "start_time": "2022-07-20T20:08:27.415Z"
   },
   {
    "duration": 13,
    "start_time": "2022-07-20T20:08:27.467Z"
   },
   {
    "duration": 7,
    "start_time": "2022-07-20T20:08:27.482Z"
   },
   {
    "duration": 1156,
    "start_time": "2022-07-20T20:09:38.678Z"
   },
   {
    "duration": 1213,
    "start_time": "2022-07-20T20:09:52.649Z"
   },
   {
    "duration": 80,
    "start_time": "2022-07-20T20:09:53.864Z"
   },
   {
    "duration": 4,
    "start_time": "2022-07-20T20:09:53.948Z"
   },
   {
    "duration": 27,
    "start_time": "2022-07-20T20:09:53.953Z"
   },
   {
    "duration": 18,
    "start_time": "2022-07-20T20:09:53.982Z"
   },
   {
    "duration": 17,
    "start_time": "2022-07-20T20:09:54.002Z"
   },
   {
    "duration": 44,
    "start_time": "2022-07-20T20:09:54.020Z"
   },
   {
    "duration": 9,
    "start_time": "2022-07-20T20:09:54.066Z"
   },
   {
    "duration": 13,
    "start_time": "2022-07-20T20:09:54.077Z"
   },
   {
    "duration": 10,
    "start_time": "2022-07-20T20:09:54.091Z"
   },
   {
    "duration": 11,
    "start_time": "2022-07-20T20:09:54.103Z"
   },
   {
    "duration": 14,
    "start_time": "2022-07-20T20:09:54.116Z"
   },
   {
    "duration": 6,
    "start_time": "2022-07-20T20:09:54.132Z"
   },
   {
    "duration": 48,
    "start_time": "2022-07-20T20:09:54.139Z"
   },
   {
    "duration": 187,
    "start_time": "2022-07-20T20:09:54.188Z"
   },
   {
    "duration": 125,
    "start_time": "2022-07-20T20:09:54.377Z"
   },
   {
    "duration": 60,
    "start_time": "2022-07-20T20:09:54.504Z"
   },
   {
    "duration": 15,
    "start_time": "2022-07-20T20:09:54.567Z"
   },
   {
    "duration": 455,
    "start_time": "2022-07-20T20:09:54.584Z"
   },
   {
    "duration": 206,
    "start_time": "2022-07-20T20:09:55.041Z"
   },
   {
    "duration": 22,
    "start_time": "2022-07-20T20:09:55.248Z"
   },
   {
    "duration": 280,
    "start_time": "2022-07-20T20:09:55.272Z"
   },
   {
    "duration": 212,
    "start_time": "2022-07-20T20:09:55.554Z"
   },
   {
    "duration": 399,
    "start_time": "2022-07-20T20:09:55.767Z"
   },
   {
    "duration": 9,
    "start_time": "2022-07-20T20:09:56.168Z"
   },
   {
    "duration": 325,
    "start_time": "2022-07-20T20:09:56.179Z"
   },
   {
    "duration": 57,
    "start_time": "2022-07-20T20:09:56.508Z"
   },
   {
    "duration": 321,
    "start_time": "2022-07-20T20:09:56.567Z"
   },
   {
    "duration": 5,
    "start_time": "2022-07-20T20:09:56.890Z"
   },
   {
    "duration": 67,
    "start_time": "2022-07-20T20:09:56.897Z"
   },
   {
    "duration": 18,
    "start_time": "2022-07-20T20:09:56.966Z"
   },
   {
    "duration": 8,
    "start_time": "2022-07-20T20:09:56.986Z"
   },
   {
    "duration": 15,
    "start_time": "2022-07-20T20:09:56.995Z"
   },
   {
    "duration": 54,
    "start_time": "2022-07-20T20:09:57.012Z"
   },
   {
    "duration": 318,
    "start_time": "2022-07-20T20:09:57.068Z"
   },
   {
    "duration": 11,
    "start_time": "2022-07-20T20:09:57.388Z"
   },
   {
    "duration": 62,
    "start_time": "2022-07-20T20:09:57.402Z"
   },
   {
    "duration": 314,
    "start_time": "2022-07-20T20:09:57.466Z"
   },
   {
    "duration": 197,
    "start_time": "2022-07-20T20:09:57.781Z"
   },
   {
    "duration": 8,
    "start_time": "2022-07-20T20:09:57.979Z"
   },
   {
    "duration": 8,
    "start_time": "2022-07-20T20:09:57.989Z"
   },
   {
    "duration": 8,
    "start_time": "2022-07-20T20:09:57.999Z"
   },
   {
    "duration": 9,
    "start_time": "2022-07-20T20:09:58.008Z"
   },
   {
    "duration": 5,
    "start_time": "2022-07-20T20:09:58.019Z"
   },
   {
    "duration": 10,
    "start_time": "2022-07-20T20:09:58.026Z"
   },
   {
    "duration": 32,
    "start_time": "2022-07-20T20:09:58.037Z"
   },
   {
    "duration": 167,
    "start_time": "2022-07-20T20:12:02.676Z"
   },
   {
    "duration": 237,
    "start_time": "2022-07-20T20:12:17.601Z"
   },
   {
    "duration": 136,
    "start_time": "2022-07-20T20:17:37.170Z"
   },
   {
    "duration": 5,
    "start_time": "2022-07-20T20:23:57.665Z"
   },
   {
    "duration": 8,
    "start_time": "2022-07-20T20:28:01.819Z"
   },
   {
    "duration": 1086,
    "start_time": "2022-07-20T20:28:24.604Z"
   },
   {
    "duration": 75,
    "start_time": "2022-07-20T20:28:25.692Z"
   },
   {
    "duration": 3,
    "start_time": "2022-07-20T20:28:25.771Z"
   },
   {
    "duration": 26,
    "start_time": "2022-07-20T20:28:25.776Z"
   },
   {
    "duration": 17,
    "start_time": "2022-07-20T20:28:25.804Z"
   },
   {
    "duration": 50,
    "start_time": "2022-07-20T20:28:25.823Z"
   },
   {
    "duration": 13,
    "start_time": "2022-07-20T20:28:25.875Z"
   },
   {
    "duration": 9,
    "start_time": "2022-07-20T20:28:25.890Z"
   },
   {
    "duration": 8,
    "start_time": "2022-07-20T20:28:25.901Z"
   },
   {
    "duration": 11,
    "start_time": "2022-07-20T20:28:25.911Z"
   },
   {
    "duration": 11,
    "start_time": "2022-07-20T20:28:25.924Z"
   },
   {
    "duration": 13,
    "start_time": "2022-07-20T20:28:25.964Z"
   },
   {
    "duration": 6,
    "start_time": "2022-07-20T20:28:25.978Z"
   },
   {
    "duration": 15,
    "start_time": "2022-07-20T20:28:25.986Z"
   },
   {
    "duration": 39,
    "start_time": "2022-07-20T20:28:26.003Z"
   },
   {
    "duration": 187,
    "start_time": "2022-07-20T20:28:26.044Z"
   },
   {
    "duration": 143,
    "start_time": "2022-07-20T20:28:26.233Z"
   },
   {
    "duration": 22,
    "start_time": "2022-07-20T20:28:26.378Z"
   },
   {
    "duration": 12,
    "start_time": "2022-07-20T20:28:26.401Z"
   },
   {
    "duration": 287,
    "start_time": "2022-07-20T20:28:26.414Z"
   },
   {
    "duration": 202,
    "start_time": "2022-07-20T20:28:26.703Z"
   },
   {
    "duration": 11,
    "start_time": "2022-07-20T20:28:26.907Z"
   },
   {
    "duration": 326,
    "start_time": "2022-07-20T20:28:26.919Z"
   },
   {
    "duration": 229,
    "start_time": "2022-07-20T20:28:27.247Z"
   },
   {
    "duration": 312,
    "start_time": "2022-07-20T20:28:27.479Z"
   },
   {
    "duration": 9,
    "start_time": "2022-07-20T20:28:27.793Z"
   },
   {
    "duration": 371,
    "start_time": "2022-07-20T20:28:27.806Z"
   },
   {
    "duration": 312,
    "start_time": "2022-07-20T20:28:28.179Z"
   },
   {
    "duration": 4,
    "start_time": "2022-07-20T20:28:28.492Z"
   },
   {
    "duration": 382,
    "start_time": "2022-07-20T20:28:28.498Z"
   },
   {
    "duration": 5,
    "start_time": "2022-07-20T20:28:28.882Z"
   },
   {
    "duration": 15,
    "start_time": "2022-07-20T20:28:28.889Z"
   },
   {
    "duration": 9,
    "start_time": "2022-07-20T20:28:28.905Z"
   },
   {
    "duration": 7,
    "start_time": "2022-07-20T20:28:28.964Z"
   },
   {
    "duration": 17,
    "start_time": "2022-07-20T20:28:28.973Z"
   },
   {
    "duration": 17,
    "start_time": "2022-07-20T20:28:28.992Z"
   },
   {
    "duration": 472,
    "start_time": "2022-07-20T20:28:29.011Z"
   },
   {
    "duration": 13,
    "start_time": "2022-07-20T20:28:29.485Z"
   },
   {
    "duration": 64,
    "start_time": "2022-07-20T20:28:29.501Z"
   },
   {
    "duration": 421,
    "start_time": "2022-07-20T20:28:29.567Z"
   },
   {
    "duration": 125,
    "start_time": "2022-07-20T20:28:29.990Z"
   },
   {
    "duration": 6,
    "start_time": "2022-07-20T20:28:30.117Z"
   },
   {
    "duration": 14,
    "start_time": "2022-07-20T20:28:30.125Z"
   },
   {
    "duration": 11,
    "start_time": "2022-07-20T20:28:30.141Z"
   },
   {
    "duration": 6,
    "start_time": "2022-07-20T20:28:30.164Z"
   },
   {
    "duration": 12,
    "start_time": "2022-07-20T20:28:30.171Z"
   },
   {
    "duration": 14,
    "start_time": "2022-07-20T20:28:30.185Z"
   },
   {
    "duration": 11,
    "start_time": "2022-07-20T20:28:30.201Z"
   },
   {
    "duration": 21,
    "start_time": "2022-07-20T20:28:43.815Z"
   },
   {
    "duration": 1162,
    "start_time": "2022-07-20T20:30:14.568Z"
   },
   {
    "duration": 78,
    "start_time": "2022-07-20T20:30:15.732Z"
   },
   {
    "duration": 3,
    "start_time": "2022-07-20T20:30:15.812Z"
   },
   {
    "duration": 31,
    "start_time": "2022-07-20T20:30:15.817Z"
   },
   {
    "duration": 17,
    "start_time": "2022-07-20T20:30:15.850Z"
   },
   {
    "duration": 16,
    "start_time": "2022-07-20T20:30:15.869Z"
   },
   {
    "duration": 12,
    "start_time": "2022-07-20T20:30:15.886Z"
   },
   {
    "duration": 6,
    "start_time": "2022-07-20T20:30:15.900Z"
   },
   {
    "duration": 10,
    "start_time": "2022-07-20T20:30:15.908Z"
   },
   {
    "duration": 9,
    "start_time": "2022-07-20T20:30:15.920Z"
   },
   {
    "duration": 40,
    "start_time": "2022-07-20T20:30:15.930Z"
   },
   {
    "duration": 14,
    "start_time": "2022-07-20T20:30:15.972Z"
   },
   {
    "duration": 6,
    "start_time": "2022-07-20T20:30:15.987Z"
   },
   {
    "duration": 9,
    "start_time": "2022-07-20T20:30:15.994Z"
   },
   {
    "duration": 23,
    "start_time": "2022-07-20T20:30:16.004Z"
   },
   {
    "duration": 194,
    "start_time": "2022-07-20T20:30:16.029Z"
   },
   {
    "duration": 128,
    "start_time": "2022-07-20T20:30:16.224Z"
   },
   {
    "duration": 23,
    "start_time": "2022-07-20T20:30:16.354Z"
   },
   {
    "duration": 11,
    "start_time": "2022-07-20T20:30:16.379Z"
   },
   {
    "duration": 291,
    "start_time": "2022-07-20T20:30:16.392Z"
   },
   {
    "duration": 204,
    "start_time": "2022-07-20T20:30:16.684Z"
   },
   {
    "duration": 13,
    "start_time": "2022-07-20T20:30:16.890Z"
   },
   {
    "duration": 345,
    "start_time": "2022-07-20T20:30:16.904Z"
   },
   {
    "duration": 256,
    "start_time": "2022-07-20T20:30:17.251Z"
   },
   {
    "duration": 318,
    "start_time": "2022-07-20T20:30:17.509Z"
   },
   {
    "duration": 9,
    "start_time": "2022-07-20T20:30:17.829Z"
   },
   {
    "duration": 157,
    "start_time": "2022-07-20T20:30:17.840Z"
   },
   {
    "duration": 135,
    "start_time": "2022-07-20T20:30:18.001Z"
   },
   {
    "duration": 4,
    "start_time": "2022-07-20T20:30:18.138Z"
   },
   {
    "duration": 171,
    "start_time": "2022-07-20T20:30:18.143Z"
   },
   {
    "duration": 4,
    "start_time": "2022-07-20T20:30:18.316Z"
   },
   {
    "duration": 15,
    "start_time": "2022-07-20T20:30:18.322Z"
   },
   {
    "duration": 7,
    "start_time": "2022-07-20T20:30:18.339Z"
   },
   {
    "duration": 4,
    "start_time": "2022-07-20T20:30:18.364Z"
   },
   {
    "duration": 14,
    "start_time": "2022-07-20T20:30:18.370Z"
   },
   {
    "duration": 7,
    "start_time": "2022-07-20T20:30:18.385Z"
   },
   {
    "duration": 145,
    "start_time": "2022-07-20T20:30:18.393Z"
   },
   {
    "duration": 106,
    "start_time": "2022-07-20T20:30:18.540Z"
   },
   {
    "duration": 55,
    "start_time": "2022-07-20T20:30:18.648Z"
   },
   {
    "duration": 164,
    "start_time": "2022-07-20T20:30:18.704Z"
   },
   {
    "duration": 133,
    "start_time": "2022-07-20T20:30:18.871Z"
   },
   {
    "duration": 7,
    "start_time": "2022-07-20T20:30:19.006Z"
   },
   {
    "duration": 14,
    "start_time": "2022-07-20T20:30:19.015Z"
   },
   {
    "duration": 10,
    "start_time": "2022-07-20T20:30:19.032Z"
   },
   {
    "duration": 25,
    "start_time": "2022-07-20T20:30:19.043Z"
   },
   {
    "duration": 26,
    "start_time": "2022-07-20T20:30:19.070Z"
   },
   {
    "duration": 15,
    "start_time": "2022-07-20T20:30:19.098Z"
   },
   {
    "duration": 8,
    "start_time": "2022-07-20T20:30:19.114Z"
   },
   {
    "duration": 18,
    "start_time": "2022-07-20T20:30:40.947Z"
   },
   {
    "duration": 15,
    "start_time": "2022-07-20T20:31:37.786Z"
   },
   {
    "duration": 18,
    "start_time": "2022-07-20T20:32:20.388Z"
   },
   {
    "duration": 1170,
    "start_time": "2022-07-20T20:34:58.940Z"
   },
   {
    "duration": 76,
    "start_time": "2022-07-20T20:35:00.112Z"
   },
   {
    "duration": 4,
    "start_time": "2022-07-20T20:35:00.190Z"
   },
   {
    "duration": 26,
    "start_time": "2022-07-20T20:35:00.196Z"
   },
   {
    "duration": 16,
    "start_time": "2022-07-20T20:35:00.224Z"
   },
   {
    "duration": 23,
    "start_time": "2022-07-20T20:35:00.241Z"
   },
   {
    "duration": 12,
    "start_time": "2022-07-20T20:35:00.266Z"
   },
   {
    "duration": 15,
    "start_time": "2022-07-20T20:35:00.279Z"
   },
   {
    "duration": 8,
    "start_time": "2022-07-20T20:35:00.295Z"
   },
   {
    "duration": 10,
    "start_time": "2022-07-20T20:35:00.304Z"
   },
   {
    "duration": 22,
    "start_time": "2022-07-20T20:35:00.315Z"
   },
   {
    "duration": 29,
    "start_time": "2022-07-20T20:35:00.339Z"
   },
   {
    "duration": 20,
    "start_time": "2022-07-20T20:35:00.370Z"
   },
   {
    "duration": 32,
    "start_time": "2022-07-20T20:35:00.394Z"
   },
   {
    "duration": 176,
    "start_time": "2022-07-20T20:35:00.428Z"
   },
   {
    "duration": 150,
    "start_time": "2022-07-20T20:35:00.605Z"
   },
   {
    "duration": 25,
    "start_time": "2022-07-20T20:35:00.763Z"
   },
   {
    "duration": 18,
    "start_time": "2022-07-20T20:35:00.789Z"
   },
   {
    "duration": 290,
    "start_time": "2022-07-20T20:35:00.809Z"
   },
   {
    "duration": 210,
    "start_time": "2022-07-20T20:35:01.100Z"
   },
   {
    "duration": 12,
    "start_time": "2022-07-20T20:35:01.311Z"
   },
   {
    "duration": 322,
    "start_time": "2022-07-20T20:35:01.325Z"
   },
   {
    "duration": 219,
    "start_time": "2022-07-20T20:35:01.649Z"
   },
   {
    "duration": 310,
    "start_time": "2022-07-20T20:35:01.870Z"
   },
   {
    "duration": 10,
    "start_time": "2022-07-20T20:35:02.181Z"
   },
   {
    "duration": 174,
    "start_time": "2022-07-20T20:35:02.193Z"
   },
   {
    "duration": 156,
    "start_time": "2022-07-20T20:35:02.369Z"
   },
   {
    "duration": 5,
    "start_time": "2022-07-20T20:35:02.527Z"
   },
   {
    "duration": 218,
    "start_time": "2022-07-20T20:35:02.535Z"
   },
   {
    "duration": 11,
    "start_time": "2022-07-20T20:35:02.755Z"
   },
   {
    "duration": 13,
    "start_time": "2022-07-20T20:35:02.768Z"
   },
   {
    "duration": 13,
    "start_time": "2022-07-20T20:35:02.783Z"
   },
   {
    "duration": 21,
    "start_time": "2022-07-20T20:35:02.798Z"
   },
   {
    "duration": 22,
    "start_time": "2022-07-20T20:35:02.821Z"
   },
   {
    "duration": 8,
    "start_time": "2022-07-20T20:35:02.845Z"
   },
   {
    "duration": 228,
    "start_time": "2022-07-20T20:35:02.855Z"
   },
   {
    "duration": 11,
    "start_time": "2022-07-20T20:35:03.085Z"
   },
   {
    "duration": 9,
    "start_time": "2022-07-20T20:35:03.098Z"
   },
   {
    "duration": 162,
    "start_time": "2022-07-20T20:35:03.109Z"
   },
   {
    "duration": 125,
    "start_time": "2022-07-20T20:35:03.273Z"
   },
   {
    "duration": 7,
    "start_time": "2022-07-20T20:35:03.402Z"
   },
   {
    "duration": 9,
    "start_time": "2022-07-20T20:35:03.411Z"
   },
   {
    "duration": 7,
    "start_time": "2022-07-20T20:35:03.421Z"
   },
   {
    "duration": 9,
    "start_time": "2022-07-20T20:35:03.430Z"
   },
   {
    "duration": 25,
    "start_time": "2022-07-20T20:35:03.441Z"
   },
   {
    "duration": 11,
    "start_time": "2022-07-20T20:35:03.468Z"
   },
   {
    "duration": 8,
    "start_time": "2022-07-20T20:35:03.481Z"
   },
   {
    "duration": 1143,
    "start_time": "2022-07-21T16:50:12.038Z"
   },
   {
    "duration": 78,
    "start_time": "2022-07-21T16:50:13.182Z"
   },
   {
    "duration": 4,
    "start_time": "2022-07-21T16:50:13.262Z"
   },
   {
    "duration": 25,
    "start_time": "2022-07-21T16:50:13.268Z"
   },
   {
    "duration": 19,
    "start_time": "2022-07-21T16:50:13.296Z"
   },
   {
    "duration": 20,
    "start_time": "2022-07-21T16:50:13.316Z"
   },
   {
    "duration": 16,
    "start_time": "2022-07-21T16:50:13.338Z"
   },
   {
    "duration": 8,
    "start_time": "2022-07-21T16:50:13.356Z"
   },
   {
    "duration": 8,
    "start_time": "2022-07-21T16:50:13.366Z"
   },
   {
    "duration": 11,
    "start_time": "2022-07-21T16:50:13.375Z"
   },
   {
    "duration": 39,
    "start_time": "2022-07-21T16:50:13.388Z"
   },
   {
    "duration": 14,
    "start_time": "2022-07-21T16:50:13.429Z"
   },
   {
    "duration": 9,
    "start_time": "2022-07-21T16:50:13.445Z"
   },
   {
    "duration": 17,
    "start_time": "2022-07-21T16:50:13.457Z"
   },
   {
    "duration": 189,
    "start_time": "2022-07-21T16:50:13.476Z"
   },
   {
    "duration": 130,
    "start_time": "2022-07-21T16:50:13.667Z"
   },
   {
    "duration": 26,
    "start_time": "2022-07-21T16:50:13.798Z"
   },
   {
    "duration": 10,
    "start_time": "2022-07-21T16:50:13.826Z"
   },
   {
    "duration": 290,
    "start_time": "2022-07-21T16:50:13.837Z"
   },
   {
    "duration": 220,
    "start_time": "2022-07-21T16:50:14.129Z"
   },
   {
    "duration": 13,
    "start_time": "2022-07-21T16:50:14.350Z"
   },
   {
    "duration": 299,
    "start_time": "2022-07-21T16:50:14.365Z"
   },
   {
    "duration": 227,
    "start_time": "2022-07-21T16:50:14.667Z"
   },
   {
    "duration": 340,
    "start_time": "2022-07-21T16:50:14.895Z"
   },
   {
    "duration": 9,
    "start_time": "2022-07-21T16:50:15.237Z"
   },
   {
    "duration": 178,
    "start_time": "2022-07-21T16:50:15.247Z"
   },
   {
    "duration": 154,
    "start_time": "2022-07-21T16:50:15.427Z"
   },
   {
    "duration": 5,
    "start_time": "2022-07-21T16:50:15.582Z"
   },
   {
    "duration": 168,
    "start_time": "2022-07-21T16:50:15.589Z"
   },
   {
    "duration": 4,
    "start_time": "2022-07-21T16:50:15.759Z"
   },
   {
    "duration": 16,
    "start_time": "2022-07-21T16:50:15.764Z"
   },
   {
    "duration": 8,
    "start_time": "2022-07-21T16:50:15.782Z"
   },
   {
    "duration": 6,
    "start_time": "2022-07-21T16:50:15.792Z"
   },
   {
    "duration": 36,
    "start_time": "2022-07-21T16:50:15.799Z"
   },
   {
    "duration": 8,
    "start_time": "2022-07-21T16:50:15.838Z"
   },
   {
    "duration": 171,
    "start_time": "2022-07-21T16:50:15.848Z"
   },
   {
    "duration": 104,
    "start_time": "2022-07-21T16:50:16.024Z"
   },
   {
    "duration": 10,
    "start_time": "2022-07-21T16:50:16.130Z"
   },
   {
    "duration": 183,
    "start_time": "2022-07-21T16:50:16.142Z"
   },
   {
    "duration": 136,
    "start_time": "2022-07-21T16:50:16.326Z"
   },
   {
    "duration": 7,
    "start_time": "2022-07-21T16:50:16.465Z"
   },
   {
    "duration": 10,
    "start_time": "2022-07-21T16:50:16.473Z"
   },
   {
    "duration": 13,
    "start_time": "2022-07-21T16:50:16.485Z"
   },
   {
    "duration": 24,
    "start_time": "2022-07-21T16:50:16.500Z"
   },
   {
    "duration": 6,
    "start_time": "2022-07-21T16:50:16.525Z"
   },
   {
    "duration": 21,
    "start_time": "2022-07-21T16:50:16.532Z"
   },
   {
    "duration": 14,
    "start_time": "2022-07-21T16:50:16.555Z"
   },
   {
    "duration": 13,
    "start_time": "2022-07-21T16:50:33.806Z"
   },
   {
    "duration": 11,
    "start_time": "2022-07-21T16:50:39.212Z"
   },
   {
    "duration": 4,
    "start_time": "2022-07-21T16:51:00.217Z"
   },
   {
    "duration": 6,
    "start_time": "2022-07-21T16:51:03.394Z"
   },
   {
    "duration": 13,
    "start_time": "2022-07-21T16:51:12.318Z"
   },
   {
    "duration": 11,
    "start_time": "2022-07-21T16:51:15.728Z"
   },
   {
    "duration": 8,
    "start_time": "2022-07-21T16:51:18.258Z"
   },
   {
    "duration": 8,
    "start_time": "2022-07-21T16:51:19.727Z"
   },
   {
    "duration": 20,
    "start_time": "2022-07-21T16:51:59.471Z"
   },
   {
    "duration": 16,
    "start_time": "2022-07-21T16:51:59.711Z"
   },
   {
    "duration": 9,
    "start_time": "2022-07-21T16:52:04.901Z"
   },
   {
    "duration": 15,
    "start_time": "2022-07-21T16:52:11.443Z"
   },
   {
    "duration": 15,
    "start_time": "2022-07-21T16:52:14.285Z"
   },
   {
    "duration": 8,
    "start_time": "2022-07-21T16:52:48.098Z"
   },
   {
    "duration": 13,
    "start_time": "2022-07-21T16:52:51.147Z"
   },
   {
    "duration": 80,
    "start_time": "2022-07-22T08:24:02.549Z"
   },
   {
    "duration": 1503,
    "start_time": "2022-07-22T08:24:12.803Z"
   },
   {
    "duration": 257,
    "start_time": "2022-07-22T08:24:14.309Z"
   },
   {
    "duration": 4,
    "start_time": "2022-07-22T08:24:14.568Z"
   },
   {
    "duration": 82,
    "start_time": "2022-07-22T08:24:14.573Z"
   },
   {
    "duration": 154,
    "start_time": "2022-07-22T08:24:14.658Z"
   },
   {
    "duration": 68,
    "start_time": "2022-07-22T08:24:14.813Z"
   },
   {
    "duration": 21,
    "start_time": "2022-07-22T08:24:14.883Z"
   },
   {
    "duration": 39,
    "start_time": "2022-07-22T08:24:14.911Z"
   },
   {
    "duration": 20,
    "start_time": "2022-07-22T08:24:14.951Z"
   },
   {
    "duration": 14,
    "start_time": "2022-07-22T08:24:14.973Z"
   },
   {
    "duration": 62,
    "start_time": "2022-07-22T08:24:14.989Z"
   },
   {
    "duration": 26,
    "start_time": "2022-07-22T08:24:15.052Z"
   },
   {
    "duration": 12,
    "start_time": "2022-07-22T08:24:15.080Z"
   },
   {
    "duration": 45,
    "start_time": "2022-07-22T08:24:15.097Z"
   },
   {
    "duration": 194,
    "start_time": "2022-07-22T08:24:15.144Z"
   },
   {
    "duration": 167,
    "start_time": "2022-07-22T08:24:15.340Z"
   },
   {
    "duration": 23,
    "start_time": "2022-07-22T08:24:15.509Z"
   },
   {
    "duration": 15,
    "start_time": "2022-07-22T08:24:15.535Z"
   },
   {
    "duration": 324,
    "start_time": "2022-07-22T08:24:15.552Z"
   },
   {
    "duration": 256,
    "start_time": "2022-07-22T08:24:15.878Z"
   },
   {
    "duration": 22,
    "start_time": "2022-07-22T08:24:16.136Z"
   },
   {
    "duration": 395,
    "start_time": "2022-07-22T08:24:16.161Z"
   },
   {
    "duration": 334,
    "start_time": "2022-07-22T08:24:16.559Z"
   },
   {
    "duration": 335,
    "start_time": "2022-07-22T08:24:16.895Z"
   },
   {
    "duration": 10,
    "start_time": "2022-07-22T08:24:17.232Z"
   },
   {
    "duration": 200,
    "start_time": "2022-07-22T08:24:17.244Z"
   },
   {
    "duration": 178,
    "start_time": "2022-07-22T08:24:17.445Z"
   },
   {
    "duration": 5,
    "start_time": "2022-07-22T08:24:17.626Z"
   },
   {
    "duration": 191,
    "start_time": "2022-07-22T08:24:17.633Z"
   },
   {
    "duration": 5,
    "start_time": "2022-07-22T08:24:17.826Z"
   },
   {
    "duration": 8,
    "start_time": "2022-07-22T08:24:17.833Z"
   },
   {
    "duration": 8,
    "start_time": "2022-07-22T08:24:17.843Z"
   },
   {
    "duration": 9,
    "start_time": "2022-07-22T08:24:17.853Z"
   },
   {
    "duration": 10,
    "start_time": "2022-07-22T08:24:17.864Z"
   },
   {
    "duration": 17,
    "start_time": "2022-07-22T08:24:17.903Z"
   },
   {
    "duration": 149,
    "start_time": "2022-07-22T08:24:17.924Z"
   },
   {
    "duration": 101,
    "start_time": "2022-07-22T08:24:18.075Z"
   },
   {
    "duration": 10,
    "start_time": "2022-07-22T08:24:18.178Z"
   },
   {
    "duration": 182,
    "start_time": "2022-07-22T08:24:18.190Z"
   },
   {
    "duration": 142,
    "start_time": "2022-07-22T08:24:18.374Z"
   },
   {
    "duration": 8,
    "start_time": "2022-07-22T08:24:18.520Z"
   },
   {
    "duration": 10,
    "start_time": "2022-07-22T08:24:18.530Z"
   },
   {
    "duration": 10,
    "start_time": "2022-07-22T08:24:18.542Z"
   },
   {
    "duration": 9,
    "start_time": "2022-07-22T08:24:18.554Z"
   },
   {
    "duration": 10,
    "start_time": "2022-07-22T08:24:18.565Z"
   },
   {
    "duration": 37,
    "start_time": "2022-07-22T08:24:18.577Z"
   },
   {
    "duration": 17,
    "start_time": "2022-07-22T08:24:18.615Z"
   },
   {
    "duration": 168,
    "start_time": "2022-07-22T08:24:45.698Z"
   }
  ],
  "kernelspec": {
   "display_name": "Python 3 (ipykernel)",
   "language": "python",
   "name": "python3"
  },
  "language_info": {
   "codemirror_mode": {
    "name": "ipython",
    "version": 3
   },
   "file_extension": ".py",
   "mimetype": "text/x-python",
   "name": "python",
   "nbconvert_exporter": "python",
   "pygments_lexer": "ipython3",
   "version": "3.9.7"
  },
  "toc": {
   "base_numbering": 1,
   "nav_menu": {},
   "number_sections": true,
   "sideBar": true,
   "skip_h1_title": false,
   "title_cell": "Table of Contents",
   "title_sidebar": "Contents",
   "toc_cell": false,
   "toc_position": {
    "height": "calc(100% - 180px)",
    "left": "10px",
    "top": "150px",
    "width": "306.977px"
   },
   "toc_section_display": true,
   "toc_window_display": true
  }
 },
 "nbformat": 4,
 "nbformat_minor": 5
}
